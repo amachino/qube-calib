{
 "cells": [
  {
   "cell_type": "code",
   "execution_count": 1,
   "metadata": {},
   "outputs": [],
   "source": [
    "from qubecalib import QubeCalib\n",
    "\n",
    "qc = QubeCalib()\n",
    "qc.define_clockmaster(ipaddr=\"10.3.0.255\", reset=True)\n",
    "qc.define_box(box_name=\"riken_1-07\", ipaddr_wss=\"10.1.0.25\", boxtype=\"qube-riken-a\")\n",
    "qc.define_box(box_name=\"riken_1-01\", ipaddr_wss=\"10.1.0.19\", boxtype=\"qube-riken-a\")\n",
    "qc.define_box(box_name=\"riken_1-02\", ipaddr_wss=\"10.1.0.20\", boxtype=\"qube-riken-a\")\n",
    "qc.define_box(box_name=\"riken_1-11\", ipaddr_wss=\"10.1.0.29\", boxtype=\"qube-riken-a\")\n",
    "qc.define_box(box_name=\"riken_1-10\", ipaddr_wss=\"10.1.0.28\", boxtype=\"qube-riken-a\")\n",
    "qc.define_box(box_name=\"riken_1-08\", ipaddr_wss=\"10.1.0.26\", boxtype=\"qube-riken-a\")\n",
    "qc.define_box(box_name=\"ou_3-01\", ipaddr_wss=\"10.1.0.31\", boxtype=\"qube-ou-a\")\n",
    "qc.define_box(box_name=\"ou_2-11\", ipaddr_wss=\"10.1.0.15\", boxtype=\"qube-ou-a\")\n",
    "qc.define_box(box_name=\"ou_2-04\", ipaddr_wss=\"10.1.0.8\", boxtype=\"qube-ou-a\")\n",
    "qc.define_box(box_name=\"ou_2-08\", ipaddr_wss=\"10.1.0.12\", boxtype=\"qube-ou-a\")\n",
    "qc.define_box(box_name=\"ou_1-02\", ipaddr_wss=\"10.1.0.2\", boxtype=\"qube-ou-a\")\n",
    "qc.define_box(box_name=\"quel1_5-01\", ipaddr_wss=\"10.1.0.73\", boxtype=\"quel1-a\")\n",
    "qc.define_box(box_name=\"riken_1-03\", ipaddr_wss=\"10.1.0.21\", boxtype=\"qube-riken-b\")\n",
    "qc.define_box(box_name=\"ou_2-09\", ipaddr_wss=\"10.1.0.13\", boxtype=\"qube-ou-b\")\n",
    "qc.define_box(box_name=\"ou_2-06\", ipaddr_wss=\"10.1.0.10\", boxtype=\"qube-ou-b\")\n",
    "qc.define_box(box_name=\"ou_2-03\", ipaddr_wss=\"10.1.0.7\", boxtype=\"qube-ou-b\")\n",
    "qc.define_box(box_name=\"ou_2-12\", ipaddr_wss=\"10.1.0.16\", boxtype=\"qube-ou-b\")\n",
    "\n",
    "with open(\"jb07_boxonly_setup.json\", \"w\") as fp:\n",
    "    fp.write(qc.system_config_database.asjson())\n"
   ]
  },
  {
   "cell_type": "code",
   "execution_count": 6,
   "metadata": {},
   "outputs": [
    {
     "data": {
      "text/plain": [
       "{'qube-ou-a': <Quel1BoxType.QuBE_OU_TypeA: ('qube', 'ou-type-a')>,\n",
       " 'qube-ou-b': <Quel1BoxType.QuBE_OU_TypeB: ('qube', 'ou-type-b')>,\n",
       " 'qube-riken-a': <Quel1BoxType.QuBE_RIKEN_TypeA: ('qube', 'riken-type-a')>,\n",
       " 'qube-riken-b': <Quel1BoxType.QuBE_RIKEN_TypeB: ('qube', 'riken-type-b')>,\n",
       " 'quel1-a': <Quel1BoxType.QuEL1_TypeA: ('quel-1', 'type-a')>,\n",
       " 'quel1-b': <Quel1BoxType.QuEL1_TypeB: ('quel-1', 'type-b')>,\n",
       " 'quel1-ntt': <Quel1BoxType.QuEL1_NTT: ('quel-1', 'ntt')>,\n",
       " 'quel1-nec': <Quel1BoxType.QuEL1_NEC: ('quel-1', 'nec')>,\n",
       " 'quel1se-riken8': <Quel1BoxType.QuEL1SE_RIKEN8: ('quel-1se', 'riken8')>,\n",
       " 'x-quel1se-protoadda': <Quel1BoxType.QuEL1SE_ProtoAdda: ('quel-1se', 'protoadda')>,\n",
       " 'x-quel1se-proto8': <Quel1BoxType.QuEL1SE_Proto8: ('quel-1se', 'proto8')>,\n",
       " 'x-quel1se-proto11': <Quel1BoxType.QuEL1SE_Proto11: ('quel-1se', 'proto11')>,\n",
       " 'x-quel1se-adda': <Quel1BoxType.QuEL1SE_Adda: ('quel-1se', 'adda')>,\n",
       " 'x-quel1se-riken8': <Quel1BoxType.QuEL1SE_RIKEN8DBG: ('quel-1se', 'riken8dbg')>}"
      ]
     },
     "execution_count": 6,
     "metadata": {},
     "output_type": "execute_result"
    }
   ],
   "source": [
    "import quel_ic_config\n",
    "quel_ic_config.QUEL1_BOXTYPE_ALIAS"
   ]
  },
  {
   "cell_type": "code",
   "execution_count": null,
   "metadata": {},
   "outputs": [],
   "source": []
  }
 ],
 "metadata": {
  "kernelspec": {
   "display_name": ".venv",
   "language": "python",
   "name": "python3"
  },
  "language_info": {
   "codemirror_mode": {
    "name": "ipython",
    "version": 3
   },
   "file_extension": ".py",
   "mimetype": "text/x-python",
   "name": "python",
   "nbconvert_exporter": "python",
   "pygments_lexer": "ipython3",
   "version": "3.9.18"
  }
 },
 "nbformat": 4,
 "nbformat_minor": 2
}
