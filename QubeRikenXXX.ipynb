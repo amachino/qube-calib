{
 "cells": [
  {
   "cell_type": "code",
   "execution_count": 2,
   "id": "c43121c3-d075-4ba0-ad01-37220672a039",
   "metadata": {},
   "outputs": [
    {
     "data": {
      "text/html": [
       "\n",
       "    <div class=\"bk-root\">\n",
       "        <a href=\"https://bokeh.org\" target=\"_blank\" class=\"bk-logo bk-logo-small bk-logo-notebook\"></a>\n",
       "        <span id=\"1003\">Loading BokehJS ...</span>\n",
       "    </div>"
      ]
     },
     "metadata": {},
     "output_type": "display_data"
    },
    {
     "data": {
      "application/javascript": [
       "\n",
       "(function(root) {\n",
       "  function now() {\n",
       "    return new Date();\n",
       "  }\n",
       "\n",
       "  const force = true;\n",
       "\n",
       "  if (typeof root._bokeh_onload_callbacks === \"undefined\" || force === true) {\n",
       "    root._bokeh_onload_callbacks = [];\n",
       "    root._bokeh_is_loading = undefined;\n",
       "  }\n",
       "\n",
       "  const JS_MIME_TYPE = 'application/javascript';\n",
       "  const HTML_MIME_TYPE = 'text/html';\n",
       "  const EXEC_MIME_TYPE = 'application/vnd.bokehjs_exec.v0+json';\n",
       "  const CLASS_NAME = 'output_bokeh rendered_html';\n",
       "\n",
       "  /**\n",
       "   * Render data to the DOM node\n",
       "   */\n",
       "  function render(props, node) {\n",
       "    const script = document.createElement(\"script\");\n",
       "    node.appendChild(script);\n",
       "  }\n",
       "\n",
       "  /**\n",
       "   * Handle when an output is cleared or removed\n",
       "   */\n",
       "  function handleClearOutput(event, handle) {\n",
       "    const cell = handle.cell;\n",
       "\n",
       "    const id = cell.output_area._bokeh_element_id;\n",
       "    const server_id = cell.output_area._bokeh_server_id;\n",
       "    // Clean up Bokeh references\n",
       "    if (id != null && id in Bokeh.index) {\n",
       "      Bokeh.index[id].model.document.clear();\n",
       "      delete Bokeh.index[id];\n",
       "    }\n",
       "\n",
       "    if (server_id !== undefined) {\n",
       "      // Clean up Bokeh references\n",
       "      const cmd_clean = \"from bokeh.io.state import curstate; print(curstate().uuid_to_server['\" + server_id + \"'].get_sessions()[0].document.roots[0]._id)\";\n",
       "      cell.notebook.kernel.execute(cmd_clean, {\n",
       "        iopub: {\n",
       "          output: function(msg) {\n",
       "            const id = msg.content.text.trim();\n",
       "            if (id in Bokeh.index) {\n",
       "              Bokeh.index[id].model.document.clear();\n",
       "              delete Bokeh.index[id];\n",
       "            }\n",
       "          }\n",
       "        }\n",
       "      });\n",
       "      // Destroy server and session\n",
       "      const cmd_destroy = \"import bokeh.io.notebook as ion; ion.destroy_server('\" + server_id + \"')\";\n",
       "      cell.notebook.kernel.execute(cmd_destroy);\n",
       "    }\n",
       "  }\n",
       "\n",
       "  /**\n",
       "   * Handle when a new output is added\n",
       "   */\n",
       "  function handleAddOutput(event, handle) {\n",
       "    const output_area = handle.output_area;\n",
       "    const output = handle.output;\n",
       "\n",
       "    // limit handleAddOutput to display_data with EXEC_MIME_TYPE content only\n",
       "    if ((output.output_type != \"display_data\") || (!Object.prototype.hasOwnProperty.call(output.data, EXEC_MIME_TYPE))) {\n",
       "      return\n",
       "    }\n",
       "\n",
       "    const toinsert = output_area.element.find(\".\" + CLASS_NAME.split(' ')[0]);\n",
       "\n",
       "    if (output.metadata[EXEC_MIME_TYPE][\"id\"] !== undefined) {\n",
       "      toinsert[toinsert.length - 1].firstChild.textContent = output.data[JS_MIME_TYPE];\n",
       "      // store reference to embed id on output_area\n",
       "      output_area._bokeh_element_id = output.metadata[EXEC_MIME_TYPE][\"id\"];\n",
       "    }\n",
       "    if (output.metadata[EXEC_MIME_TYPE][\"server_id\"] !== undefined) {\n",
       "      const bk_div = document.createElement(\"div\");\n",
       "      bk_div.innerHTML = output.data[HTML_MIME_TYPE];\n",
       "      const script_attrs = bk_div.children[0].attributes;\n",
       "      for (let i = 0; i < script_attrs.length; i++) {\n",
       "        toinsert[toinsert.length - 1].firstChild.setAttribute(script_attrs[i].name, script_attrs[i].value);\n",
       "        toinsert[toinsert.length - 1].firstChild.textContent = bk_div.children[0].textContent\n",
       "      }\n",
       "      // store reference to server id on output_area\n",
       "      output_area._bokeh_server_id = output.metadata[EXEC_MIME_TYPE][\"server_id\"];\n",
       "    }\n",
       "  }\n",
       "\n",
       "  function register_renderer(events, OutputArea) {\n",
       "\n",
       "    function append_mime(data, metadata, element) {\n",
       "      // create a DOM node to render to\n",
       "      const toinsert = this.create_output_subarea(\n",
       "        metadata,\n",
       "        CLASS_NAME,\n",
       "        EXEC_MIME_TYPE\n",
       "      );\n",
       "      this.keyboard_manager.register_events(toinsert);\n",
       "      // Render to node\n",
       "      const props = {data: data, metadata: metadata[EXEC_MIME_TYPE]};\n",
       "      render(props, toinsert[toinsert.length - 1]);\n",
       "      element.append(toinsert);\n",
       "      return toinsert\n",
       "    }\n",
       "\n",
       "    /* Handle when an output is cleared or removed */\n",
       "    events.on('clear_output.CodeCell', handleClearOutput);\n",
       "    events.on('delete.Cell', handleClearOutput);\n",
       "\n",
       "    /* Handle when a new output is added */\n",
       "    events.on('output_added.OutputArea', handleAddOutput);\n",
       "\n",
       "    /**\n",
       "     * Register the mime type and append_mime function with output_area\n",
       "     */\n",
       "    OutputArea.prototype.register_mime_type(EXEC_MIME_TYPE, append_mime, {\n",
       "      /* Is output safe? */\n",
       "      safe: true,\n",
       "      /* Index of renderer in `output_area.display_order` */\n",
       "      index: 0\n",
       "    });\n",
       "  }\n",
       "\n",
       "  // register the mime type if in Jupyter Notebook environment and previously unregistered\n",
       "  if (root.Jupyter !== undefined) {\n",
       "    const events = require('base/js/events');\n",
       "    const OutputArea = require('notebook/js/outputarea').OutputArea;\n",
       "\n",
       "    if (OutputArea.prototype.mime_types().indexOf(EXEC_MIME_TYPE) == -1) {\n",
       "      register_renderer(events, OutputArea);\n",
       "    }\n",
       "  }\n",
       "\n",
       "  \n",
       "  if (typeof (root._bokeh_timeout) === \"undefined\" || force === true) {\n",
       "    root._bokeh_timeout = Date.now() + 5000;\n",
       "    root._bokeh_failed_load = false;\n",
       "  }\n",
       "\n",
       "  const NB_LOAD_WARNING = {'data': {'text/html':\n",
       "     \"<div style='background-color: #fdd'>\\n\"+\n",
       "     \"<p>\\n\"+\n",
       "     \"BokehJS does not appear to have successfully loaded. If loading BokehJS from CDN, this \\n\"+\n",
       "     \"may be due to a slow or bad network connection. Possible fixes:\\n\"+\n",
       "     \"</p>\\n\"+\n",
       "     \"<ul>\\n\"+\n",
       "     \"<li>re-rerun `output_notebook()` to attempt to load from CDN again, or</li>\\n\"+\n",
       "     \"<li>use INLINE resources instead, as so:</li>\\n\"+\n",
       "     \"</ul>\\n\"+\n",
       "     \"<code>\\n\"+\n",
       "     \"from bokeh.resources import INLINE\\n\"+\n",
       "     \"output_notebook(resources=INLINE)\\n\"+\n",
       "     \"</code>\\n\"+\n",
       "     \"</div>\"}};\n",
       "\n",
       "  function display_loaded() {\n",
       "    const el = document.getElementById(\"1003\");\n",
       "    if (el != null) {\n",
       "      el.textContent = \"BokehJS is loading...\";\n",
       "    }\n",
       "    if (root.Bokeh !== undefined) {\n",
       "      if (el != null) {\n",
       "        el.textContent = \"BokehJS \" + root.Bokeh.version + \" successfully loaded.\";\n",
       "      }\n",
       "    } else if (Date.now() < root._bokeh_timeout) {\n",
       "      setTimeout(display_loaded, 100)\n",
       "    }\n",
       "  }\n",
       "\n",
       "\n",
       "  function run_callbacks() {\n",
       "    try {\n",
       "      root._bokeh_onload_callbacks.forEach(function(callback) {\n",
       "        if (callback != null)\n",
       "          callback();\n",
       "      });\n",
       "    } finally {\n",
       "      delete root._bokeh_onload_callbacks\n",
       "    }\n",
       "    console.debug(\"Bokeh: all callbacks have finished\");\n",
       "  }\n",
       "\n",
       "  function load_libs(css_urls, js_urls, callback) {\n",
       "    if (css_urls == null) css_urls = [];\n",
       "    if (js_urls == null) js_urls = [];\n",
       "\n",
       "    root._bokeh_onload_callbacks.push(callback);\n",
       "    if (root._bokeh_is_loading > 0) {\n",
       "      console.debug(\"Bokeh: BokehJS is being loaded, scheduling callback at\", now());\n",
       "      return null;\n",
       "    }\n",
       "    if (js_urls == null || js_urls.length === 0) {\n",
       "      run_callbacks();\n",
       "      return null;\n",
       "    }\n",
       "    console.debug(\"Bokeh: BokehJS not loaded, scheduling load and callback at\", now());\n",
       "    root._bokeh_is_loading = css_urls.length + js_urls.length;\n",
       "\n",
       "    function on_load() {\n",
       "      root._bokeh_is_loading--;\n",
       "      if (root._bokeh_is_loading === 0) {\n",
       "        console.debug(\"Bokeh: all BokehJS libraries/stylesheets loaded\");\n",
       "        run_callbacks()\n",
       "      }\n",
       "    }\n",
       "\n",
       "    function on_error(url) {\n",
       "      console.error(\"failed to load \" + url);\n",
       "    }\n",
       "\n",
       "    for (let i = 0; i < css_urls.length; i++) {\n",
       "      const url = css_urls[i];\n",
       "      const element = document.createElement(\"link\");\n",
       "      element.onload = on_load;\n",
       "      element.onerror = on_error.bind(null, url);\n",
       "      element.rel = \"stylesheet\";\n",
       "      element.type = \"text/css\";\n",
       "      element.href = url;\n",
       "      console.debug(\"Bokeh: injecting link tag for BokehJS stylesheet: \", url);\n",
       "      document.body.appendChild(element);\n",
       "    }\n",
       "\n",
       "    for (let i = 0; i < js_urls.length; i++) {\n",
       "      const url = js_urls[i];\n",
       "      const element = document.createElement('script');\n",
       "      element.onload = on_load;\n",
       "      element.onerror = on_error.bind(null, url);\n",
       "      element.async = false;\n",
       "      element.src = url;\n",
       "      console.debug(\"Bokeh: injecting script tag for BokehJS library: \", url);\n",
       "      document.head.appendChild(element);\n",
       "    }\n",
       "  };\n",
       "\n",
       "  function inject_raw_css(css) {\n",
       "    const element = document.createElement(\"style\");\n",
       "    element.appendChild(document.createTextNode(css));\n",
       "    document.body.appendChild(element);\n",
       "  }\n",
       "\n",
       "  \n",
       "  const js_urls = [\"https://cdn.bokeh.org/bokeh/release/bokeh-2.4.2.min.js\", \"https://cdn.bokeh.org/bokeh/release/bokeh-gl-2.4.2.min.js\", \"https://cdn.bokeh.org/bokeh/release/bokeh-widgets-2.4.2.min.js\", \"https://cdn.bokeh.org/bokeh/release/bokeh-tables-2.4.2.min.js\", \"https://cdn.bokeh.org/bokeh/release/bokeh-mathjax-2.4.2.min.js\"];\n",
       "  const css_urls = [];\n",
       "  \n",
       "\n",
       "  const inline_js = [\n",
       "    function(Bokeh) {\n",
       "      Bokeh.set_log_level(\"info\");\n",
       "    },\n",
       "    function(Bokeh) {\n",
       "    \n",
       "    \n",
       "    }\n",
       "  ];\n",
       "\n",
       "  function run_inline_js() {\n",
       "    \n",
       "    if (root.Bokeh !== undefined || force === true) {\n",
       "      \n",
       "    for (let i = 0; i < inline_js.length; i++) {\n",
       "      inline_js[i].call(root, root.Bokeh);\n",
       "    }\n",
       "    if (force === true) {\n",
       "        display_loaded();\n",
       "      }} else if (Date.now() < root._bokeh_timeout) {\n",
       "      setTimeout(run_inline_js, 100);\n",
       "    } else if (!root._bokeh_failed_load) {\n",
       "      console.log(\"Bokeh: BokehJS failed to load within specified timeout.\");\n",
       "      root._bokeh_failed_load = true;\n",
       "    } else if (force !== true) {\n",
       "      const cell = $(document.getElementById(\"1003\")).parents('.cell').data().cell;\n",
       "      cell.output_area.append_execute_result(NB_LOAD_WARNING)\n",
       "    }\n",
       "\n",
       "  }\n",
       "\n",
       "  if (root._bokeh_is_loading === 0) {\n",
       "    console.debug(\"Bokeh: BokehJS loaded, going straight to plotting\");\n",
       "    run_inline_js();\n",
       "  } else {\n",
       "    load_libs(css_urls, js_urls, function() {\n",
       "      console.debug(\"Bokeh: BokehJS plotting callback run at\", now());\n",
       "      run_inline_js();\n",
       "    });\n",
       "  }\n",
       "}(window));"
      ],
      "application/vnd.bokehjs_load.v0+json": "\n(function(root) {\n  function now() {\n    return new Date();\n  }\n\n  const force = true;\n\n  if (typeof root._bokeh_onload_callbacks === \"undefined\" || force === true) {\n    root._bokeh_onload_callbacks = [];\n    root._bokeh_is_loading = undefined;\n  }\n\n  \n\n  \n  if (typeof (root._bokeh_timeout) === \"undefined\" || force === true) {\n    root._bokeh_timeout = Date.now() + 5000;\n    root._bokeh_failed_load = false;\n  }\n\n  const NB_LOAD_WARNING = {'data': {'text/html':\n     \"<div style='background-color: #fdd'>\\n\"+\n     \"<p>\\n\"+\n     \"BokehJS does not appear to have successfully loaded. If loading BokehJS from CDN, this \\n\"+\n     \"may be due to a slow or bad network connection. Possible fixes:\\n\"+\n     \"</p>\\n\"+\n     \"<ul>\\n\"+\n     \"<li>re-rerun `output_notebook()` to attempt to load from CDN again, or</li>\\n\"+\n     \"<li>use INLINE resources instead, as so:</li>\\n\"+\n     \"</ul>\\n\"+\n     \"<code>\\n\"+\n     \"from bokeh.resources import INLINE\\n\"+\n     \"output_notebook(resources=INLINE)\\n\"+\n     \"</code>\\n\"+\n     \"</div>\"}};\n\n  function display_loaded() {\n    const el = document.getElementById(\"1003\");\n    if (el != null) {\n      el.textContent = \"BokehJS is loading...\";\n    }\n    if (root.Bokeh !== undefined) {\n      if (el != null) {\n        el.textContent = \"BokehJS \" + root.Bokeh.version + \" successfully loaded.\";\n      }\n    } else if (Date.now() < root._bokeh_timeout) {\n      setTimeout(display_loaded, 100)\n    }\n  }\n\n\n  function run_callbacks() {\n    try {\n      root._bokeh_onload_callbacks.forEach(function(callback) {\n        if (callback != null)\n          callback();\n      });\n    } finally {\n      delete root._bokeh_onload_callbacks\n    }\n    console.debug(\"Bokeh: all callbacks have finished\");\n  }\n\n  function load_libs(css_urls, js_urls, callback) {\n    if (css_urls == null) css_urls = [];\n    if (js_urls == null) js_urls = [];\n\n    root._bokeh_onload_callbacks.push(callback);\n    if (root._bokeh_is_loading > 0) {\n      console.debug(\"Bokeh: BokehJS is being loaded, scheduling callback at\", now());\n      return null;\n    }\n    if (js_urls == null || js_urls.length === 0) {\n      run_callbacks();\n      return null;\n    }\n    console.debug(\"Bokeh: BokehJS not loaded, scheduling load and callback at\", now());\n    root._bokeh_is_loading = css_urls.length + js_urls.length;\n\n    function on_load() {\n      root._bokeh_is_loading--;\n      if (root._bokeh_is_loading === 0) {\n        console.debug(\"Bokeh: all BokehJS libraries/stylesheets loaded\");\n        run_callbacks()\n      }\n    }\n\n    function on_error(url) {\n      console.error(\"failed to load \" + url);\n    }\n\n    for (let i = 0; i < css_urls.length; i++) {\n      const url = css_urls[i];\n      const element = document.createElement(\"link\");\n      element.onload = on_load;\n      element.onerror = on_error.bind(null, url);\n      element.rel = \"stylesheet\";\n      element.type = \"text/css\";\n      element.href = url;\n      console.debug(\"Bokeh: injecting link tag for BokehJS stylesheet: \", url);\n      document.body.appendChild(element);\n    }\n\n    for (let i = 0; i < js_urls.length; i++) {\n      const url = js_urls[i];\n      const element = document.createElement('script');\n      element.onload = on_load;\n      element.onerror = on_error.bind(null, url);\n      element.async = false;\n      element.src = url;\n      console.debug(\"Bokeh: injecting script tag for BokehJS library: \", url);\n      document.head.appendChild(element);\n    }\n  };\n\n  function inject_raw_css(css) {\n    const element = document.createElement(\"style\");\n    element.appendChild(document.createTextNode(css));\n    document.body.appendChild(element);\n  }\n\n  \n  const js_urls = [\"https://cdn.bokeh.org/bokeh/release/bokeh-2.4.2.min.js\", \"https://cdn.bokeh.org/bokeh/release/bokeh-gl-2.4.2.min.js\", \"https://cdn.bokeh.org/bokeh/release/bokeh-widgets-2.4.2.min.js\", \"https://cdn.bokeh.org/bokeh/release/bokeh-tables-2.4.2.min.js\", \"https://cdn.bokeh.org/bokeh/release/bokeh-mathjax-2.4.2.min.js\"];\n  const css_urls = [];\n  \n\n  const inline_js = [\n    function(Bokeh) {\n      Bokeh.set_log_level(\"info\");\n    },\n    function(Bokeh) {\n    \n    \n    }\n  ];\n\n  function run_inline_js() {\n    \n    if (root.Bokeh !== undefined || force === true) {\n      \n    for (let i = 0; i < inline_js.length; i++) {\n      inline_js[i].call(root, root.Bokeh);\n    }\n    if (force === true) {\n        display_loaded();\n      }} else if (Date.now() < root._bokeh_timeout) {\n      setTimeout(run_inline_js, 100);\n    } else if (!root._bokeh_failed_load) {\n      console.log(\"Bokeh: BokehJS failed to load within specified timeout.\");\n      root._bokeh_failed_load = true;\n    } else if (force !== true) {\n      const cell = $(document.getElementById(\"1003\")).parents('.cell').data().cell;\n      cell.output_area.append_execute_result(NB_LOAD_WARNING)\n    }\n\n  }\n\n  if (root._bokeh_is_loading === 0) {\n    console.debug(\"Bokeh: BokehJS loaded, going straight to plotting\");\n    run_inline_js();\n  } else {\n    load_libs(css_urls, js_urls, function() {\n      console.debug(\"Bokeh: BokehJS plotting callback run at\", now());\n      run_inline_js();\n    });\n  }\n}(window));"
     },
     "metadata": {},
     "output_type": "display_data"
    },
    {
     "data": {
      "application/vnd.jupyter.widget-view+json": {
       "model_id": "fabe9a093641476b856a1ecd23f87824",
       "version_major": 2,
       "version_minor": 0
      },
      "text/plain": [
       "Text(value='10.5.0.22', description='IP Address for eXtickGE', disabled=True, style=DescriptionStyle(descripti…"
      ]
     },
     "metadata": {},
     "output_type": "display_data"
    },
    {
     "data": {
      "application/vnd.jupyter.widget-view+json": {
       "model_id": "5d5edf7c354c4b619d204a23bd76e591",
       "version_major": 2,
       "version_minor": 0
      },
      "text/plain": [
       "Text(value='./adi_api_mod', description='Path to API', disabled=True, layout=Layout(width='50%'), style=Descri…"
      ]
     },
     "metadata": {},
     "output_type": "display_data"
    },
    {
     "data": {
      "application/vnd.jupyter.widget-view+json": {
       "model_id": "d144417cec38475eb6c68e5d67f18bab",
       "version_major": 2,
       "version_minor": 0
      },
      "text/plain": [
       "HBox(children=(Checkbox(value=False, description='Config FPGA', indent=False), Text(value='/home/qube/bin/0694…"
      ]
     },
     "metadata": {},
     "output_type": "display_data"
    },
    {
     "data": {
      "application/vnd.jupyter.widget-view+json": {
       "model_id": "ec2bbbdd9ad948c4a701f92b3de83234",
       "version_major": 2,
       "version_minor": 0
      },
      "text/plain": [
       "Button(description='Do init', layout=Layout(height='80px', width='50%'), style=ButtonStyle())"
      ]
     },
     "metadata": {},
     "output_type": "display_data"
    },
    {
     "data": {
      "application/vnd.jupyter.widget-view+json": {
       "model_id": "fc75386a92264911b0078e30d66518cf",
       "version_major": 2,
       "version_minor": 0
      },
      "text/plain": [
       "Button(description='Restart AD9082', layout=Layout(height='80px', width='50%'), style=ButtonStyle())"
      ]
     },
     "metadata": {},
     "output_type": "display_data"
    }
   ],
   "source": [
    "import importlib\n",
    "import e7awgsw\n",
    "import bokeh.io\n",
    "import bokeh.plotting\n",
    "import bokeh.models\n",
    "import qubelsi.qube\n",
    "import pickle\n",
    "from IPython.display import clear_output\n",
    "\n",
    "import qubeui\n",
    "import instruments\n",
    "\n",
    "bokeh.plotting.output_notebook()\n",
    "\n",
    "QUBE = 'Riken1'\n",
    "QUBE_ID = 4\n",
    "\n",
    "qube = qubelsi.qube.Qube(\n",
    "    '10.5.0.22', # IP address of eXtickGE\n",
    "    './adi_api_mod', # Path to API\n",
    ")\n",
    "qubeui.StartupUI(qube)\n",
    "visa = instruments.new_resource_manager()"
   ]
  },
  {
   "cell_type": "code",
   "execution_count": 5,
   "id": "10ea9b62-1c96-4399-bb0e-65ff042fc3a4",
   "metadata": {},
   "outputs": [
    {
     "data": {
      "application/vnd.jupyter.widget-view+json": {
       "model_id": "773f59ec612642a6907be4818ededc0b",
       "version_major": 2,
       "version_minor": 0
      },
      "text/plain": [
       "VBox(children=(HBox(children=(Text(value='2.5', description='Freq5 [MHz]:'), Text(value='2.5'), Text(value='2.…"
      ]
     },
     "metadata": {},
     "output_type": "display_data"
    }
   ],
   "source": [
    "importlib.reload(qubeui)\n",
    "qubeui.AwgPanel(qube).display()"
   ]
  },
  {
   "cell_type": "code",
   "execution_count": 6,
   "id": "580fc0ee-6f3f-4bc0-a9b8-ebb8f2a7d8f9",
   "metadata": {},
   "outputs": [
    {
     "data": {
      "text/plain": [
       "(10400, 1897.5)"
      ]
     },
     "execution_count": 6,
     "metadata": {},
     "output_type": "execute_result"
    }
   ],
   "source": [
    "port = qubeui.new_port_handler(qube)\n",
    "qubeui.set_flo_fnco_according_to_frf(port[5], 8500, 1900)"
   ]
  },
  {
   "cell_type": "markdown",
   "id": "b1950888-548d-4887-8044-07790fa10549",
   "metadata": {},
   "source": [
    "# ↑ は初期化コードですので普段は使わないでください\n",
    "\n",
    "---"
   ]
  },
  {
   "cell_type": "markdown",
   "id": "f4a574a1-4e82-4e99-903e-810844848733",
   "metadata": {},
   "source": [
    "# 周波数特性測定コード"
   ]
  },
  {
   "cell_type": "code",
   "execution_count": null,
   "id": "e86b9571-ee05-4cfc-9495-7797367b17b9",
   "metadata": {
    "tags": []
   },
   "outputs": [
    {
     "data": {
      "text/html": [
       "\n",
       "\n",
       "\n",
       "\n",
       "\n",
       "\n",
       "  <div class=\"bk-root\" id=\"1fd3ecfa-d0fa-4ca5-b251-ed5ec311a7a6\" data-root-id=\"211565\"></div>\n"
      ]
     },
     "metadata": {},
     "output_type": "display_data"
    },
    {
     "data": {
      "application/javascript": [
       "(function(root) {\n",
       "  function embed_document(root) {\n",
       "    \n",
       "  const docs_json = {\"b526c545-e7f7-4ff7-9724-11eb1c10ef2c\":{\"defs\":[],\"roots\":{\"references\":[{\"attributes\":{\"below\":[{\"id\":\"211574\"}],\"center\":[{\"id\":\"211577\"},{\"id\":\"211581\"}],\"height\":300,\"left\":[{\"id\":\"211578\"}],\"renderers\":[{\"id\":\"211600\"}],\"sizing_mode\":\"stretch_width\",\"title\":{\"id\":\"213659\"},\"toolbar\":{\"id\":\"211589\"},\"toolbar_location\":null,\"x_range\":{\"id\":\"211566\"},\"x_scale\":{\"id\":\"211570\"},\"y_range\":{\"id\":\"211568\"},\"y_scale\":{\"id\":\"211572\"}},\"id\":\"211565\",\"subtype\":\"Figure\",\"type\":\"Plot\"},{\"attributes\":{},\"id\":\"211587\",\"type\":\"HelpTool\"},{\"attributes\":{\"bottom_units\":\"screen\",\"coordinates\":null,\"fill_alpha\":0.5,\"fill_color\":\"lightgrey\",\"group\":null,\"left_units\":\"screen\",\"level\":\"overlay\",\"line_alpha\":1.0,\"line_color\":\"black\",\"line_dash\":[4,4],\"line_width\":2,\"right_units\":\"screen\",\"syncable\":false,\"top_units\":\"screen\"},\"id\":\"211588\",\"type\":\"BoxAnnotation\"},{\"attributes\":{},\"id\":\"211572\",\"type\":\"LinearScale\"},{\"attributes\":{},\"id\":\"213667\",\"type\":\"UnionRenderers\"},{\"attributes\":{\"source\":{\"id\":\"211596\"}},\"id\":\"211601\",\"type\":\"CDSView\"},{\"attributes\":{\"coordinates\":null,\"formatter\":{\"id\":\"213665\"},\"group\":null,\"major_label_policy\":{\"id\":\"213666\"},\"ticker\":{\"id\":\"211575\"}},\"id\":\"211574\",\"type\":\"LinearAxis\"},{\"attributes\":{},\"id\":\"213668\",\"type\":\"Selection\"},{\"attributes\":{\"line_alpha\":0.1,\"line_color\":\"#1f77b4\",\"x\":{\"field\":\"x\"},\"y\":{\"field\":\"y\"}},\"id\":\"211598\",\"type\":\"Line\"},{\"attributes\":{},\"id\":\"211566\",\"type\":\"DataRange1d\"},{\"attributes\":{},\"id\":\"213665\",\"type\":\"BasicTickFormatter\"},{\"attributes\":{\"overlay\":{\"id\":\"211588\"}},\"id\":\"211584\",\"type\":\"BoxZoomTool\"},{\"attributes\":{\"data\":{\"x\":{\"__ndarray__\":\"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\",\"dtype\":\"float64\",\"order\":\"little\",\"shape\":[551]},\"y\":{\"__ndarray__\":\"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\",\"dtype\":\"float64\",\"order\":\"little\",\"shape\":[551]}},\"selected\":{\"id\":\"213668\"},\"selection_policy\":{\"id\":\"213667\"}},\"id\":\"211596\",\"type\":\"ColumnDataSource\"},{\"attributes\":{\"tools\":[{\"id\":\"211582\"},{\"id\":\"211583\"},{\"id\":\"211584\"},{\"id\":\"211585\"},{\"id\":\"211586\"},{\"id\":\"211587\"}]},\"id\":\"211589\",\"type\":\"Toolbar\"},{\"attributes\":{},\"id\":\"211570\",\"type\":\"LinearScale\"},{\"attributes\":{\"line_alpha\":0.2,\"line_color\":\"#1f77b4\",\"x\":{\"field\":\"x\"},\"y\":{\"field\":\"y\"}},\"id\":\"211599\",\"type\":\"Line\"},{\"attributes\":{\"line_color\":\"#1f77b4\",\"x\":{\"field\":\"x\"},\"y\":{\"field\":\"y\"}},\"id\":\"211597\",\"type\":\"Line\"},{\"attributes\":{\"coordinates\":null,\"group\":null},\"id\":\"213659\",\"type\":\"Title\"},{\"attributes\":{\"axis\":{\"id\":\"211574\"},\"coordinates\":null,\"group\":null,\"ticker\":null},\"id\":\"211577\",\"type\":\"Grid\"},{\"attributes\":{},\"id\":\"211568\",\"type\":\"DataRange1d\"},{\"attributes\":{},\"id\":\"211586\",\"type\":\"ResetTool\"},{\"attributes\":{},\"id\":\"213666\",\"type\":\"AllLabels\"},{\"attributes\":{},\"id\":\"211579\",\"type\":\"BasicTicker\"},{\"attributes\":{},\"id\":\"211575\",\"type\":\"BasicTicker\"},{\"attributes\":{},\"id\":\"211585\",\"type\":\"SaveTool\"},{\"attributes\":{},\"id\":\"213662\",\"type\":\"BasicTickFormatter\"},{\"attributes\":{\"axis\":{\"id\":\"211578\"},\"coordinates\":null,\"dimension\":1,\"group\":null,\"ticker\":null},\"id\":\"211581\",\"type\":\"Grid\"},{\"attributes\":{},\"id\":\"211582\",\"type\":\"PanTool\"},{\"attributes\":{\"coordinates\":null,\"data_source\":{\"id\":\"211596\"},\"glyph\":{\"id\":\"211597\"},\"group\":null,\"hover_glyph\":null,\"muted_glyph\":{\"id\":\"211599\"},\"nonselection_glyph\":{\"id\":\"211598\"},\"view\":{\"id\":\"211601\"}},\"id\":\"211600\",\"type\":\"GlyphRenderer\"},{\"attributes\":{},\"id\":\"213663\",\"type\":\"AllLabels\"},{\"attributes\":{\"coordinates\":null,\"formatter\":{\"id\":\"213662\"},\"group\":null,\"major_label_policy\":{\"id\":\"213663\"},\"ticker\":{\"id\":\"211579\"}},\"id\":\"211578\",\"type\":\"LinearAxis\"},{\"attributes\":{},\"id\":\"211583\",\"type\":\"WheelZoomTool\"}],\"root_ids\":[\"211565\"]},\"title\":\"Bokeh Application\",\"version\":\"2.4.2\"}};\n",
       "  const render_items = [{\"docid\":\"b526c545-e7f7-4ff7-9724-11eb1c10ef2c\",\"root_ids\":[\"211565\"],\"roots\":{\"211565\":\"1fd3ecfa-d0fa-4ca5-b251-ed5ec311a7a6\"}}];\n",
       "  root.Bokeh.embed.embed_items_notebook(docs_json, render_items);\n",
       "\n",
       "  }\n",
       "  if (root.Bokeh !== undefined) {\n",
       "    embed_document(root);\n",
       "  } else {\n",
       "    let attempts = 0;\n",
       "    const timer = setInterval(function(root) {\n",
       "      if (root.Bokeh !== undefined) {\n",
       "        clearInterval(timer);\n",
       "        embed_document(root);\n",
       "      } else {\n",
       "        attempts++;\n",
       "        if (attempts > 100) {\n",
       "          clearInterval(timer);\n",
       "          console.log(\"Bokeh: ERROR: Unable to run BokehJS code because BokehJS library is missing\");\n",
       "        }\n",
       "      }\n",
       "    }, 10, root)\n",
       "  }\n",
       "})(window);"
      ],
      "application/vnd.bokehjs_exec.v0+json": ""
     },
     "metadata": {
      "application/vnd.bokehjs_exec.v0+json": {
       "id": "211565"
      }
     },
     "output_type": "display_data"
    }
   ],
   "source": [
    "#r = ms2038.measure()\n",
    "# ADRF6780のVATTを変更しながらスペクトルを取得する\n",
    "import pickle\n",
    "\n",
    "PORT_ID = 5\n",
    "\n",
    "port = qubeui.new_port_handler(qube)\n",
    "\n",
    "ms2038 = instruments.MS2038_SPA(visa)\n",
    "ms2038.write(':INIT:CONT OFF')\n",
    "\n",
    "fname = 'Qube{}{}_Port{}.pickle'.format(QUBE, QUBE_ID, PORT_ID)\n",
    "result = []\n",
    "# FL = 10400\n",
    "# FI = 1800\n",
    "for FL in range(10400, 11001, 100):\n",
    "    for FI in range(1800,3201,50):\n",
    "        FR = FL - FI\n",
    "        qubeui.set_flo_fnco_according_to_frf(port[PORT_ID], FR, FI)\n",
    "        qubeui.set_vatt(port[PORT_ID].upconv.vatt, 0xA00)\n",
    "        data = ms2038.measure()\n",
    "        data['Qube'] = QUBE\n",
    "        data['Qube ID'] = QUBE_ID\n",
    "        data['Port ID'] = PORT_ID\n",
    "        data['VATT'] = 0xA00\n",
    "        data['IF'] = FI\n",
    "        data['LO'] = FL\n",
    "        data['AD9082 Current Mode'] = '(0x01B, 0x0F), (0x117, 0xA0), (0x118, 0xFF)'\n",
    "        result.append(data)\n",
    "        p = bokeh.plotting.figure(height=300, toolbar_location=None, sizing_mode=\"stretch_width\")\n",
    "        p.line(data['numpy_array'][0,:],data['numpy_array'][1,:])\n",
    "        clear_output()\n",
    "        bokeh.plotting.show(p)\n",
    "with open(fname, 'wb') as f:\n",
    "    pickle.dump(data, f)    "
   ]
  },
  {
   "cell_type": "code",
   "execution_count": null,
   "id": "844dc961-e574-498a-8107-4537f75171eb",
   "metadata": {},
   "outputs": [],
   "source": []
  }
 ],
 "metadata": {
  "kernelspec": {
   "display_name": "Python 3 (ipykernel)",
   "language": "python",
   "name": "python3"
  },
  "language_info": {
   "codemirror_mode": {
    "name": "ipython",
    "version": 3
   },
   "file_extension": ".py",
   "mimetype": "text/x-python",
   "name": "python",
   "nbconvert_exporter": "python",
   "pygments_lexer": "ipython3",
   "version": "3.9.10"
  }
 },
 "nbformat": 4,
 "nbformat_minor": 5
}
