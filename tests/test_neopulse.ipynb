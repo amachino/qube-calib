{
 "cells": [
  {
   "cell_type": "code",
   "execution_count": 2,
   "metadata": {},
   "outputs": [
    {
     "data": {
      "text/plain": [
       "(Sequence([Slot(duration=1e-07, begin=0.0),\n",
       "           Slot(duration=2e-07, begin=1e-07),\n",
       "           Slot(duration=3e-07, begin=3e-07)]),\n",
       " {1: Slot(duration=1e-07, begin=0.0),\n",
       "  2: Slot(duration=2e-07, begin=1e-07),\n",
       "  3: Slot(duration=3e-07, begin=3e-07)})"
      ]
     },
     "execution_count": 2,
     "metadata": {},
     "output_type": "execute_result"
    }
   ],
   "source": [
    "from qubecalib.neopulseexp import Sequence, Slot\n",
    "\n",
    "with Sequence() as seq:\n",
    "    Slot(100e-9)\n",
    "    Slot(200e-9)\n",
    "    Slot(300e-9)\n",
    "\n",
    "seq._tree.finalize()\n",
    "seq, seq._tree._nodes_items"
   ]
  },
  {
   "cell_type": "code",
   "execution_count": 3,
   "metadata": {},
   "outputs": [
    {
     "data": {
      "text/plain": [
       "({1: SeriesItem(duration=3.0000000000000004e-09, begin=0.0, next_node=1, root_node=2),\n",
       "  2: Dummy(duration=0, begin=0.0),\n",
       "  3: Slot(duration=1e-09, begin=0.0),\n",
       "  4: Slot(duration=2e-09, begin=1.0000000000000003e-09)},\n",
       " Tree(list, {0: [1, 2], 2: [3], 3: [4], 1: [], 4: []}))"
      ]
     },
     "execution_count": 3,
     "metadata": {},
     "output_type": "execute_result"
    }
   ],
   "source": [
    "from qubecalib.neopulseexp import Sequence, SubSequence, Slot, Series, Flushleft, Flushright\n",
    "\n",
    "with Sequence() as seq:\n",
    "    with Series():\n",
    "        Slot(1e-9)\n",
    "        Slot(2e-9)\n",
    "\n",
    "seq._tree.finalize()\n",
    "seq._tree._nodes_items, seq._get_tree()"
   ]
  },
  {
   "cell_type": "code",
   "execution_count": 4,
   "metadata": {},
   "outputs": [
    {
     "data": {
      "text/plain": [
       "({1: FlushleftItem(duration=2e-09, begin=0.0, next_node=1, root_node=2),\n",
       "  2: Dummy(duration=0, begin=0.0),\n",
       "  3: Slot(duration=1e-09, begin=0.0),\n",
       "  4: Slot(duration=2e-09, begin=0.0)},\n",
       " Tree(list, {0: [1, 2], 2: [3, 4], 1: [], 3: [], 4: []}))"
      ]
     },
     "execution_count": 4,
     "metadata": {},
     "output_type": "execute_result"
    }
   ],
   "source": [
    "from qubecalib.neopulseexp import Sequence, SubSequence, Slot, Series, Flushleft, Flushright\n",
    "\n",
    "with Sequence() as seq:\n",
    "    with Flushleft():\n",
    "        Slot(1e-9)\n",
    "        Slot(2e-9)\n",
    "\n",
    "seq._tree.finalize()\n",
    "seq._tree._nodes_items, seq._get_tree()"
   ]
  },
  {
   "cell_type": "code",
   "execution_count": 5,
   "metadata": {},
   "outputs": [
    {
     "data": {
      "text/plain": [
       "({1: FlushrightItem(duration=2e-09, begin=0.0, next_node=1, root_node=2),\n",
       "  2: Dummy(duration=0, begin=0.0),\n",
       "  3: Blank(duration=1e-09, begin=0.0),\n",
       "  5: Blank(duration=0.0, begin=0.0),\n",
       "  4: Slot(duration=1e-09, begin=1e-09),\n",
       "  6: Slot(duration=2e-09, begin=0.0)},\n",
       " Tree(list, {0: [1, 2], 2: [3, 5], 3: [4], 5: [6], 1: [], 4: [], 6: []}),\n",
       " {1: 2e-09, 2: 0, 3: 1e-09, 5: 0.0, 4: 1e-09, 6: 2e-09})"
      ]
     },
     "execution_count": 5,
     "metadata": {},
     "output_type": "execute_result"
    }
   ],
   "source": [
    "from qubecalib.neopulseexp import Sequence, SubSequence, Slot, Series, Flushleft, Flushright\n",
    "\n",
    "with Sequence() as seq:\n",
    "    with Flushright():\n",
    "        Slot(1e-9)\n",
    "        Slot(2e-9)\n",
    "\n",
    "seq._tree.finalize()\n",
    "seq._tree._nodes_items, seq._get_tree(), seq._tree._tree._cost"
   ]
  },
  {
   "cell_type": "code",
   "execution_count": 6,
   "metadata": {},
   "outputs": [
    {
     "data": {
      "text/plain": [
       "{1: FlushrightItem(duration=2e-09, begin=0.0, next_node=1, root_node=2),\n",
       " 2: Dummy(duration=0, begin=0.0),\n",
       " 3: Blank(duration=1e-09, begin=0.0),\n",
       " 5: Blank(duration=0.0, begin=0.0),\n",
       " 4: Slot(duration=1e-09, begin=1e-09),\n",
       " 6: Slot(duration=2e-09, begin=0.0)}"
      ]
     },
     "execution_count": 6,
     "metadata": {},
     "output_type": "execute_result"
    }
   ],
   "source": [
    "seq._tree._nodes_items"
   ]
  },
  {
   "cell_type": "code",
   "execution_count": 4,
   "metadata": {},
   "outputs": [
    {
     "name": "stdout",
     "output_type": "stream",
     "text": [
      "{1: SubSequenceBranch(duration=None, begin=None, next_node=1, root_node=2), 2: Dummy(duration=0, begin=None), 3: Slot(duration=9e-09, begin=None), 4: FlushrightBranch(duration=None, begin=None, next_node=4, root_node=5), 5: Dummy(duration=0, begin=None), 16: FlushleftBranch(duration=None, begin=None, next_node=16, root_node=17), 17: Dummy(duration=0, begin=None), 6: Blank(duration=0, begin=None), 11: Blank(duration=0, begin=None), 18: SeriesBranch(duration=None, begin=None, next_node=18, root_node=19), 19: Dummy(duration=0, begin=None), 22: SeriesBranch(duration=None, begin=None, next_node=22, root_node=23), 23: Dummy(duration=0, begin=None), 7: SeriesBranch(duration=None, begin=None, next_node=7, root_node=8), 8: Dummy(duration=0, begin=None), 12: SeriesBranch(duration=None, begin=None, next_node=12, root_node=13), 13: Dummy(duration=0, begin=None), 20: Slot(duration=5e-09, begin=None), 24: Slot(duration=7e-09, begin=None), 9: Slot(duration=1e-09, begin=None), 14: Slot(duration=3e-09, begin=None), 21: Slot(duration=6e-09, begin=None), 25: Slot(duration=8e-09, begin=None), 10: Slot(duration=2e-09, begin=None), 15: Slot(duration=4e-09, begin=None)}\n",
      "SeriesBranch, root_node=13\n",
      "SeriesBranch, root_node=8\n",
      "SeriesBranch, root_node=23\n",
      "SeriesBranch, root_node=19\n",
      "FlushleftBranch, root_node=17\n",
      "FlushrightBranch, root_node=5\n",
      "SubSequenceBranch, root_node=2\n"
     ]
    },
    {
     "data": {
      "text/plain": [
       "({1: SubSequenceBranch(duration=3.1e-08, begin=0.0, next_node=1, root_node=2),\n",
       "  2: Dummy(duration=0, begin=0.0),\n",
       "  3: Slot(duration=9e-09, begin=0.0),\n",
       "  4: FlushrightBranch(duration=7e-09, begin=8.999999999999998e-09, next_node=4, root_node=5),\n",
       "  5: Dummy(duration=0, begin=9e-09),\n",
       "  16: FlushleftBranch(duration=1.5000000000000002e-08, begin=1.5999999999999998e-08, next_node=16, root_node=17),\n",
       "  17: Dummy(duration=0, begin=1.5999999999999998e-08),\n",
       "  6: Blank(duration=3.9999999999999994e-09, begin=9e-09),\n",
       "  11: Blank(duration=0.0, begin=9e-09),\n",
       "  18: SeriesBranch(duration=1.1e-08, begin=1.5999999999999998e-08, next_node=18, root_node=19),\n",
       "  19: Dummy(duration=0, begin=1.5999999999999998e-08),\n",
       "  22: SeriesBranch(duration=1.5000000000000002e-08, begin=1.5999999999999998e-08, next_node=22, root_node=23),\n",
       "  23: Dummy(duration=0, begin=1.5999999999999998e-08),\n",
       "  7: SeriesBranch(duration=3.0000000000000004e-09, begin=1.2999999999999997e-08, next_node=7, root_node=8),\n",
       "  8: Dummy(duration=0, begin=1.2999999999999999e-08),\n",
       "  12: SeriesBranch(duration=7e-09, begin=8.999999999999998e-09, next_node=12, root_node=13),\n",
       "  13: Dummy(duration=0, begin=9e-09),\n",
       "  20: Slot(duration=5e-09, begin=1.5999999999999998e-08),\n",
       "  24: Slot(duration=7e-09, begin=1.5999999999999998e-08),\n",
       "  9: Slot(duration=1e-09, begin=1.2999999999999999e-08),\n",
       "  14: Slot(duration=3e-09, begin=9e-09),\n",
       "  21: Slot(duration=6e-09, begin=2.0999999999999996e-08),\n",
       "  25: Slot(duration=8e-09, begin=2.3e-08),\n",
       "  10: Slot(duration=2e-09, begin=1.4000000000000001e-08),\n",
       "  15: Slot(duration=4e-09, begin=1.2000000000000002e-08)},\n",
       " Tree(list,\n",
       "      {0: [1, 2],\n",
       "       2: [3],\n",
       "       3: [4, 5],\n",
       "       5: [6, 11],\n",
       "       6: [7, 8],\n",
       "       8: [9],\n",
       "       9: [10],\n",
       "       11: [12, 13],\n",
       "       13: [14],\n",
       "       14: [15],\n",
       "       4: [16, 17],\n",
       "       17: [18, 19, 22, 23],\n",
       "       19: [20],\n",
       "       20: [21],\n",
       "       23: [24],\n",
       "       24: [25],\n",
       "       1: [],\n",
       "       16: [],\n",
       "       18: [],\n",
       "       22: [],\n",
       "       7: [],\n",
       "       12: [],\n",
       "       21: [],\n",
       "       25: [],\n",
       "       10: [],\n",
       "       15: []}))"
      ]
     },
     "execution_count": 4,
     "metadata": {},
     "output_type": "execute_result"
    }
   ],
   "source": [
    "from qubecalib.neopulseexp import Sequence, SubSequence, Slot, Series, Flushleft, Flushright\n",
    "\n",
    "with Sequence() as seq:\n",
    "    with SubSequence():\n",
    "        Slot(9e-9)\n",
    "        with Flushright():\n",
    "            with Series():\n",
    "                Slot(1e-9)\n",
    "                Slot(2e-9)\n",
    "            with Series():\n",
    "                Slot(3e-9)\n",
    "                Slot(4e-9)\n",
    "        with Flushleft():\n",
    "            with Series():\n",
    "                Slot(5e-9)\n",
    "                Slot(6e-9)\n",
    "            with Series():\n",
    "                Slot(7e-9)\n",
    "                Slot(8e-9)\n",
    "\n",
    "print(seq._tree._nodes_items)\n",
    "seq._tree.finalize()\n",
    "seq._tree._nodes_items, seq._get_tree()#, seq._tree._tree._cost\n"
   ]
  },
  {
   "cell_type": "code",
   "execution_count": 1,
   "metadata": {},
   "outputs": [
    {
     "name": "stdout",
     "output_type": "stream",
     "text": [
      "{1: SubSequenceItem(duration=3.0000000000000004e-09, begin=None, next_node=1, root_node=2)}\n",
      "{0: 0.0, 1: 3.0000000000000004e-09, 2: 0.0, 3: 1e-09, 4: 3.0000000000000004e-09}\n"
     ]
    },
    {
     "data": {
      "text/plain": [
       "({1: SubSequenceItem(duration=3.0000000000000004e-09, begin=0.0, next_node=1, root_node=2),\n",
       "  2: Dummy(duration=0, begin=0.0),\n",
       "  3: Slot(duration=1e-09, begin=0.0),\n",
       "  4: Slot(duration=2e-09, begin=1.0000000000000003e-09)},\n",
       " Tree(list, {0: [1, 2], 2: [3], 3: [4], 1: [], 4: []}))"
      ]
     },
     "execution_count": 1,
     "metadata": {},
     "output_type": "execute_result"
    }
   ],
   "source": [
    "from qubecalib.neopulseexp import Sequence, SubSequence, Slot, Series, Flushleft, Flushright\n",
    "\n",
    "with Sequence() as seq:\n",
    "    with SubSequence():\n",
    "        Slot(1e-9)\n",
    "        Slot(2e-9)\n",
    "\n",
    "seq._tree.finalize()\n",
    "seq._tree._nodes_items, seq._get_tree()"
   ]
  },
  {
   "cell_type": "code",
   "execution_count": 5,
   "metadata": {},
   "outputs": [
    {
     "name": "stdout",
     "output_type": "stream",
     "text": [
      "SubSequenceBranch, 0.0, 3.1e-08\n",
      "FlushrightBranch, 8.999999999999998e-09, 7e-09\n",
      "FlushleftBranch, 1.5999999999999998e-08, 1.5000000000000002e-08\n",
      "SeriesBranch, 1.5999999999999998e-08, 1.1e-08\n",
      "SeriesBranch, 1.5999999999999998e-08, 1.5000000000000002e-08\n",
      "SeriesBranch, 1.2999999999999997e-08, 3.0000000000000004e-09\n",
      "SeriesBranch, 8.999999999999998e-09, 7e-09\n"
     ]
    },
    {
     "data": {
      "image/png": "[encoded data removed]",
      "text/plain": [
       "<Figure size 640x480 with 1 Axes>"
      ]
     },
     "metadata": {},
     "output_type": "display_data"
    }
   ],
   "source": [
    "import matplotlib.pyplot as plt\n",
    "import matplotlib.patches as patches\n",
    "from qubecalib.neopulseexp import Sequence, SubSequence, Slot, Series, Flushleft, Flushright, Branch\n",
    "\n",
    "%matplotlib inline\n",
    "\n",
    "fig = plt.figure()\n",
    "ax = fig.gca()\n",
    "for i, _ in seq._tree._nodes_items.items():\n",
    "    if isinstance(_, Branch):\n",
    "        print(f\"{_.__class__.__name__}, {_.begin}, {_.duration}\")\n",
    "        ax.add_patch(patches.Rectangle(xy=(_.begin*1e9, i), width=_.duration*1e9, height=1, color='green'))\n",
    "    if isinstance(_, Slot):\n",
    "        ax.add_patch(patches.Rectangle(xy=(_.begin*1e9, i), width=_.duration*1e9, height=1, color='blue'))\n",
    "ax.set_xlim(0,40)\n",
    "ax.set_ylim(0,30)\n",
    "plt.show()"
   ]
  },
  {
   "cell_type": "code",
   "execution_count": 2,
   "metadata": {},
   "outputs": [
    {
     "data": {
      "text/plain": [
       "[1, 2, 4, 5, 6]"
      ]
     },
     "execution_count": 2,
     "metadata": {},
     "output_type": "execute_result"
    }
   ],
   "source": [
    "\n",
    "[1,2,4] + [5,6]\n",
    "\n",
    "\n"
   ]
  },
  {
   "cell_type": "code",
   "execution_count": null,
   "metadata": {},
   "outputs": [],
   "source": []
  }
 ],
 "metadata": {
  "kernelspec": {
   "display_name": ".venv",
   "language": "python",
   "name": "python3"
  },
  "language_info": {
   "codemirror_mode": {
    "name": "ipython",
    "version": 3
   },
   "file_extension": ".py",
   "mimetype": "text/x-python",
   "name": "python",
   "nbconvert_exporter": "python",
   "pygments_lexer": "ipython3",
   "version": "3.9.18"
  }
 },
 "nbformat": 4,
 "nbformat_minor": 2
}
