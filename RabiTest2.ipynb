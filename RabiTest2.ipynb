{
 "cells": [
  {
   "cell_type": "code",
   "execution_count": 1,
   "id": "7aa305d5-1bf7-4f97-923b-bd3cd3b80241",
   "metadata": {},
   "outputs": [],
   "source": [
    "import qubecalib as qc\n",
    "from qubecalib import Qube\n",
    "#import e7awgsw\n",
    "\n",
    "QUBE = Qube()\n",
    "#display(ui.LoadConfigPanel(QUBE))"
   ]
  },
  {
   "cell_type": "code",
   "execution_count": 2,
   "id": "e34f7f2f-85f6-4705-bea4-73e0d2c1a180",
   "metadata": {},
   "outputs": [
    {
     "name": "stdout",
     "output_type": "stream",
     "text": [
      "{'bitfile': '0d5ea1.bit', 'ipfpga': '10.1.0.28', 'iplsi': '10.5.0.28', 'macfpga': '00-0A-35-0D-5E-A1', 'maclsi': '00-1B-1A-EE-01-27', 'type': 'A'}\n",
      "<qubelsi.qube.Qube object at 0x1182385e0> <enum 'AWG'> <enum 'CaptureModule'>\n"
     ]
    },
    {
     "ename": "KeyboardInterrupt",
     "evalue": "",
     "output_type": "error",
     "traceback": [
      "\u001b[0;31m---------------------------------------------------------------------------\u001b[0m",
      "\u001b[0;31mKeyboardInterrupt\u001b[0m                         Traceback (most recent call last)",
      "Input \u001b[0;32mIn [2]\u001b[0m, in \u001b[0;36m<cell line: 1>\u001b[0;34m()\u001b[0m\n\u001b[0;32m----> 1\u001b[0m \u001b[43mQUBE\u001b[49m\u001b[38;5;241;43m.\u001b[39;49m\u001b[43mload\u001b[49m\u001b[43m(\u001b[49m\u001b[38;5;124;43m'\u001b[39;49m\u001b[38;5;124;43mqube_riken_1-10.yml\u001b[39;49m\u001b[38;5;124;43m'\u001b[39;49m\u001b[43m)\u001b[49m\n",
      "File \u001b[0;32m~/Development/qube-calib/qubecalib/__init__.py:41\u001b[0m, in \u001b[0;36mQube.load\u001b[0;34m(self, config_file_name)\u001b[0m\n\u001b[1;32m     38\u001b[0m \u001b[38;5;28mprint\u001b[39m(o)\n\u001b[1;32m     40\u001b[0m \u001b[38;5;28mself\u001b[39m\u001b[38;5;241m.\u001b[39mqube \u001b[38;5;241m=\u001b[39m qubelsi\u001b[38;5;241m.\u001b[39mqube\u001b[38;5;241m.\u001b[39mQube(o[\u001b[38;5;124m'\u001b[39m\u001b[38;5;124miplsi\u001b[39m\u001b[38;5;124m'\u001b[39m], PATH_TO_API)\n\u001b[0;32m---> 41\u001b[0m \u001b[38;5;28mself\u001b[39m\u001b[38;5;241m.\u001b[39m_ports \u001b[38;5;241m=\u001b[39m \u001b[38;5;28;43mself\u001b[39;49m\u001b[38;5;241;43m.\u001b[39;49m\u001b[43m_new_ports\u001b[49m\u001b[43m(\u001b[49m\u001b[43m)\u001b[49m\n",
      "File \u001b[0;32m~/Development/qube-calib/qubecalib/__init__.py:67\u001b[0m, in \u001b[0;36mQube._new_ports\u001b[0;34m(self)\u001b[0m\n\u001b[1;32m     64\u001b[0m CaptM \u001b[38;5;241m=\u001b[39m e7awgsw\u001b[38;5;241m.\u001b[39mCaptureModule\n\u001b[1;32m     65\u001b[0m \u001b[38;5;28mprint\u001b[39m(o, AWG, CaptM)\n\u001b[1;32m     66\u001b[0m \u001b[38;5;28;01mreturn\u001b[39;00m {\n\u001b[0;32m---> 67\u001b[0m     \u001b[38;5;241m0\u001b[39m : \u001b[43mRO\u001b[49m\u001b[43m(\u001b[49m\u001b[43mLO\u001b[49m\u001b[43m(\u001b[49m\u001b[43mo\u001b[49m\u001b[38;5;241;43m.\u001b[39;49m\u001b[43mlmx2594\u001b[49m\u001b[43m[\u001b[49m\u001b[38;5;241;43m0\u001b[39;49m\u001b[43m]\u001b[49m\u001b[43m)\u001b[49m\u001b[43m,\u001b[49m\u001b[43m \u001b[49m\u001b[43mDAC\u001b[49m\u001b[43m(\u001b[49m\u001b[43mo\u001b[49m\u001b[38;5;241;43m.\u001b[39;49m\u001b[43mad9082\u001b[49m\u001b[43m[\u001b[49m\u001b[38;5;241;43m0\u001b[39;49m\u001b[43m]\u001b[49m\u001b[43m,\u001b[49m\u001b[43m \u001b[49m\u001b[38;5;241;43m0\u001b[39;49m\u001b[43m,\u001b[49m\u001b[43m \u001b[49m\u001b[38;5;28;43mself\u001b[39;49m\u001b[38;5;241;43m.\u001b[39;49m\u001b[43mconfig\u001b[49m\u001b[43m[\u001b[49m\u001b[38;5;124;43m'\u001b[39;49m\u001b[38;5;124;43mipfpga\u001b[39;49m\u001b[38;5;124;43m'\u001b[39;49m\u001b[43m]\u001b[49m\u001b[43m,\u001b[49m\u001b[43m \u001b[49m\u001b[43m[\u001b[49m\u001b[43mAWG\u001b[49m\u001b[38;5;241;43m.\u001b[39;49m\u001b[43mU15\u001b[49m\u001b[43m,\u001b[49m\u001b[43m]\u001b[49m\u001b[43m)\u001b[49m\u001b[43m,\u001b[49m\u001b[43m \u001b[49m\u001b[43mUC\u001b[49m\u001b[43m(\u001b[49m\u001b[43mo\u001b[49m\u001b[38;5;241;43m.\u001b[39;49m\u001b[43madrf6780\u001b[49m\u001b[43m[\u001b[49m\u001b[38;5;241;43m0\u001b[39;49m\u001b[43m]\u001b[49m\u001b[43m,\u001b[49m\u001b[43m \u001b[49m\u001b[43mUC\u001b[49m\u001b[38;5;241;43m.\u001b[39;49m\u001b[43mVatt\u001b[49m\u001b[43m(\u001b[49m\u001b[43mo\u001b[49m\u001b[38;5;241;43m.\u001b[39;49m\u001b[43mad5328\u001b[49m\u001b[43m,\u001b[49m\u001b[43m \u001b[49m\u001b[38;5;241;43m2\u001b[39;49m\u001b[43m)\u001b[49m\u001b[43m)\u001b[49m\u001b[43m)\u001b[49m, \u001b[38;5;66;03m# Readout1\u001b[39;00m\n\u001b[1;32m     68\u001b[0m     \u001b[38;5;241m1\u001b[39m : RI(LO(o\u001b[38;5;241m.\u001b[39mlmx2594[\u001b[38;5;241m0\u001b[39m]), ADC(o\u001b[38;5;241m.\u001b[39mad9082[\u001b[38;5;241m0\u001b[39m], \u001b[38;5;241m0\u001b[39m, \u001b[38;5;28mself\u001b[39m\u001b[38;5;241m.\u001b[39mconfig[\u001b[38;5;124m'\u001b[39m\u001b[38;5;124mipfpga\u001b[39m\u001b[38;5;124m'\u001b[39m], [CaptM\u001b[38;5;241m.\u001b[39mU1,])), \u001b[38;5;66;03m# Readin1\u001b[39;00m\n\u001b[1;32m     69\u001b[0m     \u001b[38;5;241m5\u001b[39m : CP(LO(o\u001b[38;5;241m.\u001b[39mlmx2594[\u001b[38;5;241m2\u001b[39m]), DAC(o\u001b[38;5;241m.\u001b[39mad9082[\u001b[38;5;241m0\u001b[39m], \u001b[38;5;241m2\u001b[39m, \u001b[38;5;28mself\u001b[39m\u001b[38;5;241m.\u001b[39mconfig[\u001b[38;5;124m'\u001b[39m\u001b[38;5;124mipfpga\u001b[39m\u001b[38;5;124m'\u001b[39m], [AWG\u001b[38;5;241m.\u001b[39mU11, AWG\u001b[38;5;241m.\u001b[39mU12, AWG\u001b[38;5;241m.\u001b[39mU13,]), UC(o\u001b[38;5;241m.\u001b[39madrf6780[\u001b[38;5;241m2\u001b[39m], UC\u001b[38;5;241m.\u001b[39mVatt(o\u001b[38;5;241m.\u001b[39mad5328, \u001b[38;5;241m2\u001b[39m))), \u001b[38;5;66;03m# CTRL1\u001b[39;00m\n\u001b[1;32m     70\u001b[0m     \u001b[38;5;241m6\u001b[39m : CP(LO(o\u001b[38;5;241m.\u001b[39mlmx2594[\u001b[38;5;241m3\u001b[39m]), DAC(o\u001b[38;5;241m.\u001b[39mad9082[\u001b[38;5;241m0\u001b[39m], \u001b[38;5;241m3\u001b[39m, \u001b[38;5;28mself\u001b[39m\u001b[38;5;241m.\u001b[39mconfig[\u001b[38;5;124m'\u001b[39m\u001b[38;5;124mipfpga\u001b[39m\u001b[38;5;124m'\u001b[39m], [AWG\u001b[38;5;241m.\u001b[39mU8, AWG\u001b[38;5;241m.\u001b[39mU9, AWG\u001b[38;5;241m.\u001b[39mU10,]), UC(o\u001b[38;5;241m.\u001b[39madrf6780[\u001b[38;5;241m3\u001b[39m], UC\u001b[38;5;241m.\u001b[39mVatt(o\u001b[38;5;241m.\u001b[39mad5328, \u001b[38;5;241m3\u001b[39m))), \u001b[38;5;66;03m# CTRL2\u001b[39;00m\n\u001b[1;32m     71\u001b[0m     \u001b[38;5;241m7\u001b[39m : CP(LO(o\u001b[38;5;241m.\u001b[39mlmx2594[\u001b[38;5;241m4\u001b[39m]), DAC(o\u001b[38;5;241m.\u001b[39mad9082[\u001b[38;5;241m1\u001b[39m], \u001b[38;5;241m0\u001b[39m, \u001b[38;5;28mself\u001b[39m\u001b[38;5;241m.\u001b[39mconfig[\u001b[38;5;124m'\u001b[39m\u001b[38;5;124mipfpga\u001b[39m\u001b[38;5;124m'\u001b[39m], [AWG\u001b[38;5;241m.\u001b[39mU5, AWG\u001b[38;5;241m.\u001b[39mU6, AWG\u001b[38;5;241m.\u001b[39mU7,]), UC(o\u001b[38;5;241m.\u001b[39madrf6780[\u001b[38;5;241m4\u001b[39m], UC\u001b[38;5;241m.\u001b[39mVatt(o\u001b[38;5;241m.\u001b[39mad5328, \u001b[38;5;241m4\u001b[39m))), \u001b[38;5;66;03m# CTRL3\u001b[39;00m\n\u001b[1;32m     72\u001b[0m     \u001b[38;5;241m8\u001b[39m : CP(LO(o\u001b[38;5;241m.\u001b[39mlmx2594[\u001b[38;5;241m5\u001b[39m]), DAC(o\u001b[38;5;241m.\u001b[39mad9082[\u001b[38;5;241m1\u001b[39m], \u001b[38;5;241m1\u001b[39m, \u001b[38;5;28mself\u001b[39m\u001b[38;5;241m.\u001b[39mconfig[\u001b[38;5;124m'\u001b[39m\u001b[38;5;124mipfpga\u001b[39m\u001b[38;5;124m'\u001b[39m], [AWG\u001b[38;5;241m.\u001b[39mU0, AWG\u001b[38;5;241m.\u001b[39mU3, AWG\u001b[38;5;241m.\u001b[39mU4,]), UC(o\u001b[38;5;241m.\u001b[39madrf6780[\u001b[38;5;241m5\u001b[39m], UC\u001b[38;5;241m.\u001b[39mVatt(o\u001b[38;5;241m.\u001b[39mad5328, \u001b[38;5;241m5\u001b[39m))), \u001b[38;5;66;03m# CTRL4\u001b[39;00m\n\u001b[1;32m     73\u001b[0m     \u001b[38;5;241m12\u001b[39m : RI(LO(o\u001b[38;5;241m.\u001b[39mlmx2594[\u001b[38;5;241m7\u001b[39m]), ADC(o\u001b[38;5;241m.\u001b[39mad9082[\u001b[38;5;241m1\u001b[39m], \u001b[38;5;241m0\u001b[39m, \u001b[38;5;28mself\u001b[39m\u001b[38;5;241m.\u001b[39mconfig[\u001b[38;5;124m'\u001b[39m\u001b[38;5;124mipfpga\u001b[39m\u001b[38;5;124m'\u001b[39m], [CaptM\u001b[38;5;241m.\u001b[39mU0,])), \u001b[38;5;66;03m# Readin2\u001b[39;00m\n\u001b[1;32m     74\u001b[0m     \u001b[38;5;241m13\u001b[39m : RO(LO(o\u001b[38;5;241m.\u001b[39mlmx2594[\u001b[38;5;241m7\u001b[39m]), DAC(o\u001b[38;5;241m.\u001b[39mad9082[\u001b[38;5;241m1\u001b[39m], \u001b[38;5;241m3\u001b[39m, \u001b[38;5;28mself\u001b[39m\u001b[38;5;241m.\u001b[39mconfig[\u001b[38;5;124m'\u001b[39m\u001b[38;5;124mipfpga\u001b[39m\u001b[38;5;124m'\u001b[39m], [AWG\u001b[38;5;241m.\u001b[39mU2,]), UC(o\u001b[38;5;241m.\u001b[39madrf6780[\u001b[38;5;241m7\u001b[39m], UC\u001b[38;5;241m.\u001b[39mVatt(o\u001b[38;5;241m.\u001b[39mad5328, \u001b[38;5;241m2\u001b[39m))), \u001b[38;5;66;03m# Readout2\u001b[39;00m\n\u001b[1;32m     75\u001b[0m }\n",
      "File \u001b[0;32m~/Development/qube-calib/qubecalib/__init__.py:271\u001b[0m, in \u001b[0;36mReadoutPort.__init__\u001b[0;34m(self, local_osc, dac, up_conv)\u001b[0m\n\u001b[1;32m    269\u001b[0m \u001b[38;5;28;01mdef\u001b[39;00m \u001b[38;5;21m__init__\u001b[39m(\u001b[38;5;28mself\u001b[39m, local_osc, dac, up_conv):\n\u001b[1;32m    270\u001b[0m     \u001b[38;5;28msuper\u001b[39m()\u001b[38;5;241m.\u001b[39m\u001b[38;5;21m__init__\u001b[39m(local_osc, dac, up_conv)\n\u001b[0;32m--> 271\u001b[0m     \u001b[38;5;28;43mself\u001b[39;49m\u001b[38;5;241;43m.\u001b[39;49m\u001b[43mset_usb\u001b[49m\u001b[43m(\u001b[49m\u001b[43m)\u001b[49m\n",
      "File \u001b[0;32m~/Development/qube-calib/qubecalib/__init__.py:249\u001b[0m, in \u001b[0;36mOutputPort.set_usb\u001b[0;34m(self)\u001b[0m\n\u001b[1;32m    248\u001b[0m \u001b[38;5;28;01mdef\u001b[39;00m \u001b[38;5;21mset_usb\u001b[39m(\u001b[38;5;28mself\u001b[39m):\n\u001b[0;32m--> 249\u001b[0m     \u001b[38;5;28;43mself\u001b[39;49m\u001b[38;5;241;43m.\u001b[39;49m\u001b[43mupconv\u001b[49m\u001b[38;5;241;43m.\u001b[39;49m\u001b[43mlsi\u001b[49m\u001b[38;5;241;43m.\u001b[39;49m\u001b[43mset_usb\u001b[49m\u001b[43m(\u001b[49m\u001b[43m)\u001b[49m\n",
      "File \u001b[0;32m~/.local/share/virtualenvs/qube-calib-U1M8XX6_/lib/python3.9/site-packages/qubelsi/adrf6780.py:13\u001b[0m, in \u001b[0;36mADRF6780.set_usb\u001b[0;34m(self)\u001b[0m\n\u001b[1;32m     12\u001b[0m \u001b[38;5;28;01mdef\u001b[39;00m \u001b[38;5;21mset_usb\u001b[39m(\u001b[38;5;28mself\u001b[39m):\n\u001b[0;32m---> 13\u001b[0m     \u001b[38;5;28;01mreturn\u001b[39;00m \u001b[38;5;28;43mself\u001b[39;49m\u001b[38;5;241;43m.\u001b[39;49m\u001b[43mhandle\u001b[49m\u001b[38;5;241;43m.\u001b[39;49m\u001b[43mwrite_adrf6780\u001b[49m\u001b[43m(\u001b[49m\u001b[38;5;28;43mself\u001b[39;49m\u001b[38;5;241;43m.\u001b[39;49m\u001b[43mchip\u001b[49m\u001b[43m,\u001b[49m\u001b[43m \u001b[49m\u001b[38;5;241;43m0x5\u001b[39;49m\u001b[43m,\u001b[49m\u001b[43m \u001b[49m\u001b[38;5;241;43m0x0000\u001b[39;49m\u001b[43m)\u001b[49m\n",
      "File \u001b[0;32m~/.local/share/virtualenvs/qube-calib-U1M8XX6_/lib/python3.9/site-packages/qubelsi/udpsendrecv.py:79\u001b[0m, in \u001b[0;36mUDPSendRecv.write_adrf6780\u001b[0;34m(self, chip, addr, value)\u001b[0m\n\u001b[1;32m     77\u001b[0m commands\u001b[38;5;241m.\u001b[39mappend(\u001b[38;5;124m\"\u001b[39m\u001b[38;5;132;01m{:04x}\u001b[39;00m\u001b[38;5;124m\"\u001b[39m\u001b[38;5;241m.\u001b[39mformat(addr))\n\u001b[1;32m     78\u001b[0m commands\u001b[38;5;241m.\u001b[39mappend(\u001b[38;5;124m\"\u001b[39m\u001b[38;5;132;01m{:04x}\u001b[39;00m\u001b[38;5;124m\"\u001b[39m\u001b[38;5;241m.\u001b[39mformat(value))\n\u001b[0;32m---> 79\u001b[0m \u001b[38;5;28;01mreturn\u001b[39;00m \u001b[38;5;28;43mself\u001b[39;49m\u001b[38;5;241;43m.\u001b[39;49m\u001b[43m_sendrecv\u001b[49m\u001b[43m(\u001b[49m\u001b[43mcommands\u001b[49m\u001b[43m)\u001b[49m\n",
      "File \u001b[0;32m~/.local/share/virtualenvs/qube-calib-U1M8XX6_/lib/python3.9/site-packages/qubelsi/udpsendrecv.py:18\u001b[0m, in \u001b[0;36mUDPSendRecv._sendrecv\u001b[0;34m(self, commands)\u001b[0m\n\u001b[1;32m     16\u001b[0m \u001b[38;5;28;01mdef\u001b[39;00m \u001b[38;5;21m_sendrecv\u001b[39m(\u001b[38;5;28mself\u001b[39m, commands):\n\u001b[1;32m     17\u001b[0m     \u001b[38;5;28mself\u001b[39m\u001b[38;5;241m.\u001b[39m_setenv()\n\u001b[0;32m---> 18\u001b[0m     ret \u001b[38;5;241m=\u001b[39m \u001b[43msubprocess\u001b[49m\u001b[38;5;241;43m.\u001b[39;49m\u001b[43mcheck_output\u001b[49m\u001b[43m(\u001b[49m\u001b[43mcommands\u001b[49m\u001b[43m,\u001b[49m\u001b[43m \u001b[49m\u001b[43mencoding\u001b[49m\u001b[38;5;241;43m=\u001b[39;49m\u001b[38;5;124;43m'\u001b[39;49m\u001b[38;5;124;43mutf-8\u001b[39;49m\u001b[38;5;124;43m'\u001b[39;49m\u001b[43m)\u001b[49m\n\u001b[1;32m     19\u001b[0m     \u001b[38;5;28;01mreturn\u001b[39;00m \u001b[38;5;28mint\u001b[39m(ret\u001b[38;5;241m.\u001b[39msplit(\u001b[38;5;124m\"\u001b[39m\u001b[38;5;124m:\u001b[39m\u001b[38;5;124m\"\u001b[39m)[\u001b[38;5;241m1\u001b[39m]\u001b[38;5;241m.\u001b[39mstrip(), \u001b[38;5;241m16\u001b[39m)\n",
      "File \u001b[0;32m/opt/homebrew/Cellar/python@3.9/3.9.12/Frameworks/Python.framework/Versions/3.9/lib/python3.9/subprocess.py:424\u001b[0m, in \u001b[0;36mcheck_output\u001b[0;34m(timeout, *popenargs, **kwargs)\u001b[0m\n\u001b[1;32m    421\u001b[0m         empty \u001b[38;5;241m=\u001b[39m \u001b[38;5;124mb\u001b[39m\u001b[38;5;124m'\u001b[39m\u001b[38;5;124m'\u001b[39m\n\u001b[1;32m    422\u001b[0m     kwargs[\u001b[38;5;124m'\u001b[39m\u001b[38;5;124minput\u001b[39m\u001b[38;5;124m'\u001b[39m] \u001b[38;5;241m=\u001b[39m empty\n\u001b[0;32m--> 424\u001b[0m \u001b[38;5;28;01mreturn\u001b[39;00m \u001b[43mrun\u001b[49m\u001b[43m(\u001b[49m\u001b[38;5;241;43m*\u001b[39;49m\u001b[43mpopenargs\u001b[49m\u001b[43m,\u001b[49m\u001b[43m \u001b[49m\u001b[43mstdout\u001b[49m\u001b[38;5;241;43m=\u001b[39;49m\u001b[43mPIPE\u001b[49m\u001b[43m,\u001b[49m\u001b[43m \u001b[49m\u001b[43mtimeout\u001b[49m\u001b[38;5;241;43m=\u001b[39;49m\u001b[43mtimeout\u001b[49m\u001b[43m,\u001b[49m\u001b[43m \u001b[49m\u001b[43mcheck\u001b[49m\u001b[38;5;241;43m=\u001b[39;49m\u001b[38;5;28;43;01mTrue\u001b[39;49;00m\u001b[43m,\u001b[49m\n\u001b[1;32m    425\u001b[0m \u001b[43m           \u001b[49m\u001b[38;5;241;43m*\u001b[39;49m\u001b[38;5;241;43m*\u001b[39;49m\u001b[43mkwargs\u001b[49m\u001b[43m)\u001b[49m\u001b[38;5;241m.\u001b[39mstdout\n",
      "File \u001b[0;32m/opt/homebrew/Cellar/python@3.9/3.9.12/Frameworks/Python.framework/Versions/3.9/lib/python3.9/subprocess.py:507\u001b[0m, in \u001b[0;36mrun\u001b[0;34m(input, capture_output, timeout, check, *popenargs, **kwargs)\u001b[0m\n\u001b[1;32m    505\u001b[0m \u001b[38;5;28;01mwith\u001b[39;00m Popen(\u001b[38;5;241m*\u001b[39mpopenargs, \u001b[38;5;241m*\u001b[39m\u001b[38;5;241m*\u001b[39mkwargs) \u001b[38;5;28;01mas\u001b[39;00m process:\n\u001b[1;32m    506\u001b[0m     \u001b[38;5;28;01mtry\u001b[39;00m:\n\u001b[0;32m--> 507\u001b[0m         stdout, stderr \u001b[38;5;241m=\u001b[39m \u001b[43mprocess\u001b[49m\u001b[38;5;241;43m.\u001b[39;49m\u001b[43mcommunicate\u001b[49m\u001b[43m(\u001b[49m\u001b[38;5;28;43minput\u001b[39;49m\u001b[43m,\u001b[49m\u001b[43m \u001b[49m\u001b[43mtimeout\u001b[49m\u001b[38;5;241;43m=\u001b[39;49m\u001b[43mtimeout\u001b[49m\u001b[43m)\u001b[49m\n\u001b[1;32m    508\u001b[0m     \u001b[38;5;28;01mexcept\u001b[39;00m TimeoutExpired \u001b[38;5;28;01mas\u001b[39;00m exc:\n\u001b[1;32m    509\u001b[0m         process\u001b[38;5;241m.\u001b[39mkill()\n",
      "File \u001b[0;32m/opt/homebrew/Cellar/python@3.9/3.9.12/Frameworks/Python.framework/Versions/3.9/lib/python3.9/subprocess.py:1121\u001b[0m, in \u001b[0;36mPopen.communicate\u001b[0;34m(self, input, timeout)\u001b[0m\n\u001b[1;32m   1119\u001b[0m     \u001b[38;5;28mself\u001b[39m\u001b[38;5;241m.\u001b[39m_stdin_write(\u001b[38;5;28minput\u001b[39m)\n\u001b[1;32m   1120\u001b[0m \u001b[38;5;28;01melif\u001b[39;00m \u001b[38;5;28mself\u001b[39m\u001b[38;5;241m.\u001b[39mstdout:\n\u001b[0;32m-> 1121\u001b[0m     stdout \u001b[38;5;241m=\u001b[39m \u001b[38;5;28;43mself\u001b[39;49m\u001b[38;5;241;43m.\u001b[39;49m\u001b[43mstdout\u001b[49m\u001b[38;5;241;43m.\u001b[39;49m\u001b[43mread\u001b[49m\u001b[43m(\u001b[49m\u001b[43m)\u001b[49m\n\u001b[1;32m   1122\u001b[0m     \u001b[38;5;28mself\u001b[39m\u001b[38;5;241m.\u001b[39mstdout\u001b[38;5;241m.\u001b[39mclose()\n\u001b[1;32m   1123\u001b[0m \u001b[38;5;28;01melif\u001b[39;00m \u001b[38;5;28mself\u001b[39m\u001b[38;5;241m.\u001b[39mstderr:\n",
      "\u001b[0;31mKeyboardInterrupt\u001b[0m: "
     ]
    }
   ],
   "source": [
    "QUBE.load('qube_riken_1-10.yml')"
   ]
  },
  {
   "cell_type": "code",
   "execution_count": null,
   "id": "30377f81-f104-4529-820a-2c78d411a2e6",
   "metadata": {},
   "outputs": [],
   "source": []
  }
 ],
 "metadata": {
  "kernelspec": {
   "display_name": "Python 3 (ipykernel)",
   "language": "python",
   "name": "python3"
  },
  "language_info": {
   "codemirror_mode": {
    "name": "ipython",
    "version": 3
   },
   "file_extension": ".py",
   "mimetype": "text/x-python",
   "name": "python",
   "nbconvert_exporter": "python",
   "pygments_lexer": "ipython3",
   "version": "3.9.12"
  }
 },
 "nbformat": 4,
 "nbformat_minor": 5
}
