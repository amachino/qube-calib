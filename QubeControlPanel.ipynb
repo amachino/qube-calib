{
 "cells": [
  {
   "cell_type": "code",
   "execution_count": 3,
   "id": "982d9bb7-8d73-4eab-82d2-be45d3b8c371",
   "metadata": {},
   "outputs": [
    {
     "data": {
      "application/vnd.jupyter.widget-view+json": {
       "model_id": "c7d9b2edf74f45f48b3a2bcded57a308",
       "version_major": 2,
       "version_minor": 0
      },
      "text/plain": [
       "LoadConfigPanel(children=(Text(value='qube_riken_1-01.yml', description='Config'), Button(description='Load', …"
      ]
     },
     "metadata": {},
     "output_type": "display_data"
    }
   ],
   "source": [
    "from qubecalib.ui import Qube, display\n",
    "from qubecalib.ui import LoadConfigPanel\n",
    "\n",
    "QUBE = Qube()\n",
    "display(LoadConfigPanel(QUBE))"
   ]
  },
  {
   "cell_type": "code",
   "execution_count": null,
   "id": "96d91c3d-77dc-4cfc-83e8-1065704ace8b",
   "metadata": {},
   "outputs": [],
   "source": []
  }
 ],
 "metadata": {
  "kernelspec": {
   "display_name": "Python 3 (ipykernel)",
   "language": "python",
   "name": "python3"
  },
  "language_info": {
   "codemirror_mode": {
    "name": "ipython",
    "version": 3
   },
   "file_extension": ".py",
   "mimetype": "text/x-python",
   "name": "python",
   "nbconvert_exporter": "python",
   "pygments_lexer": "ipython3",
   "version": "3.9.7"
  }
 },
 "nbformat": 4,
 "nbformat_minor": 5
}
