{
 "cells": [
  {
   "cell_type": "code",
   "execution_count": 2,
   "id": "4e9e128a-1090-4b15-8a85-0f2c37e1dfdc",
   "metadata": {},
   "outputs": [
    {
     "data": {
      "application/vnd.jupyter.widget-view+json": {
       "model_id": "af99fcc91ffb455db94e25c1863ad445",
       "version_major": 2,
       "version_minor": 0
      },
      "text/plain": [
       "VBox(children=(HBox(children=(LoadConfigPanel(children=(Text(value='', description='Riken#1-00'), Button(descr…"
      ]
     },
     "metadata": {},
     "output_type": "display_data"
    }
   ],
   "source": [
    "import qubecalib.ui\n",
    "from qubecalib.ui import display, Qube, LoadConfigPanel, HBox, VBox\n",
    "\n",
    "QUBE3 = [Qube() for i in range(3)]\n",
    "labels = ['Riken#1-{:>02}'.format(i) for i in range(3)]\n",
    "display(VBox([HBox([LoadConfigPanel(o, label=l),]) for o, l in zip(QUBE3, labels)]))"
   ]
  },
  {
   "cell_type": "code",
   "execution_count": 8,
   "id": "8a19a3df-d7c8-4e14-b2d5-218cc57a4f64",
   "metadata": {},
   "outputs": [
    {
     "data": {
      "application/vnd.jupyter.widget-view+json": {
       "model_id": "b079d89ce0cf48198e82067eee32b113",
       "version_major": 2,
       "version_minor": 0
      },
      "text/plain": [
       "Button(description='OK', style=ButtonStyle())"
      ]
     },
     "metadata": {},
     "output_type": "display_data"
    }
   ],
   "source": [
    "import ipywidgets as ipw\n",
    "qubecalib.ui.display(ipw.Button(description='OK'))"
   ]
  },
  {
   "cell_type": "code",
   "execution_count": 7,
   "id": "da6844e9-6afd-4560-b78f-45c42c6a1397",
   "metadata": {},
   "outputs": [
    {
     "data": {
      "application/vnd.jupyter.widget-view+json": {
       "model_id": "4f2ddbc35bb2430180b8f75fee9459ca",
       "version_major": 2,
       "version_minor": 0
      },
      "text/plain": [
       "IntSlider(value=0)"
      ]
     },
     "metadata": {},
     "output_type": "display_data"
    },
    {
     "data": {
      "application/vnd.jupyter.widget-view+json": {
       "model_id": "a568cdfc38824f0c892fb512643364ea",
       "version_major": 2,
       "version_minor": 0
      },
      "text/plain": [
       "Output()"
      ]
     },
     "metadata": {},
     "output_type": "display_data"
    }
   ],
   "source": [
    "import ipywidgets as ipw\n",
    "int_range = ipw.IntSlider()\n",
    "output2 = ipw.Output()\n",
    "\n",
    "display(int_range, output2)\n",
    "\n",
    "def on_value_change(change):\n",
    "    with output2:\n",
    "        print(change)\n",
    "\n",
    "int_range.observe(on_value_change, names='value')"
   ]
  },
  {
   "cell_type": "code",
   "execution_count": 123,
   "id": "b02c7a26-5741-4d62-bdfd-3d3c6c98b8ff",
   "metadata": {},
   "outputs": [
    {
     "data": {
      "application/vnd.jupyter.widget-view+json": {
       "model_id": "6f195830ce5f4e18bfccd83c36c3671e",
       "version_major": 2,
       "version_minor": 0
      },
      "text/plain": [
       "Label(value='The values of slider1 and slider2 are synchronized')"
      ]
     },
     "metadata": {},
     "output_type": "display_data"
    },
    {
     "data": {
      "application/vnd.jupyter.widget-view+json": {
       "model_id": "092afc17e1424df7a7f796f847de9961",
       "version_major": 2,
       "version_minor": 0
      },
      "text/plain": [
       "IntSlider(value=0, description='Slider 1')"
      ]
     },
     "metadata": {},
     "output_type": "display_data"
    },
    {
     "data": {
      "application/vnd.jupyter.widget-view+json": {
       "model_id": "4fb6d21fab8744ccaa7502fe0de788e8",
       "version_major": 2,
       "version_minor": 0
      },
      "text/plain": [
       "IntSlider(value=0, description='Slider 2')"
      ]
     },
     "metadata": {},
     "output_type": "display_data"
    }
   ],
   "source": [
    "caption = ipw.Label(value='The values of slider1 and slider2 are synchronized')\n",
    "sliders1, slider2 = ipw.IntSlider(description='Slider 1'),\\\n",
    "                    ipw.IntSlider(description='Slider 2')\n",
    "l = link((sliders1, 'value'), (slider2, 'value'))\n",
    "display(caption, sliders1, slider2)"
   ]
  },
  {
   "cell_type": "code",
   "execution_count": 129,
   "id": "2cf9c561-8eff-4914-9250-ebc6eeb6dc1e",
   "metadata": {},
   "outputs": [
    {
     "data": {
      "application/vnd.jupyter.widget-view+json": {
       "model_id": "6469ced0f9ac423da78ddc1b53b0d30b",
       "version_major": 2,
       "version_minor": 0
      },
      "text/plain": [
       "Label(value='Changes in source values are reflected in target1')"
      ]
     },
     "metadata": {},
     "output_type": "display_data"
    },
    {
     "data": {
      "application/vnd.jupyter.widget-view+json": {
       "model_id": "98409572f45a46dbac55c3f23448f592",
       "version_major": 2,
       "version_minor": 0
      },
      "text/plain": [
       "IntSlider(value=0, description='Source')"
      ]
     },
     "metadata": {},
     "output_type": "display_data"
    },
    {
     "data": {
      "application/vnd.jupyter.widget-view+json": {
       "model_id": "5a257e604be0487db6550185c263e289",
       "version_major": 2,
       "version_minor": 0
      },
      "text/plain": [
       "IntSlider(value=0, description='Target 1')"
      ]
     },
     "metadata": {},
     "output_type": "display_data"
    }
   ],
   "source": [
    "caption = ipw.Label(value='Changes in source values are reflected in target1')\n",
    "source, target1 = ipw.IntSlider(description='Source'),\\\n",
    "                  ipw.IntSlider(description='Target 1')\n",
    "def on_changed(change):\n",
    "    print(change)\n",
    "source.observe(on_changed, names='value')\n",
    "dl = dlink((source, 'value'), (target1, 'value'))\n",
    "display(caption, source, target1)"
   ]
  },
  {
   "cell_type": "markdown",
   "id": "401e0229-f079-41dd-a589-3cd53d361dcc",
   "metadata": {},
   "source": [
    "# Good !!!!"
   ]
  },
  {
   "cell_type": "code",
   "execution_count": 1,
   "id": "701c3c09-c08e-4890-a740-6eedebe8ad3b",
   "metadata": {},
   "outputs": [
    {
     "data": {
      "application/vnd.jupyter.widget-view+json": {
       "model_id": "bfa8c68bae254ddea3b3976e30341cc5",
       "version_major": 2,
       "version_minor": 0
      },
      "text/plain": [
       "IntSlider(value=0, description='Slider')"
      ]
     },
     "metadata": {},
     "output_type": "display_data"
    },
    {
     "data": {
      "text/plain": [
       "(0, 0)"
      ]
     },
     "execution_count": 1,
     "metadata": {},
     "output_type": "execute_result"
    }
   ],
   "source": [
    "import ipywidgets as ipw\n",
    "from traitlets import HasTraits, Int, observe, link, dlink\n",
    "class Test(HasTraits):\n",
    "    value = Int()#.tag(sync=True)\n",
    "    # @observe('value')\n",
    "    def _value_changed(self, change):\n",
    "        print(getattr(self, change))\n",
    "\n",
    "class Test2(HasTraits):\n",
    "    value = Int()#.tag(sync=True)\n",
    "\n",
    "# def on_changed(change):\n",
    "#     print(change)\n",
    "    \n",
    "foo, bar = Test(), Test2()\n",
    "l = link((foo, 'value'), (bar, 'value'))\n",
    "slider = ipw.IntSlider(description='Slider')\n",
    "# slider.observe(on_changed, names='value')\n",
    "l = ipw.link((foo, 'value'), (slider, 'value'))\n",
    "display(slider)\n",
    "foo.value, bar.value"
   ]
  },
  {
   "cell_type": "code",
   "execution_count": 3,
   "id": "0d5dbbe4-030c-4ef6-94e1-417bf8dad7b0",
   "metadata": {},
   "outputs": [
    {
     "name": "stdout",
     "output_type": "stream",
     "text": [
      "30\n"
     ]
    },
    {
     "data": {
      "text/plain": [
       "(30, 30)"
      ]
     },
     "execution_count": 3,
     "metadata": {},
     "output_type": "execute_result"
    }
   ],
   "source": [
    "foo.value = 30\n",
    "foo.value, bar.value"
   ]
  },
  {
   "cell_type": "code",
   "execution_count": 88,
   "id": "370f196b-a75b-431f-b7f3-25668fb7ecb2",
   "metadata": {},
   "outputs": [],
   "source": [
    "bar.value = 2"
   ]
  },
  {
   "cell_type": "code",
   "execution_count": 27,
   "id": "6aae382b-f85c-43c5-90e5-7a170e1e2ee2",
   "metadata": {},
   "outputs": [],
   "source": [
    "slider.value = 2"
   ]
  },
  {
   "cell_type": "code",
   "execution_count": 47,
   "id": "80a12cdf-c24c-4e5b-a13f-90f0f7ac2aa0",
   "metadata": {},
   "outputs": [
    {
     "name": "stdout",
     "output_type": "stream",
     "text": [
      "class Widget(LoggingHasTraits):\n",
      "    #-------------------------------------------------------------------------\n",
      "    # Class attributes\n",
      "    #-------------------------------------------------------------------------\n",
      "    _widget_construction_callback = None\n",
      "    _control_comm = None\n",
      "\n",
      "    # widgets is a dictionary of all active widget objects\n",
      "    widgets = {}\n",
      "\n",
      "    # widget_types is a registry of widgets by module, version, and name:\n",
      "    widget_types = WidgetRegistry()\n",
      "\n",
      "    @classmethod\n",
      "    def close_all(cls):\n",
      "        for widget in list(cls.widgets.values()):\n",
      "            widget.close()\n",
      "\n",
      "    @staticmethod\n",
      "    def on_widget_constructed(callback):\n",
      "        \"\"\"Registers a callback to be called when a widget is constructed.\n",
      "\n",
      "        The callback must have the following signature:\n",
      "        callback(widget)\"\"\"\n",
      "        Widget._widget_construction_callback = callback\n",
      "\n",
      "    @staticmethod\n",
      "    def _call_widget_constructed(widget):\n",
      "        \"\"\"Static method, called when a widget is constructed.\"\"\"\n",
      "        if Widget._widget_construction_callback is not None and callable(Widget._widget_construction_callback):\n",
      "            Widget._widget_construction_callback(widget)\n",
      "\n",
      "    @classmethod\n",
      "    def handle_control_comm_opened(cls, comm, msg):\n",
      "        \"\"\"\n",
      "        Class method, called when the comm-open message on the\n",
      "        \"jupyter.widget.control\" comm channel is received\n",
      "        \"\"\"\n",
      "        version = msg.get('metadata', {}).get('version', '')\n",
      "        if version.split('.')[0] != CONTROL_PROTOCOL_VERSION_MAJOR:\n",
      "            raise ValueError(\"Incompatible widget control protocol versions: received version %r, expected version %r\"%(version, __control_protocol_version__))\n",
      "\n",
      "        cls._control_comm = comm\n",
      "        cls._control_comm.on_msg(cls._handle_control_comm_msg)\n",
      "\n",
      "    @classmethod\n",
      "    def _handle_control_comm_msg(cls, msg):\n",
      "        # This shouldn't happen unless someone calls this method manually\n",
      "        if cls._control_comm is None:\n",
      "            raise RuntimeError('Control comm has not been properly opened')\n",
      "\n",
      "        data = msg['content']['data']\n",
      "        method = data['method']\n",
      "\n",
      "        if method == 'request_states':\n",
      "            # Send back the full widgets state\n",
      "            cls.get_manager_state()\n",
      "            widgets = cls.widgets.values()\n",
      "            full_state = {}\n",
      "            drop_defaults = False\n",
      "            for widget in widgets:\n",
      "                full_state[widget.model_id] = {\n",
      "                    'model_name': widget._model_name,\n",
      "                    'model_module': widget._model_module,\n",
      "                    'model_module_version': widget._model_module_version,\n",
      "                    'state': widget.get_state(drop_defaults=drop_defaults),\n",
      "                }\n",
      "            full_state, buffer_paths, buffers = _remove_buffers(full_state)\n",
      "            cls._control_comm.send(dict(\n",
      "                method='update_states',\n",
      "                states=full_state,\n",
      "                buffer_paths=buffer_paths\n",
      "            ), buffers=buffers)\n",
      "\n",
      "        else:\n",
      "            raise RuntimeError('Unknown front-end to back-end widget control msg with method \"%s\"' % method)\n",
      "\n",
      "    @staticmethod\n",
      "    def handle_comm_opened(comm, msg):\n",
      "        \"\"\"Static method, called when a widget is constructed.\"\"\"\n",
      "        version = msg.get('metadata', {}).get('version', '')\n",
      "        if version.split('.')[0] != PROTOCOL_VERSION_MAJOR:\n",
      "            raise ValueError(\"Incompatible widget protocol versions: received version %r, expected version %r\"%(version, __protocol_version__))\n",
      "        data = msg['content']['data']\n",
      "        state = data['state']\n",
      "\n",
      "        # Find the widget class to instantiate in the registered widgets\n",
      "        widget_class = Widget.widget_types.get(state['_model_module'],\n",
      "                                               state['_model_module_version'],\n",
      "                                               state['_model_name'],\n",
      "                                               state['_view_module'],\n",
      "                                               state['_view_module_version'],\n",
      "                                               state['_view_name'])\n",
      "        widget = widget_class(comm=comm)\n",
      "        if 'buffer_paths' in data:\n",
      "            _put_buffers(state, data['buffer_paths'], msg['buffers'])\n",
      "        widget.set_state(state)\n",
      "\n",
      "    @staticmethod\n",
      "    def get_manager_state(drop_defaults=False, widgets=None):\n",
      "        \"\"\"Returns the full state for a widget manager for embedding\n",
      "\n",
      "        :param drop_defaults: when True, it will not include default value\n",
      "        :param widgets: list with widgets to include in the state (or all widgets when None)\n",
      "        :return:\n",
      "        \"\"\"\n",
      "        state = {}\n",
      "        if widgets is None:\n",
      "            widgets = Widget.widgets.values()\n",
      "        for widget in widgets:\n",
      "            state[widget.model_id] = widget._get_embed_state(drop_defaults=drop_defaults)\n",
      "        return {'version_major': 2, 'version_minor': 0, 'state': state}\n",
      "\n",
      "    def _get_embed_state(self, drop_defaults=False):\n",
      "        state = {\n",
      "            'model_name': self._model_name,\n",
      "            'model_module': self._model_module,\n",
      "            'model_module_version': self._model_module_version\n",
      "        }\n",
      "        model_state, buffer_paths, buffers = _remove_buffers(self.get_state(drop_defaults=drop_defaults))\n",
      "        state['state'] = model_state\n",
      "        if len(buffers) > 0:\n",
      "            state['buffers'] = [{'encoding': 'base64',\n",
      "                                 'path': p,\n",
      "                                 'data': standard_b64encode(d).decode('ascii')}\n",
      "                                for p, d in zip(buffer_paths, buffers)]\n",
      "        return state\n",
      "\n",
      "    def get_view_spec(self):\n",
      "        return dict(version_major=2, version_minor=0, model_id=self._model_id)\n",
      "\n",
      "    #-------------------------------------------------------------------------\n",
      "    # Traits\n",
      "    #-------------------------------------------------------------------------\n",
      "    _model_name = Unicode('WidgetModel',\n",
      "        help=\"Name of the model.\", read_only=True).tag(sync=True)\n",
      "    _model_module = Unicode('@jupyter-widgets/base',\n",
      "        help=\"The namespace for the model.\", read_only=True).tag(sync=True)\n",
      "    _model_module_version = Unicode(__jupyter_widgets_base_version__,\n",
      "        help=\"A semver requirement for namespace version containing the model.\", read_only=True).tag(sync=True)\n",
      "    _view_name = Unicode(None, allow_none=True,\n",
      "        help=\"Name of the view.\").tag(sync=True)\n",
      "    _view_module = Unicode(None, allow_none=True,\n",
      "        help=\"The namespace for the view.\").tag(sync=True)\n",
      "    _view_module_version = Unicode('',\n",
      "        help=\"A semver requirement for the namespace version containing the view.\").tag(sync=True)\n",
      "\n",
      "    _view_count = Int(None, allow_none=True,\n",
      "        help=\"EXPERIMENTAL: The number of views of the model displayed in the frontend. This attribute is experimental and may change or be removed in the future. None signifies that views will not be tracked. Set this to 0 to start tracking view creation/deletion.\").tag(sync=True)\n",
      "    comm = Instance('ipykernel.comm.Comm', allow_none=True)\n",
      "\n",
      "    keys = List(help=\"The traits which are synced.\")\n",
      "\n",
      "    @default('keys')\n",
      "    def _default_keys(self):\n",
      "        return [name for name in self.traits(sync=True)]\n",
      "\n",
      "    _property_lock = Dict()\n",
      "    _holding_sync = False\n",
      "    _states_to_send = Set()\n",
      "    _display_callbacks = Instance(CallbackDispatcher, ())\n",
      "    _msg_callbacks = Instance(CallbackDispatcher, ())\n",
      "\n",
      "    #-------------------------------------------------------------------------\n",
      "    # (Con/de)structor\n",
      "    #-------------------------------------------------------------------------\n",
      "    def __init__(self, **kwargs):\n",
      "        \"\"\"Public constructor\"\"\"\n",
      "        self._model_id = kwargs.pop('model_id', None)\n",
      "        super(Widget, self).__init__(**kwargs)\n",
      "\n",
      "        Widget._call_widget_constructed(self)\n",
      "        self.open()\n",
      "\n",
      "    def __del__(self):\n",
      "        \"\"\"Object disposal\"\"\"\n",
      "        self.close()\n",
      "\n",
      "    #-------------------------------------------------------------------------\n",
      "    # Properties\n",
      "    #-------------------------------------------------------------------------\n",
      "\n",
      "    def open(self):\n",
      "        \"\"\"Open a comm to the frontend if one isn't already open.\"\"\"\n",
      "        if self.comm is None:\n",
      "            state, buffer_paths, buffers = _remove_buffers(self.get_state())\n",
      "\n",
      "            args = dict(target_name='jupyter.widget',\n",
      "                        data={'state': state, 'buffer_paths': buffer_paths},\n",
      "                        buffers=buffers,\n",
      "                        metadata={'version': __protocol_version__}\n",
      "                        )\n",
      "            if self._model_id is not None:\n",
      "                args['comm_id'] = self._model_id\n",
      "\n",
      "            self.comm = Comm(**args)\n",
      "\n",
      "    @observe('comm')\n",
      "    def _comm_changed(self, change):\n",
      "        \"\"\"Called when the comm is changed.\"\"\"\n",
      "        if change['new'] is None:\n",
      "            return\n",
      "        self._model_id = self.model_id\n",
      "\n",
      "        self.comm.on_msg(self._handle_msg)\n",
      "        Widget.widgets[self.model_id] = self\n",
      "\n",
      "    @property\n",
      "    def model_id(self):\n",
      "        \"\"\"Gets the model id of this widget.\n",
      "\n",
      "        If a Comm doesn't exist yet, a Comm will be created automagically.\"\"\"\n",
      "        return self.comm.comm_id\n",
      "\n",
      "    #-------------------------------------------------------------------------\n",
      "    # Methods\n",
      "    #-------------------------------------------------------------------------\n",
      "\n",
      "    def close(self):\n",
      "        \"\"\"Close method.\n",
      "\n",
      "        Closes the underlying comm.\n",
      "        When the comm is closed, all of the widget views are automatically\n",
      "        removed from the front-end.\"\"\"\n",
      "        if self.comm is not None:\n",
      "            Widget.widgets.pop(self.model_id, None)\n",
      "            self.comm.close()\n",
      "            self.comm = None\n",
      "            self._ipython_display_ = None\n",
      "\n",
      "    def send_state(self, key=None):\n",
      "        \"\"\"Sends the widget state, or a piece of it, to the front-end, if it exists.\n",
      "\n",
      "        Parameters\n",
      "        ----------\n",
      "        key : unicode, or iterable (optional)\n",
      "            A single property's name or iterable of property names to sync with the front-end.\n",
      "        \"\"\"\n",
      "        state = self.get_state(key=key)\n",
      "        if len(state) > 0:\n",
      "            if self._property_lock:  # we need to keep this dict up to date with the front-end values\n",
      "                for name, value in state.items():\n",
      "                    if name in self._property_lock:\n",
      "                        self._property_lock[name] = value\n",
      "            state, buffer_paths, buffers = _remove_buffers(state)\n",
      "            msg = {'method': 'update', 'state': state, 'buffer_paths': buffer_paths}\n",
      "            self._send(msg, buffers=buffers)\n",
      "\n",
      "\n",
      "    def get_state(self, key=None, drop_defaults=False):\n",
      "        \"\"\"Gets the widget state, or a piece of it.\n",
      "\n",
      "        Parameters\n",
      "        ----------\n",
      "        key : unicode or iterable (optional)\n",
      "            A single property's name or iterable of property names to get.\n",
      "\n",
      "        Returns\n",
      "        -------\n",
      "        state : dict of states\n",
      "        metadata : dict\n",
      "            metadata for each field: {key: metadata}\n",
      "        \"\"\"\n",
      "        if key is None:\n",
      "            keys = self.keys\n",
      "        elif isinstance(key, string_types):\n",
      "            keys = [key]\n",
      "        elif isinstance(key, Iterable):\n",
      "            keys = key\n",
      "        else:\n",
      "            raise ValueError(\"key must be a string, an iterable of keys, or None\")\n",
      "        state = {}\n",
      "        traits = self.traits()\n",
      "        for k in keys:\n",
      "            to_json = self.trait_metadata(k, 'to_json', self._trait_to_json)\n",
      "            value = to_json(getattr(self, k), self)\n",
      "            if not PY3 and isinstance(traits[k], Bytes) and isinstance(value, bytes):\n",
      "                value = memoryview(value)\n",
      "            if not drop_defaults or not self._compare(value, traits[k].default_value):\n",
      "                state[k] = value\n",
      "        return state\n",
      "\n",
      "    def _is_numpy(self, x):\n",
      "        return x.__class__.__name__ == 'ndarray' and x.__class__.__module__ == 'numpy'\n",
      "\n",
      "    def _compare(self, a, b):\n",
      "        if self._is_numpy(a) or self._is_numpy(b):\n",
      "            import numpy as np\n",
      "            return np.array_equal(a, b)\n",
      "        else:\n",
      "            return a == b\n",
      "\n",
      "    def set_state(self, sync_data):\n",
      "        \"\"\"Called when a state is received from the front-end.\"\"\"\n",
      "        # Send an echo update message immediately\n",
      "        if JUPYTER_WIDGETS_ECHO:\n",
      "            echo_state = {}\n",
      "            for attr,value in sync_data.items():\n",
      "                if self.trait_metadata(attr, 'echo_update', default=True):\n",
      "                    echo_state[attr] = value\n",
      "            if echo_state:\n",
      "                echo_state, echo_buffer_paths, echo_buffers = _remove_buffers(echo_state)\n",
      "                msg = {\n",
      "                    'method': 'echo_update',\n",
      "                    'state': echo_state,\n",
      "                    'buffer_paths': echo_buffer_paths,\n",
      "                }\n",
      "                self._send(msg, buffers=echo_buffers)\n",
      "\n",
      "        # The order of these context managers is important. Properties must\n",
      "        # be locked when the hold_trait_notification context manager is\n",
      "        # released and notifications are fired.\n",
      "        with self._lock_property(**sync_data), self.hold_trait_notifications():\n",
      "            for name in sync_data:\n",
      "                if name in self.keys:\n",
      "                    from_json = self.trait_metadata(name, 'from_json',\n",
      "                                                    self._trait_from_json)\n",
      "                    self.set_trait(name, from_json(sync_data[name], self))\n",
      "\n",
      "    def send(self, content, buffers=None):\n",
      "        \"\"\"Sends a custom msg to the widget model in the front-end.\n",
      "\n",
      "        Parameters\n",
      "        ----------\n",
      "        content : dict\n",
      "            Content of the message to send.\n",
      "        buffers : list of binary buffers\n",
      "            Binary buffers to send with message\n",
      "        \"\"\"\n",
      "        self._send({\"method\": \"custom\", \"content\": content}, buffers=buffers)\n",
      "\n",
      "    def on_msg(self, callback, remove=False):\n",
      "        \"\"\"(Un)Register a custom msg receive callback.\n",
      "\n",
      "        Parameters\n",
      "        ----------\n",
      "        callback: callable\n",
      "            callback will be passed three arguments when a message arrives::\n",
      "\n",
      "                callback(widget, content, buffers)\n",
      "\n",
      "        remove: bool\n",
      "            True if the callback should be unregistered.\"\"\"\n",
      "        self._msg_callbacks.register_callback(callback, remove=remove)\n",
      "\n",
      "    def on_displayed(self, callback, remove=False):\n",
      "        \"\"\"(Un)Register a widget displayed callback.\n",
      "\n",
      "        Parameters\n",
      "        ----------\n",
      "        callback: method handler\n",
      "            Must have a signature of::\n",
      "\n",
      "                callback(widget, **kwargs)\n",
      "\n",
      "            kwargs from display are passed through without modification.\n",
      "        remove: bool\n",
      "            True if the callback should be unregistered.\"\"\"\n",
      "        self._display_callbacks.register_callback(callback, remove=remove)\n",
      "\n",
      "    def add_traits(self, **traits):\n",
      "        \"\"\"Dynamically add trait attributes to the Widget.\"\"\"\n",
      "        super(Widget, self).add_traits(**traits)\n",
      "        for name, trait in traits.items():\n",
      "            if trait.get_metadata('sync'):\n",
      "                self.keys.append(name)\n",
      "                self.send_state(name)\n",
      "\n",
      "    def notify_change(self, change):\n",
      "        \"\"\"Called when a property has changed.\"\"\"\n",
      "        # Send the state to the frontend before the user-registered callbacks\n",
      "        # are called.\n",
      "        name = change['name']\n",
      "        if self.comm is not None and self.comm.kernel is not None:\n",
      "            # Make sure this isn't information that the front-end just sent us.\n",
      "            if name in self.keys and self._should_send_property(name, getattr(self, name)):\n",
      "                # Send new state to front-end\n",
      "                self.send_state(key=name)\n",
      "        super(Widget, self).notify_change(change)\n",
      "\n",
      "    def __repr__(self):\n",
      "        return self._gen_repr_from_keys(self._repr_keys())\n",
      "\n",
      "    #-------------------------------------------------------------------------\n",
      "    # Support methods\n",
      "    #-------------------------------------------------------------------------\n",
      "\n",
      "    @contextmanager\n",
      "    def _lock_property(self, **properties):\n",
      "        \"\"\"Lock a property-value pair.\n",
      "\n",
      "        The value should be the JSON state of the property.\n",
      "\n",
      "        NOTE: This, in addition to the single lock for all state changes, is\n",
      "        flawed.  In the future we may want to look into buffering state changes\n",
      "        back to the front-end.\"\"\"\n",
      "        self._property_lock = properties\n",
      "        try:\n",
      "            yield\n",
      "        finally:\n",
      "            self._property_lock = {}\n",
      "\n",
      "    @contextmanager\n",
      "    def hold_sync(self):\n",
      "        \"\"\"Hold syncing any state until the outermost context manager exits\"\"\"\n",
      "        if self._holding_sync is True:\n",
      "            yield\n",
      "        else:\n",
      "            try:\n",
      "                self._holding_sync = True\n",
      "                yield\n",
      "            finally:\n",
      "                self._holding_sync = False\n",
      "                self.send_state(self._states_to_send)\n",
      "                self._states_to_send.clear()\n",
      "\n",
      "    def _should_send_property(self, key, value):\n",
      "        \"\"\"Check the property lock (property_lock)\"\"\"\n",
      "        to_json = self.trait_metadata(key, 'to_json', self._trait_to_json)\n",
      "        if key in self._property_lock:\n",
      "            # model_state, buffer_paths, buffers\n",
      "            split_value = _remove_buffers({ key: to_json(value, self)})\n",
      "            split_lock = _remove_buffers({ key: self._property_lock[key]})\n",
      "            # A roundtrip conversion through json in the comparison takes care of\n",
      "            # idiosyncracies of how python data structures map to json, for example\n",
      "            # tuples get converted to lists.\n",
      "            if (jsonloads(jsondumps(split_value[0])) == split_lock[0]\n",
      "                and split_value[1] == split_lock[1]\n",
      "                and _buffer_list_equal(split_value[2], split_lock[2])):\n",
      "                return False\n",
      "        if self._holding_sync:\n",
      "            self._states_to_send.add(key)\n",
      "            return False\n",
      "        else:\n",
      "            return True\n",
      "\n",
      "    # Event handlers\n",
      "    @_show_traceback\n",
      "    def _handle_msg(self, msg):\n",
      "        \"\"\"Called when a msg is received from the front-end\"\"\"\n",
      "        data = msg['content']['data']\n",
      "        method = data['method']\n",
      "\n",
      "        if method == 'update':\n",
      "            if 'state' in data:\n",
      "                state = data['state']\n",
      "                if 'buffer_paths' in data:\n",
      "                    _put_buffers(state, data['buffer_paths'], msg['buffers'])\n",
      "                self.set_state(state)\n",
      "\n",
      "        # Handle a state request.\n",
      "        elif method == 'request_state':\n",
      "            self.send_state()\n",
      "\n",
      "        # Handle a custom msg from the front-end.\n",
      "        elif method == 'custom':\n",
      "            if 'content' in data:\n",
      "                self._handle_custom_msg(data['content'], msg['buffers'])\n",
      "\n",
      "        # Catch remainder.\n",
      "        else:\n",
      "            self.log.error('Unknown front-end to back-end widget msg with method \"%s\"' % method)\n",
      "\n",
      "    def _handle_custom_msg(self, content, buffers):\n",
      "        \"\"\"Called when a custom msg is received.\"\"\"\n",
      "        self._msg_callbacks(self, content, buffers)\n",
      "\n",
      "    def _handle_displayed(self, **kwargs):\n",
      "        \"\"\"Called when a view has been displayed for this widget instance\"\"\"\n",
      "        self._display_callbacks(self, **kwargs)\n",
      "\n",
      "    @staticmethod\n",
      "    def _trait_to_json(x, self):\n",
      "        \"\"\"Convert a trait value to json.\"\"\"\n",
      "        return x\n",
      "\n",
      "    @staticmethod\n",
      "    def _trait_from_json(x, self):\n",
      "        \"\"\"Convert json values to objects.\"\"\"\n",
      "        return x\n",
      "\n",
      "    def _ipython_display_(self, **kwargs):\n",
      "        \"\"\"Called when `IPython.display.display` is called on the widget.\"\"\"\n",
      "\n",
      "        plaintext = repr(self)\n",
      "        if len(plaintext) > 110:\n",
      "            plaintext = plaintext[:110] + '…'\n",
      "        data = {\n",
      "            'text/plain': plaintext,\n",
      "        }\n",
      "        if self._view_name is not None:\n",
      "            # The 'application/vnd.jupyter.widget-view+json' mimetype has not been registered yet.\n",
      "            # See the registration process and naming convention at\n",
      "            # http://tools.ietf.org/html/rfc6838\n",
      "            # and the currently registered mimetypes at\n",
      "            # http://www.iana.org/assignments/media-types/media-types.xhtml.\n",
      "            data['application/vnd.jupyter.widget-view+json'] = {\n",
      "                'version_major': 2,\n",
      "                'version_minor': 0,\n",
      "                'model_id': self._model_id\n",
      "            }\n",
      "        display(data, raw=True)\n",
      "\n",
      "        if self._view_name is not None:\n",
      "            self._handle_displayed(**kwargs)\n",
      "\n",
      "    def _send(self, msg, buffers=None):\n",
      "        \"\"\"Sends a message to the model in the front-end.\"\"\"\n",
      "        if self.comm is not None and self.comm.kernel is not None:\n",
      "            self.comm.send(data=msg, buffers=buffers)\n",
      "\n",
      "    def _repr_keys(self):\n",
      "        traits = self.traits()\n",
      "        for key in sorted(self.keys):\n",
      "            # Exclude traits that start with an underscore\n",
      "            if key[0] == '_':\n",
      "                continue\n",
      "            # Exclude traits who are equal to their default value\n",
      "            value = getattr(self, key)\n",
      "            trait = traits[key]\n",
      "            if self._compare(value, trait.default_value):\n",
      "                continue\n",
      "            elif (isinstance(trait, (Container, Dict)) and\n",
      "                  trait.default_value == Undefined and\n",
      "                  (value is None or len(value) == 0)):\n",
      "                # Empty container, and dynamic default will be empty\n",
      "                continue\n",
      "            yield key\n",
      "\n",
      "    def _gen_repr_from_keys(self, keys):\n",
      "        class_name = self.__class__.__name__\n",
      "        signature = ', '.join(\n",
      "            '%s=%r' % (key, getattr(self, key))\n",
      "            for key in keys\n",
      "        )\n",
      "        return '%s(%s)' % (class_name, signature)\n",
      "\n"
     ]
    }
   ],
   "source": [
    "import inspect\n",
    "print(inspect.getsource(ipw.Widget))"
   ]
  },
  {
   "cell_type": "code",
   "execution_count": null,
   "id": "841f7dad-a1b1-4640-8502-a455ee799116",
   "metadata": {},
   "outputs": [],
   "source": []
  },
  {
   "cell_type": "code",
   "execution_count": null,
   "id": "ad1f4b83-df26-42b5-80a1-560e7921337f",
   "metadata": {},
   "outputs": [],
   "source": []
  },
  {
   "cell_type": "code",
   "execution_count": null,
   "id": "b4ab2667-05f6-4c5c-96a9-d77fabb8802b",
   "metadata": {},
   "outputs": [],
   "source": []
  },
  {
   "cell_type": "code",
   "execution_count": null,
   "id": "285fa42f-072f-47c6-a918-2d75793ae810",
   "metadata": {},
   "outputs": [],
   "source": []
  }
 ],
 "metadata": {
  "kernelspec": {
   "display_name": "Python 3 (ipykernel)",
   "language": "python",
   "name": "python3"
  },
  "language_info": {
   "codemirror_mode": {
    "name": "ipython",
    "version": 3
   },
   "file_extension": ".py",
   "mimetype": "text/x-python",
   "name": "python",
   "nbconvert_exporter": "python",
   "pygments_lexer": "ipython3",
   "version": "3.9.12"
  }
 },
 "nbformat": 4,
 "nbformat_minor": 5
}
