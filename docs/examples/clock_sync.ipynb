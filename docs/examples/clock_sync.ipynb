{
 "cells": [
  {
   "cell_type": "code",
   "execution_count": 1,
   "metadata": {},
   "outputs": [],
   "source": [
    "from qubecalib import QubeCalib\n",
    "\n",
    "qc = QubeCalib(\"jb07_boxonly_setup.json\")"
   ]
  },
  {
   "cell_type": "code",
   "execution_count": 3,
   "metadata": {},
   "outputs": [
    {
     "data": {
      "text/plain": [
       "[(True, 1523369604961665, 1523369604960222),\n",
       " (True, 1523369604980472, 1523369604980208),\n",
       " (True, 1523369604991796, 1523369604990222)]"
      ]
     },
     "execution_count": 3,
     "metadata": {},
     "output_type": "execute_result"
    }
   ],
   "source": [
    "qc.read_clock(\"riken_1-01\", \"riken_1-02\", \"ou_1-02\")"
   ]
  },
  {
   "cell_type": "code",
   "execution_count": 2,
   "metadata": {},
   "outputs": [
    {
     "data": {
      "text/plain": [
       "[[(True, 1523369271222587, 1523369271222222)],\n",
       " [(True, 1523369271237827, 1523369271236207)],\n",
       " [(True, 1523369271249133, 1523369271248223)],\n",
       " (True, 1523369271257485)]"
      ]
     },
     "execution_count": 2,
     "metadata": {},
     "output_type": "execute_result"
    }
   ],
   "source": [
    "qc.resync(\"riken_1-01\", \"riken_1-02\", \"ou_1-02\")"
   ]
  },
  {
   "cell_type": "markdown",
   "metadata": {},
   "source": [
    "# 定義されているボックスの一覧"
   ]
  },
  {
   "cell_type": "code",
   "execution_count": 6,
   "metadata": {},
   "outputs": [
    {
     "data": {
      "text/plain": [
       "['riken_1-07',\n",
       " 'riken_1-01',\n",
       " 'riken_1-02',\n",
       " 'riken_1-11',\n",
       " 'riken_1-10',\n",
       " 'riken_1-08',\n",
       " 'ou_3-01',\n",
       " 'ou_2-11',\n",
       " 'ou_2-04',\n",
       " 'ou_2-08',\n",
       " 'ou_1-02',\n",
       " 'quel1_5-01',\n",
       " 'riken_1-03',\n",
       " 'ou_2-09',\n",
       " 'ou_2-06',\n",
       " 'ou_2-03',\n",
       " 'ou_2-12']"
      ]
     },
     "execution_count": 6,
     "metadata": {},
     "output_type": "execute_result"
    }
   ],
   "source": [
    "[_ for _ in qc.system_config_database._box_settings]"
   ]
  },
  {
   "cell_type": "code",
   "execution_count": null,
   "metadata": {},
   "outputs": [],
   "source": []
  }
 ],
 "metadata": {
  "kernelspec": {
   "display_name": ".venv",
   "language": "python",
   "name": "python3"
  },
  "language_info": {
   "codemirror_mode": {
    "name": "ipython",
    "version": 3
   },
   "file_extension": ".py",
   "mimetype": "text/x-python",
   "name": "python",
   "nbconvert_exporter": "python",
   "pygments_lexer": "ipython3",
   "version": "3.9.18"
  }
 },
 "nbformat": 4,
 "nbformat_minor": 2
}
