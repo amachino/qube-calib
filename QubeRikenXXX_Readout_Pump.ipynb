{
 "cells": [
  {
   "cell_type": "code",
   "execution_count": 9,
   "id": "c43121c3-d075-4ba0-ad01-37220672a039",
   "metadata": {},
   "outputs": [
    {
     "data": {
      "text/html": [
       "\n",
       "    <div class=\"bk-root\">\n",
       "        <a href=\"https://bokeh.org\" target=\"_blank\" class=\"bk-logo bk-logo-small bk-logo-notebook\"></a>\n",
       "        <span id=\"9552\">Loading BokehJS ...</span>\n",
       "    </div>"
      ]
     },
     "metadata": {},
     "output_type": "display_data"
    },
    {
     "data": {
      "application/javascript": [
       "\n",
       "(function(root) {\n",
       "  function now() {\n",
       "    return new Date();\n",
       "  }\n",
       "\n",
       "  const force = true;\n",
       "\n",
       "  if (typeof root._bokeh_onload_callbacks === \"undefined\" || force === true) {\n",
       "    root._bokeh_onload_callbacks = [];\n",
       "    root._bokeh_is_loading = undefined;\n",
       "  }\n",
       "\n",
       "  const JS_MIME_TYPE = 'application/javascript';\n",
       "  const HTML_MIME_TYPE = 'text/html';\n",
       "  const EXEC_MIME_TYPE = 'application/vnd.bokehjs_exec.v0+json';\n",
       "  const CLASS_NAME = 'output_bokeh rendered_html';\n",
       "\n",
       "  /**\n",
       "   * Render data to the DOM node\n",
       "   */\n",
       "  function render(props, node) {\n",
       "    const script = document.createElement(\"script\");\n",
       "    node.appendChild(script);\n",
       "  }\n",
       "\n",
       "  /**\n",
       "   * Handle when an output is cleared or removed\n",
       "   */\n",
       "  function handleClearOutput(event, handle) {\n",
       "    const cell = handle.cell;\n",
       "\n",
       "    const id = cell.output_area._bokeh_element_id;\n",
       "    const server_id = cell.output_area._bokeh_server_id;\n",
       "    // Clean up Bokeh references\n",
       "    if (id != null && id in Bokeh.index) {\n",
       "      Bokeh.index[id].model.document.clear();\n",
       "      delete Bokeh.index[id];\n",
       "    }\n",
       "\n",
       "    if (server_id !== undefined) {\n",
       "      // Clean up Bokeh references\n",
       "      const cmd_clean = \"from bokeh.io.state import curstate; print(curstate().uuid_to_server['\" + server_id + \"'].get_sessions()[0].document.roots[0]._id)\";\n",
       "      cell.notebook.kernel.execute(cmd_clean, {\n",
       "        iopub: {\n",
       "          output: function(msg) {\n",
       "            const id = msg.content.text.trim();\n",
       "            if (id in Bokeh.index) {\n",
       "              Bokeh.index[id].model.document.clear();\n",
       "              delete Bokeh.index[id];\n",
       "            }\n",
       "          }\n",
       "        }\n",
       "      });\n",
       "      // Destroy server and session\n",
       "      const cmd_destroy = \"import bokeh.io.notebook as ion; ion.destroy_server('\" + server_id + \"')\";\n",
       "      cell.notebook.kernel.execute(cmd_destroy);\n",
       "    }\n",
       "  }\n",
       "\n",
       "  /**\n",
       "   * Handle when a new output is added\n",
       "   */\n",
       "  function handleAddOutput(event, handle) {\n",
       "    const output_area = handle.output_area;\n",
       "    const output = handle.output;\n",
       "\n",
       "    // limit handleAddOutput to display_data with EXEC_MIME_TYPE content only\n",
       "    if ((output.output_type != \"display_data\") || (!Object.prototype.hasOwnProperty.call(output.data, EXEC_MIME_TYPE))) {\n",
       "      return\n",
       "    }\n",
       "\n",
       "    const toinsert = output_area.element.find(\".\" + CLASS_NAME.split(' ')[0]);\n",
       "\n",
       "    if (output.metadata[EXEC_MIME_TYPE][\"id\"] !== undefined) {\n",
       "      toinsert[toinsert.length - 1].firstChild.textContent = output.data[JS_MIME_TYPE];\n",
       "      // store reference to embed id on output_area\n",
       "      output_area._bokeh_element_id = output.metadata[EXEC_MIME_TYPE][\"id\"];\n",
       "    }\n",
       "    if (output.metadata[EXEC_MIME_TYPE][\"server_id\"] !== undefined) {\n",
       "      const bk_div = document.createElement(\"div\");\n",
       "      bk_div.innerHTML = output.data[HTML_MIME_TYPE];\n",
       "      const script_attrs = bk_div.children[0].attributes;\n",
       "      for (let i = 0; i < script_attrs.length; i++) {\n",
       "        toinsert[toinsert.length - 1].firstChild.setAttribute(script_attrs[i].name, script_attrs[i].value);\n",
       "        toinsert[toinsert.length - 1].firstChild.textContent = bk_div.children[0].textContent\n",
       "      }\n",
       "      // store reference to server id on output_area\n",
       "      output_area._bokeh_server_id = output.metadata[EXEC_MIME_TYPE][\"server_id\"];\n",
       "    }\n",
       "  }\n",
       "\n",
       "  function register_renderer(events, OutputArea) {\n",
       "\n",
       "    function append_mime(data, metadata, element) {\n",
       "      // create a DOM node to render to\n",
       "      const toinsert = this.create_output_subarea(\n",
       "        metadata,\n",
       "        CLASS_NAME,\n",
       "        EXEC_MIME_TYPE\n",
       "      );\n",
       "      this.keyboard_manager.register_events(toinsert);\n",
       "      // Render to node\n",
       "      const props = {data: data, metadata: metadata[EXEC_MIME_TYPE]};\n",
       "      render(props, toinsert[toinsert.length - 1]);\n",
       "      element.append(toinsert);\n",
       "      return toinsert\n",
       "    }\n",
       "\n",
       "    /* Handle when an output is cleared or removed */\n",
       "    events.on('clear_output.CodeCell', handleClearOutput);\n",
       "    events.on('delete.Cell', handleClearOutput);\n",
       "\n",
       "    /* Handle when a new output is added */\n",
       "    events.on('output_added.OutputArea', handleAddOutput);\n",
       "\n",
       "    /**\n",
       "     * Register the mime type and append_mime function with output_area\n",
       "     */\n",
       "    OutputArea.prototype.register_mime_type(EXEC_MIME_TYPE, append_mime, {\n",
       "      /* Is output safe? */\n",
       "      safe: true,\n",
       "      /* Index of renderer in `output_area.display_order` */\n",
       "      index: 0\n",
       "    });\n",
       "  }\n",
       "\n",
       "  // register the mime type if in Jupyter Notebook environment and previously unregistered\n",
       "  if (root.Jupyter !== undefined) {\n",
       "    const events = require('base/js/events');\n",
       "    const OutputArea = require('notebook/js/outputarea').OutputArea;\n",
       "\n",
       "    if (OutputArea.prototype.mime_types().indexOf(EXEC_MIME_TYPE) == -1) {\n",
       "      register_renderer(events, OutputArea);\n",
       "    }\n",
       "  }\n",
       "\n",
       "  \n",
       "  if (typeof (root._bokeh_timeout) === \"undefined\" || force === true) {\n",
       "    root._bokeh_timeout = Date.now() + 5000;\n",
       "    root._bokeh_failed_load = false;\n",
       "  }\n",
       "\n",
       "  const NB_LOAD_WARNING = {'data': {'text/html':\n",
       "     \"<div style='background-color: #fdd'>\\n\"+\n",
       "     \"<p>\\n\"+\n",
       "     \"BokehJS does not appear to have successfully loaded. If loading BokehJS from CDN, this \\n\"+\n",
       "     \"may be due to a slow or bad network connection. Possible fixes:\\n\"+\n",
       "     \"</p>\\n\"+\n",
       "     \"<ul>\\n\"+\n",
       "     \"<li>re-rerun `output_notebook()` to attempt to load from CDN again, or</li>\\n\"+\n",
       "     \"<li>use INLINE resources instead, as so:</li>\\n\"+\n",
       "     \"</ul>\\n\"+\n",
       "     \"<code>\\n\"+\n",
       "     \"from bokeh.resources import INLINE\\n\"+\n",
       "     \"output_notebook(resources=INLINE)\\n\"+\n",
       "     \"</code>\\n\"+\n",
       "     \"</div>\"}};\n",
       "\n",
       "  function display_loaded() {\n",
       "    const el = document.getElementById(\"9552\");\n",
       "    if (el != null) {\n",
       "      el.textContent = \"BokehJS is loading...\";\n",
       "    }\n",
       "    if (root.Bokeh !== undefined) {\n",
       "      if (el != null) {\n",
       "        el.textContent = \"BokehJS \" + root.Bokeh.version + \" successfully loaded.\";\n",
       "      }\n",
       "    } else if (Date.now() < root._bokeh_timeout) {\n",
       "      setTimeout(display_loaded, 100)\n",
       "    }\n",
       "  }\n",
       "\n",
       "\n",
       "  function run_callbacks() {\n",
       "    try {\n",
       "      root._bokeh_onload_callbacks.forEach(function(callback) {\n",
       "        if (callback != null)\n",
       "          callback();\n",
       "      });\n",
       "    } finally {\n",
       "      delete root._bokeh_onload_callbacks\n",
       "    }\n",
       "    console.debug(\"Bokeh: all callbacks have finished\");\n",
       "  }\n",
       "\n",
       "  function load_libs(css_urls, js_urls, callback) {\n",
       "    if (css_urls == null) css_urls = [];\n",
       "    if (js_urls == null) js_urls = [];\n",
       "\n",
       "    root._bokeh_onload_callbacks.push(callback);\n",
       "    if (root._bokeh_is_loading > 0) {\n",
       "      console.debug(\"Bokeh: BokehJS is being loaded, scheduling callback at\", now());\n",
       "      return null;\n",
       "    }\n",
       "    if (js_urls == null || js_urls.length === 0) {\n",
       "      run_callbacks();\n",
       "      return null;\n",
       "    }\n",
       "    console.debug(\"Bokeh: BokehJS not loaded, scheduling load and callback at\", now());\n",
       "    root._bokeh_is_loading = css_urls.length + js_urls.length;\n",
       "\n",
       "    function on_load() {\n",
       "      root._bokeh_is_loading--;\n",
       "      if (root._bokeh_is_loading === 0) {\n",
       "        console.debug(\"Bokeh: all BokehJS libraries/stylesheets loaded\");\n",
       "        run_callbacks()\n",
       "      }\n",
       "    }\n",
       "\n",
       "    function on_error(url) {\n",
       "      console.error(\"failed to load \" + url);\n",
       "    }\n",
       "\n",
       "    for (let i = 0; i < css_urls.length; i++) {\n",
       "      const url = css_urls[i];\n",
       "      const element = document.createElement(\"link\");\n",
       "      element.onload = on_load;\n",
       "      element.onerror = on_error.bind(null, url);\n",
       "      element.rel = \"stylesheet\";\n",
       "      element.type = \"text/css\";\n",
       "      element.href = url;\n",
       "      console.debug(\"Bokeh: injecting link tag for BokehJS stylesheet: \", url);\n",
       "      document.body.appendChild(element);\n",
       "    }\n",
       "\n",
       "    for (let i = 0; i < js_urls.length; i++) {\n",
       "      const url = js_urls[i];\n",
       "      const element = document.createElement('script');\n",
       "      element.onload = on_load;\n",
       "      element.onerror = on_error.bind(null, url);\n",
       "      element.async = false;\n",
       "      element.src = url;\n",
       "      console.debug(\"Bokeh: injecting script tag for BokehJS library: \", url);\n",
       "      document.head.appendChild(element);\n",
       "    }\n",
       "  };\n",
       "\n",
       "  function inject_raw_css(css) {\n",
       "    const element = document.createElement(\"style\");\n",
       "    element.appendChild(document.createTextNode(css));\n",
       "    document.body.appendChild(element);\n",
       "  }\n",
       "\n",
       "  \n",
       "  const js_urls = [\"https://cdn.bokeh.org/bokeh/release/bokeh-2.4.2.min.js\", \"https://cdn.bokeh.org/bokeh/release/bokeh-gl-2.4.2.min.js\", \"https://cdn.bokeh.org/bokeh/release/bokeh-widgets-2.4.2.min.js\", \"https://cdn.bokeh.org/bokeh/release/bokeh-tables-2.4.2.min.js\", \"https://cdn.bokeh.org/bokeh/release/bokeh-mathjax-2.4.2.min.js\"];\n",
       "  const css_urls = [];\n",
       "  \n",
       "\n",
       "  const inline_js = [\n",
       "    function(Bokeh) {\n",
       "      Bokeh.set_log_level(\"info\");\n",
       "    },\n",
       "    function(Bokeh) {\n",
       "    \n",
       "    \n",
       "    }\n",
       "  ];\n",
       "\n",
       "  function run_inline_js() {\n",
       "    \n",
       "    if (root.Bokeh !== undefined || force === true) {\n",
       "      \n",
       "    for (let i = 0; i < inline_js.length; i++) {\n",
       "      inline_js[i].call(root, root.Bokeh);\n",
       "    }\n",
       "    if (force === true) {\n",
       "        display_loaded();\n",
       "      }} else if (Date.now() < root._bokeh_timeout) {\n",
       "      setTimeout(run_inline_js, 100);\n",
       "    } else if (!root._bokeh_failed_load) {\n",
       "      console.log(\"Bokeh: BokehJS failed to load within specified timeout.\");\n",
       "      root._bokeh_failed_load = true;\n",
       "    } else if (force !== true) {\n",
       "      const cell = $(document.getElementById(\"9552\")).parents('.cell').data().cell;\n",
       "      cell.output_area.append_execute_result(NB_LOAD_WARNING)\n",
       "    }\n",
       "\n",
       "  }\n",
       "\n",
       "  if (root._bokeh_is_loading === 0) {\n",
       "    console.debug(\"Bokeh: BokehJS loaded, going straight to plotting\");\n",
       "    run_inline_js();\n",
       "  } else {\n",
       "    load_libs(css_urls, js_urls, function() {\n",
       "      console.debug(\"Bokeh: BokehJS plotting callback run at\", now());\n",
       "      run_inline_js();\n",
       "    });\n",
       "  }\n",
       "}(window));"
      ],
      "application/vnd.bokehjs_load.v0+json": "\n(function(root) {\n  function now() {\n    return new Date();\n  }\n\n  const force = true;\n\n  if (typeof root._bokeh_onload_callbacks === \"undefined\" || force === true) {\n    root._bokeh_onload_callbacks = [];\n    root._bokeh_is_loading = undefined;\n  }\n\n  \n\n  \n  if (typeof (root._bokeh_timeout) === \"undefined\" || force === true) {\n    root._bokeh_timeout = Date.now() + 5000;\n    root._bokeh_failed_load = false;\n  }\n\n  const NB_LOAD_WARNING = {'data': {'text/html':\n     \"<div style='background-color: #fdd'>\\n\"+\n     \"<p>\\n\"+\n     \"BokehJS does not appear to have successfully loaded. If loading BokehJS from CDN, this \\n\"+\n     \"may be due to a slow or bad network connection. Possible fixes:\\n\"+\n     \"</p>\\n\"+\n     \"<ul>\\n\"+\n     \"<li>re-rerun `output_notebook()` to attempt to load from CDN again, or</li>\\n\"+\n     \"<li>use INLINE resources instead, as so:</li>\\n\"+\n     \"</ul>\\n\"+\n     \"<code>\\n\"+\n     \"from bokeh.resources import INLINE\\n\"+\n     \"output_notebook(resources=INLINE)\\n\"+\n     \"</code>\\n\"+\n     \"</div>\"}};\n\n  function display_loaded() {\n    const el = document.getElementById(\"9552\");\n    if (el != null) {\n      el.textContent = \"BokehJS is loading...\";\n    }\n    if (root.Bokeh !== undefined) {\n      if (el != null) {\n        el.textContent = \"BokehJS \" + root.Bokeh.version + \" successfully loaded.\";\n      }\n    } else if (Date.now() < root._bokeh_timeout) {\n      setTimeout(display_loaded, 100)\n    }\n  }\n\n\n  function run_callbacks() {\n    try {\n      root._bokeh_onload_callbacks.forEach(function(callback) {\n        if (callback != null)\n          callback();\n      });\n    } finally {\n      delete root._bokeh_onload_callbacks\n    }\n    console.debug(\"Bokeh: all callbacks have finished\");\n  }\n\n  function load_libs(css_urls, js_urls, callback) {\n    if (css_urls == null) css_urls = [];\n    if (js_urls == null) js_urls = [];\n\n    root._bokeh_onload_callbacks.push(callback);\n    if (root._bokeh_is_loading > 0) {\n      console.debug(\"Bokeh: BokehJS is being loaded, scheduling callback at\", now());\n      return null;\n    }\n    if (js_urls == null || js_urls.length === 0) {\n      run_callbacks();\n      return null;\n    }\n    console.debug(\"Bokeh: BokehJS not loaded, scheduling load and callback at\", now());\n    root._bokeh_is_loading = css_urls.length + js_urls.length;\n\n    function on_load() {\n      root._bokeh_is_loading--;\n      if (root._bokeh_is_loading === 0) {\n        console.debug(\"Bokeh: all BokehJS libraries/stylesheets loaded\");\n        run_callbacks()\n      }\n    }\n\n    function on_error(url) {\n      console.error(\"failed to load \" + url);\n    }\n\n    for (let i = 0; i < css_urls.length; i++) {\n      const url = css_urls[i];\n      const element = document.createElement(\"link\");\n      element.onload = on_load;\n      element.onerror = on_error.bind(null, url);\n      element.rel = \"stylesheet\";\n      element.type = \"text/css\";\n      element.href = url;\n      console.debug(\"Bokeh: injecting link tag for BokehJS stylesheet: \", url);\n      document.body.appendChild(element);\n    }\n\n    for (let i = 0; i < js_urls.length; i++) {\n      const url = js_urls[i];\n      const element = document.createElement('script');\n      element.onload = on_load;\n      element.onerror = on_error.bind(null, url);\n      element.async = false;\n      element.src = url;\n      console.debug(\"Bokeh: injecting script tag for BokehJS library: \", url);\n      document.head.appendChild(element);\n    }\n  };\n\n  function inject_raw_css(css) {\n    const element = document.createElement(\"style\");\n    element.appendChild(document.createTextNode(css));\n    document.body.appendChild(element);\n  }\n\n  \n  const js_urls = [\"https://cdn.bokeh.org/bokeh/release/bokeh-2.4.2.min.js\", \"https://cdn.bokeh.org/bokeh/release/bokeh-gl-2.4.2.min.js\", \"https://cdn.bokeh.org/bokeh/release/bokeh-widgets-2.4.2.min.js\", \"https://cdn.bokeh.org/bokeh/release/bokeh-tables-2.4.2.min.js\", \"https://cdn.bokeh.org/bokeh/release/bokeh-mathjax-2.4.2.min.js\"];\n  const css_urls = [];\n  \n\n  const inline_js = [\n    function(Bokeh) {\n      Bokeh.set_log_level(\"info\");\n    },\n    function(Bokeh) {\n    \n    \n    }\n  ];\n\n  function run_inline_js() {\n    \n    if (root.Bokeh !== undefined || force === true) {\n      \n    for (let i = 0; i < inline_js.length; i++) {\n      inline_js[i].call(root, root.Bokeh);\n    }\n    if (force === true) {\n        display_loaded();\n      }} else if (Date.now() < root._bokeh_timeout) {\n      setTimeout(run_inline_js, 100);\n    } else if (!root._bokeh_failed_load) {\n      console.log(\"Bokeh: BokehJS failed to load within specified timeout.\");\n      root._bokeh_failed_load = true;\n    } else if (force !== true) {\n      const cell = $(document.getElementById(\"9552\")).parents('.cell').data().cell;\n      cell.output_area.append_execute_result(NB_LOAD_WARNING)\n    }\n\n  }\n\n  if (root._bokeh_is_loading === 0) {\n    console.debug(\"Bokeh: BokehJS loaded, going straight to plotting\");\n    run_inline_js();\n  } else {\n    load_libs(css_urls, js_urls, function() {\n      console.debug(\"Bokeh: BokehJS plotting callback run at\", now());\n      run_inline_js();\n    });\n  }\n}(window));"
     },
     "metadata": {},
     "output_type": "display_data"
    },
    {
     "data": {
      "application/vnd.jupyter.widget-view+json": {
       "model_id": "3ed0023ec2644a3c8bdf4383efa667ae",
       "version_major": 2,
       "version_minor": 0
      },
      "text/plain": [
       "Text(value='10.5.0.26', description='IP Address for eXtickGE', disabled=True, style=DescriptionStyle(descripti…"
      ]
     },
     "metadata": {},
     "output_type": "display_data"
    },
    {
     "data": {
      "application/vnd.jupyter.widget-view+json": {
       "model_id": "4630b1c2c3b145c8b5d64ec4b4aedb6e",
       "version_major": 2,
       "version_minor": 0
      },
      "text/plain": [
       "Text(value='/home/sio3/QuBE_Char/adi_api_mod', description='Path to API', disabled=True, layout=Layout(width='…"
      ]
     },
     "metadata": {},
     "output_type": "display_data"
    },
    {
     "data": {
      "application/vnd.jupyter.widget-view+json": {
       "model_id": "2475ea26651543af9ac489014f5a387a",
       "version_major": 2,
       "version_minor": 0
      },
      "text/plain": [
       "HBox(children=(Checkbox(value=False, description='Config FPGA', indent=False), Text(value='/home/qube/bin/0694…"
      ]
     },
     "metadata": {},
     "output_type": "display_data"
    },
    {
     "data": {
      "application/vnd.jupyter.widget-view+json": {
       "model_id": "1feea76f0095414e827cd60fa44d24cc",
       "version_major": 2,
       "version_minor": 0
      },
      "text/plain": [
       "Button(description='Do init', layout=Layout(height='80px', width='50%'), style=ButtonStyle())"
      ]
     },
     "metadata": {},
     "output_type": "display_data"
    },
    {
     "data": {
      "application/vnd.jupyter.widget-view+json": {
       "model_id": "d555d2d182d340348e99169e49a169ce",
       "version_major": 2,
       "version_minor": 0
      },
      "text/plain": [
       "Button(description='Restart AD9082', layout=Layout(height='80px', width='50%'), style=ButtonStyle())"
      ]
     },
     "metadata": {},
     "output_type": "display_data"
    }
   ],
   "source": [
    "import importlib\n",
    "import e7awgsw\n",
    "import bokeh.io\n",
    "import bokeh.plotting\n",
    "import bokeh.models\n",
    "import qubelsi.qube\n",
    "import pickle\n",
    "from IPython.display import clear_output\n",
    "import numpy as np\n",
    "\n",
    "import qubeui\n",
    "import instruments\n",
    "\n",
    "bokeh.plotting.output_notebook()\n",
    "\n",
    "QUBE = 'Riken1'\n",
    "QUBE_ID = 8\n",
    "\n",
    "qube = qubelsi.qube.Qube(\n",
    "    '10.5.0.26', # IP address of eXtickGE\n",
    "    '/home/sio3/QuBE_Char/adi_api_mod', # Path to API\n",
    ")\n",
    "qubeui.StartupUI(qube)\n",
    "visa = instruments.new_resource_manager()"
   ]
  },
  {
   "cell_type": "markdown",
   "id": "b1950888-548d-4887-8044-07790fa10549",
   "metadata": {
    "tags": []
   },
   "source": [
    "# ↑ は初期化コードですので普段は使わないでください\n",
    "\n",
    "---"
   ]
  },
  {
   "cell_type": "markdown",
   "id": "f4a574a1-4e82-4e99-903e-810844848733",
   "metadata": {},
   "source": [
    "# 周波数特性測定コード（粗測定）"
   ]
  },
  {
   "cell_type": "code",
   "execution_count": 17,
   "id": "e86b9571-ee05-4cfc-9495-7797367b17b9",
   "metadata": {
    "tags": []
   },
   "outputs": [
    {
     "data": {
      "text/html": [
       "\n",
       "\n",
       "\n",
       "\n",
       "\n",
       "\n",
       "  <div class=\"bk-root\" id=\"da8e8920-e042-4bb1-a732-c747721abd4a\" data-root-id=\"90881\"></div>\n"
      ]
     },
     "metadata": {},
     "output_type": "display_data"
    },
    {
     "data": {
      "application/javascript": [
       "(function(root) {\n",
       "  function embed_document(root) {\n",
       "    \n",
       "  const docs_json = {\"4f88e0b0-cff2-4a39-a240-94fafd5f460f\":{\"defs\":[],\"roots\":{\"references\":[{\"attributes\":{\"below\":[{\"id\":\"90892\"}],\"center\":[{\"id\":\"90895\"},{\"id\":\"90899\"}],\"height\":300,\"left\":[{\"id\":\"90896\"}],\"renderers\":[{\"id\":\"90918\"}],\"sizing_mode\":\"stretch_width\",\"title\":{\"id\":\"90882\"},\"toolbar\":{\"id\":\"90907\"},\"toolbar_location\":null,\"x_range\":{\"id\":\"90884\"},\"x_scale\":{\"id\":\"90888\"},\"y_range\":{\"id\":\"90886\"},\"y_scale\":{\"id\":\"90890\"}},\"id\":\"90881\",\"subtype\":\"Figure\",\"type\":\"Plot\"},{\"attributes\":{\"coordinates\":null,\"formatter\":{\"id\":\"92172\"},\"group\":null,\"major_label_policy\":{\"id\":\"92173\"},\"ticker\":{\"id\":\"90897\"}},\"id\":\"90896\",\"type\":\"LinearAxis\"},{\"attributes\":{},\"id\":\"90886\",\"type\":\"DataRange1d\"},{\"attributes\":{},\"id\":\"90890\",\"type\":\"LinearScale\"},{\"attributes\":{\"coordinates\":null,\"group\":null,\"text\":\"LO=8300MHz, IF=1800MHz, VATT=0xc00\"},\"id\":\"90882\",\"type\":\"Title\"},{\"attributes\":{\"axis\":{\"id\":\"90892\"},\"coordinates\":null,\"group\":null,\"ticker\":null},\"id\":\"90895\",\"type\":\"Grid\"},{\"attributes\":{},\"id\":\"90905\",\"type\":\"HelpTool\"},{\"attributes\":{\"axis\":{\"id\":\"90896\"},\"coordinates\":null,\"dimension\":1,\"group\":null,\"ticker\":null},\"id\":\"90899\",\"type\":\"Grid\"},{\"attributes\":{},\"id\":\"90893\",\"type\":\"BasicTicker\"},{\"attributes\":{},\"id\":\"90897\",\"type\":\"BasicTicker\"},{\"attributes\":{\"coordinates\":null,\"formatter\":{\"id\":\"92175\"},\"group\":null,\"major_label_policy\":{\"id\":\"92176\"},\"ticker\":{\"id\":\"90893\"}},\"id\":\"90892\",\"type\":\"LinearAxis\"},{\"attributes\":{},\"id\":\"90888\",\"type\":\"LinearScale\"},{\"attributes\":{\"coordinates\":null,\"data_source\":{\"id\":\"90914\"},\"glyph\":{\"id\":\"90915\"},\"group\":null,\"hover_glyph\":null,\"muted_glyph\":{\"id\":\"90917\"},\"nonselection_glyph\":{\"id\":\"90916\"},\"view\":{\"id\":\"90919\"}},\"id\":\"90918\",\"type\":\"GlyphRenderer\"},{\"attributes\":{\"line_color\":\"#1f77b4\",\"x\":{\"field\":\"x\"},\"y\":{\"field\":\"y\"}},\"id\":\"90915\",\"type\":\"Line\"},{\"attributes\":{\"line_alpha\":0.1,\"line_color\":\"#1f77b4\",\"x\":{\"field\":\"x\"},\"y\":{\"field\":\"y\"}},\"id\":\"90916\",\"type\":\"Line\"},{\"attributes\":{\"line_alpha\":0.2,\"line_color\":\"#1f77b4\",\"x\":{\"field\":\"x\"},\"y\":{\"field\":\"y\"}},\"id\":\"90917\",\"type\":\"Line\"},{\"attributes\":{},\"id\":\"90901\",\"type\":\"WheelZoomTool\"},{\"attributes\":{},\"id\":\"92172\",\"type\":\"BasicTickFormatter\"},{\"attributes\":{},\"id\":\"90900\",\"type\":\"PanTool\"},{\"attributes\":{},\"id\":\"90884\",\"type\":\"DataRange1d\"},{\"attributes\":{\"tools\":[{\"id\":\"90900\"},{\"id\":\"90901\"},{\"id\":\"90902\"},{\"id\":\"90903\"},{\"id\":\"90904\"},{\"id\":\"90905\"}]},\"id\":\"90907\",\"type\":\"Toolbar\"},{\"attributes\":{\"overlay\":{\"id\":\"90906\"}},\"id\":\"90902\",\"type\":\"BoxZoomTool\"},{\"attributes\":{},\"id\":\"90903\",\"type\":\"SaveTool\"},{\"attributes\":{},\"id\":\"92173\",\"type\":\"AllLabels\"},{\"attributes\":{},\"id\":\"90904\",\"type\":\"ResetTool\"},{\"attributes\":{},\"id\":\"92178\",\"type\":\"Selection\"},{\"attributes\":{\"bottom_units\":\"screen\",\"coordinates\":null,\"fill_alpha\":0.5,\"fill_color\":\"lightgrey\",\"group\":null,\"left_units\":\"screen\",\"level\":\"overlay\",\"line_alpha\":1.0,\"line_color\":\"black\",\"line_dash\":[4,4],\"line_width\":2,\"right_units\":\"screen\",\"syncable\":false,\"top_units\":\"screen\"},\"id\":\"90906\",\"type\":\"BoxAnnotation\"},{\"attributes\":{\"data\":{\"x\":{\"__ndarray__\":\"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\",\"dtype\":\"float64\",\"order\":\"little\",\"shape\":[551]},\"y\":{\"__ndarray__\":\"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\",\"dtype\":\"float64\",\"order\":\"little\",\"shape\":[551]}},\"selected\":{\"id\":\"92178\"},\"selection_policy\":{\"id\":\"92177\"}},\"id\":\"90914\",\"type\":\"ColumnDataSource\"},{\"attributes\":{},\"id\":\"92177\",\"type\":\"UnionRenderers\"},{\"attributes\":{},\"id\":\"92176\",\"type\":\"AllLabels\"},{\"attributes\":{},\"id\":\"92175\",\"type\":\"BasicTickFormatter\"},{\"attributes\":{\"source\":{\"id\":\"90914\"}},\"id\":\"90919\",\"type\":\"CDSView\"}],\"root_ids\":[\"90881\"]},\"title\":\"Bokeh Application\",\"version\":\"2.4.2\"}};\n",
       "  const render_items = [{\"docid\":\"4f88e0b0-cff2-4a39-a240-94fafd5f460f\",\"root_ids\":[\"90881\"],\"roots\":{\"90881\":\"da8e8920-e042-4bb1-a732-c747721abd4a\"}}];\n",
       "  root.Bokeh.embed.embed_items_notebook(docs_json, render_items);\n",
       "\n",
       "  }\n",
       "  if (root.Bokeh !== undefined) {\n",
       "    embed_document(root);\n",
       "  } else {\n",
       "    let attempts = 0;\n",
       "    const timer = setInterval(function(root) {\n",
       "      if (root.Bokeh !== undefined) {\n",
       "        clearInterval(timer);\n",
       "        embed_document(root);\n",
       "      } else {\n",
       "        attempts++;\n",
       "        if (attempts > 100) {\n",
       "          clearInterval(timer);\n",
       "          console.log(\"Bokeh: ERROR: Unable to run BokehJS code because BokehJS library is missing\");\n",
       "        }\n",
       "      }\n",
       "    }, 10, root)\n",
       "  }\n",
       "})(window);"
      ],
      "application/vnd.bokehjs_exec.v0+json": ""
     },
     "metadata": {
      "application/vnd.bokehjs_exec.v0+json": {
       "id": "90881"
      }
     },
     "output_type": "display_data"
    }
   ],
   "source": [
    "#r = ms2038.measure()\n",
    "# ADRF6780のVATTを変更しながらスペクトルを取得する\n",
    "import pickle\n",
    "\n",
    "PORT_ID = 2\n",
    "VATT = 0xC00\n",
    "TYPE = 'A'\n",
    "\n",
    "port = qubeui.new_port_handler(qube)\n",
    "\n",
    "if TYPE == 'A':\n",
    "    qube.adrf6780[0].set_usb()\n",
    "    qube.adrf6780[1].set_usb()\n",
    "    qube.adrf6780[2].set_lsb()\n",
    "    qube.adrf6780[3].set_lsb()\n",
    "    qube.adrf6780[4].set_lsb()\n",
    "    qube.adrf6780[5].set_lsb()\n",
    "    qube.adrf6780[6].set_usb()\n",
    "    qube.adrf6780[7].set_usb()\n",
    "else:\n",
    "    qube.adrf6780[0].set_lsb()\n",
    "    qube.adrf6780[1].set_lsb()\n",
    "    qube.adrf6780[2].set_lsb()\n",
    "    qube.adrf6780[3].set_lsb()\n",
    "    qube.adrf6780[4].set_lsb()\n",
    "    qube.adrf6780[5].set_lsb()\n",
    "    qube.adrf6780[6].set_lsb()\n",
    "    qube.adrf6780[7].set_lsb()\n",
    "\n",
    "ms2038 = instruments.MS2038_SPA(visa)\n",
    "ms2038.write(':INIT:CONT OFF')\n",
    "\n",
    "fname = 'Qube{}_{}_Port{}_{}_coarse.pickle'.format(QUBE, QUBE_ID, PORT_ID, hex(VATT))\n",
    "result = []\n",
    "# for FL in range(10400, 11001, 100): #元の設定\n",
    "#    for FI in range(1800,3201,50): #元の設定\n",
    "\n",
    "# Readout 9500 - 11000\n",
    "#   IF 1300 - 2000\n",
    "#   LO 8200 - 8500 \n",
    "\n",
    "# 4/10に根来が追記\n",
    "# def set_flo_fnco_according_to_frf_usb(lmx2594, frf, fif, apply=True): # MHz\n",
    "#     flo = frf - fif\n",
    "#     set_lmx2594_freq_100M(lmx2594, int(flo*1e-2))\n",
    "#     if apply:\n",
    "#         apply_lmx2594(lmx2594)\n",
    "#     return flo\n",
    "\n",
    "FL = 8200\n",
    "FI = 1500\n",
    "\n",
    "try:\n",
    "    # FL = 8200\n",
    "    # FI = 1800\n",
    "    #for FL in range(10400, 11001, 200): # for CTRL\n",
    "    #    for FI in range(1800,3201,200): # for CTRL\n",
    "    #        FR = FL - FI\n",
    "    #for FL in range(8200, 8501, 100): # for READOUT\n",
    "    #    for FI in range(1300,2001,100): # for READOUT\n",
    "    #        FR = FL - FI\n",
    "    for FL in range(8200, 8301, 100): # for PUMP\n",
    "        for FI in range(1500,1801,50): # for PUMP\n",
    "            FR = FL - FI\n",
    "            qubeui.set_flo_fnco_according_to_frf(port[PORT_ID], FR, FI)\n",
    "            # set_flo_fnco_according_to_frf_usb(port[PORT_ID], FR, FI) # 4/11根来が追記\n",
    "            qubeui.set_vatt(port[PORT_ID].upconv.vatt, VATT)\n",
    "            measure = ms2038.measure()\n",
    "            data = {\n",
    "                'trace': measure.trace,\n",
    "                'preamble': measure.preamble,\n",
    "                'numpy_array': np.array([\n",
    "                    instruments.MS2038_SPA.extract_frequency_array_from_preamble(measure.preamble),\n",
    "                    instruments.MS2038_SPA.convert_trace_to_array(measure.trace),\n",
    "                ]),\n",
    "            }\n",
    "            data['Qube'] = QUBE\n",
    "            data['Qube ID'] = QUBE_ID\n",
    "            data['Port ID'] = PORT_ID\n",
    "            data['VATT'] = VATT\n",
    "            data['IF'] = FI\n",
    "            data['LO'] = FL\n",
    "            data['AD9082 Current Mode'] = '(0x01B, 0x0F), (0x117, 0xA0), (0x118, 0xFF)'\n",
    "            result.append(data)\n",
    "            p = bokeh.plotting.figure(\n",
    "                title='LO={}MHz, IF={}MHz, VATT={}'.format(FL, FI, hex(VATT)),\n",
    "                height=300,\n",
    "                toolbar_location=None,\n",
    "                sizing_mode=\"stretch_width\")\n",
    "            p.line(data['numpy_array'][0,:],data['numpy_array'][1,:])\n",
    "            clear_output()\n",
    "            bokeh.plotting.show(p)\n",
    "finally:\n",
    "    with open(fname, 'wb') as f:\n",
    "        pickle.dump(result, f)"
   ]
  },
  {
   "cell_type": "markdown",
   "id": "c5acfad5-311e-432f-85bf-26ab7ea703e6",
   "metadata": {},
   "source": [
    "# ↓　周波数特性測定コード（細密測定）"
   ]
  },
  {
   "cell_type": "code",
   "execution_count": null,
   "id": "9a50ded1-7a57-4105-a5f9-14e6125a8a80",
   "metadata": {
    "tags": []
   },
   "outputs": [],
   "source": [
    "#r = ms2038.measure()\n",
    "# ADRF6780のVATTを変更しながらスペクトルを取得する\n",
    "import pickle\n",
    "\n",
    "PORT_ID = 7\n",
    "VATT = 0xC00\n",
    "\n",
    "port = qubeui.new_port_handler(qube)\n",
    "\n",
    "ms2038 = instruments.MS2038_SPA(visa)\n",
    "ms2038.write(':INIT:CONT OFF')\n",
    "\n",
    "fname = 'Qube{}_{}_Port{}_{}.pickle'.format(QUBE, QUBE_ID, PORT_ID, hex(VATT))\n",
    "result = []\n",
    "# FL = 10400\n",
    "# FI = 1800\n",
    "# for FL in range(10400, 11001, 100): #元の設定\n",
    "#    for FI in range(1800,3201,50): #元の設定\n",
    "try:\n",
    "    for FL in range(10400, 11001, 100):\n",
    "        for FI in range(1800,3201,50):\n",
    "            FR = FL - FI\n",
    "            qubeui.set_flo_fnco_according_to_frf(port[PORT_ID], FR, FI)\n",
    "            qubeui.set_vatt(port[PORT_ID].upconv.vatt, VATT)\n",
    "            data = ms2038.measure()\n",
    "            data['Qube'] = QUBE\n",
    "            data['Qube ID'] = QUBE_ID\n",
    "            data['Port ID'] = PORT_ID\n",
    "            data['VATT'] = VATT\n",
    "            data['IF'] = FI\n",
    "            data['LO'] = FL\n",
    "            data['AD9082 Current Mode'] = '(0x01B, 0x0F), (0x117, 0xA0), (0x118, 0xFF)'\n",
    "            result.append(data)\n",
    "            p = bokeh.plotting.figure(\n",
    "                title='LO={}MHz, IF={}MHz, VATT={}'.format(FL, FI, hex(VATT)),\n",
    "                height=300,\n",
    "                toolbar_location=None,\n",
    "                sizing_mode=\"stretch_width\")\n",
    "            p.line(data['numpy_array'][0,:],data['numpy_array'][1,:])\n",
    "            clear_output()\n",
    "            bokeh.plotting.show(p)\n",
    "finally:\n",
    "    with open(fname, 'wb') as f:\n",
    "        pickle.dump(result, f)"
   ]
  },
  {
   "cell_type": "code",
   "execution_count": null,
   "id": "b562cce1-4444-4e5e-9d9d-07c9af80aaed",
   "metadata": {},
   "outputs": [],
   "source": []
  },
  {
   "cell_type": "code",
   "execution_count": 77,
   "id": "844dc961-e574-498a-8107-4537f75171eb",
   "metadata": {},
   "outputs": [
    {
     "data": {
      "text/plain": [
       "(11000, 2397.5)"
      ]
     },
     "execution_count": 77,
     "metadata": {},
     "output_type": "execute_result"
    }
   ],
   "source": [
    "from collections import namedtuple\n",
    "\n",
    "Vatt = namedtuple('Vatt', ('dac', 'ch'))\n",
    "Upconv = namedtuple('Upconv', ('vatt',))\n",
    "Ifdac = namedtuple('Ifdac', ('ad9082', 'ch'))\n",
    "CtrlPort = namedtuple('CtrlPort', ('losc', 'ifdac', 'upconv'))\n",
    "\n",
    "port = {\n",
    "    5 : CtrlPort(qube.lmx2594[2], Ifdac(qube.ad9082[0], 2), Upconv(Vatt(qube.ad5328, 2))), # CTRL1\n",
    "    6 : CtrlPort(qube.lmx2594[3], Ifdac(qube.ad9082[0], 3), Upconv(Vatt(qube.ad5328, 3))), # CTRL2\n",
    "    7 : CtrlPort(qube.lmx2594[4], Ifdac(qube.ad9082[1], 0), Upconv(Vatt(qube.ad5328, 4))), # CTRL3\n",
    "    8 : CtrlPort(qube.lmx2594[5], Ifdac(qube.ad9082[1], 1), Upconv(Vatt(qube.ad5328, 5))), # CTRL4\n",
    "}\n",
    "\n",
    "def apply_vatt(ad5328):\n",
    "    ad5328.write_value(0xA, 0x002)\n",
    "    return True\n",
    "\n",
    "def set_vatt(vatt, v, apply=True): # max 4095\n",
    "    vatt.dac.write_value(vatt.ch, v)\n",
    "    if apply:\n",
    "        apply_vatt(vatt.dac)\n",
    "    return v/0xfff*3.3\n",
    "\n",
    "# set_vatt(port[5].upconv.vatt, 0xA00)\n",
    "# set_vatt(port[6].upconv.vatt, 0xA00)\n",
    "set_vatt(port[7].upconv.vatt, 0xC00)\n",
    "# set_vatt(port[8].upconv.vatt, 0xC00)\n",
    "qubeui.set_flo_fnco_according_to_frf(port[7], 11000-2400, 2400)"
   ]
  },
  {
   "cell_type": "code",
   "execution_count": 38,
   "id": "5232121f-3b95-4d6a-9075-4306d63e4157",
   "metadata": {},
   "outputs": [
    {
     "data": {
      "text/plain": [
       "2.5916483516483515"
      ]
     },
     "execution_count": 38,
     "metadata": {},
     "output_type": "execute_result"
    }
   ],
   "source": [
    "0xc90/0xfff*3.3"
   ]
  },
  {
   "cell_type": "code",
   "execution_count": 78,
   "id": "f00082f0-a819-4b91-aff2-33646826e0dc",
   "metadata": {},
   "outputs": [
    {
     "data": {
      "text/plain": [
       "-2.392"
      ]
     },
     "execution_count": 78,
     "metadata": {},
     "output_type": "execute_result"
    },
    {
     "data": {
      "image/png": "[encoded data removed]",
      "text/plain": [
       "<Figure size 432x288 with 1 Axes>"
      ]
     },
     "metadata": {
      "needs_background": "light"
     },
     "output_type": "display_data"
    }
   ],
   "source": [
    "%matplotlib inline\n",
    "import matplotlib.pyplot as plt\n",
    "import numpy as np\n",
    "\n",
    "ms2038.write(':INIT:CONT OFF')\n",
    "data = ms2038.measure()\n",
    "a = np.array([\n",
    "    ms2038.extract_frequency_array_from_preamble(data['preamble']),\n",
    "    ms2038.convert_trace_to_array(data['trace'])\n",
    "])\n",
    "plt.plot(a[0],a[1])\n",
    "max(a[1])"
   ]
  },
  {
   "cell_type": "code",
   "execution_count": 74,
   "id": "55ca52ca-3084-4538-ac75-c4f8797e8349",
   "metadata": {},
   "outputs": [
    {
     "data": {
      "text/plain": [
       "[<matplotlib.lines.Line2D at 0x7f2d312114f0>]"
      ]
     },
     "execution_count": 74,
     "metadata": {},
     "output_type": "execute_result"
    },
    {
     "data": {
      "image/png": "[encoded data removed]",
      "text/plain": [
       "<Figure size 432x288 with 1 Axes>"
      ]
     },
     "metadata": {
      "needs_background": "light"
     },
     "output_type": "display_data"
    }
   ],
   "source": [
    "# 出力特性 (VATT vs Pout @ QuBE Riken #1-5 Port 7)\n",
    "\n",
    "a = np.array([\n",
    "    [0x800, -7.54],\n",
    "    [0x900, -4.608],\n",
    "    [0xa00, -1.564],\n",
    "    [0xb00, 1.096],\n",
    "    [0xc00, 2.4],\n",
    "    [0xc90, 2.672],\n",
    "])\n",
    "plt.plot(a[:,0], a[:,1])"
   ]
  },
  {
   "cell_type": "code",
   "execution_count": null,
   "id": "ae37fd4d-8925-43bf-8adf-ea3cb3d03438",
   "metadata": {},
   "outputs": [],
   "source": []
  },
  {
   "cell_type": "code",
   "execution_count": null,
   "id": "7cdb1a94-80d1-4df2-9ce2-1944a5e1b195",
   "metadata": {},
   "outputs": [],
   "source": [
    "#r = ms2038.measure()\n",
    "# ADRF6780のVATTを変更しながらスペクトルを取得する\n",
    "import pickle\n",
    "\n",
    "PORT_ID = 8\n",
    "\n",
    "port = qubeui.new_port_handler(qube)\n",
    "\n",
    "ms2038 = instruments.MS2038_SPA(visa)\n",
    "ms2038.write(':INIT:CONT OFF')\n",
    "\n",
    "fname = 'Qube{}_{}_Port{}_coarse_0xC00.pickle'.format(QUBE, QUBE_ID, PORT_ID)\n",
    "result = []\n",
    "# FL = 10400\n",
    "# FI = 1800\n",
    "# for FL in range(10400, 11001, 100): #元の設定\n",
    "#    for FI in range(1800,3201,50): #元の設定\n",
    "for FL in range(10400, 11001, 200):\n",
    "    for FI in range(1800,3201,200):\n",
    "        FR = FL - FI\n",
    "        qubeui.set_flo_fnco_according_to_frf(port[PORT_ID], FR, FI)\n",
    "        qubeui.set_vatt(port[PORT_ID].upconv.vatt, 0xC00)\n",
    "        data = ms2038.measure()\n",
    "        data['Qube'] = QUBE\n",
    "        data['Qube ID'] = QUBE_ID\n",
    "        data['Port ID'] = PORT_ID\n",
    "        data['VATT'] = 0xC00\n",
    "        data['IF'] = FI\n",
    "        data['LO'] = FL\n",
    "        data['AD9082 Current Mode'] = '(0x01B, 0x0F), (0x117, 0xA0), (0x118, 0xFF)'\n",
    "        result.append(data)\n",
    "        p = bokeh.plotting.figure(height=300, toolbar_location=None, sizing_mode=\"stretch_width\")\n",
    "        p.line(data['numpy_array'][0,:],data['numpy_array'][1,:])\n",
    "        clear_output()\n",
    "        bokeh.plotting.show(p)\n",
    "with open(fname, 'wb') as f:\n",
    "    pickle.dump(result, f)    "
   ]
  }
 ],
 "metadata": {
  "kernelspec": {
   "display_name": "Python 3 (ipykernel)",
   "language": "python",
   "name": "python3"
  },
  "language_info": {
   "codemirror_mode": {
    "name": "ipython",
    "version": 3
   },
   "file_extension": ".py",
   "mimetype": "text/x-python",
   "name": "python",
   "nbconvert_exporter": "python",
   "pygments_lexer": "ipython3",
   "version": "3.9.10"
  }
 },
 "nbformat": 4,
 "nbformat_minor": 5
}
