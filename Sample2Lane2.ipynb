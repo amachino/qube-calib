{
 "cells": [
  {
   "cell_type": "code",
   "execution_count": 1,
   "id": "38bf4a8f-af7b-4d82-aad6-6fb691a642d2",
   "metadata": {},
   "outputs": [
    {
     "data": {
      "text/plain": [
       "{'bitfile': '0d60b9.bit',\n",
       " 'ipfpga': '10.1.0.29',\n",
       " 'iplsi': '10.5.0.29',\n",
       " 'macfpga': '00-0A-35-0D-60-B9',\n",
       " 'maclsi': '00-1B-1A-EE-01-28',\n",
       " 'type': 'A'}"
      ]
     },
     "execution_count": 1,
     "metadata": {},
     "output_type": "execute_result"
    }
   ],
   "source": [
    "from qubecalib import Qube, PortFunc, PortNo, Lane\n",
    "from qubecalib.meas import SimpleSendRecvProto\n",
    "import qubecalib.meas as meas\n",
    "qube = Qube(config_file_name='qube_riken_1-11.yml')\n",
    "qube.config"
   ]
  },
  {
   "cell_type": "code",
   "execution_count": 2,
   "id": "a9487f13-777d-4220-8d22-ff166d14dca5",
   "metadata": {},
   "outputs": [
    {
     "name": "stdout",
     "output_type": "stream",
     "text": [
      "[['0x55E', '0xE0'], ['0x5BB', '0x11'], ['0x62E', '0x01'], ['pll_status', '0x01'], ['0x728', '0x0B']]\n",
      "[['0x55E', '0xE0'], ['0x5BB', '0x11'], ['0x62E', '0x01'], ['pll_status', '0x01'], ['0x728', '0x0B']]\n"
     ]
    },
    {
     "data": {
      "text/plain": [
       "['0: RF = 13000.000 MHz LO = 12000    MHz IF = 1000.000 MHz LSB/USB: USB MODE AWG: Inactive',\n",
       " '1: RF = 13000.000 MHz LO = 12000    MHz IF = 1000.000 MHz ',\n",
       " '5: RF = 9500.000 MHz LO = 10500    MHz IF = 1000.000 MHz LSB/USB: LSB MODE AWG: Inactive',\n",
       " '6: RF = 11000.000 MHz LO = 12000    MHz IF = 1000.000 MHz LSB/USB: LSB MODE AWG: Inactive',\n",
       " '7: RF = 11000.000 MHz LO = 12000    MHz IF = 1000.000 MHz LSB/USB: LSB MODE AWG: Inactive',\n",
       " '8: RF = 11000.000 MHz LO = 12000    MHz IF = 1000.000 MHz LSB/USB: LSB MODE AWG: Inactive',\n",
       " '12: RF = 13000.000 MHz LO = 12000    MHz IF = 1000.000 MHz ',\n",
       " '13: RF = 13000.000 MHz LO = 12000    MHz IF = 1000.000 MHz LSB/USB: USB MODE AWG: Inactive']"
      ]
     },
     "execution_count": 2,
     "metadata": {},
     "output_type": "execute_result"
    }
   ],
   "source": [
    "print(qube.ad9082[0].get_jesd_status())\n",
    "print(qube.ad9082[1].get_jesd_status())\n",
    "['{}: {}'.format(k, v.status) for k, v in qube.port.items()]"
   ]
  },
  {
   "cell_type": "code",
   "execution_count": 3,
   "id": "8370a7fc-f1fc-4e79-90d7-cacfe49f6bec",
   "metadata": {},
   "outputs": [],
   "source": [
    "import math\n",
    "meas.LongSend.start(qube[PortNo.P5])"
   ]
  },
  {
   "cell_type": "code",
   "execution_count": 4,
   "id": "2806ae77-10e1-4b80-877e-86705b90e965",
   "metadata": {},
   "outputs": [
    {
     "data": {
      "text/plain": [
       "(2515.625, -15.625)"
      ]
     },
     "execution_count": 4,
     "metadata": {},
     "output_type": "execute_result"
    }
   ],
   "source": [
    "qube[PortNo.P5].set_freq(8500,11000)"
   ]
  },
  {
   "cell_type": "code",
   "execution_count": 36,
   "id": "bb1492f3-eb13-4e65-967f-957660967442",
   "metadata": {},
   "outputs": [
    {
     "name": "stdout",
     "output_type": "stream",
     "text": [
      "set_nco: freq=15625000, ch=4, FINE_MODE, DAC_MODE\n",
      "adi_ad9081_device_api_revision_get(...)\n",
      "adi_ad9081_device_init(...)\n",
      "api v1.2.0 commit e1ac8d2 for ad9081 \n",
      "host is using little endian mode.\n",
      "adi_ad9081_device_spi_config(...)\n",
      "adi_ad9081_device_reg8_access_check(...)\n",
      "adi_ad9081_device_power_status_check(...)\n",
      "adi_ad9081_device_clk_config_set(...)\n",
      "adi_ad9081_device_boot_pre_clock(...)\n",
      "adi_ad9081_device_chip_id_get(...)\n",
      "device is ad9082 r3\n",
      "adi_ad9081_device_laminate_id_get(...)\n",
      "adi_ad9081_device_die_id_get(...)\n",
      "adi_ad9081_dac_digital_logic_enable_set(...)\n",
      "adi_ad9081_device_aclk_receiver_enable_set(...)\n",
      "adi_ad9081_device_clk_pll_enable_set(...)\n",
      "adi_ad9081_adc_clk_div_set(...)\n",
      "adi_ad9081_device_clk_up_div_set(...)\n",
      "adi_ad9081_device_boot_post_clock(...)\n",
      "adi_ad9081_adc_clk_enable_set(...)\n",
      "adi_ad9081_dac_duc_nco_set(...)\n",
      "adi_ad9081_dac_duc_nco_enable_set(...)\n",
      "adi_ad9081_dac_chan_select_set(...)\n",
      "adi_ad9081_hal_calc_tx_nco_ftw(...)\n",
      "adi_ad9081_dac_duc_nco_ftw_set(...)\n",
      "adi_ad9081_dac_chan_select_set(...)\n",
      "adi_ad9081_dac_duc_nco_ftw0_set(...)\n",
      "adi_ad9081_dac_chan_select_set(...)\n",
      "CHIP_TYPE     = 0f\n",
      "PROD_ID_LSB   = 82\n",
      "PROD_ID_MSB   = 90\n",
      "CHIP_GRADE    = 23\n",
      "SPI_REVISION  = 01\n",
      "VENDER_ID_LSB = 56\n",
      "VENDER_ID_MSB = 04\n",
      "adi_ad9081_device_hw_close(...)\n",
      "\n"
     ]
    }
   ],
   "source": [
    "print(qube[PortNo.P5].dac.nco.lsi.set_nco(freq=1*15.625*1e+6, ch=4, adc_mode=False, fine_mode=True))"
   ]
  },
  {
   "cell_type": "code",
   "execution_count": 7,
   "id": "b04b4435-886d-4883-bbc7-5dac339b0e57",
   "metadata": {},
   "outputs": [],
   "source": [
    "o = SimpleSendRecvProto(\n",
    "    duration = 1000e-9,\n",
    "    wait_words = 0,\n",
    "    readin_port = qube[PortFunc.Readin1],\n",
    "    readout_awg = qube.awg[PortFunc.Readout1],\n",
    ")"
   ]
  },
  {
   "cell_type": "code",
   "execution_count": 8,
   "id": "0fde37f7-a9e6-4a9b-b402-6481ca808e6d",
   "metadata": {},
   "outputs": [],
   "source": [
    "o.capture_delay = 0.85e-6\n",
    "o.additional_captue_length = 0.2e-6\n",
    "o.repeats = 1\n",
    "\n",
    "a = qube.awg[PortFunc.Readout1]\n",
    "w = o.new_sequence(a)\n",
    "o.wave_property[a].mhz = 0\n",
    "\n",
    "a = qube.awg[PortFunc.Ctrl2][Lane.L0]\n",
    "w = o.new_sequence(a)\n",
    "o.wave_property[a].mhz = 0\n",
    "o.trigger = a\n",
    "\n",
    "a = qube.awg[PortFunc.Ctrl2][Lane.L1]\n",
    "w = o.new_sequence(a)\n",
    "o.wave_property[a].mhz = 0"
   ]
  },
  {
   "cell_type": "code",
   "execution_count": 10,
   "id": "0a988ec3-c569-4401-85c6-83aab4fd8b52",
   "metadata": {},
   "outputs": [],
   "source": [
    "import math\n",
    "def truncated_frequency(mhz):\n",
    "    MAGIC_FREQ = 15.625\n",
    "    return math.floor(mhz // MAGIC_FREQ) * MAGIC_FREQ"
   ]
  },
  {
   "cell_type": "code",
   "execution_count": 103,
   "id": "3bd06ad4-546c-46a2-9711-77bdbb861dbe",
   "metadata": {},
   "outputs": [],
   "source": [
    "w = o.sequence[qube.awg[PortFunc.Readout1]]\n",
    "t = w.timeline\n",
    "w.iq[(500e-9 <= t) & (t < 900e-9)] = 1.0 + 1j * 0.0\n",
    "\n",
    "wc0 = o.new_sequence()\n",
    "w.iq[(500e-9 <= t) & (t < 900e-9)] = 1.0 + 1j * 0.0\n",
    "\n",
    "wc10 = o.new_sequence()\n",
    "w.iq[(500e-9 <= t) & (t < 900e-9)] = 1.0 + 1j * 0.0\n",
    "\n",
    "wc11 = o.new_sequence()\n",
    "w.iq[(500e-9 <= t) & (t < 900e-9)] = 1.0 + 1j * 0.0\n",
    "\n",
    "wt00 = o.new_sequence()\n",
    "w.iq[(500e-9 <= t) & (t < 900e-9)] = 1.0 + 1j * 0.0\n",
    "\n",
    "wt01 = o.new_sequence()\n",
    "w.iq[(500e-9 <= t) & (t < 900e-9)] = 1.0 + 1j * 0.0\n",
    "\n",
    "wt02 = o.new_sequence()\n",
    "w.iq[(500e-9 <= t) & (t < 900e-9)] = 1.0 + 1j * 0.0\n",
    "\n",
    "# Wave Sequence を アサイン\n",
    "o.assign(qube.awg[PortFunc.Ctrl2][Lane.L0], wc0)\n",
    "o.assign(qube.awg[PortFunc.Ctrl2][Lane.L1], wc10)\n",
    "o.assign(qube.awg[PortFunc.Ctrl3][Lane.L0], wt00)\n"
   ]
  },
  {
   "cell_type": "code",
   "execution_count": 101,
   "id": "a3c6c6a5-6319-4cee-b7d4-c4d41e30c349",
   "metadata": {},
   "outputs": [
    {
     "name": "stdout",
     "output_type": "stream",
     "text": [
      "AWG Frequency (Readout1) 15.625 MHz\n",
      "AWG Frequency (Ctrl2) -15.625 MHz\n"
     ]
    },
    {
     "data": {
      "text/plain": [
       "['0: RF = 9000.000 MHz LO =  8000    MHz IF = 1000.000 MHz LSB/USB: USB MODE AWG: Inactive',\n",
       " '1: RF = 9000.000 MHz LO =  8000    MHz IF = 1000.000 MHz ',\n",
       " '5: RF = 11000.000 MHz LO = 12000    MHz IF = 1000.000 MHz LSB/USB: LSB MODE AWG: Inactive',\n",
       " '6: RF = 10000.000 MHz LO = 11000    MHz IF = 1000.000 MHz LSB/USB: LSB MODE AWG: Inactive',\n",
       " '7: RF = 9984.375 MHz LO = 11000    MHz IF = 1015.625 MHz LSB/USB: LSB MODE AWG: Inactive',\n",
       " '8: RF = 10000.000 MHz LO = 11000    MHz IF = 1000.000 MHz LSB/USB: LSB MODE AWG: Inactive',\n",
       " '12: RF = 9984.375 MHz LO =  9000    MHz IF = 984.375 MHz ',\n",
       " '13: RF = 9984.375 MHz LO =  9000    MHz IF = 984.375 MHz LSB/USB: USB MODE AWG: Inactive']"
      ]
     },
     "execution_count": 101,
     "metadata": {},
     "output_type": "execute_result"
    }
   ],
   "source": [
    "p = PortFunc.Readout1 # ポートの選択\n",
    "cnco_mhz, awg_mhz = qube[p].set_freq(10000, 9000) # 周波数の設定 (Coarse NCO)\n",
    "qube[PortFunc.Readin1].adc.nco.freq = cnco_mhz\n",
    "o.wave_property[qube.awg[p]].mhz = awg_mhz # AWG の変調周波数 (-200MHz ~ +200MHz ぐらいが実用範囲？)\n",
    "qube[p].vatt = 0x800 # 出力の設定\n",
    "print('AWG Frequency (Readout1) {} MHz'.format(awg_mhz), flush=True)\n",
    "\n",
    "p = PortFunc.Ctrl0\n",
    "nco_mhz, awg_mhz = qube[p].set_freq(10000, 11000)\n",
    "o.wave_property[qube.awg[p][Lane.L0]].mhz = awg_mhz\n",
    "qube[p].vatt = 0x800\n",
    "print('AWG Frequency (Ctrl3) {} MHz'.format(awg_mhz), flush=True)\n",
    "qube[p].dac.nco.lsi.set_nco(freq=-0*15.625*1e+6, ch=3, adc_mode=False, fine_mode=True)\n",
    "o.wave_property[qube.awg[p][Lane.L1]].mhz = ???? 端数\n",
    "\n",
    "p = PortFunc.Ctrl3\n",
    "nco_mhz, awg_mhz = qube[p].set_freq(10000, 11000)\n",
    "o.wave_property[qube.awg[p][Lane.L0]].mhz = awg_mhz\n",
    "qube[p].vatt = 0x800\n",
    "print('AWG Frequency (Ctrl3) {} MHz'.format(awg_mhz), flush=True)\n",
    "\n",
    "['{}: {}'.format(k, v.status) for k, v in qube.port.items()]"
   ]
  },
  {
   "cell_type": "code",
   "execution_count": 102,
   "id": "63ee647a-6831-47a7-9320-0198ada34501",
   "metadata": {},
   "outputs": [
    {
     "data": {
      "text/plain": [
       "(0.0, 1.2e-06)"
      ]
     },
     "execution_count": 102,
     "metadata": {},
     "output_type": "execute_result"
    },
    {
     "data": {
      "image/png": "[encoded data removed]",
      "text/plain": [
       "<Figure size 576x864 with 3 Axes>"
      ]
     },
     "metadata": {
      "needs_background": "light"
     },
     "output_type": "display_data"
    }
   ],
   "source": [
    "from e7awgsw import CaptureUnit\n",
    "import numpy as np\n",
    "o.capture_delay = 0.85e-6 # 冷凍機内へ打ち込んだ信号の応答が帰ってくるまでの遅延のための待機時間\n",
    "\n",
    "%matplotlib inline\n",
    "import matplotlib.pyplot as plt\n",
    "\n",
    "fig, ax = plt.subplots(3,1, figsize=(8,12))\n",
    "\n",
    "awg = qube.awg[PortFunc.Readout1]\n",
    "a = np.array(o.sequence[awg].iq)\n",
    "t = np.array(o.sequence[awg].timeline)\n",
    "ax[0].plot(t,np.real(a))\n",
    "ax[0].plot(t,np.imag(a))\n",
    "ax[0].set_xlim(0, 1.2e-6)\n",
    "awg = qube.awg[PortFunc.Ctrl2][Lane.L0]\n",
    "a = np.array(o.sequence[awg].iq)\n",
    "t = np.array(o.sequence[awg].timeline)\n",
    "ax[1].plot(t,np.real(a))\n",
    "ax[1].plot(t,np.imag(a))\n",
    "ax[1].set_xlim(0, 1.2e-6)\n",
    "\n",
    "# Wave Sequence を 再アサイン\n",
    "o.assign(qube.awg[PortFunc.Ctrl2][Lane.L0], wc0)\n",
    "o.assign(qube.awg[PortFunc.Ctrl2][Lane.L1], wc10)\n",
    "o.assign(qube.awg[PortFunc.Ctrl3][Lane.L0], wt00)\n",
    "d = o.start()\n",
    "\n",
    "a = d[CaptureUnit.U0]\n",
    "b, t = o.downconv(a, qube.awg[PortFunc.Readout1])\n",
    "ax[2].plot(t, np.real(b) / np.max(np.abs(b)))\n",
    "ax[2].plot(t, np.imag(b) / np.max(np.abs(b)))\n",
    "ax[2].set_xlim(0, 1.2e-6)\n",
    "\n"
   ]
  },
  {
   "cell_type": "code",
   "execution_count": 17,
   "id": "90b6b6e9-689c-4d3b-91b8-697d843293c7",
   "metadata": {},
   "outputs": [
    {
     "name": "stdout",
     "output_type": "stream",
     "text": [
      "import os\n",
      "import subprocess\n",
      "\n",
      "import qubelsi.udpsendrecv\n",
      "\n",
      "class AD9082:\n",
      "\n",
      "    def __init__(self, addr, path, chip):\n",
      "        self.addr = addr\n",
      "        self.chip = str(chip)\n",
      "        self.path = path\n",
      "        self.handle = qubelsi.udpsendrecv.UDPSendRecv(addr, path)\n",
      "\n",
      "    def _setenv(self):\n",
      "        os.environ['TARGET_ADDR'] = self.addr\n",
      "        os.environ['AD9082_CHIP'] = self.chip\n",
      "    \n",
      "    def read_info(self):\n",
      "        self._setenv()\n",
      "        ret = subprocess.check_output(\"{}/src/print_ad9082_info\".format(self.path), encoding='utf-8')\n",
      "        return ret\n",
      "\n",
      "    def set_nco(self, freq, ch, adc_mode=False, fine_mode=False):\n",
      "        self._setenv()\n",
      "        cmd = [\"{}/src/set_nco\".format(self.path),\n",
      "               \"--channel={}\".format(ch),\n",
      "               \"--freq={}\".format(freq),\n",
      "        ]\n",
      "        if adc_mode:\n",
      "            cmd.append(\"--adc-mode\")\n",
      "        if fine_mode:\n",
      "            cmd.append(\"--fine-mode\")\n",
      "        ret = subprocess.check_output(cmd, encoding='utf-8')\n",
      "        return ret\n",
      "\n",
      "    def set_xbar(self, ch, value):\n",
      "        self._setenv()\n",
      "        cmd = [\"{}/src/set_xbar\".format(self.path),\n",
      "               \"--channel={}\".format(ch),\n",
      "               \"--value={:02x}\".format(value),\n",
      "        ]\n",
      "        ret = subprocess.check_output(cmd, encoding='utf-8')\n",
      "        return ret\n",
      "\n",
      "    def set_fsc(self, ch, value, rerun_cal=False):\n",
      "        self._setenv()\n",
      "        cmd = [\"{}/src/set_fsc\".format(self.path),\n",
      "               \"--channel={}\".format(ch),\n",
      "               \"--value={}\".format(value),\n",
      "        ]\n",
      "        if rerun_cal:\n",
      "            cmd.append(\"--rerun-cal\")\n",
      "        ret = subprocess.check_output(cmd, encoding='utf-8')\n",
      "        return ret\n",
      "\n",
      "    def get_jesd_status(self):\n",
      "        self._setenv()\n",
      "        ret = subprocess.check_output(\"{}/src/get_jesd_status\".format(self.path), encoding='utf-8')\n",
      "        return [x for x in [x.split('=') for x in ret.split('\\n')] if len(x) == 2]\n",
      "\n",
      "    def write_value(self, addr, value):\n",
      "        return self.handle.write_ad9082(self.chip, addr, value)\n",
      "\n",
      "    def read_value(self, addr):\n",
      "        return self.handle.read_ad9082(self.chip, addr)\n",
      "\n",
      "    def do_init(self, message_out=False):\n",
      "        self._setenv()\n",
      "        ret = subprocess.check_output(\"{}/v1.0.6/src/hello\".format(self.path), encoding='utf-8')\n",
      "        if message_out:\n",
      "            print(ret)\n",
      "\n"
     ]
    }
   ],
   "source": [
    "import inspect\n",
    "import e7awgsw\n",
    "import qubelsi\n",
    "print(inspect.getsource(qubelsi.ad9082))"
   ]
  },
  {
   "cell_type": "code",
   "execution_count": null,
   "id": "75589e6c-17f8-40bc-87d2-25c488a39440",
   "metadata": {},
   "outputs": [],
   "source": []
  }
 ],
 "metadata": {
  "kernelspec": {
   "display_name": "Python 3 (ipykernel)",
   "language": "python",
   "name": "python3"
  },
  "language_info": {
   "codemirror_mode": {
    "name": "ipython",
    "version": 3
   },
   "file_extension": ".py",
   "mimetype": "text/x-python",
   "name": "python",
   "nbconvert_exporter": "python",
   "pygments_lexer": "ipython3",
   "version": "3.9.10"
  }
 },
 "nbformat": 4,
 "nbformat_minor": 5
}
