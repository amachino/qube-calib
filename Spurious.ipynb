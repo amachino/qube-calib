{
 "cells": [
  {
   "cell_type": "code",
   "execution_count": 2,
   "id": "31328b72-819e-4a5e-b93e-e753cfb15517",
   "metadata": {},
   "outputs": [],
   "source": [
    "import numpy as np\n",
    "import importlib\n",
    "import matplotlib.pyplot as plt\n",
    "import pickle\n",
    "from IPython.display import clear_output\n",
    "# import bokeh.io\n",
    "# import bokeh.plotting\n",
    "# import bokeh.models"
   ]
  },
  {
   "cell_type": "code",
   "execution_count": null,
   "id": "2f9969ba-e6e1-49c9-b0c1-14de680eaf03",
   "metadata": {},
   "outputs": [],
   "source": [
    "import qubelsi.qube\n",
    "import inspect"
   ]
  },
  {
   "cell_type": "code",
   "execution_count": null,
   "id": "11936723-441c-4e22-974e-9355bcb3a3dc",
   "metadata": {},
   "outputs": [],
   "source": [
    "qube = qubelsi.qube.Qube('10.5.0.23',\"/home/qube/adi_api_mod\") # Riken1-05\n",
    "#qube.do_init(bitfile=\"/home/qube/bin/069414.bit\", message_out=True)\n",
    "#qube.do_init()"
   ]
  },
  {
   "cell_type": "code",
   "execution_count": 1,
   "id": "adc14025-aef9-4b1d-a494-eec4352d0b33",
   "metadata": {},
   "outputs": [
    {
     "data": {
      "text/plain": [
       "'\"Anritsu,MS2038C/19,2146021,4.30\"'"
      ]
     },
     "execution_count": 1,
     "metadata": {},
     "output_type": "execute_result"
    }
   ],
   "source": [
    "import pyvisa\n",
    "import time\n",
    "m = pyvisa.ResourceManager('@py')\n",
    "inst = m.open_resource(\"TCPIP0::10.250.0.10::inst0::INSTR\")\n",
    "inst.query('*IDN?')"
   ]
  },
  {
   "cell_type": "code",
   "execution_count": 3,
   "id": "5629a26f-0a7e-43de-9a7d-7c947e41d503",
   "metadata": {},
   "outputs": [],
   "source": [
    "# MS2038Cから測定データを読み出す\n",
    "def get_freq_from_ms2038c(inst):\n",
    "    myfind = lambda k, l: next(filter(lambda x: x.startswith(\"{}=\".format(k)), l))\n",
    "    myconv = lambda s: float(s.split('=')[1].replace(' MHZ', ''))\n",
    "    inst.timeout = 10000\n",
    "    preamble = inst.query(':TRAC:PRE?')[10:].split(',')\n",
    "    fstart = myconv(myfind('START_FREQ', preamble))\n",
    "    fstop = myconv(myfind('STOP_FREQ', preamble))\n",
    "    npts = int(float(myfind('UI_DATA_POINTS', preamble).split('=')[1]))\n",
    "    return np.linspace(fstart, fstop, npts)\n",
    "    \n",
    "def get_trace_from_ms2038c(inst):\n",
    "    return np.loadtxt(inst.query(':TRAC?')[6:].split(','))"
   ]
  },
  {
   "cell_type": "code",
   "execution_count": null,
   "id": "bb63264c-b843-4863-ad6f-5165ef9b2426",
   "metadata": {},
   "outputs": [],
   "source": [
    "offset = lambda l, d: [v + i*d for i, v in enumerate(l)]\n",
    "\n",
    "def plot_spurious_multi(p, d):\n",
    "    p.renderers = []\n",
    "    p.multi_line(offset(d['freq'],10), offset(d['trace'],0))\n",
    "    bokeh.plotting.show(p)    \n",
    "    \n",
    "def plot_spurious(p, d, i):\n",
    "    p.renderers = []\n",
    "    p.line(d['freq'][i], d['trace'][i])\n",
    "    bokeh.plotting.show(p)    "
   ]
  },
  {
   "cell_type": "code",
   "execution_count": null,
   "id": "1681575c-6544-4196-b099-910079f02138",
   "metadata": {},
   "outputs": [],
   "source": [
    "import examples.long_send.long_send\n",
    "import examples.long_send.stop_awgs"
   ]
  },
  {
   "cell_type": "code",
   "execution_count": null,
   "id": "8da3ce69-69ce-4d49-bace-56bc584d01a9",
   "metadata": {},
   "outputs": [],
   "source": [
    "from collections import namedtuple\n",
    "\n",
    "Vatt = namedtuple('Vatt', ('dac', 'ch'))\n",
    "Upconv = namedtuple('Upconv', ('vatt',))\n",
    "Ifdac = namedtuple('Ifdac', ('ad9082', 'ch'))\n",
    "CtrlPort = namedtuple('CtrlPort', ('losc', 'ifdac', 'upconv'))\n",
    "\n",
    "port = {\n",
    "    5 : CtrlPort(qube.lmx2594[2], Ifdac(qube.ad9082[0], 2), Upconv(Vatt(qube.ad5328, 2))), # CTRL1\n",
    "    6 : CtrlPort(qube.lmx2594[3], Ifdac(qube.ad9082[0], 3), Upconv(Vatt(qube.ad5328, 3))), # CTRL2\n",
    "    7 : CtrlPort(qube.lmx2594[4], Ifdac(qube.ad9082[1], 0), Upconv(Vatt(qube.ad5328, 4))), # CTRL3\n",
    "    8 : CtrlPort(qube.lmx2594[5], Ifdac(qube.ad9082[1], 1), Upconv(Vatt(qube.ad5328, 5))), # CTRL4\n",
    "}\n",
    "\n",
    "def apply_lmx2594(o):\n",
    "    o.write_value(0x00, 0x6418)\n",
    "    return True\n",
    "    \n",
    "def set_lmx2594_OUTA_PD(o, b):\n",
    "    if b:\n",
    "        v = o.read_value(44) & 0b1111111110111111\n",
    "    else:\n",
    "        v = o.read_value(44) | 0b0000000001000000\n",
    "    o.write_value(44, v)\n",
    "    return v\n",
    "\n",
    "def set_lmx2594_OUTB_PD(o, b):\n",
    "    if b:\n",
    "        v = o.read_value(44) & 0b1111111101111111\n",
    "    else:\n",
    "        v = o.read_value(44) | 0b0000000010000000\n",
    "    o.write_value(44, v)\n",
    "    return v\n",
    "\n",
    "def set_lmx2594_OUTA_PWR(o, n): # 0 - 63\n",
    "    v = o.read_value(44) & 0b1100000011111111 | n * 0x100\n",
    "    o.write_value(44, v)\n",
    "    return v\n",
    "\n",
    "def set_lmx2594_OUTB_PWR(o, n): # 0 - 63\n",
    "    v = o.read_value(45) & 0b1111111111000000 | n\n",
    "    o.write_value(45, v)\n",
    "    return v\n",
    "\n",
    "def set_lmx2594_freq_100M(lmx2594, n):\n",
    "    lmx2594.write_value(0x24, n)\n",
    "    return n\n",
    "\n",
    "def set_flo_according_to_frf(lmx2594, frf, fif, apply=True): # MHz\n",
    "    flo = frf + fif\n",
    "    set_lmx2594_freq_100M(lmx2594, int(flo*1e-2))\n",
    "    if apply:\n",
    "        apply_lmx2594(lmx2594)\n",
    "    return flo\n",
    "\n",
    "def set_flo_fnco_according_to_frf(port, frf, fif, apply=True): #MHz\n",
    "    fif = 1900\n",
    "    fnco = fif - 2.5\n",
    "    ifdac = port.ifdac\n",
    "    ifdac.ad9082.set_nco(ch=ifdac.ch, freq=fnco*1e+6)\n",
    "    flo = set_flo_according_to_frf(port.losc, frf, fif, apply=apply)\n",
    "    return flo, fnco\n",
    "    \n",
    "def read_peak(inst, fc): # MHz\n",
    "    #inst.write(':INIT:CONT OFF; *WAI')\n",
    "    inst.write(':FREQ:CENT {} MHZ; *WAI'.format(fc))\n",
    "    #inst.write(':INIT ONCE')\n",
    "    time.sleep(2)\n",
    "    inst.write('CALC:MARK1:MAX')\n",
    "    x = inst.query('CALC:MARK1:X?')\n",
    "    y = inst.query('CALC:MARK1:Y?')\n",
    "    #inst.write(':INIT:CONT ON; *WAI')\n",
    "    return x, y\n",
    "\n",
    "def apply_vatt(ad5328):\n",
    "    ad5328.write_value(0xA, 0x002)\n",
    "    return True\n",
    "\n",
    "def set_vatt(vatt, v, apply=True): # max 4095\n",
    "    vatt.dac.write_value(vatt.ch, v)\n",
    "    if apply:\n",
    "        apply_vatt(vatt.dac)\n",
    "    return v/0xfff*3.3\n",
    "\n",
    "#read_peak(inst, 8500)"
   ]
  },
  {
   "cell_type": "code",
   "execution_count": null,
   "id": "0b9c8340-f008-4125-8120-4a027b42f931",
   "metadata": {},
   "outputs": [],
   "source": [
    "# ADRF6780のVATTを変更しながらスペクトルを取得する\n",
    "set_flo_fnco_according_to_frf(port[8], 9000, 3000)\n",
    "\n",
    "def sweep_ms2038c(inst):\n",
    "    inst.write(':INIT')\n",
    "    while True:\n",
    "        time.sleep(.1)\n",
    "        if inst.query(':STAT:OPER?') == '256':\n",
    "            break\n",
    "    return True\n",
    "\n",
    "inst.write(':INIT:CONT OFF')\n",
    "freq = get_freq_from_ms2038c(inst)\n",
    "data = {'freq':[], 'trace':[], 'vatt':[]}\n",
    "\n",
    "p = bokeh.plotting.figure(height=300, toolbar_location=None, sizing_mode=\"stretch_width\")\n",
    "bokeh.plotting.output_notebook()\n",
    "plot_spurious_multi(p, data)\n",
    "for i, v in enumerate(range(0,0xD00,0x100)):\n",
    "    set_vatt(port[8].upconv.vatt, v)\n",
    "    sweep_ms2038c(inst)\n",
    "    data['vatt'].append(hex(v))\n",
    "    data['freq'].append(freq)\n",
    "    data['trace'].append(get_trace_from_ms2038c(inst))\n",
    "    clear_output()\n",
    "    plot_spurious_multi(p, data)    "
   ]
  },
  {
   "cell_type": "markdown",
   "id": "adefa087-211a-43f5-9661-c292f757982a",
   "metadata": {
    "tags": []
   },
   "source": [
    "# 測定データの保存"
   ]
  },
  {
   "cell_type": "code",
   "execution_count": null,
   "id": "cf930916-16e1-4548-a3a6-33f83b48ede4",
   "metadata": {},
   "outputs": [],
   "source": [
    "with open('if2000rf9600.pickle', 'wb') as f:\n",
    "    pickle.dump(data, f)"
   ]
  },
  {
   "cell_type": "markdown",
   "id": "88211474-88d3-4a2c-81cd-159c0ea71e6e",
   "metadata": {},
   "source": [
    "# 測定データの復旧"
   ]
  },
  {
   "cell_type": "code",
   "execution_count": null,
   "id": "7be99ddc-fefc-48cf-91bc-ee224f024d62",
   "metadata": {},
   "outputs": [],
   "source": [
    "with open('if2000rf9600.pickle', 'rb') as f:\n",
    "    data = pickle.load(f)"
   ]
  }
 ],
 "metadata": {
  "kernelspec": {
   "display_name": "Python 3 (ipykernel)",
   "language": "python",
   "name": "python3"
  },
  "language_info": {
   "codemirror_mode": {
    "name": "ipython",
    "version": 3
   },
   "file_extension": ".py",
   "mimetype": "text/x-python",
   "name": "python",
   "nbconvert_exporter": "python",
   "pygments_lexer": "ipython3",
   "version": "3.9.10"
  }
 },
 "nbformat": 4,
 "nbformat_minor": 5
}
