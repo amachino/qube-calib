{
 "cells": [
  {
   "cell_type": "code",
   "execution_count": 3,
   "id": "982d9bb7-8d73-4eab-82d2-be45d3b8c371",
   "metadata": {},
   "outputs": [
    {
     "data": {
      "application/vnd.jupyter.widget-view+json": {
       "model_id": "66ec7632361048e5bb79dfc3132c8cc6",
       "version_major": 2,
       "version_minor": 0
      },
      "text/plain": [
       "QubeLoadConfigPanel(children=(HBox(children=(Text(value='riken_1_1.yaml', description='Config'), Button(descri…"
      ]
     },
     "metadata": {},
     "output_type": "display_data"
    },
    {
     "data": {
      "application/vnd.jupyter.widget-view+json": {
       "model_id": "e27ff746af064243ac567a78a740240f",
       "version_major": 2,
       "version_minor": 0
      },
      "text/plain": [
       "QubeSetupPanel(children=(Text(value='', description='IP Address for eXtickGE', disabled=True, style=Descriptio…"
      ]
     },
     "metadata": {},
     "output_type": "display_data"
    }
   ],
   "source": [
    "from qubecalib import Qube\n",
    "import qubeui as qu\n",
    "\n",
    "QUBE = Qube()\n",
    "# QUBE.load('riken_1_1.yaml')\n",
    "qu.display(qu.QubeLoadConfigPanel(QUBE))\n",
    "qu.display(qu.QubeSetupPanel(QUBE))\n"
   ]
  },
  {
   "cell_type": "code",
   "execution_count": null,
   "id": "bb90b1ac-50e6-47fe-a7db-1553edee1fde",
   "metadata": {},
   "outputs": [],
   "source": []
  }
 ],
 "metadata": {
  "kernelspec": {
   "display_name": "Python 3 (ipykernel)",
   "language": "python",
   "name": "python3"
  },
  "language_info": {
   "codemirror_mode": {
    "name": "ipython",
    "version": 3
   },
   "file_extension": ".py",
   "mimetype": "text/x-python",
   "name": "python",
   "nbconvert_exporter": "python",
   "pygments_lexer": "ipython3",
   "version": "3.9.10"
  }
 },
 "nbformat": 4,
 "nbformat_minor": 5
}
