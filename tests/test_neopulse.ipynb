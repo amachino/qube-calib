{
 "cells": [
  {
   "cell_type": "code",
   "execution_count": 1,
   "metadata": {},
   "outputs": [
    {
     "data": {
      "text/plain": [
       "(Sequence([Slot(duration=1e-07, begin=0.0),\n",
       "           Slot(duration=2e-07, begin=1e-07),\n",
       "           Slot(duration=3e-07, begin=3e-07)]),\n",
       " {1: Slot(duration=1e-07, begin=0.0),\n",
       "  2: Slot(duration=2e-07, begin=1e-07),\n",
       "  3: Slot(duration=3e-07, begin=3e-07)})"
      ]
     },
     "execution_count": 1,
     "metadata": {},
     "output_type": "execute_result"
    }
   ],
   "source": [
    "from qubecalib.neopulseexp import Sequence, Slot\n",
    "\n",
    "with Sequence() as seq:\n",
    "    Slot(100e-9)\n",
    "    Slot(200e-9)\n",
    "    Slot(300e-9)\n",
    "\n",
    "seq._tree.place_slots()\n",
    "seq, seq._tree._nodes_items"
   ]
  },
  {
   "cell_type": "code",
   "execution_count": 2,
   "metadata": {},
   "outputs": [
    {
     "data": {
      "text/plain": [
       "({1: SeriesBranch(duration=3.0000000000000004e-09, begin=0.0, next_node=1, root_node=2),\n",
       "  2: Dummy(duration=0, begin=0.0),\n",
       "  3: Slot(duration=1e-09, begin=0.0),\n",
       "  4: Slot(duration=2e-09, begin=1.0000000000000003e-09)},\n",
       " Tree(list, {0: [1, 2], 2: [3], 3: [4], 1: [], 4: []}))"
      ]
     },
     "execution_count": 2,
     "metadata": {},
     "output_type": "execute_result"
    }
   ],
   "source": [
    "from qubecalib.neopulseexp import Sequence, SubSequence, Slot, Series, Flushleft, Flushright\n",
    "\n",
    "with Sequence() as seq:\n",
    "    with Series():\n",
    "        Slot(1e-9)\n",
    "        Slot(2e-9)\n",
    "\n",
    "seq._tree.place_slots()\n",
    "seq._tree._nodes_items, seq._get_tree()"
   ]
  },
  {
   "cell_type": "code",
   "execution_count": 3,
   "metadata": {},
   "outputs": [
    {
     "data": {
      "text/plain": [
       "({1: FlushleftBranch(duration=2e-09, begin=0.0, next_node=1, root_node=2),\n",
       "  2: Dummy(duration=0, begin=0.0),\n",
       "  3: Slot(duration=1e-09, begin=0.0),\n",
       "  4: Slot(duration=2e-09, begin=0.0)},\n",
       " Tree(list, {0: [1, 2], 2: [3, 4], 1: [], 3: [], 4: []}))"
      ]
     },
     "execution_count": 3,
     "metadata": {},
     "output_type": "execute_result"
    }
   ],
   "source": [
    "from qubecalib.neopulseexp import Sequence, SubSequence, Slot, Series, Flushleft, Flushright\n",
    "\n",
    "with Sequence() as seq:\n",
    "    with Flushleft():\n",
    "        Slot(1e-9)\n",
    "        Slot(2e-9)\n",
    "\n",
    "seq._tree.place_slots()\n",
    "seq._tree._nodes_items, seq._get_tree()"
   ]
  },
  {
   "cell_type": "code",
   "execution_count": 4,
   "metadata": {},
   "outputs": [
    {
     "data": {
      "text/plain": [
       "({1: FlushrightBranch(duration=2e-09, begin=0.0, next_node=1, root_node=2),\n",
       "  2: Dummy(duration=0, begin=0.0),\n",
       "  3: Padding(duration=1e-09, begin=0.0),\n",
       "  5: Padding(duration=0.0, begin=0.0),\n",
       "  4: Slot(duration=1e-09, begin=1e-09),\n",
       "  6: Slot(duration=2e-09, begin=0.0)},\n",
       " Tree(list, {0: [1, 2], 2: [3, 5], 3: [4], 5: [6], 1: [], 4: [], 6: []}),\n",
       " {1: 2e-09, 2: 0, 3: 1e-09, 5: 0.0, 4: 1e-09, 6: 2e-09})"
      ]
     },
     "execution_count": 4,
     "metadata": {},
     "output_type": "execute_result"
    }
   ],
   "source": [
    "from qubecalib.neopulseexp import Sequence, SubSequence, Slot, Series, Flushleft, Flushright\n",
    "\n",
    "with Sequence() as seq:\n",
    "    with Flushright():\n",
    "        Slot(1e-9)\n",
    "        Slot(2e-9)\n",
    "\n",
    "seq._tree.place_slots()\n",
    "seq._tree._nodes_items, seq._get_tree(), seq._tree._tree._cost"
   ]
  },
  {
   "cell_type": "code",
   "execution_count": 5,
   "metadata": {},
   "outputs": [
    {
     "name": "stdout",
     "output_type": "stream",
     "text": [
      "{1: SubSequenceBranch(duration=None, begin=None, next_node=1, root_node=2), 2: Dummy(duration=0, begin=None), 3: Slot(duration=9e-09, begin=None), 4: FlushrightBranch(duration=None, begin=None, next_node=4, root_node=5), 5: Dummy(duration=0, begin=None), 16: FlushleftBranch(duration=None, begin=None, next_node=16, root_node=17), 17: Dummy(duration=0, begin=None), 6: Padding(duration=0, begin=None), 11: Padding(duration=0, begin=None), 18: SeriesBranch(duration=None, begin=None, next_node=18, root_node=19), 19: Dummy(duration=0, begin=None), 22: SeriesBranch(duration=None, begin=None, next_node=22, root_node=23), 23: Dummy(duration=0, begin=None), 7: SeriesBranch(duration=None, begin=None, next_node=7, root_node=8), 8: Dummy(duration=0, begin=None), 12: SeriesBranch(duration=None, begin=None, next_node=12, root_node=13), 13: Dummy(duration=0, begin=None), 20: Slot(duration=5e-09, begin=None), 24: Slot(duration=7e-09, begin=None), 9: Slot(duration=1e-09, begin=None), 14: Slot(duration=3e-09, begin=None), 21: Slot(duration=6e-09, begin=None), 25: Slot(duration=8e-09, begin=None), 10: Slot(duration=2e-09, begin=None), 15: Slot(duration=4e-09, begin=None)}\n"
     ]
    },
    {
     "data": {
      "text/plain": [
       "({1: SubSequenceBranch(duration=3.1e-08, begin=0.0, next_node=1, root_node=2),\n",
       "  2: Dummy(duration=0, begin=0.0),\n",
       "  3: Slot(duration=9e-09, begin=0.0),\n",
       "  4: FlushrightBranch(duration=7e-09, begin=8.999999999999998e-09, next_node=4, root_node=5),\n",
       "  5: Dummy(duration=0, begin=9e-09),\n",
       "  16: FlushleftBranch(duration=1.5000000000000002e-08, begin=1.5999999999999998e-08, next_node=16, root_node=17),\n",
       "  17: Dummy(duration=0, begin=1.5999999999999998e-08),\n",
       "  6: Padding(duration=3.9999999999999994e-09, begin=9e-09),\n",
       "  11: Padding(duration=0.0, begin=9e-09),\n",
       "  18: SeriesBranch(duration=1.1e-08, begin=1.5999999999999998e-08, next_node=18, root_node=19),\n",
       "  19: Dummy(duration=0, begin=1.5999999999999998e-08),\n",
       "  22: SeriesBranch(duration=1.5000000000000002e-08, begin=1.5999999999999998e-08, next_node=22, root_node=23),\n",
       "  23: Dummy(duration=0, begin=1.5999999999999998e-08),\n",
       "  7: SeriesBranch(duration=3.0000000000000004e-09, begin=1.2999999999999997e-08, next_node=7, root_node=8),\n",
       "  8: Dummy(duration=0, begin=1.2999999999999999e-08),\n",
       "  12: SeriesBranch(duration=7e-09, begin=8.999999999999998e-09, next_node=12, root_node=13),\n",
       "  13: Dummy(duration=0, begin=9e-09),\n",
       "  20: Slot(duration=5e-09, begin=1.5999999999999998e-08),\n",
       "  24: Slot(duration=7e-09, begin=1.5999999999999998e-08),\n",
       "  9: Slot(duration=1e-09, begin=1.2999999999999999e-08),\n",
       "  14: Slot(duration=3e-09, begin=9e-09),\n",
       "  21: Slot(duration=6e-09, begin=2.0999999999999996e-08),\n",
       "  25: Slot(duration=8e-09, begin=2.3e-08),\n",
       "  10: Slot(duration=2e-09, begin=1.4000000000000001e-08),\n",
       "  15: Slot(duration=4e-09, begin=1.2000000000000002e-08)},\n",
       " Tree(list,\n",
       "      {0: [1, 2],\n",
       "       2: [3],\n",
       "       3: [4, 5],\n",
       "       5: [6, 11],\n",
       "       6: [7, 8],\n",
       "       8: [9],\n",
       "       9: [10],\n",
       "       11: [12, 13],\n",
       "       13: [14],\n",
       "       14: [15],\n",
       "       4: [16, 17],\n",
       "       17: [18, 19, 22, 23],\n",
       "       19: [20],\n",
       "       20: [21],\n",
       "       23: [24],\n",
       "       24: [25],\n",
       "       1: [],\n",
       "       16: [],\n",
       "       18: [],\n",
       "       22: [],\n",
       "       7: [],\n",
       "       12: [],\n",
       "       21: [],\n",
       "       25: [],\n",
       "       10: [],\n",
       "       15: []}))"
      ]
     },
     "execution_count": 5,
     "metadata": {},
     "output_type": "execute_result"
    }
   ],
   "source": [
    "from qubecalib.neopulseexp import Sequence, SubSequence, Slot, Series, Flushleft, Flushright\n",
    "\n",
    "with Sequence() as seq:\n",
    "    with SubSequence():\n",
    "        Slot(9e-9)\n",
    "        with Flushright():\n",
    "            with Series():\n",
    "                Slot(1e-9)\n",
    "                Slot(2e-9)\n",
    "            with Series():\n",
    "                Slot(3e-9)\n",
    "                Slot(4e-9)\n",
    "        with Flushleft():\n",
    "            with Series():\n",
    "                Slot(5e-9)\n",
    "                Slot(6e-9)\n",
    "            with Series():\n",
    "                Slot(7e-9)\n",
    "                Slot(8e-9)\n",
    "\n",
    "print(seq._tree._nodes_items)\n",
    "seq._tree.place_slots()\n",
    "seq._tree._nodes_items, seq._get_tree()#, seq._tree._tree._cost\n"
   ]
  },
  {
   "cell_type": "code",
   "execution_count": 6,
   "metadata": {},
   "outputs": [
    {
     "name": "stdout",
     "output_type": "stream",
     "text": [
      "SubSequenceBranch, 0.0, 3.0000000000000004e-09\n"
     ]
    },
    {
     "data": {
      "image/png": "[encoded data removed]",
      "text/plain": [
       "<Figure size 640x480 with 1 Axes>"
      ]
     },
     "metadata": {},
     "output_type": "display_data"
    },
    {
     "data": {
      "text/plain": [
       "({1: SubSequenceBranch(duration=3.0000000000000004e-09, begin=0.0, next_node=1, root_node=2),\n",
       "  2: Dummy(duration=0, begin=0.0),\n",
       "  3: Slot(duration=1e-09, begin=0.0),\n",
       "  4: Slot(duration=2e-09, begin=1.0000000000000003e-09)},\n",
       " Tree(list, {0: [1, 2], 2: [3], 3: [4], 1: [], 4: []}))"
      ]
     },
     "execution_count": 6,
     "metadata": {},
     "output_type": "execute_result"
    }
   ],
   "source": [
    "import matplotlib.pyplot as plt\n",
    "import matplotlib.patches as patches\n",
    "from qubecalib.neopulseexp import Sequence, SubSequence, Slot, Series, Flushleft, Flushright, Branch\n",
    "from qubecalib.neopulseexp import Sequence, SubSequence, Slot, Series, Flushleft, Flushright\n",
    "\n",
    "%matplotlib inline\n",
    "\n",
    "with Sequence() as seq:\n",
    "    with SubSequence():\n",
    "        Slot(1e-9)\n",
    "        Slot(2e-9)\n",
    "\n",
    "seq._tree.place_slots()\n",
    "\n",
    "fig = plt.figure()\n",
    "ax = fig.gca()\n",
    "for i, _ in seq._tree._nodes_items.items():\n",
    "    if isinstance(_, Branch):\n",
    "        print(f\"{_.__class__.__name__}, {_.begin}, {_.duration}\")\n",
    "        ax.add_patch(patches.Rectangle(xy=(_.begin*1e9, i), width=_.duration*1e9, height=1, color='green'))\n",
    "    if isinstance(_, Slot):\n",
    "        ax.add_patch(patches.Rectangle(xy=(_.begin*1e9, i), width=_.duration*1e9, height=1, color='blue'))\n",
    "ax.set_xlim(0,5)\n",
    "ax.set_ylim(0,10)\n",
    "plt.show()\n",
    "\n",
    "seq._tree._nodes_items, seq._get_tree()"
   ]
  },
  {
   "cell_type": "code",
   "execution_count": 7,
   "metadata": {},
   "outputs": [
    {
     "data": {
      "image/png": "[encoded data removed]",
      "text/plain": [
       "<Figure size 640x480 with 1 Axes>"
      ]
     },
     "metadata": {},
     "output_type": "display_data"
    },
    {
     "data": {
      "text/plain": [
       "({1: SubSequenceBranch(duration=4.0999999999999997e-08, begin=0.0, next_node=1, root_node=2),\n",
       "  2: Dummy(duration=0, begin=0.0),\n",
       "  3: Slot(duration=9e-09, begin=0.0),\n",
       "  4: FlushrightBranch(duration=7e-09, begin=8.999999999999998e-09, next_node=4, root_node=5),\n",
       "  5: Dummy(duration=0, begin=9e-09),\n",
       "  16: Slot(duration=1e-08, begin=1.5999999999999998e-08),\n",
       "  6: Padding(duration=3.9999999999999994e-09, begin=9e-09),\n",
       "  11: Padding(duration=0.0, begin=9e-09),\n",
       "  17: FlushleftBranch(duration=1.5000000000000002e-08, begin=2.5999999999999995e-08, next_node=17, root_node=18),\n",
       "  18: Dummy(duration=0, begin=2.5999999999999998e-08),\n",
       "  7: SeriesBranch(duration=3.0000000000000004e-09, begin=1.2999999999999997e-08, next_node=7, root_node=8),\n",
       "  8: Dummy(duration=0, begin=1.2999999999999999e-08),\n",
       "  12: SeriesBranch(duration=7e-09, begin=8.999999999999998e-09, next_node=12, root_node=13),\n",
       "  13: Dummy(duration=0, begin=9e-09),\n",
       "  19: SeriesBranch(duration=1.1e-08, begin=2.6e-08, next_node=19, root_node=20),\n",
       "  20: Dummy(duration=0, begin=2.5999999999999998e-08),\n",
       "  23: SeriesBranch(duration=1.5000000000000002e-08, begin=2.5999999999999995e-08, next_node=23, root_node=24),\n",
       "  24: Dummy(duration=0, begin=2.5999999999999998e-08),\n",
       "  9: Slot(duration=1e-09, begin=1.2999999999999999e-08),\n",
       "  14: Slot(duration=3e-09, begin=9e-09),\n",
       "  21: Slot(duration=5e-09, begin=2.6e-08),\n",
       "  25: Slot(duration=7e-09, begin=2.5999999999999998e-08),\n",
       "  10: Slot(duration=2e-09, begin=1.4000000000000001e-08),\n",
       "  15: Slot(duration=4e-09, begin=1.2000000000000002e-08),\n",
       "  22: Slot(duration=6e-09, begin=3.1e-08),\n",
       "  26: Slot(duration=8e-09, begin=3.3e-08)},\n",
       " Tree(list,\n",
       "      {0: [1, 2],\n",
       "       2: [3],\n",
       "       3: [4, 5],\n",
       "       5: [6, 11],\n",
       "       6: [7, 8],\n",
       "       8: [9],\n",
       "       9: [10],\n",
       "       11: [12, 13],\n",
       "       13: [14],\n",
       "       14: [15],\n",
       "       4: [16],\n",
       "       16: [17, 18],\n",
       "       18: [19, 20, 23, 24],\n",
       "       20: [21],\n",
       "       21: [22],\n",
       "       24: [25],\n",
       "       25: [26],\n",
       "       1: [],\n",
       "       17: [],\n",
       "       7: [],\n",
       "       12: [],\n",
       "       19: [],\n",
       "       23: [],\n",
       "       10: [],\n",
       "       15: [],\n",
       "       22: [],\n",
       "       26: []}))"
      ]
     },
     "execution_count": 7,
     "metadata": {},
     "output_type": "execute_result"
    }
   ],
   "source": [
    "import matplotlib.pyplot as plt\n",
    "import matplotlib.patches as patches\n",
    "from qubecalib.neopulseexp import Sequence, SubSequence, Slot, Series, Flushleft, Flushright, Branch\n",
    "from qubecalib.neopulseexp import Sequence, SubSequence, Slot, Series, Flushleft, Flushright, RaisedCosFlatTop\n",
    "\n",
    "%matplotlib inline\n",
    "\n",
    "with Sequence() as seq:\n",
    "    with SubSequence():\n",
    "        Slot(9e-9)\n",
    "        with Flushright():\n",
    "            with Series():\n",
    "                Slot(1e-9)\n",
    "                Slot(2e-9)\n",
    "            with Series():\n",
    "                Slot(3e-9)\n",
    "                Slot(4e-9)\n",
    "        Slot(10e-9)\n",
    "        with Flushleft():\n",
    "            with Series():\n",
    "                Slot(5e-9)\n",
    "                Slot(6e-9)\n",
    "            with Series():\n",
    "                Slot(7e-9)\n",
    "                Slot(8e-9)\n",
    "\n",
    "seq._tree.place_slots()\n",
    "\n",
    "fig = plt.figure()\n",
    "ax = fig.gca()\n",
    "for i, _ in seq._tree._nodes_items.items():\n",
    "    if isinstance(_, Branch):\n",
    "        # print(f\"{_.__class__.__name__}, {_.begin}, {_.duration}\")\n",
    "        ax.add_patch(patches.Rectangle(xy=(_.begin*1e9, i), width=_.duration*1e9, height=1, color='green'))\n",
    "    if isinstance(_, Slot):\n",
    "        ax.add_patch(patches.Rectangle(xy=(_.begin*1e9, i), width=_.duration*1e9, height=1, color='blue'))\n",
    "ax.set_xlim(0,50)\n",
    "ax.set_ylim(0,30)\n",
    "plt.show()\n",
    "\n",
    "seq._tree._nodes_items, seq._get_tree()#, seq._tree._tree._cost\n"
   ]
  },
  {
   "cell_type": "code",
   "execution_count": 8,
   "metadata": {},
   "outputs": [
    {
     "data": {
      "text/plain": [
       "Test(amplitude=0.5, phase=90.0)"
      ]
     },
     "execution_count": 8,
     "metadata": {},
     "output_type": "execute_result"
    }
   ],
   "source": [
    "import math, cmath\n",
    "class Test:\n",
    "    def __init__(self):\n",
    "        self.amplitude = 1.\n",
    "        self.phase = 0.\n",
    "    def __rmul__(self, other: complex):\n",
    "        p = self.phase / 180. * math.pi\n",
    "        c = self.amplitude * (math.cos(p) + 1j * math.sin(p))\n",
    "        r = other * c\n",
    "        self.amplitude = math.sqrt((r * r.conjugate()).real)\n",
    "        self.phase = math.atan2(r.imag, r.real)/math.pi * 180\n",
    "        return self\n",
    "    def __repr__(self) -> str:\n",
    "        return f\"{self.__class__.__name__}(amplitude={self.amplitude}, phase={self.phase})\"\n",
    "\n",
    "\n",
    "c1 = Test()\n",
    "0.5 * cmath.exp(1j*math.pi/2) * Test()"
   ]
  },
  {
   "cell_type": "code",
   "execution_count": 10,
   "metadata": {},
   "outputs": [
    {
     "data": {
      "image/png": "[encoded data removed]",
      "text/plain": [
       "<Figure size 640x480 with 1 Axes>"
      ]
     },
     "metadata": {},
     "output_type": "display_data"
    }
   ],
   "source": [
    "import numpy as np\n",
    "import matplotlib.pyplot as plt\n",
    "import matplotlib.patches as patches\n",
    "from qubecalib.neopulseexp import Sequence, SubSequence, Slot, Series, Flushleft, Flushright, RaisedCosFlatTop, TargetHolder, Blank, Range, Branch, SubSequenceBranch\n",
    "from qubecalib.neopulseexp import Modifier\n",
    "from typing import Optional\n",
    "%matplotlib inline\n",
    "\n",
    "class THSlot(Slot, TargetHolder):\n",
    "    def __init__(self, duration: Optional[float] = None) -> None:\n",
    "        super().__init__(duration)\n",
    "        TargetHolder.__init__(self)\n",
    "\n",
    "with Sequence() as seq:\n",
    "    with SubSequence():\n",
    "        Modifier()\n",
    "        with Flushright():\n",
    "            with Series():\n",
    "                THSlot(50e-9).set_target(\"CQ1\")\n",
    "                with Flushleft():\n",
    "                    with Series():\n",
    "                        Blank(50e-9)\n",
    "                        THSlot(100e-9).set_target(\"RQ1GEN\")\n",
    "                    Range(200e-9).set_target(\"RQ1CAP\")\n",
    "    with SubSequence():\n",
    "        Modifier()\n",
    "        with Flushright():\n",
    "            with Series():\n",
    "                THSlot(50e-9).set_target(\"CQ1\")\n",
    "                with Flushleft():\n",
    "                    with Series():\n",
    "                        Blank(50e-9)\n",
    "                        THSlot(100e-9).set_target(\"RQ1GEN\")\n",
    "                    Range(200e-9).set_target(\"RQ1CAP\")\n",
    "\n",
    "# seq._tree._nodes_items, seq._tree._tree._tree\n",
    "seq._tree.place_slots()\n",
    "\n",
    "fig = plt.figure()\n",
    "ax = fig.gca()\n",
    "for i, _ in seq._tree._nodes_items.items():\n",
    "    if isinstance(_, Branch):\n",
    "        ax.add_patch(patches.Rectangle(xy=(_.begin*1e9, i), width=_.duration*1e9, height=1, color='green'))\n",
    "        continue\n",
    "    if isinstance(_, Blank):\n",
    "        ax.add_patch(patches.Rectangle(xy=(_.begin*1e9, i), width=_.duration*1e9, height=1, color='lightgray'))\n",
    "        continue\n",
    "    if isinstance(_, Range):\n",
    "        ax.add_patch(patches.Rectangle(xy=(_.begin*1e9, i), width=_.duration*1e9, height=1, color='orange'))\n",
    "        continue\n",
    "    if isinstance(_, Modifier):\n",
    "        ax.plot(_.begin*1e9, i, '*', color='red')\n",
    "        continue\n",
    "    if isinstance(_, Slot):\n",
    "        ax.add_patch(patches.Rectangle(xy=(_.begin*1e9, i), width=_.duration*1e9, height=1, color='blue'))\n",
    "        continue\n",
    "ax.set_xlim(0,600)\n",
    "ax.set_ylim(0,35)\n",
    "plt.show()\n"
   ]
  },
  {
   "cell_type": "code",
   "execution_count": 30,
   "metadata": {},
   "outputs": [
    {
     "data": {
      "text/plain": [
       "{'CQ1': [THSlot(duration=5e-08, begin=0.0), THSlot(duration=5e-08, begin=0.0)],\n",
       " 'RQ1CAP': [Range(duration=2e-07, begin=5e-08),\n",
       "  Range(duration=2e-07, begin=5e-08)],\n",
       " 'RQ1GEN': [THSlot(duration=1e-07, begin=1e-07),\n",
       "  THSlot(duration=1e-07, begin=1e-07)]}"
      ]
     },
     "execution_count": 30,
     "metadata": {},
     "output_type": "execute_result"
    }
   ],
   "source": [
    "seq._group_items_by_target()"
   ]
  },
  {
   "cell_type": "code",
   "execution_count": 21,
   "metadata": {},
   "outputs": [
    {
     "data": {
      "text/plain": [
       "{2: SubSequenceBranch(duration=2.5e-07, begin=0.0, next_node=1, root_node=2)}"
      ]
     },
     "execution_count": 21,
     "metadata": {},
     "output_type": "execute_result"
    }
   ],
   "source": [
    "{item._root_node: item for item in seq._tree._nodes_items.values() if isinstance(item, SubSequenceBranch)}"
   ]
  },
  {
   "cell_type": "code",
   "execution_count": 13,
   "metadata": {},
   "outputs": [
    {
     "data": {
      "text/plain": [
       "{1: SubSequenceBranch(duration=2.5e-07, begin=0.0, next_node=1, root_node=2),\n",
       " 2: Dummy(duration=0, begin=0.0),\n",
       " 3: FlushrightBranch(duration=2.5e-07, begin=0.0, next_node=3, root_node=4),\n",
       " 4: Dummy(duration=0, begin=0.0),\n",
       " 5: Padding(duration=0.0, begin=0.0),\n",
       " 6: SeriesBranch(duration=2.5e-07, begin=0.0, next_node=6, root_node=7),\n",
       " 7: Dummy(duration=0, begin=0.0),\n",
       " 8: THSlot(duration=5e-08, begin=0.0),\n",
       " 9: FlushleftBranch(duration=2e-07, begin=5e-08, next_node=9, root_node=10),\n",
       " 10: Dummy(duration=0, begin=5e-08),\n",
       " 11: SeriesBranch(duration=1.5e-07, begin=5e-08, next_node=11, root_node=12),\n",
       " 12: Dummy(duration=0, begin=5e-08),\n",
       " 15: Range(duration=2e-07, begin=5e-08),\n",
       " 13: Blank(duration=5e-08, begin=5e-08),\n",
       " 14: THSlot(duration=1e-07, begin=1e-07)}"
      ]
     },
     "execution_count": 13,
     "metadata": {},
     "output_type": "execute_result"
    }
   ],
   "source": [
    "seq._tree._nodes_items"
   ]
  },
  {
   "cell_type": "code",
   "execution_count": 25,
   "metadata": {},
   "outputs": [
    {
     "data": {
      "text/plain": [
       "[THSlot(duration=5e-08, begin=0.0),\n",
       " Range(duration=2e-07, begin=5e-08),\n",
       " THSlot(duration=1e-07, begin=1e-07)]"
      ]
     },
     "execution_count": 25,
     "metadata": {},
     "output_type": "execute_result"
    }
   ],
   "source": [
    "[seq._tree._nodes_items[_] for _ in seq._tree.breadth_first_search(2) if isinstance(seq._tree._nodes_items[_], TargetHolder)]"
   ]
  },
  {
   "cell_type": "code",
   "execution_count": 26,
   "metadata": {},
   "outputs": [
    {
     "ename": "TypeError",
     "evalue": "unhashable type: 'dict'",
     "output_type": "error",
     "traceback": [
      "\u001b[0;31m---------------------------------------------------------------------------\u001b[0m",
      "\u001b[0;31mTypeError\u001b[0m                                 Traceback (most recent call last)",
      "Cell \u001b[0;32mIn[26], line 1\u001b[0m\n\u001b[0;32m----> 1\u001b[0m {{\u001b[38;5;124m\"\u001b[39m\u001b[38;5;124ma\u001b[39m\u001b[38;5;124m\"\u001b[39m: \u001b[38;5;241m1\u001b[39m, \u001b[38;5;124m\"\u001b[39m\u001b[38;5;124mduration\u001b[39m\u001b[38;5;124m\"\u001b[39m: \u001b[38;5;241m2.5e-7\u001b[39m}: \u001b[38;5;124m\"\u001b[39m\u001b[38;5;124mitem\u001b[39m\u001b[38;5;124m\"\u001b[39m}\n",
      "\u001b[0;31mTypeError\u001b[0m: unhashable type: 'dict'"
     ]
    }
   ],
   "source": [
    "{{\"a\": 1, \"duration\": 2.5e-7}: \"item\"}"
   ]
  },
  {
   "cell_type": "code",
   "execution_count": null,
   "metadata": {},
   "outputs": [],
   "source": [
    "{\n",
    "    \"CQ1\": {0: [\"Slot\"], 1: [\"Slot\", \"Slot\"]},\n",
    "}\n",
    "0: SubSequenceBranch\n",
    "1: SubSequenceBranch"
   ]
  }
 ],
 "metadata": {
  "kernelspec": {
   "display_name": ".venv",
   "language": "python",
   "name": "python3"
  },
  "language_info": {
   "codemirror_mode": {
    "name": "ipython",
    "version": 3
   },
   "file_extension": ".py",
   "mimetype": "text/x-python",
   "name": "python",
   "nbconvert_exporter": "python",
   "pygments_lexer": "ipython3",
   "version": "3.9.18"
  }
 },
 "nbformat": 4,
 "nbformat_minor": 2
}
