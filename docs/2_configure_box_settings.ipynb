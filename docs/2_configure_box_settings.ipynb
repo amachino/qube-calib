{
 "cells": [
  {
   "cell_type": "markdown",
   "metadata": {},
   "source": [
    "# Configure box settings\n",
    "\n",
    "In order to perform quantum control experiments using QuBE/QuEL, the following settings are required:\n",
    "\n",
    "- System settings\n",
    "- Box settings\n",
    "\n",
    "In this document, we will explain how configure box settings.\n",
    "\n",
    "The configuration can be saved as a JSON file and reused later."
   ]
  },
  {
   "cell_type": "markdown",
   "metadata": {},
   "source": [
    "## 1. Box settings\n",
    "\n",
    "Configure the box settings (LO, NCO, VATT) of QuBE/QuEL.\n",
    "\n",
    "NOTE: This procedure will update the settings of the control device."
   ]
  },
  {
   "cell_type": "markdown",
   "metadata": {},
   "source": [
    "### 1.1 Create an `QubeCalib` instance"
   ]
  },
  {
   "cell_type": "code",
   "execution_count": 1,
   "metadata": {},
   "outputs": [],
   "source": [
    "from qubecalib import QubeCalib\n",
    "\n",
    "# create an instance of QubeCalib with the system settings file\n",
    "qc = QubeCalib(\"./system_settings.json\")"
   ]
  },
  {
   "cell_type": "markdown",
   "metadata": {},
   "source": [
    "### 1.2 Create `Quel1Box` instances"
   ]
  },
  {
   "cell_type": "code",
   "execution_count": 2,
   "metadata": {},
   "outputs": [],
   "source": [
    "# create a box object with the name that is specified in the system settings file\n",
    "box_name = \"Q73A\"\n",
    "box = qc.create_box(box_name)"
   ]
  },
  {
   "cell_type": "markdown",
   "metadata": {},
   "source": [
    "### 1.3 Connect to the box"
   ]
  },
  {
   "cell_type": "code",
   "execution_count": 3,
   "metadata": {},
   "outputs": [
    {
     "name": "stdout",
     "output_type": "stream",
     "text": [
      "Q73A {0: True, 1: True}\n"
     ]
    }
   ],
   "source": [
    "# reconnect the box if the link status is False\n",
    "if not all(box.link_status().values()):\n",
    "    box.relinkup(use_204b=False, background_noise_threshold=500)\n",
    "box.reconnect()\n",
    "print(box_name, box.link_status())"
   ]
  },
  {
   "cell_type": "markdown",
   "metadata": {},
   "source": [
    "### 1.4 Configure the box settings\n",
    "\n",
    "We use `box.define_***()` methods to configure the box settings."
   ]
  },
  {
   "cell_type": "code",
   "execution_count": 4,
   "metadata": {},
   "outputs": [],
   "source": [
    "# READ0.OUT\n",
    "box.config_port(\n",
    "    port=1,\n",
    "    lo_freq=8_500_000_000,\n",
    "    cnco_freq=1_851_562_500,\n",
    "    sideband=\"U\",\n",
    "    vatt=0x800,\n",
    ")\n",
    "box.config_channel(port=1, channel=0, fnco_freq=0)\n",
    "box.config_rfswitch(port=1, rfswitch=\"pass\")\n",
    "\n",
    "# READ0.IN\n",
    "box.config_port(port=0, cnco_locked_with=1)\n",
    "box.config_runit(port=0, runit=0, fnco_freq=0)\n",
    "box.config_runit(port=0, runit=1, fnco_freq=0)\n",
    "box.config_runit(port=0, runit=2, fnco_freq=0)\n",
    "box.config_runit(port=0, runit=3, fnco_freq=0)\n",
    "box.config_rfswitch(port=0, rfswitch=\"open\")\n",
    "\n",
    "# CTRL0\n",
    "box.config_port(\n",
    "    port=2,\n",
    "    lo_freq=9_500_000_000,\n",
    "    cnco_freq=1_781_250_000,\n",
    "    sideband=\"L\",\n",
    "    vatt=0x800,\n",
    ")\n",
    "box.config_channel(port=2, channel=0, fnco_freq=0)\n",
    "box.config_rfswitch(port=2, rfswitch=\"pass\")\n",
    "\n",
    "# CTRL1\n",
    "box.config_port(\n",
    "    port=4,\n",
    "    lo_freq=10_500_000_000,\n",
    "    cnco_freq=1_687_500_000,\n",
    "    sideband=\"L\",\n",
    "    vatt=0x800,\n",
    ")\n",
    "box.config_channel(port=4, channel=0, fnco_freq=0)\n",
    "box.config_rfswitch(port=4, rfswitch=\"pass\")\n",
    "\n",
    "# CTRL2\n",
    "box.config_port(\n",
    "    port=9,\n",
    "    lo_freq=10_500_000_000,\n",
    "    cnco_freq=1_710_937_500,\n",
    "    sideband=\"L\",\n",
    "    vatt=0x800,\n",
    ")\n",
    "box.config_channel(port=9, channel=0, fnco_freq=0)\n",
    "box.config_rfswitch(port=9, rfswitch=\"pass\")\n",
    "\n",
    "# CTRL3\n",
    "box.config_port(\n",
    "    port=11,\n",
    "    lo_freq=9_500_000_000,\n",
    "    cnco_freq=1_734_375_000,\n",
    "    sideband=\"L\",\n",
    "    vatt=0x800,\n",
    ")\n",
    "box.config_channel(port=11, channel=0, fnco_freq=0)\n",
    "box.config_rfswitch(port=11, rfswitch=\"pass\")"
   ]
  },
  {
   "cell_type": "code",
   "execution_count": 5,
   "metadata": {},
   "outputs": [
    {
     "data": {
      "text/plain": [
       "{'mxfes': {0: {'channel_interporation_rate': 4, 'main_interporation_rate': 6},\n",
       "  1: {'channel_interporation_rate': 4, 'main_interporation_rate': 6}},\n",
       " 'ports': {0: {'direction': 'in',\n",
       "   'lo_freq': 8500000000,\n",
       "   'cnco_freq': 1851562500.0,\n",
       "   'rfswitch': 'open',\n",
       "   'runits': {0: {'fnco_freq': 0.0},\n",
       "    1: {'fnco_freq': 0.0},\n",
       "    2: {'fnco_freq': 0.0},\n",
       "    3: {'fnco_freq': 0.0}}},\n",
       "  1: {'direction': 'out',\n",
       "   'channels': {0: {'fnco_freq': 0.0}},\n",
       "   'cnco_freq': 1851562500.0,\n",
       "   'fullscale_current': 40527,\n",
       "   'lo_freq': 8500000000,\n",
       "   'sideband': 'U',\n",
       "   'vatt': 2048,\n",
       "   'rfswitch': 'pass'},\n",
       "  2: {'direction': 'out',\n",
       "   'channels': {0: {'fnco_freq': 0.0},\n",
       "    1: {'fnco_freq': 0.0},\n",
       "    2: {'fnco_freq': 0.0}},\n",
       "   'cnco_freq': 1781250000.0,\n",
       "   'fullscale_current': 40527,\n",
       "   'lo_freq': 9500000000,\n",
       "   'sideband': 'L',\n",
       "   'vatt': 2048,\n",
       "   'rfswitch': 'pass'},\n",
       "  3: {'direction': 'out',\n",
       "   'channels': {0: {'fnco_freq': 0.0}},\n",
       "   'cnco_freq': 1500000000.0,\n",
       "   'fullscale_current': 40527,\n",
       "   'lo_freq': 11500000000,\n",
       "   'sideband': 'L',\n",
       "   'rfswitch': 'block'},\n",
       "  4: {'direction': 'out',\n",
       "   'channels': {0: {'fnco_freq': 0.0},\n",
       "    1: {'fnco_freq': 0.0},\n",
       "    2: {'fnco_freq': 0.0}},\n",
       "   'cnco_freq': 1687500000.0,\n",
       "   'fullscale_current': 40527,\n",
       "   'lo_freq': 10500000000,\n",
       "   'sideband': 'L',\n",
       "   'vatt': 2048,\n",
       "   'rfswitch': 'pass'},\n",
       "  5: {'direction': 'in',\n",
       "   'lo_freq': 11500000000,\n",
       "   'cnco_freq': 1500000000.0,\n",
       "   'rfswitch': 'loop',\n",
       "   'runits': {0: {'fnco_freq': 0.0}}},\n",
       "  7: {'direction': 'in',\n",
       "   'lo_freq': 8500000000,\n",
       "   'cnco_freq': 1500000000.0,\n",
       "   'rfswitch': 'loop',\n",
       "   'runits': {1: {'fnco_freq': 0.0},\n",
       "    2: {'fnco_freq': 0.0},\n",
       "    3: {'fnco_freq': 0.0},\n",
       "    0: {'fnco_freq': 0.0}}},\n",
       "  8: {'direction': 'out',\n",
       "   'channels': {0: {'fnco_freq': 0.0}},\n",
       "   'cnco_freq': 1500000000.0,\n",
       "   'fullscale_current': 40527,\n",
       "   'lo_freq': 8500000000,\n",
       "   'sideband': 'U',\n",
       "   'rfswitch': 'block'},\n",
       "  9: {'direction': 'out',\n",
       "   'channels': {0: {'fnco_freq': 0.0},\n",
       "    1: {'fnco_freq': 0.0},\n",
       "    2: {'fnco_freq': 0.0}},\n",
       "   'cnco_freq': 1710937500.0,\n",
       "   'fullscale_current': 40527,\n",
       "   'lo_freq': 10500000000,\n",
       "   'sideband': 'L',\n",
       "   'vatt': 2048,\n",
       "   'rfswitch': 'pass'},\n",
       "  10: {'direction': 'out',\n",
       "   'channels': {0: {'fnco_freq': 0.0}},\n",
       "   'cnco_freq': 1500000000.0,\n",
       "   'fullscale_current': 40527,\n",
       "   'lo_freq': 11500000000,\n",
       "   'sideband': 'L',\n",
       "   'rfswitch': 'block'},\n",
       "  11: {'direction': 'out',\n",
       "   'channels': {0: {'fnco_freq': 0.0},\n",
       "    1: {'fnco_freq': 0.0},\n",
       "    2: {'fnco_freq': 0.0}},\n",
       "   'cnco_freq': 1734375000.0,\n",
       "   'fullscale_current': 40527,\n",
       "   'lo_freq': 9500000000,\n",
       "   'sideband': 'L',\n",
       "   'vatt': 2048,\n",
       "   'rfswitch': 'pass'},\n",
       "  12: {'direction': 'in',\n",
       "   'lo_freq': 11500000000,\n",
       "   'cnco_freq': 1500000000.0,\n",
       "   'rfswitch': 'loop',\n",
       "   'runits': {0: {'fnco_freq': 0.0}}}}}"
      ]
     },
     "execution_count": 5,
     "metadata": {},
     "output_type": "execute_result"
    }
   ],
   "source": [
    "# check the box settings\n",
    "box.dump_box()"
   ]
  },
  {
   "cell_type": "markdown",
   "metadata": {},
   "source": [
    "### 1.5 Save the box settings"
   ]
  },
  {
   "cell_type": "code",
   "execution_count": 6,
   "metadata": {},
   "outputs": [],
   "source": [
    "# save the box settings\n",
    "qc.store_all_box_configs(\"./box_settings.json\")"
   ]
  }
 ],
 "metadata": {
  "kernelspec": {
   "display_name": ".venv",
   "language": "python",
   "name": "python3"
  },
  "language_info": {
   "codemirror_mode": {
    "name": "ipython",
    "version": 3
   },
   "file_extension": ".py",
   "mimetype": "text/x-python",
   "name": "python",
   "nbconvert_exporter": "python",
   "pygments_lexer": "ipython3",
   "version": "3.9.18"
  }
 },
 "nbformat": 4,
 "nbformat_minor": 2
}
