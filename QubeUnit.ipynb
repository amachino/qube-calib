{
 "cells": [
  {
   "cell_type": "code",
   "execution_count": 1,
   "id": "982d9bb7-8d73-4eab-82d2-be45d3b8c371",
   "metadata": {},
   "outputs": [
    {
     "data": {
      "application/vnd.jupyter.widget-view+json": {
       "model_id": "857e19c0e2944437b4977b10bf6e7919",
       "version_major": 2,
       "version_minor": 0
      },
      "text/plain": [
       "QubeLoadConfigPanel(children=(HBox(children=(Text(value='qube_riken_1-01.yml', description='Config'), Button(d…"
      ]
     },
     "metadata": {},
     "output_type": "display_data"
    },
    {
     "data": {
      "application/vnd.jupyter.widget-view+json": {
       "model_id": "e847231ff9fc468f95eb56d82d4a8f15",
       "version_major": 2,
       "version_minor": 0
      },
      "text/plain": [
       "QubeSetupPanel(children=(Text(value='', description='IP Address (LSI)', disabled=True, style=DescriptionStyle(…"
      ]
     },
     "metadata": {},
     "output_type": "display_data"
    }
   ],
   "source": [
    "#from qubecalib import Qube\n",
    "#import qubeui as qu\n",
    "from qubecalib.ui import QubeUnit, display\n",
    "from qubecalib.ui import QubeSetupPanel, QubeLoadConfigPanel\n",
    "\n",
    "QUBEUNIT = QubeUnit()\n",
    "display(QubeLoadConfigPanel(QUBEUNIT))\n",
    "display(QubeSetupPanel(QUBEUNIT))"
   ]
  },
  {
   "cell_type": "code",
   "execution_count": null,
   "id": "96d91c3d-77dc-4cfc-83e8-1065704ace8b",
   "metadata": {},
   "outputs": [],
   "source": []
  }
 ],
 "metadata": {
  "kernelspec": {
   "display_name": "Python 3 (ipykernel)",
   "language": "python",
   "name": "python3"
  },
  "language_info": {
   "codemirror_mode": {
    "name": "ipython",
    "version": 3
   },
   "file_extension": ".py",
   "mimetype": "text/x-python",
   "name": "python",
   "nbconvert_exporter": "python",
   "pygments_lexer": "ipython3",
   "version": "3.9.10"
  }
 },
 "nbformat": 4,
 "nbformat_minor": 5
}
