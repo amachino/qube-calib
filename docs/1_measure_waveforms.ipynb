{
 "cells": [
  {
   "cell_type": "markdown",
   "metadata": {},
   "source": [
    "# Measure waveforms"
   ]
  },
  {
   "cell_type": "code",
   "execution_count": null,
   "metadata": {},
   "outputs": [],
   "source": [
    "import matplotlib.pyplot as plt\n",
    "import numpy as np\n",
    "\n",
    "from qubecalib import QubeCalib\n",
    "from qubecalib.neopulse import (\n",
    "    Capture,\n",
    "    Flushleft,\n",
    "    RaisedCosFlatTop,\n",
    "    Rectangle,\n",
    "    Sequence,\n",
    "    Series,\n",
    ")"
   ]
  },
  {
   "cell_type": "code",
   "execution_count": null,
   "metadata": {},
   "outputs": [],
   "source": [
    "%matplotlib inline"
   ]
  },
  {
   "cell_type": "code",
   "execution_count": null,
   "metadata": {},
   "outputs": [],
   "source": [
    "# load the system settings\n",
    "qc = QubeCalib(\"./system_settings.json\")"
   ]
  },
  {
   "cell_type": "code",
   "execution_count": null,
   "metadata": {},
   "outputs": [],
   "source": [
    "# check the settings\n",
    "qc.system_config_database.asdict()"
   ]
  },
  {
   "cell_type": "code",
   "execution_count": null,
   "metadata": {},
   "outputs": [],
   "source": [
    "box_list = [\n",
    "    \"A25\",\n",
    "    \"A73\",\n",
    "]\n",
    "\n",
    "boxes = {}\n",
    "for box_name in box_list:\n",
    "    box = qc.create_box(box_name, reconnect=False)\n",
    "    if not all(box.link_status().values()):\n",
    "        box.relinkup(use_204b=False, background_noise_threshold=400)\n",
    "    box.reconnect()\n",
    "    boxes[box_name] = box\n",
    "    print(box_name, box.link_status())"
   ]
  },
  {
   "cell_type": "code",
   "execution_count": null,
   "metadata": {},
   "outputs": [],
   "source": [
    "for box in boxes.values():\n",
    "    print(box.dump_box())"
   ]
  },
  {
   "cell_type": "markdown",
   "metadata": {},
   "source": [
    "## Capture noise"
   ]
  },
  {
   "cell_type": "code",
   "execution_count": null,
   "metadata": {},
   "outputs": [],
   "source": [
    "capture = Capture(duration=1024)\n",
    "\n",
    "with Sequence() as seq:\n",
    "    capture.target(\"RQ16\")\n",
    "    capture.target(\"RQ52\")\n",
    "\n",
    "qc.add_sequence(seq)\n",
    "\n",
    "for status, data, config in qc.step_execute(\n",
    "    repeats=1,\n",
    "    dsp_demodulation=False,\n",
    "):\n",
    "    for target, iqs in data.items():\n",
    "        iq = iqs[0].squeeze()\n",
    "        plt.plot(np.real(iq), label=\"I\")\n",
    "        plt.plot(np.imag(iq), label=\"Q\")\n",
    "        plt.title(target)\n",
    "        plt.legend()\n",
    "        plt.show()"
   ]
  },
  {
   "cell_type": "markdown",
   "metadata": {},
   "source": [
    "## Capture reflected waveforms"
   ]
  },
  {
   "cell_type": "code",
   "execution_count": null,
   "metadata": {},
   "outputs": [],
   "source": [
    "pulse = Rectangle(duration=1024, amplitude=0.1)\n",
    "capture = Capture(duration=3 * 1024)\n",
    "\n",
    "with Sequence() as seq:\n",
    "    with Flushleft():\n",
    "        pulse.scaled(0.5).target(\"RQ16\")\n",
    "        pulse.shifted(np.pi).scaled(3).target(\"RQ52\")\n",
    "        capture.target(\"RQ16\", \"RQ52\")\n",
    "\n",
    "qc.add_sequence(seq)\n",
    "\n",
    "for status, data, config in qc.step_execute(\n",
    "    repeats=3000,\n",
    "    interval=150 * 1024,\n",
    "):\n",
    "    for target, iqs in data.items():\n",
    "        iq = iqs[0].squeeze()\n",
    "        plt.plot(np.real(iq), label=\"I\")\n",
    "        plt.plot(np.imag(iq), label=\"Q\")\n",
    "        plt.title(target)\n",
    "        plt.legend()\n",
    "        plt.show()"
   ]
  },
  {
   "cell_type": "markdown",
   "metadata": {},
   "source": [
    "### Multiplexed"
   ]
  },
  {
   "cell_type": "code",
   "execution_count": null,
   "metadata": {},
   "outputs": [],
   "source": [
    "pulse = RaisedCosFlatTop(duration=5 * 1024, amplitude=0.1, rise_time=1024)\n",
    "capture = Capture(duration=10 * 1024)\n",
    "\n",
    "with Sequence() as seq:\n",
    "    with Flushleft():\n",
    "        pulse.target(\"RQ16\", \"RQ17\", \"RQ18\", \"RQ19\", \"RQ52\", \"RQ53\", \"RQ54\", \"RQ55\")\n",
    "        capture.target(\"RQ16\", \"RQ17\", \"RQ18\", \"RQ19\", \"RQ52\", \"RQ53\", \"RQ54\", \"RQ55\")\n",
    "\n",
    "qc.add_sequence(seq)\n",
    "\n",
    "for status, data, config in qc.step_execute(\n",
    "    repeats=3000,\n",
    "    interval=150 * 1024,\n",
    "):\n",
    "    for target, iqs in data.items():\n",
    "        iq = iqs[0].squeeze()\n",
    "        plt.plot(np.real(iq), label=\"I\")\n",
    "        plt.plot(np.imag(iq), label=\"Q\")\n",
    "        plt.title(target)\n",
    "        plt.legend()\n",
    "        plt.show()"
   ]
  },
  {
   "cell_type": "code",
   "execution_count": null,
   "metadata": {},
   "outputs": [],
   "source": [
    "pulse = RaisedCosFlatTop(duration=1024, amplitude=0.1, rise_time=128)\n",
    "capture = Capture(duration=6 * 1024)\n",
    "\n",
    "with Sequence() as seq:\n",
    "    with Flushleft():\n",
    "        with Series():\n",
    "            pulse.target(\"RQ16\")\n",
    "            pulse.target(\"RQ17\")\n",
    "            pulse.target(\"RQ18\")\n",
    "            pulse.target(\"RQ19\")\n",
    "        with Series():\n",
    "            pulse.target(\"RQ52\")\n",
    "            pulse.target(\"RQ53\")\n",
    "            pulse.target(\"RQ54\")\n",
    "            pulse.target(\"RQ55\")\n",
    "        capture.target(\"RQ16\", \"RQ17\", \"RQ18\", \"RQ19\", \"RQ52\", \"RQ53\", \"RQ54\", \"RQ55\")\n",
    "\n",
    "qc.add_sequence(seq)\n",
    "\n",
    "for status, data, config in qc.step_execute(\n",
    "    repeats=3000,\n",
    "    interval=150 * 1024,\n",
    "):\n",
    "    for target, iqs in data.items():\n",
    "        iq = iqs[0].squeeze()\n",
    "        plt.plot(np.real(iq), label=\"I\")\n",
    "        plt.plot(np.imag(iq), label=\"Q\")\n",
    "        plt.title(target)\n",
    "        plt.legend()\n",
    "        plt.show()"
   ]
  }
 ],
 "metadata": {
  "kernelspec": {
   "display_name": ".venv",
   "language": "python",
   "name": "python3"
  },
  "language_info": {
   "codemirror_mode": {
    "name": "ipython",
    "version": 3
   },
   "file_extension": ".py",
   "mimetype": "text/x-python",
   "name": "python",
   "nbconvert_exporter": "python",
   "pygments_lexer": "ipython3",
   "version": "3.9.18"
  }
 },
 "nbformat": 4,
 "nbformat_minor": 2
}
