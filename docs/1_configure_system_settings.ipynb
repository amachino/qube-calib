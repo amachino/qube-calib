{
 "cells": [
  {
   "cell_type": "markdown",
   "metadata": {},
   "source": [
    "# Configure system settings\n",
    "\n",
    "In order to perform quantum control experiments using QuBE/QuEL, the following settings are required:\n",
    "\n",
    "- System settings\n",
    "- Box settings\n",
    "\n",
    "In this document, we will explain how configure system settings.\n",
    "\n",
    "The configuration can be saved as a JSON file and reused later."
   ]
  },
  {
   "cell_type": "markdown",
   "metadata": {},
   "source": [
    "## 1. System settings\n",
    "\n",
    "QuBE/QuEL has multiple `ports` in one `box`, and each port has multiple `channels`.\n",
    "\n",
    "Configure your system information between the control device and the `targets` (control or readout frequencies)."
   ]
  },
  {
   "cell_type": "markdown",
   "metadata": {},
   "source": [
    "### 1.1 Create an `QubeCalib` instance"
   ]
  },
  {
   "cell_type": "code",
   "execution_count": 1,
   "metadata": {},
   "outputs": [],
   "source": [
    "# import the QubeCalib class from qubecalib\n",
    "from qubecalib import QubeCalib\n",
    "\n",
    "# create an instance of QubeCalib named `qc`\n",
    "qc = QubeCalib()"
   ]
  },
  {
   "cell_type": "markdown",
   "metadata": {},
   "source": [
    "We use `qc.define_***()` methods to configure the system settings."
   ]
  },
  {
   "cell_type": "markdown",
   "metadata": {},
   "source": [
    "### 1.2 Define boxes\n",
    "\n",
    "A `box` is a physical apparatus (QuBE/QuEL) that has multiple `ports`.\n",
    "\n",
    "Check [here](https://github.com/quel-inc/quelware/blob/main/quel_ic_config/GETTING_STARTED.md#%E3%82%B7%E3%82%A7%E3%83%AB%E3%82%B3%E3%83%9E%E3%83%B3%E3%83%89%E3%82%92%E4%BD%BF%E3%81%A3%E3%81%A6%E3%81%BF%E3%82%8B) for the list of available box types."
   ]
  },
  {
   "cell_type": "code",
   "execution_count": 2,
   "metadata": {},
   "outputs": [
    {
     "data": {
      "text/plain": [
       "{'ipaddr_wss': '10.1.0.73',\n",
       " 'ipaddr_sss': '10.2.0.73',\n",
       " 'ipaddr_css': '10.5.0.73',\n",
       " 'boxtype': <Quel1BoxType.QuEL1_TypeA: ('quel-1', 'type-a')>,\n",
       " 'config_root': None,\n",
       " 'config_options': []}"
      ]
     },
     "execution_count": 2,
     "metadata": {},
     "output_type": "execute_result"
    }
   ],
   "source": [
    "# define the box name, IP address, and box type\n",
    "\n",
    "qc.define_box(box_name=\"Q73A\", ipaddr_wss=\"10.1.0.73\", boxtype=\"quel1-a\")"
   ]
  },
  {
   "cell_type": "markdown",
   "metadata": {},
   "source": [
    "You can use arbitrary names as long as they are unique throughout the system.\n",
    "\n",
    "In this document, we use hard-coded settings for tutorial purposes, but in actual use, it is expected that the settings will be configured systematically."
   ]
  },
  {
   "cell_type": "markdown",
   "metadata": {},
   "source": [
    "### 1.3 Define ports\n",
    "\n",
    "A `port` is a physical connector on the `box` that has multiple `channels`.\n",
    "\n",
    "Check [here](https://github.com/quel-inc/quelware/blob/main/quel_ic_config/DEVELOPMENT_NOTES.md) for the list of available ports."
   ]
  },
  {
   "cell_type": "code",
   "execution_count": 3,
   "metadata": {},
   "outputs": [],
   "source": [
    "# port definitions for QuEL-1 Type-A\n",
    "qc.define_port(port_name=\"Q73A.READ0.IN\", box_name=\"Q73A\", port_number=0)\n",
    "qc.define_port(port_name=\"Q73A.READ0.OUT\", box_name=\"Q73A\", port_number=1)\n",
    "qc.define_port(port_name=\"Q73A.CTRL0\", box_name=\"Q73A\", port_number=2)\n",
    "qc.define_port(port_name=\"Q73A.PUMP0\", box_name=\"Q73A\", port_number=3)\n",
    "qc.define_port(port_name=\"Q73A.CTRL1\", box_name=\"Q73A\", port_number=4)\n",
    "qc.define_port(port_name=\"Q73A.MONITOR0.IN\", box_name=\"Q73A\", port_number=5)\n",
    "qc.define_port(port_name=\"Q73A.MONITOR0.OUT\", box_name=\"Q73A\", port_number=6)\n",
    "qc.define_port(port_name=\"Q73A.READ1.IN\", box_name=\"Q73A\", port_number=7)\n",
    "qc.define_port(port_name=\"Q73A.READ1.OUT\", box_name=\"Q73A\", port_number=8)\n",
    "qc.define_port(port_name=\"Q73A.CTRL2\", box_name=\"Q73A\", port_number=9)\n",
    "qc.define_port(port_name=\"Q73A.PUMP1\", box_name=\"Q73A\", port_number=10)\n",
    "qc.define_port(port_name=\"Q73A.CTRL3\", box_name=\"Q73A\", port_number=11)\n",
    "qc.define_port(port_name=\"Q73A.MONITOR1.IN\", box_name=\"Q73A\", port_number=12)\n",
    "qc.define_port(port_name=\"Q73A.MONITOR1.OUT\", box_name=\"Q73A\", port_number=13)"
   ]
  },
  {
   "cell_type": "markdown",
   "metadata": {},
   "source": [
    "### 1.4 Define channels\n",
    "\n",
    "A `channel` is logical line in a `port` with a specific carrier frequency."
   ]
  },
  {
   "cell_type": "code",
   "execution_count": 4,
   "metadata": {},
   "outputs": [],
   "source": [
    "# channel definitions for QuEL-1 Type-A\n",
    "\n",
    "# readout\n",
    "qc.define_channel(channel_name=\"Q73A.READ0.OUT0\", port_name=\"Q73A.READ0.OUT\", channel_number=0)\n",
    "qc.define_channel(channel_name=\"Q73A.READ0.IN0\", port_name=\"Q73A.READ0.IN\", channel_number=0)\n",
    "qc.define_channel(channel_name=\"Q73A.READ0.IN1\", port_name=\"Q73A.READ0.IN\", channel_number=1)\n",
    "qc.define_channel(channel_name=\"Q73A.READ0.IN2\", port_name=\"Q73A.READ0.IN\", channel_number=2)\n",
    "qc.define_channel(channel_name=\"Q73A.READ0.IN3\", port_name=\"Q73A.READ0.IN\", channel_number=3)\n",
    "\n",
    "# control\n",
    "qc.define_channel(channel_name=\"Q73A.CTRL0.CH0\", port_name=\"Q73A.CTRL0\", channel_number=0)\n",
    "qc.define_channel(channel_name=\"Q73A.CTRL1.CH0\", port_name=\"Q73A.CTRL1\", channel_number=0)\n",
    "qc.define_channel(channel_name=\"Q73A.CTRL2.CH0\", port_name=\"Q73A.CTRL2\", channel_number=0)\n",
    "qc.define_channel(channel_name=\"Q73A.CTRL3.CH0\", port_name=\"Q73A.CTRL3\", channel_number=0)"
   ]
  },
  {
   "cell_type": "markdown",
   "metadata": {},
   "source": [
    "### 1.5 Define targets\n",
    "\n",
    "A `target` is a qubit or resonator that is connected to a specific `channel`."
   ]
  },
  {
   "cell_type": "code",
   "execution_count": 5,
   "metadata": {},
   "outputs": [],
   "source": [
    "# readout frequencies in GHz\n",
    "read_frequencies = {\n",
    "    \"Q52\": 10.342_60,\n",
    "    \"Q53\": 10.518_63,\n",
    "    \"Q54\": 10.467_27,\n",
    "    \"Q55\": 10.207_83,\n",
    "}\n",
    "\n",
    "# define the target frequencies for each readout channel\n",
    "qc.define_target(target_name=\"RQ52\", channel_name=\"Q73A.READ0.OUT0\", target_frequency=read_frequencies[\"Q52\"])\n",
    "qc.define_target(target_name=\"RQ53\", channel_name=\"Q73A.READ0.OUT0\", target_frequency=read_frequencies[\"Q53\"])\n",
    "qc.define_target(target_name=\"RQ54\", channel_name=\"Q73A.READ0.OUT0\", target_frequency=read_frequencies[\"Q54\"])\n",
    "qc.define_target(target_name=\"RQ55\", channel_name=\"Q73A.READ0.OUT0\", target_frequency=read_frequencies[\"Q55\"])\n",
    "qc.define_target(target_name=\"RQ52\", channel_name=\"Q73A.READ0.IN0\", target_frequency=read_frequencies[\"Q52\"])\n",
    "qc.define_target(target_name=\"RQ53\", channel_name=\"Q73A.READ0.IN1\", target_frequency=read_frequencies[\"Q53\"])\n",
    "qc.define_target(target_name=\"RQ54\", channel_name=\"Q73A.READ0.IN2\", target_frequency=read_frequencies[\"Q54\"])\n",
    "qc.define_target(target_name=\"RQ55\", channel_name=\"Q73A.READ0.IN3\", target_frequency=read_frequencies[\"Q55\"])"
   ]
  },
  {
   "cell_type": "code",
   "execution_count": 6,
   "metadata": {},
   "outputs": [],
   "source": [
    "# control frequencies in GHz\n",
    "ctrl_frequencies = {\n",
    "    \"Q52\": 7.729_161,\n",
    "    \"Q53\": 8.817_762,\n",
    "    \"Q54\": 8.791_830,\n",
    "    \"Q55\": 7.761_116,\n",
    "}\n",
    "\n",
    "# define the target frequencies for each control channel\n",
    "qc.define_target(target_name=\"Q52\", channel_name=\"Q73A.CTRL0.CH0\", target_frequency=ctrl_frequencies[\"Q52\"])\n",
    "qc.define_target(target_name=\"Q53\", channel_name=\"Q73A.CTRL1.CH0\", target_frequency=ctrl_frequencies[\"Q53\"])\n",
    "qc.define_target(target_name=\"Q54\", channel_name=\"Q73A.CTRL2.CH0\", target_frequency=ctrl_frequencies[\"Q54\"])\n",
    "qc.define_target(target_name=\"Q55\", channel_name=\"Q73A.CTRL3.CH0\", target_frequency=ctrl_frequencies[\"Q55\"])"
   ]
  },
  {
   "cell_type": "markdown",
   "metadata": {},
   "source": [
    "### 1.6 Save the system settings"
   ]
  },
  {
   "cell_type": "code",
   "execution_count": 7,
   "metadata": {},
   "outputs": [
    {
     "data": {
      "text/plain": [
       "{'clockmaster_setting': None,\n",
       " 'box_settings': {'Q73A': {'ipaddr_wss': '10.1.0.73',\n",
       "   'ipaddr_sss': '10.2.0.73',\n",
       "   'ipaddr_css': '10.5.0.73',\n",
       "   'boxtype': <Quel1BoxType.QuEL1_TypeA: ('quel-1', 'type-a')>,\n",
       "   'config_root': None,\n",
       "   'config_options': []}},\n",
       " 'box_aliases': {},\n",
       " 'port_settings': {'Q73A.READ0.IN': {'port_name': 'Q73A.READ0.IN',\n",
       "   'box_name': 'Q73A',\n",
       "   'port': 0,\n",
       "   'ndelay_or_nwait': (0, 0, 0, 0)},\n",
       "  'Q73A.READ0.OUT': {'port_name': 'Q73A.READ0.OUT',\n",
       "   'box_name': 'Q73A',\n",
       "   'port': 1,\n",
       "   'ndelay_or_nwait': (0,)},\n",
       "  'Q73A.CTRL0': {'port_name': 'Q73A.CTRL0',\n",
       "   'box_name': 'Q73A',\n",
       "   'port': 2,\n",
       "   'ndelay_or_nwait': (0,)},\n",
       "  'Q73A.PUMP0': {'port_name': 'Q73A.PUMP0',\n",
       "   'box_name': 'Q73A',\n",
       "   'port': 3,\n",
       "   'ndelay_or_nwait': ()},\n",
       "  'Q73A.CTRL1': {'port_name': 'Q73A.CTRL1',\n",
       "   'box_name': 'Q73A',\n",
       "   'port': 4,\n",
       "   'ndelay_or_nwait': (0,)},\n",
       "  'Q73A.MONITOR0.IN': {'port_name': 'Q73A.MONITOR0.IN',\n",
       "   'box_name': 'Q73A',\n",
       "   'port': 5,\n",
       "   'ndelay_or_nwait': ()},\n",
       "  'Q73A.MONITOR0.OUT': {'port_name': 'Q73A.MONITOR0.OUT',\n",
       "   'box_name': 'Q73A',\n",
       "   'port': 6,\n",
       "   'ndelay_or_nwait': ()},\n",
       "  'Q73A.READ1.IN': {'port_name': 'Q73A.READ1.IN',\n",
       "   'box_name': 'Q73A',\n",
       "   'port': 7,\n",
       "   'ndelay_or_nwait': ()},\n",
       "  'Q73A.READ1.OUT': {'port_name': 'Q73A.READ1.OUT',\n",
       "   'box_name': 'Q73A',\n",
       "   'port': 8,\n",
       "   'ndelay_or_nwait': ()},\n",
       "  'Q73A.CTRL2': {'port_name': 'Q73A.CTRL2',\n",
       "   'box_name': 'Q73A',\n",
       "   'port': 9,\n",
       "   'ndelay_or_nwait': (0,)},\n",
       "  'Q73A.PUMP1': {'port_name': 'Q73A.PUMP1',\n",
       "   'box_name': 'Q73A',\n",
       "   'port': 10,\n",
       "   'ndelay_or_nwait': ()},\n",
       "  'Q73A.CTRL3': {'port_name': 'Q73A.CTRL3',\n",
       "   'box_name': 'Q73A',\n",
       "   'port': 11,\n",
       "   'ndelay_or_nwait': (0,)},\n",
       "  'Q73A.MONITOR1.IN': {'port_name': 'Q73A.MONITOR1.IN',\n",
       "   'box_name': 'Q73A',\n",
       "   'port': 12,\n",
       "   'ndelay_or_nwait': ()},\n",
       "  'Q73A.MONITOR1.OUT': {'port_name': 'Q73A.MONITOR1.OUT',\n",
       "   'box_name': 'Q73A',\n",
       "   'port': 13,\n",
       "   'ndelay_or_nwait': ()}},\n",
       " 'target_settings': {'RQ52': {'frequency': 10.3426},\n",
       "  'RQ53': {'frequency': 10.51863},\n",
       "  'RQ54': {'frequency': 10.46727},\n",
       "  'RQ55': {'frequency': 10.20783},\n",
       "  'Q52': {'frequency': 7.729161},\n",
       "  'Q53': {'frequency': 8.817762},\n",
       "  'Q54': {'frequency': 8.79183},\n",
       "  'Q55': {'frequency': 7.761116}},\n",
       " 'relation_channel_target': [('Q73A.READ0.OUT0', 'RQ52'),\n",
       "  ('Q73A.READ0.OUT0', 'RQ53'),\n",
       "  ('Q73A.READ0.OUT0', 'RQ54'),\n",
       "  ('Q73A.READ0.OUT0', 'RQ55'),\n",
       "  ('Q73A.READ0.IN0', 'RQ52'),\n",
       "  ('Q73A.READ0.IN1', 'RQ53'),\n",
       "  ('Q73A.READ0.IN2', 'RQ54'),\n",
       "  ('Q73A.READ0.IN3', 'RQ55'),\n",
       "  ('Q73A.CTRL0.CH0', 'Q52'),\n",
       "  ('Q73A.CTRL1.CH0', 'Q53'),\n",
       "  ('Q73A.CTRL2.CH0', 'Q54'),\n",
       "  ('Q73A.CTRL3.CH0', 'Q55')],\n",
       " 'relation_channel_port': [('Q73A.READ0.OUT0',\n",
       "   {'port_name': 'Q73A.READ0.OUT', 'channel_number': 0}),\n",
       "  ('Q73A.READ0.IN0', {'port_name': 'Q73A.READ0.IN', 'channel_number': 0}),\n",
       "  ('Q73A.READ0.IN1', {'port_name': 'Q73A.READ0.IN', 'channel_number': 1}),\n",
       "  ('Q73A.READ0.IN2', {'port_name': 'Q73A.READ0.IN', 'channel_number': 2}),\n",
       "  ('Q73A.READ0.IN3', {'port_name': 'Q73A.READ0.IN', 'channel_number': 3}),\n",
       "  ('Q73A.CTRL0.CH0', {'port_name': 'Q73A.CTRL0', 'channel_number': 0}),\n",
       "  ('Q73A.CTRL1.CH0', {'port_name': 'Q73A.CTRL1', 'channel_number': 0}),\n",
       "  ('Q73A.CTRL2.CH0', {'port_name': 'Q73A.CTRL2', 'channel_number': 0}),\n",
       "  ('Q73A.CTRL3.CH0', {'port_name': 'Q73A.CTRL3', 'channel_number': 0})]}"
      ]
     },
     "execution_count": 7,
     "metadata": {},
     "output_type": "execute_result"
    }
   ],
   "source": [
    "# check the system settings\n",
    "qc.system_config_database.asdict()"
   ]
  },
  {
   "cell_type": "code",
   "execution_count": 8,
   "metadata": {},
   "outputs": [],
   "source": [
    "# save the system settings to a JSON file\n",
    "with open(\"./system_settings.json\", \"w\") as f:\n",
    "    f.write(qc.system_config_database.asjson())"
   ]
  }
 ],
 "metadata": {
  "kernelspec": {
   "display_name": ".venv",
   "language": "python",
   "name": "python3"
  },
  "language_info": {
   "codemirror_mode": {
    "name": "ipython",
    "version": 3
   },
   "file_extension": ".py",
   "mimetype": "text/x-python",
   "name": "python",
   "nbconvert_exporter": "python",
   "pygments_lexer": "ipython3",
   "version": "3.9.18"
  }
 },
 "nbformat": 4,
 "nbformat_minor": 2
}
