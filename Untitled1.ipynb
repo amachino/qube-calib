{
 "cells": [
  {
   "cell_type": "markdown",
   "id": "488ff4d7-aeea-404a-bfe6-4e0e67df166f",
   "metadata": {},
   "source": [
    "interact widget の使い方\n",
    "https://ipywidgets.readthedocs.io/en/latest/examples/Using%20Interact.html"
   ]
  },
  {
   "cell_type": "code",
   "execution_count": null,
   "id": "a947c7d7-e75f-46f8-97cd-76566e7323a2",
   "metadata": {
    "tags": []
   },
   "outputs": [],
   "source": [
    "@ipw.interact(a=True, b=(0,20,0.1))\n",
    "def test(a, b):\n",
    "    return (a, b)"
   ]
  },
  {
   "cell_type": "code",
   "execution_count": null,
   "id": "ce8af5db-f426-4195-a88e-1eddf96110db",
   "metadata": {},
   "outputs": [],
   "source": [
    "import ipywidgets as ipw\n",
    "import numpy as np\n",
    "import bokeh.io"
   ]
  },
  {
   "cell_type": "code",
   "execution_count": null,
   "id": "efb97188-4354-4be1-8ce1-2cdc32647356",
   "metadata": {},
   "outputs": [],
   "source": [
    "bokeh.io.output_notebook()"
   ]
  },
  {
   "cell_type": "code",
   "execution_count": null,
   "id": "55dbe2f3-9778-41ad-9625-ec47122c3752",
   "metadata": {},
   "outputs": [],
   "source": [
    "import bokeh.plotting"
   ]
  },
  {
   "cell_type": "code",
   "execution_count": null,
   "id": "863ca39f-84fe-4f4d-b928-59f233382eef",
   "metadata": {},
   "outputs": [],
   "source": [
    "x = np.linspace(0, 2 * np.pi, 2000)\n",
    "y = np.sin(x)"
   ]
  },
  {
   "cell_type": "code",
   "execution_count": null,
   "id": "e370de79-dec7-4f0f-87a7-ec2d4ae45e2e",
   "metadata": {},
   "outputs": [],
   "source": [
    "p = bokeh.plotting.figure(plot_height=300)\n",
    "r = p.line(x, y)"
   ]
  },
  {
   "cell_type": "code",
   "execution_count": null,
   "id": "d6f6eb3b-9ee8-4ba6-a9c9-72eab6906be1",
   "metadata": {},
   "outputs": [],
   "source": [
    "def update(f, w=1, A=1, phi=0):\n",
    "    if   f == 'sin': func = np.sin\n",
    "    elif f == 'cos': func = np.cos\n",
    "    elif f == 'tan': func = np.tan\n",
    "    r.data_source.data['y'] = A * func(w * x + phi)\n",
    "    bokeh.io.push_notebook()"
   ]
  },
  {
   "cell_type": "code",
   "execution_count": null,
   "id": "547433fc-7cef-4ea0-a20a-ad2ab603682e",
   "metadata": {},
   "outputs": [],
   "source": [
    "bokeh.io.show(p, notebook_handle=True)"
   ]
  },
  {
   "cell_type": "code",
   "execution_count": null,
   "id": "f34248f7-5d59-4640-bed1-b5f06708a34d",
   "metadata": {},
   "outputs": [],
   "source": [
    "ipw.interact(update, f=['sin', 'cos', 'tan'], w=(0,100), A=(1,5), phi=(0,20,0.1))"
   ]
  },
  {
   "cell_type": "code",
   "execution_count": null,
   "id": "63ef9242-7423-49ae-9e3e-640256ff6121",
   "metadata": {},
   "outputs": [],
   "source": []
  }
 ],
 "metadata": {
  "kernelspec": {
   "display_name": "Python 3 (ipykernel)",
   "language": "python",
   "name": "python3"
  },
  "language_info": {
   "codemirror_mode": {
    "name": "ipython",
    "version": 3
   },
   "file_extension": ".py",
   "mimetype": "text/x-python",
   "name": "python",
   "nbconvert_exporter": "python",
   "pygments_lexer": "ipython3",
   "version": "3.9.10"
  }
 },
 "nbformat": 4,
 "nbformat_minor": 5
}
