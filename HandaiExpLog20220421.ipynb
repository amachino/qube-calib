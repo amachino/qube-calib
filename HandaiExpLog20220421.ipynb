{
 "cells": [
  {
   "cell_type": "markdown",
   "id": "05599f65-e76e-429b-8352-8fb2de91dc61",
   "metadata": {},
   "source": [
    "# Load basic config"
   ]
  },
  {
   "cell_type": "code",
   "execution_count": 8,
   "id": "c810e528-0fa4-48b4-816c-c8cc2cf54190",
   "metadata": {},
   "outputs": [],
   "source": [
    "import math\n",
    "from qubecalib import Qube"
   ]
  },
  {
   "cell_type": "code",
   "execution_count": 2,
   "id": "bd2ee619-0902-47dd-970a-eae9125dfcad",
   "metadata": {},
   "outputs": [
    {
     "data": {
      "text/plain": [
       "{'bitfile': '0d5ea1.bit',\n",
       " 'ipfpga': '10.1.0.28',\n",
       " 'iplsi': '10.5.0.28',\n",
       " 'macfpga': '00-0A-35-0D-5E-A1',\n",
       " 'maclsi': '00-1B-1A-EE-01-27',\n",
       " 'type': 'A'}"
      ]
     },
     "execution_count": 2,
     "metadata": {},
     "output_type": "execute_result"
    }
   ],
   "source": [
    "QUBE = Qube(config_file_name='qube_riken_1-10.yml')\n",
    "QUBE.config"
   ]
  },
  {
   "cell_type": "code",
   "execution_count": 3,
   "id": "897d3064-2d14-40b9-99b6-af60f016f73c",
   "metadata": {},
   "outputs": [
    {
     "data": {
      "text/plain": [
       "['RF = 9000.000 MHz LO =  8000    MHz IF = 1000.000 MHz LSB/USB: USB MODE AWG: Inactive',\n",
       " 'RF = 9000.000 MHz LO =  8000    MHz IF = 1000.000 MHz ',\n",
       " 'RF = 8000.000 MHz LO =  9000    MHz IF = 1000.000 MHz LSB/USB: LSB MODE AWG: Inactive',\n",
       " 'RF = 13000.000 MHz LO = 12000    MHz IF = 1000.000 MHz LSB/USB: USB MODE AWG: Inactive',\n",
       " 'RF = 11000.000 MHz LO = 12000    MHz IF = 1000.000 MHz LSB/USB: LSB MODE AWG: Inactive',\n",
       " 'RF = 11000.000 MHz LO = 12000    MHz IF = 1000.000 MHz LSB/USB: LSB MODE AWG: Inactive',\n",
       " 'RF = 9000.000 MHz LO =  8000    MHz IF = 1000.000 MHz ',\n",
       " 'RF = 9000.000 MHz LO =  8000    MHz IF = 1000.000 MHz LSB/USB: USB MODE AWG: Inactive']"
      ]
     },
     "execution_count": 3,
     "metadata": {},
     "output_type": "execute_result"
    }
   ],
   "source": [
    "[v.status for k, v in QUBE.port.items()]"
   ]
  },
  {
   "cell_type": "code",
   "execution_count": 4,
   "id": "9d7d4e5b-141d-47fc-a834-44cf3e1283a9",
   "metadata": {},
   "outputs": [
    {
     "data": {
      "text/plain": [
       "'\\n****** Vivado v2020.1 (64-bit)\\n  **** SW Build 2902540 on Wed May 27 19:54:35 MDT 2020\\n  **** IP Build 2902112 on Wed May 27 22:43:36 MDT 2020\\n    ** Copyright 1986-2020 Xilinx, Inc. All Rights Reserved.\\n\\nsource ./adi_api_mod/utils/config.tcl\\n# open_hw_manager\\n# connect_hw_server -allow_non_jtag\\nINFO: [Labtools 27-2285] Connecting to hw_server url TCP:localhost:3121\\nINFO: [Labtools 27-2222] Launching hw_server...\\nINFO: [Labtools 27-2221] Launch Output:\\n\\n****** Xilinx hw_server v2020.1\\n  **** Build date : May 27 2020 at 20:33:44\\n    ** Copyright 1986-2020 Xilinx, Inc. All Rights Reserved.\\n\\n\\nINFO: [Labtools 27-3415] Connecting to cs_server url TCP:localhost:3042\\nINFO: [Labtools 27-3417] Launching cs_server...\\nINFO: [Labtools 27-2221] Launch Output:\\n\\n\\n****** Xilinx cs_server v2020.1.0\\n  **** Build date : May 14 2020-10:10:29\\n    ** Copyright 2017-2020 Xilinx, Inc. All Rights Reserved.\\n\\n\\n\\n# open_hw_target\\nINFO: [Labtoolstcl 44-466] Opening hw_target localhost:3121/xilinx_tcf/Xilinx/500202A504RAA\\n# current_hw_device [get_hw_devices xcu50_0]\\n# refresh_hw_device -update_hw_probes false [lindex [get_hw_devices xcu50_0] 0]\\nINFO: [Labtools 27-2302] Device xcu50 (JTAG device index = 0) is programmed with a design that has 10 ILA core(s).\\n# set_property PROGRAM.FILE $::env(BITFILE) [get_hw_devices xcu50_0]\\n# program_hw_device [get_hw_devices xcu50_0]\\nINFO: [Labtools 27-3164] End of startup status: HIGH\\nprogram_hw_devices: Time (s): cpu = 00:00:27 ; elapsed = 00:00:27 . Memory (MB): peak = 2824.711 ; gain = 9.004 ; free physical = 44377 ; free virtual = 66205\\n# disconnect_hw_server localhost:3121\\n# close_hw_manager\\n****** Webtalk v2020.1 (64-bit)\\n  **** SW Build 2902540 on Wed May 27 19:54:35 MDT 2020\\n  **** IP Build 2902112 on Wed May 27 22:43:36 MDT 2020\\n    ** Copyright 1986-2020 Xilinx, Inc. All Rights Reserved.\\n\\nsource /home/sio3/qube-calib/.Xil/Vivado-105030-qube003/webtalk/labtool_webtalk.tcl -notrace\\nINFO: [Common 17-206] Exiting Webtalk at Thu Apr 21 18:13:24 2022...\\nINFO: [Common 17-206] Exiting Vivado at Thu Apr 21 18:13:24 2022...\\n'"
      ]
     },
     "execution_count": 4,
     "metadata": {},
     "output_type": "execute_result"
    }
   ],
   "source": [
    "QUBE.config_fpga()"
   ]
  },
  {
   "cell_type": "markdown",
   "id": "78cff112-8194-449b-94c5-12081f1349e6",
   "metadata": {},
   "source": [
    "# Readout(P0) -> Readin(P1)"
   ]
  },
  {
   "cell_type": "code",
   "execution_count": 5,
   "id": "d6f1ac23-51b9-46fc-9a67-e9d61bc0e43a",
   "metadata": {
    "tags": []
   },
   "outputs": [],
   "source": [
    "from collections import namedtuple\n",
    "from e7awgsw import AWG, AwgCtrl, CaptureCtrl, CaptureModule, CaptureParam, DspUnit, SinWave, IqWave\n",
    "from e7awgsw import WaveSequence\n",
    "import numpy as np\n",
    "\n",
    "\n",
    "ADDITIONAL_CAPTURE_DELAY = 0 # cpature words = cycyles@125MHz \n",
    "\n",
    "\n",
    "wave_params = namedtuple(\n",
    "    'WaveParams',\n",
    "    ('num_wait_words',\n",
    "     'ctrl_freq',\n",
    "     'ctrl_wave_len',\n",
    "     'readout_freq',\n",
    "     'readout_wave_len',\n",
    "     'readout_blank_len',\n",
    "     'num_chunk_repeats',\n",
    "     'ctrl_amp',\n",
    "     'readout_amp',\n",
    "    ))\n",
    "\n",
    "\n",
    "awg_list = namedtuple(\n",
    "    'AwgList',\n",
    "    ('ctrl_awg_0',\n",
    "     'ctrl_awg_1',\n",
    "     'readout_awg_0',\n",
    "     'readout_awg_1'))\n",
    "\n",
    "\n",
    "AWG_LIST = awg_list(\n",
    "    ctrl_awg_0 = AWG.U11,\n",
    "    ctrl_awg_1 = AWG.U0,\n",
    "    readout_awg_0 = AWG.U15,\n",
    "    readout_awg_1 = AWG.U2\n",
    ")\n",
    "\n",
    "def set_trigger_awg(cap_ctrl, awg, capture_modules):\n",
    "    for cap_mod_id in capture_modules:\n",
    "        cap_ctrl.select_trigger_awg(cap_mod_id, awg)\n",
    "        cap_ctrl.enable_start_trigger(*CaptureModule.get_units(cap_mod_id))\n",
    "\n",
    "\n",
    "\n",
    "\n",
    "\n",
    "\n",
    "def set_wave_sequence(awg_ctrl, params):\n",
    "    \n",
    "    def gen_cos_wave(freq, num_cycles, amp, sampling_rate):\n",
    "        freq = freq * 1e6\n",
    "        i_samples = SinWave(num_cycles = num_cycles, frequency = freq, amplitude = amp, phase = math.pi / 2).gen_samples(sampling_rate)\n",
    "        q_samples = SinWave(num_cycles = num_cycles, frequency = freq, amplitude = amp).gen_samples(sampling_rate)\n",
    "        return (i_samples, q_samples)\n",
    "\n",
    "    def gen_ctrl_wave_samples():\n",
    "        num_cycles = params.ctrl_freq * params.ctrl_wave_len * 1e-3\n",
    "        return gen_cos_wave(params.ctrl_freq, num_cycles, params.ctrl_amp, AwgCtrl.SAMPLING_RATE)\n",
    "\n",
    "    def gen_ctrl_wave_seq(params, num_all_samples, i_samples, q_samples):\n",
    "        iq_samples = IqWave.convert_to_iq_format(i_samples, q_samples, WaveSequence.NUM_SAMPLES_IN_WAVE_BLOCK)\n",
    "        num_blank_samples = num_all_samples - len(iq_samples)\n",
    "        num_blank_words = num_blank_samples // WaveSequence.NUM_SAMPLES_IN_AWG_WORD\n",
    "\n",
    "        wave_seq = WaveSequence(num_wait_words = params.num_wait_words, num_repeats = 1)\n",
    "        wave_seq.add_chunk(\n",
    "            iq_samples = iq_samples,\n",
    "            num_blank_words = num_blank_words, \n",
    "            num_repeats = params.num_chunk_repeats\n",
    "        )\n",
    "        return wave_seq\n",
    "    \n",
    "    def gen_readout_wave_samples(params, num_pre_blank_samples):\n",
    "        num_cycles = params.readout_freq * params.readout_wave_len * 1e-3\n",
    "        i_samples, q_samples = gen_cos_wave(params.readout_freq, num_cycles, params.readout_amp, AwgCtrl.SAMPLING_RATE)\n",
    "        i_samples = [0] * num_pre_blank_samples + i_samples\n",
    "        q_samples = [0] * num_pre_blank_samples + q_samples\n",
    "        return (i_samples, q_samples)\n",
    "\n",
    "    def gen_readout_wave_seq(params, i_samples, q_samples):\n",
    "        iq_samples = IqWave.convert_to_iq_format(i_samples, q_samples, WaveSequence.NUM_SAMPLES_IN_WAVE_BLOCK)\n",
    "        # I/Q サンプルに付加された 0 データの分 readout 波形のブランクを短くする\n",
    "        num_added_samples = len(iq_samples) - len(i_samples)\n",
    "        num_blank_samples = max(\n",
    "            int(AwgCtrl.SAMPLING_RATE * params.readout_blank_len / 1e3) - num_added_samples, 0)\n",
    "        num_blank_words = num_blank_samples // WaveSequence.NUM_SAMPLES_IN_AWG_WORD\n",
    "\n",
    "        wave_seq = WaveSequence(num_wait_words = params.num_wait_words, num_repeats = 1)\n",
    "        wave_seq.add_chunk(\n",
    "            iq_samples = iq_samples,\n",
    "            num_blank_words = num_blank_words, \n",
    "            num_repeats = params.num_chunk_repeats\n",
    "        )\n",
    "        return wave_seq\n",
    "    \n",
    "    ctrl_i_samples, ctrl_q_samples = gen_ctrl_wave_samples() # サンプル作成\n",
    "    ro_i_samples, ro_q_samples = gen_readout_wave_samples(params, len(ctrl_i_samples)) # サンプル作成\n",
    "\n",
    "    \n",
    "    ro_wave_seq = gen_readout_wave_seq(params, ro_i_samples, ro_q_samples) # 波形シーケンス作成\n",
    "    ctrl_wave_seq = gen_ctrl_wave_seq(\n",
    "        params, ro_wave_seq.chunk(0).num_samples, ctrl_i_samples, ctrl_q_samples)\n",
    "\n",
    "    # control 波形と readout 波形の長さが一致することを確認\n",
    "    assert ctrl_wave_seq.num_all_words == ro_wave_seq.num_all_words\n",
    "\n",
    "    awg_ctrl.set_wave_sequence(AWG_LIST.ctrl_awg_0, ctrl_wave_seq)\n",
    "    awg_ctrl.set_wave_sequence(AWG_LIST.ctrl_awg_1, ctrl_wave_seq)\n",
    "    awg_ctrl.set_wave_sequence(AWG_LIST.readout_awg_0, ro_wave_seq)\n",
    "    awg_ctrl.set_wave_sequence(AWG_LIST.readout_awg_1, ro_wave_seq)\n",
    "    return {\n",
    "        AWG_LIST.ctrl_awg_0 : ctrl_wave_seq,\n",
    "        AWG_LIST.ctrl_awg_1 : ctrl_wave_seq,\n",
    "        AWG_LIST.readout_awg_0 : ro_wave_seq,\n",
    "        AWG_LIST.readout_awg_1 : ro_wave_seq\n",
    "    }\n",
    "\n",
    "\n",
    "def set_capture_params(cap_ctrl, ctrl_wave_seq, ro_wave_seq, capture_units):\n",
    "    \n",
    "    def gen_capture_param(ctrl_wave_seq, ro_wave_seq):\n",
    "        capture_param = CaptureParam()\n",
    "        capture_param.num_integ_sections = ro_wave_seq.chunk(0).num_repeats # 積算区間数\n",
    "\n",
    "        # readout 波形の長さから, 追加で 1us キャプチャするためのキャプチャワード数を計算\n",
    "        additional_capture_words = int(1e-6 * CaptureCtrl.SAMPLING_RATE) // CaptureParam.NUM_SAMPLES_IN_ADC_WORD\n",
    "        additional_capture_words = min(additional_capture_words, ro_wave_seq.chunk(0).num_blank_words - 1)\n",
    "\n",
    "        sum_section_len = ro_wave_seq.chunk(0).num_words - ro_wave_seq.chunk(0).num_blank_words + additional_capture_words\n",
    "        num_blank_words = ro_wave_seq.chunk(0).num_words - sum_section_len\n",
    "        capture_param.add_sum_section(sum_section_len, num_blank_words)\n",
    "        capture_param.sum_start_word_no = 0\n",
    "        capture_param.num_words_to_sum = CaptureParam.MAX_SUM_SECTION_LEN\n",
    "        capture_param.sel_dsp_units_to_enable(DspUnit.INTEGRATION)\n",
    "        capture_param.capture_delay = ctrl_wave_seq.num_wait_words + ctrl_wave_seq.chunk(0).num_wave_words\n",
    "        capture_param.capture_delay += ADDITIONAL_CAPTURE_DELAY\n",
    "        # readout 波形のサンプル数とキャプチャするサンプル数が一致することを確認\n",
    "        assert ro_wave_seq.num_all_samples == capture_param.num_samples_to_process\n",
    "        return capture_param\n",
    "\n",
    "    capture_param = gen_capture_param(ctrl_wave_seq, ro_wave_seq)\n",
    "    for captu_unit_id in capture_units:\n",
    "        cap_ctrl.set_capture_params(captu_unit_id, capture_param)\n",
    "\n",
    "\n",
    "\n",
    "\n",
    "def get_capture_data(cap_ctrl, capture_units):\n",
    "    capture_unit_to_capture_data = {}\n",
    "    for capture_unit_id in capture_units:\n",
    "        num_captured_samples = cap_ctrl.num_captured_samples(capture_unit_id)\n",
    "        capture_unit_to_capture_data[capture_unit_id] = cap_ctrl.get_capture_data(capture_unit_id, num_captured_samples)\n",
    "    return capture_unit_to_capture_data\n",
    "\n",
    "\n",
    "def check_err(awg_ctrl, cap_ctrl, awgs, capture_units):\n",
    "    awg_to_err = awg_ctrl.check_err(*awgs)\n",
    "    for awg_id, err_list in awg_to_err.items():\n",
    "        print(awg_id)\n",
    "        for err in err_list:\n",
    "            print('    {}'.format(err))\n",
    "    \n",
    "    cap_unit_to_err = cap_ctrl.check_err(*capture_units)\n",
    "    for cap_unit_id, err_list in cap_unit_to_err.items():\n",
    "        print('{} err'.format(cap_unit_id))\n",
    "        for err in err_list:\n",
    "            print('    {}'.format(err))\n",
    "\n",
    "def rabi_meas(wparams):\n",
    "\n",
    "    capture_modules = QUBE.port[1].adc.caps + QUBE.port[12].adc.caps\n",
    "    capture_units = CaptureModule.get_units(*capture_modules)\n",
    "\n",
    "    cap_ctrl = CaptureCtrl(QUBE.config['ipfpga'])\n",
    "    awg_ctrl = AwgCtrl(QUBE.config['ipfpga'])\n",
    "\n",
    "    # 初期化\n",
    "    awg_ctrl.initialize(*AWG_LIST)\n",
    "    cap_ctrl.initialize(*capture_units)\n",
    "\n",
    "    # トリガ AWG の設定\n",
    "    set_trigger_awg(cap_ctrl, AWG_LIST.ctrl_awg_0, capture_modules)\n",
    "\n",
    "    # 波形シーケンスの設定\n",
    "    awg_to_wave_sequence = set_wave_sequence(awg_ctrl, wparams)\n",
    "\n",
    "    # キャプチャパラメータの設定\n",
    "    set_capture_params(\n",
    "        cap_ctrl,\n",
    "        awg_to_wave_sequence[AWG_LIST.ctrl_awg_0],\n",
    "        awg_to_wave_sequence[AWG_LIST.readout_awg_0],\n",
    "        capture_units)\n",
    "\n",
    "    # 波形送信スタート\n",
    "    awg_ctrl.start_awgs(*AWG_LIST)\n",
    "\n",
    "    # 波形送信完了待ち\n",
    "    awg_ctrl.wait_for_awgs_to_stop(5, *AWG_LIST)\n",
    "\n",
    "    # キャプチャ完了待ち\n",
    "    cap_ctrl.wait_for_capture_units_to_stop(5, *capture_units)\n",
    "\n",
    "    # エラーチェック\n",
    "    check_err(awg_ctrl, cap_ctrl, AWG_LIST, capture_units)\n",
    "\n",
    "    # キャプチャデータ取得\n",
    "    return get_capture_data(cap_ctrl, capture_units)\n"
   ]
  },
  {
   "cell_type": "code",
   "execution_count": 609,
   "id": "7b75825a-914e-4909-9e52-7fe8b62d43a6",
   "metadata": {},
   "outputs": [
    {
     "data": {
      "text/plain": [
       "array([ 10.,  15.,  20.,  25.,  30.,  35.,  40.,  45.,  50.,  55.,  60.,\n",
       "        65.,  70.,  75.,  80.,  85.,  90.,  95., 100., 105., 110., 115.,\n",
       "       120., 125., 130., 135., 140., 145., 150., 155., 160., 165., 170.,\n",
       "       175., 180., 185., 190., 195., 200., 205., 210., 215., 220., 225.,\n",
       "       230., 235., 240., 245., 250., 255., 260., 265., 270., 275., 280.,\n",
       "       285., 290., 295., 300., 305., 310., 315., 320.])"
      ]
     },
     "execution_count": 609,
     "metadata": {},
     "output_type": "execute_result"
    }
   ],
   "source": [
    "np.linspace(10, 320, 63)"
   ]
  },
  {
   "cell_type": "code",
   "execution_count": 6,
   "id": "697ef6ab-7429-48f3-8cc4-505b79ce151f",
   "metadata": {},
   "outputs": [
    {
     "name": "stdout",
     "output_type": "stream",
     "text": [
      "1203.125 14.375\n",
      "1437.5 6.0\n",
      "RF = 9203.125 MHz LO =  8000    MHz IF = 1203.125 MHz LSB/USB: USB MODE AWG: Inactive\n",
      "RF = 9203.125 MHz LO =  8000    MHz IF = 1203.125 MHz \n",
      "RF = 7562.500 MHz LO =  9000    MHz IF = 1437.500 MHz LSB/USB: LSB MODE AWG: Inactive\n"
     ]
    }
   ],
   "source": [
    "nco_mhz, awg_mhz = QUBE.port[0].set_freq(9217.5, 8000)\n",
    "print(nco_mhz, awg_mhz)\n",
    "#QUBE.port[0].upconv.vatt = 0x380\n",
    "QUBE.port[0].upconv.vatt = 0x800\n",
    "QUBE.port[1].adc.nco.freq = nco_mhz\n",
    "nco_mhz, awg_mhz = QUBE.port[5].set_freq(7556.5, 9000)\n",
    "print(nco_mhz, awg_mhz)\n",
    "QUBE.port[5].dac.nco.freq = nco_mhz\n",
    "QUBE.port[5].upconv.vatt = 0x7b0\n",
    "#print(10109.5 + 906.25 - 11000)\n",
    "\n",
    "print(QUBE.port[0].status)\n",
    "print(QUBE.port[1].status)\n",
    "print(QUBE.port[5].status)"
   ]
  },
  {
   "cell_type": "code",
   "execution_count": 662,
   "id": "bd119e1f-c539-48da-a4b6-c80278bd04e1",
   "metadata": {},
   "outputs": [],
   "source": [
    "# np.linspace(10, 640, 631)"
   ]
  },
  {
   "cell_type": "code",
   "execution_count": 9,
   "id": "7dc6910d-1ba1-49b0-8455-90b150592033",
   "metadata": {},
   "outputs": [
    {
     "name": "stdout",
     "output_type": "stream",
     "text": [
      "100 100\n"
     ]
    },
    {
     "data": {
      "image/png": "[encoded data removed]",
      "text/plain": [
       "<Figure size 432x288 with 1 Axes>"
      ]
     },
     "metadata": {
      "needs_background": "light"
     },
     "output_type": "display_data"
    }
   ],
   "source": [
    "rslt = {}\n",
    "\n",
    "#for c in np.linspace(10, 320, 63):\n",
    "#for c in np.linspace(10, 640, 631):\n",
    "for c in [100]:\n",
    "\n",
    "    wparams = wave_params(\n",
    "        num_wait_words = 0,\n",
    "        ctrl_freq = 6, # MHz\n",
    "        ctrl_wave_len = c, # ns\n",
    "        readout_freq = 14.375, # MHz,\n",
    "        readout_wave_len = 1000, # ns,\n",
    "        readout_blank_len = 0.1, # ms\n",
    "        num_chunk_repeats = 10000, # 積算回数\n",
    "        ctrl_amp = 32767, # 17500 -> 81.3 mV\n",
    "        readout_amp = 32767,\n",
    "    )\n",
    "    \n",
    "    print(c, end=' ', flush=True)\n",
    "    d = rabi_meas(wparams)\n",
    "\n",
    "    rslt[c] = d\n",
    "    \n",
    "    %matplotlib inline\n",
    "    import matplotlib.pyplot as plt\n",
    "\n",
    "    #s = slice(400,450)\n",
    "    s = slice(0,-1)\n",
    "    a = np.array(d[4])\n",
    "    v = a[:,0] + 1j * a[:,1]\n",
    "    time = np.linspace(0, 1e+6 * a.shape[0] / CaptureCtrl.SAMPLING_RATE, a.shape[0], endpoint=False)\n",
    "    w = v * np.exp(-1j*2*np.pi*wparams.readout_freq*(time + c))\n",
    "    print(c)\n",
    "    plt.plot(time[s], np.real(w[s]))\n",
    "    plt.plot(time[s], np.imag(w[s]))\n",
    "    plt.xlabel('time [us]')\n",
    "    plt.show()"
   ]
  },
  {
   "cell_type": "code",
   "execution_count": 617,
   "id": "4e920ba4-4ff7-45a3-82f7-46c91afa8817",
   "metadata": {},
   "outputs": [],
   "source": [
    "import pickle\n",
    "\n",
    "with open('HandaiExpRabi202204211600.pickle', 'wb') as f:\n",
    "    pickle.dump(rslt, f)"
   ]
  },
  {
   "cell_type": "code",
   "execution_count": 651,
   "id": "0bf214ed-3a0d-4a93-9930-6792b72f4ece",
   "metadata": {},
   "outputs": [
    {
     "data": {
      "text/plain": [
       "(-400000.0, 400000.0)"
      ]
     },
     "execution_count": 651,
     "metadata": {},
     "output_type": "execute_result"
    },
    {
     "data": {
      "image/png": "[encoded data removed]",
      "text/plain": [
       "<Figure size 432x288 with 1 Axes>"
      ]
     },
     "metadata": {
      "needs_background": "light"
     },
     "output_type": "display_data"
    }
   ],
   "source": [
    "%matplotlib inline\n",
    "import matplotlib.pyplot as plt\n",
    "\n",
    "for k, d in rslt.items():\n",
    "    s = slice(500,900)\n",
    "    #s = slice(0,-1)\n",
    "    a = np.array(d[4])\n",
    "    v = a[:,0] + 1j * a[:,1]\n",
    "    time = np.linspace(0, 1e+6 * a.shape[0] / CaptureCtrl.SAMPLING_RATE, a.shape[0], endpoint=False)\n",
    "    w = v * np.exp(-1j*2*np.pi*wparams.readout_freq*(time - k*1e-3))\n",
    "    plt.plot(np.real(w[s].mean()), np.imag(w[s].mean()), 'o')\n",
    "plt.axis('equal')\n",
    "plt.xlim(-4e+5, 4e+5)\n",
    "plt.ylim(-4e+5, 4e+5)\n"
   ]
  },
  {
   "cell_type": "code",
   "execution_count": 654,
   "id": "b352fdfd-2262-4b00-8d5a-66990b461d26",
   "metadata": {},
   "outputs": [
    {
     "data": {
      "text/plain": [
       "[<matplotlib.lines.Line2D at 0x7f7205f07c40>]"
      ]
     },
     "execution_count": 654,
     "metadata": {},
     "output_type": "execute_result"
    },
    {
     "data": {
      "image/png": "[encoded data removed]",
      "text/plain": [
       "<Figure size 432x288 with 1 Axes>"
      ]
     },
     "metadata": {
      "needs_background": "light"
     },
     "output_type": "display_data"
    }
   ],
   "source": [
    "plt.plot(time)\n",
    "plt.plot(np.array(list(rslt))*1e-3)"
   ]
  },
  {
   "cell_type": "code",
   "execution_count": null,
   "id": "d703af90-3e8e-4ea0-b85b-00e51afc093a",
   "metadata": {},
   "outputs": [],
   "source": []
  }
 ],
 "metadata": {
  "kernelspec": {
   "display_name": "Python 3 (ipykernel)",
   "language": "python",
   "name": "python3"
  },
  "language_info": {
   "codemirror_mode": {
    "name": "ipython",
    "version": 3
   },
   "file_extension": ".py",
   "mimetype": "text/x-python",
   "name": "python",
   "nbconvert_exporter": "python",
   "pygments_lexer": "ipython3",
   "version": "3.9.10"
  }
 },
 "nbformat": 4,
 "nbformat_minor": 5
}
