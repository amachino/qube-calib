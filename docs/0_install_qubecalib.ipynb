{
 "cells": [
  {
   "cell_type": "markdown",
   "metadata": {},
   "source": [
    "# Installation\n",
    "\n",
    "## 1. Requirements\n",
    "\n",
    "- Python 3.9+\n",
    "\n",
    "\n",
    "## 2. Installation\n",
    "\n",
    "You can install qubecalib with the following steps.\n",
    "\n",
    "### 2.1. Install Python (optional)\n",
    "\n",
    "Confirm that Python 3.9 or later is installed.\n",
    "\n",
    "```bash\n",
    "python --version\n",
    "```\n",
    "\n",
    "If not, install an appropriate Python version using [pyenv](https://github.com/pyenv/pyenv) or other tools.\n",
    "\n",
    "\n",
    "### 2.2. Create and activate a virtual environment\n",
    "\n",
    "Create a dedicated virtual environment using venv.\n",
    "\n",
    "```bash\n",
    "# Move to your workspace\n",
    "cd YOUR_WORKSPACE\n",
    "\n",
    "# Create a virtual environment named .venv\n",
    "python -m venv .venv\n",
    "\n",
    "# Activate the virtual environment\n",
    "source .venv/bin/activate\n",
    "```\n",
    "\n",
    "### 2.3. Install qubecalib\n",
    "\n",
    "Install qubecalib from the GitHub repository using pip.\n",
    "\n",
    "```bash\n",
    "pip install git+https://github.com/qiqb-osaka/qube-calib.git\n",
    "```\n",
    "\n",
    "To install a specific version (x.y.z), run the following command.\n",
    "\n",
    "```bash\n",
    "pip install git+https://github.com/qiqb-osaka/qube-calib.git@x.y.z\n",
    "```\n",
    "\n",
    "Check available versions on the [release page](https://github.com/qiqb-osaka/qube-calib/releases)."
   ]
  }
 ],
 "metadata": {
  "kernelspec": {
   "display_name": ".venv",
   "language": "python",
   "name": "python3"
  },
  "language_info": {
   "codemirror_mode": {
    "name": "ipython",
    "version": 3
   },
   "file_extension": ".py",
   "mimetype": "text/x-python",
   "name": "python",
   "nbconvert_exporter": "python",
   "pygments_lexer": "ipython3",
   "version": "3.9.18"
  }
 },
 "nbformat": 4,
 "nbformat_minor": 2
}
