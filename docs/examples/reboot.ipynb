{
 "cells": [
  {
   "cell_type": "markdown",
   "metadata": {},
   "source": [
    "# 　リブート"
   ]
  },
  {
   "cell_type": "code",
   "execution_count": 1,
   "metadata": {},
   "outputs": [
    {
     "name": "stderr",
     "output_type": "stream",
     "text": [
      "2024-04-16 10:54:08,201 [INFO] quel_staging_tool.quel_xilinx_fpga_programmer: executing vivado -mode batch -nolog -nojournal -notrace -tempDir /tmp/tmp30gyfz08 -source /home/sio3/Dev/qube-calib/.venv/lib/python3.9/site-packages/quel_staging_tool/tcl_2020/reboot.tcl -tclargs localhost:3121 500202A503EAA\n",
      "2024-04-16 10:54:33,367 [INFO] quel_staging_tool.quel_xilinx_fpga_programmer: rebooted successfully\n"
     ]
    }
   ],
   "source": [
    "%%bash\n",
    "source /tools/Xilinx/Vivado/2020.1/settings64.sh\n",
    "\n",
    "# quel_reboot_fpga --adapter 500202A502CAA --port 3121 # riken_1-01\n",
    "# quel_reboot_fpga --adapter 500202A500IAA --port 3121 # riken_1-02\n",
    "\n",
    "# quel_reboot_fpga --adapter 500202A501QAA --port 3121 # riken_1-07\n",
    "# quel_reboot_fpga --adapter 500202A506SAA --port 3121 # riken_1-11\n",
    "# quel_reboot_fpga --adapter 500202A504RAA --port 3121 # riken_1-10\n",
    "# quel_reboot_fpga --adapter 500202A504RAA --port 3121 # ou_3-01\n",
    "quel_reboot_fpga --adapter 500202A503EAA --port 3121 # riken_1-08\n",
    "# quel_reboot_fpga --adapter 500202A501OAA --port 3121 # ou_2-11\n",
    "# quel_reboot_fpga --adapter 500202A509HAA --port 3121 # ou_2-04\n",
    "# quel_reboot_fpga --adapter 500202A50TAAA --port 3121 # quel-1_5-01\n"
   ]
  },
  {
   "cell_type": "code",
   "execution_count": null,
   "metadata": {},
   "outputs": [],
   "source": []
  }
 ],
 "metadata": {
  "kernelspec": {
   "display_name": ".venv",
   "language": "python",
   "name": "python3"
  },
  "language_info": {
   "codemirror_mode": {
    "name": "ipython",
    "version": 3
   },
   "file_extension": ".py",
   "mimetype": "text/x-python",
   "name": "python",
   "nbconvert_exporter": "python",
   "pygments_lexer": "ipython3",
   "version": "3.9.18"
  }
 },
 "nbformat": 4,
 "nbformat_minor": 2
}
