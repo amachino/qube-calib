{
 "cells": [
  {
   "cell_type": "markdown",
   "metadata": {},
   "source": [
    "# Configure settings\n",
    "\n",
    "In order to perform quantum control experiments using QuBE/QuEL, the following settings are required:\n",
    "\n",
    "1. System settings\n",
    "2. Box settings\n",
    "\n",
    "In this document, we will explain how configure these settings.\n",
    "\n",
    "The configuration can be saved as a JSON file and reused later."
   ]
  },
  {
   "cell_type": "markdown",
   "metadata": {},
   "source": [
    "## 1. System settings\n",
    "\n",
    "QuBE/QuEL has multiple `ports` in one `box`, and each port has multiple `channels`.\n",
    "\n",
    "Configure your system information between the control device and the `targets` (control/readout frequencies)."
   ]
  },
  {
   "cell_type": "markdown",
   "metadata": {},
   "source": [
    "### 1.1 Create an `QubeCalib` instance"
   ]
  },
  {
   "cell_type": "code",
   "execution_count": null,
   "metadata": {},
   "outputs": [],
   "source": [
    "# import the QubeCalib class from qubecalib\n",
    "from qubecalib import QubeCalib\n",
    "\n",
    "# create an instance of QubeCalib named `qc`\n",
    "qc = QubeCalib()"
   ]
  },
  {
   "cell_type": "markdown",
   "metadata": {},
   "source": [
    "We use `qc.define_***()` methods to configure the system settings."
   ]
  },
  {
   "cell_type": "markdown",
   "metadata": {},
   "source": [
    "### 1.2 Define boxes\n",
    "\n",
    "A `box` is a physical apparatus (QuBE/QuEL) that has multiple `ports`.\n",
    "\n",
    "Check [here](https://github.com/quel-inc/quelware/blob/main/quel_ic_config/GETTING_STARTED.md#%E3%82%B7%E3%82%A7%E3%83%AB%E3%82%B3%E3%83%9E%E3%83%B3%E3%83%89%E3%82%92%E4%BD%BF%E3%81%A3%E3%81%A6%E3%81%BF%E3%82%8B) for the list of available box types."
   ]
  },
  {
   "cell_type": "code",
   "execution_count": null,
   "metadata": {},
   "outputs": [],
   "source": [
    "# define the box name, IP address, and box type\n",
    "\n",
    "qc.define_box(box_name=\"A25\", ipaddr_wss=\"10.1.0.25\", boxtype=\"qube-riken-a\")\n",
    "qc.define_box(box_name=\"A73\", ipaddr_wss=\"10.1.0.73\", boxtype=\"quel1-a\")"
   ]
  },
  {
   "cell_type": "markdown",
   "metadata": {},
   "source": [
    "### 1.3 Define ports\n",
    "\n",
    "A `port` is a physical connector on the `box` that has multiple `channels`.\n",
    "\n",
    "Check [here](https://github.com/quel-inc/quelware/blob/main/quel_ic_config/DEVELOPMENT_NOTES.md) for the list of available ports."
   ]
  },
  {
   "cell_type": "code",
   "execution_count": null,
   "metadata": {},
   "outputs": [],
   "source": [
    "# port definitions for box A25\n",
    "qc.define_port(port_name=\"A25.P00\", box_name=\"A25\", port_number=0)\n",
    "qc.define_port(port_name=\"A25.P01\", box_name=\"A25\", port_number=1)\n",
    "qc.define_port(port_name=\"A25.P02\", box_name=\"A25\", port_number=2)\n",
    "qc.define_port(port_name=\"A25.P03\", box_name=\"A25\", port_number=3)\n",
    "qc.define_port(port_name=\"A25.P04\", box_name=\"A25\", port_number=4)\n",
    "qc.define_port(port_name=\"A25.P05\", box_name=\"A25\", port_number=5)\n",
    "qc.define_port(port_name=\"A25.P06\", box_name=\"A25\", port_number=6)\n",
    "qc.define_port(port_name=\"A25.P07\", box_name=\"A25\", port_number=7)\n",
    "qc.define_port(port_name=\"A25.P08\", box_name=\"A25\", port_number=8)\n",
    "qc.define_port(port_name=\"A25.P09\", box_name=\"A25\", port_number=9)\n",
    "qc.define_port(port_name=\"A25.P10\", box_name=\"A25\", port_number=10)\n",
    "qc.define_port(port_name=\"A25.P11\", box_name=\"A25\", port_number=11)\n",
    "qc.define_port(port_name=\"A25.P12\", box_name=\"A25\", port_number=12)\n",
    "qc.define_port(port_name=\"A25.P13\", box_name=\"A25\", port_number=13)"
   ]
  },
  {
   "cell_type": "code",
   "execution_count": null,
   "metadata": {},
   "outputs": [],
   "source": [
    "# port definitions for box A73\n",
    "qc.define_port(port_name=\"A73.P00\", box_name=\"A73\", port_number=0)\n",
    "qc.define_port(port_name=\"A73.P01\", box_name=\"A73\", port_number=1)\n",
    "qc.define_port(port_name=\"A73.P02\", box_name=\"A73\", port_number=2)\n",
    "qc.define_port(port_name=\"A73.P03\", box_name=\"A73\", port_number=3)\n",
    "qc.define_port(port_name=\"A73.P04\", box_name=\"A73\", port_number=4)\n",
    "qc.define_port(port_name=\"A73.P05\", box_name=\"A73\", port_number=5)\n",
    "qc.define_port(port_name=\"A73.P06\", box_name=\"A73\", port_number=6)\n",
    "qc.define_port(port_name=\"A73.P07\", box_name=\"A73\", port_number=7)\n",
    "qc.define_port(port_name=\"A73.P08\", box_name=\"A73\", port_number=8)\n",
    "qc.define_port(port_name=\"A73.P09\", box_name=\"A73\", port_number=9)\n",
    "qc.define_port(port_name=\"A73.P10\", box_name=\"A73\", port_number=10)\n",
    "qc.define_port(port_name=\"A73.P11\", box_name=\"A73\", port_number=11)\n",
    "qc.define_port(port_name=\"A73.P12\", box_name=\"A73\", port_number=12)\n",
    "qc.define_port(port_name=\"A73.P13\", box_name=\"A73\", port_number=13)"
   ]
  },
  {
   "cell_type": "markdown",
   "metadata": {},
   "source": [
    "You can use arbitrary names as long as they are unique.\n",
    "\n",
    "In this document, we use hard-coded settings for tutorial purposes, but in actual use, it is expected that the settings will be configured systematically."
   ]
  },
  {
   "cell_type": "markdown",
   "metadata": {},
   "source": [
    "### 1.4 Define channels\n",
    "\n",
    "A `channel` is logical line in a `port` with a specific carrier frequency."
   ]
  },
  {
   "cell_type": "code",
   "execution_count": null,
   "metadata": {},
   "outputs": [],
   "source": [
    "# channel definitions for A25 (QuBE-RIKEN Type-A)\n",
    "\n",
    "# read0\n",
    "qc.define_channel(channel_name=\"A25.READ0.GEN0\", port_name=\"A25.P00\", channel_number=0)\n",
    "qc.define_channel(channel_name=\"A25.READ0.CAP0\", port_name=\"A25.P01\", channel_number=0)\n",
    "qc.define_channel(channel_name=\"A25.READ0.CAP1\", port_name=\"A25.P01\", channel_number=1)\n",
    "qc.define_channel(channel_name=\"A25.READ0.CAP2\", port_name=\"A25.P01\", channel_number=2)\n",
    "qc.define_channel(channel_name=\"A25.READ0.CAP3\", port_name=\"A25.P01\", channel_number=3)\n",
    "\n",
    "# read1\n",
    "qc.define_channel(channel_name=\"A25.READ1.GEN0\", port_name=\"A25.P13\", channel_number=0)\n",
    "qc.define_channel(channel_name=\"A25.READ1.CAP0\", port_name=\"A25.P12\", channel_number=0)\n",
    "qc.define_channel(channel_name=\"A25.READ1.CAP1\", port_name=\"A25.P12\", channel_number=1)\n",
    "qc.define_channel(channel_name=\"A25.READ1.CAP2\", port_name=\"A25.P12\", channel_number=2)\n",
    "qc.define_channel(channel_name=\"A25.READ1.CAP3\", port_name=\"A25.P12\", channel_number=3)\n",
    "\n",
    "# ctrl0\n",
    "qc.define_channel(channel_name=\"A25.CTRL0.CH0\", port_name=\"A25.P05\", channel_number=0)\n",
    "qc.define_channel(channel_name=\"A25.CTRL0.CH1\", port_name=\"A25.P05\", channel_number=1)\n",
    "qc.define_channel(channel_name=\"A25.CTRL0.CH2\", port_name=\"A25.P05\", channel_number=2)\n",
    "\n",
    "# ctrl1\n",
    "qc.define_channel(channel_name=\"A25.CTRL1.CH0\", port_name=\"A25.P06\", channel_number=0)\n",
    "qc.define_channel(channel_name=\"A25.CTRL1.CH1\", port_name=\"A25.P06\", channel_number=1)\n",
    "qc.define_channel(channel_name=\"A25.CTRL1.CH2\", port_name=\"A25.P06\", channel_number=2)\n",
    "\n",
    "# ctrl2\n",
    "qc.define_channel(channel_name=\"A25.CTRL2.CH0\", port_name=\"A25.P07\", channel_number=0)\n",
    "qc.define_channel(channel_name=\"A25.CTRL2.CH1\", port_name=\"A25.P07\", channel_number=1)\n",
    "qc.define_channel(channel_name=\"A25.CTRL2.CH2\", port_name=\"A25.P07\", channel_number=2)\n",
    "\n",
    "# ctrl3\n",
    "qc.define_channel(channel_name=\"A25.CTRL3.CH0\", port_name=\"A25.P08\", channel_number=0)\n",
    "qc.define_channel(channel_name=\"A25.CTRL3.CH1\", port_name=\"A25.P08\", channel_number=1)\n",
    "qc.define_channel(channel_name=\"A25.CTRL3.CH2\", port_name=\"A25.P08\", channel_number=2)"
   ]
  },
  {
   "cell_type": "code",
   "execution_count": null,
   "metadata": {},
   "outputs": [],
   "source": [
    "# channel definitions for A73 (QuEL-1 Type-A)\n",
    "\n",
    "# read0\n",
    "qc.define_channel(channel_name=\"A73.READ0.GEN0\", port_name=\"A73.P01\", channel_number=0)\n",
    "qc.define_channel(channel_name=\"A73.READ0.CAP0\", port_name=\"A73.P00\", channel_number=0)\n",
    "qc.define_channel(channel_name=\"A73.READ0.CAP1\", port_name=\"A73.P00\", channel_number=1)\n",
    "qc.define_channel(channel_name=\"A73.READ0.CAP2\", port_name=\"A73.P00\", channel_number=2)\n",
    "qc.define_channel(channel_name=\"A73.READ0.CAP3\", port_name=\"A73.P00\", channel_number=3)\n",
    "\n",
    "# read1\n",
    "qc.define_channel(channel_name=\"A73.READ1.GEN0\", port_name=\"A73.P08\", channel_number=0)\n",
    "qc.define_channel(channel_name=\"A73.READ1.CAP0\", port_name=\"A73.P07\", channel_number=0)\n",
    "qc.define_channel(channel_name=\"A73.READ1.CAP1\", port_name=\"A73.P07\", channel_number=1)\n",
    "qc.define_channel(channel_name=\"A73.READ1.CAP2\", port_name=\"A73.P07\", channel_number=2)\n",
    "qc.define_channel(channel_name=\"A73.READ1.CAP3\", port_name=\"A73.P07\", channel_number=3)\n",
    "\n",
    "# ctrl0\n",
    "qc.define_channel(channel_name=\"A73.CTRL0.CH0\", port_name=\"A73.P02\", channel_number=0)\n",
    "qc.define_channel(channel_name=\"A73.CTRL0.CH1\", port_name=\"A73.P02\", channel_number=1)\n",
    "qc.define_channel(channel_name=\"A73.CTRL0.CH2\", port_name=\"A73.P02\", channel_number=2)\n",
    "\n",
    "# ctrl1\n",
    "qc.define_channel(channel_name=\"A73.CTRL1.CH0\", port_name=\"A73.P04\", channel_number=0)\n",
    "qc.define_channel(channel_name=\"A73.CTRL1.CH1\", port_name=\"A73.P04\", channel_number=1)\n",
    "qc.define_channel(channel_name=\"A73.CTRL1.CH2\", port_name=\"A73.P04\", channel_number=2)\n",
    "\n",
    "# ctrl2\n",
    "qc.define_channel(channel_name=\"A73.CTRL2.CH0\", port_name=\"A73.P09\", channel_number=0)\n",
    "qc.define_channel(channel_name=\"A73.CTRL2.CH1\", port_name=\"A73.P09\", channel_number=1)\n",
    "qc.define_channel(channel_name=\"A73.CTRL2.CH2\", port_name=\"A73.P09\", channel_number=2)\n",
    "\n",
    "# ctrl3\n",
    "qc.define_channel(channel_name=\"A73.CTRL3.CH0\", port_name=\"A73.P11\", channel_number=0)\n",
    "qc.define_channel(channel_name=\"A73.CTRL3.CH1\", port_name=\"A73.P11\", channel_number=1)\n",
    "qc.define_channel(channel_name=\"A73.CTRL3.CH2\", port_name=\"A73.P11\", channel_number=2)"
   ]
  },
  {
   "cell_type": "markdown",
   "metadata": {},
   "source": [
    "### 1.5 Define targets\n",
    "\n",
    "A `target` is a qubit or resonator that is connected to a specific `channel`."
   ]
  },
  {
   "cell_type": "code",
   "execution_count": null,
   "metadata": {},
   "outputs": [],
   "source": [
    "# frequencies should be defined in GHz for QubeCalib\n",
    "read_frequencies = {\n",
    "    \"Q16\": 10.425_19,\n",
    "    \"Q17\": 10.671_11,\n",
    "    \"Q18\": 10.542_15,\n",
    "    \"Q19\": 10.282_82,\n",
    "    \n",
    "    \"Q52\": 10.342_60,\n",
    "    \"Q53\": 10.518_63,\n",
    "    \"Q54\": 10.467_27,\n",
    "    \"Q55\": 10.207_83,\n",
    "}\n",
    "\n",
    "# define the target frequencies for each readout channel\n",
    "qc.define_target(target_name=\"RQ16\", channel_name=\"A25.READ0.GEN0\", target_frequency=read_frequencies[\"Q16\"])\n",
    "qc.define_target(target_name=\"RQ17\", channel_name=\"A25.READ0.GEN0\", target_frequency=read_frequencies[\"Q17\"])\n",
    "qc.define_target(target_name=\"RQ18\", channel_name=\"A25.READ0.GEN0\", target_frequency=read_frequencies[\"Q18\"])\n",
    "qc.define_target(target_name=\"RQ19\", channel_name=\"A25.READ0.GEN0\", target_frequency=read_frequencies[\"Q19\"])\n",
    "qc.define_target(target_name=\"RQ16\", channel_name=\"A25.READ0.CAP0\", target_frequency=read_frequencies[\"Q16\"])\n",
    "qc.define_target(target_name=\"RQ17\", channel_name=\"A25.READ0.CAP1\", target_frequency=read_frequencies[\"Q17\"])\n",
    "qc.define_target(target_name=\"RQ18\", channel_name=\"A25.READ0.CAP2\", target_frequency=read_frequencies[\"Q18\"])\n",
    "qc.define_target(target_name=\"RQ19\", channel_name=\"A25.READ0.CAP3\", target_frequency=read_frequencies[\"Q19\"])\n",
    "\n",
    "qc.define_target(target_name=\"RQ52\", channel_name=\"A73.READ0.GEN0\", target_frequency=read_frequencies[\"Q52\"])\n",
    "qc.define_target(target_name=\"RQ53\", channel_name=\"A73.READ0.GEN0\", target_frequency=read_frequencies[\"Q53\"])\n",
    "qc.define_target(target_name=\"RQ54\", channel_name=\"A73.READ0.GEN0\", target_frequency=read_frequencies[\"Q54\"])\n",
    "qc.define_target(target_name=\"RQ55\", channel_name=\"A73.READ0.GEN0\", target_frequency=read_frequencies[\"Q55\"])\n",
    "qc.define_target(target_name=\"RQ52\", channel_name=\"A73.READ0.CAP0\", target_frequency=read_frequencies[\"Q52\"])\n",
    "qc.define_target(target_name=\"RQ53\", channel_name=\"A73.READ0.CAP1\", target_frequency=read_frequencies[\"Q53\"])\n",
    "qc.define_target(target_name=\"RQ54\", channel_name=\"A73.READ0.CAP2\", target_frequency=read_frequencies[\"Q54\"])\n",
    "qc.define_target(target_name=\"RQ55\", channel_name=\"A73.READ0.CAP3\", target_frequency=read_frequencies[\"Q55\"])"
   ]
  },
  {
   "cell_type": "code",
   "execution_count": null,
   "metadata": {},
   "outputs": [],
   "source": [
    "# frequencies should be defined in GHz for QubeCalib\n",
    "ctrl_frequencies = {\n",
    "    \"Q16\": 7.792_170,\n",
    "    \"Q17\": 8.617_240,\n",
    "    \"Q18\": 8.696_467,\n",
    "    \"Q19\": 7.894_116,\n",
    "\n",
    "    \"Q52\": 7.729_161,\n",
    "    \"Q53\": 8.817_762,\n",
    "    \"Q54\": 8.791_830,\n",
    "    \"Q55\": 7.761_116,\n",
    "}\n",
    "\n",
    "# define the target frequencies for each control channel\n",
    "qc.define_target(target_name=\"CQ16\", channel_name=\"A25.CTRL0.CH0\", target_frequency=ctrl_frequencies[\"Q16\"])\n",
    "qc.define_target(target_name=\"CQ17\", channel_name=\"A25.CTRL1.CH0\", target_frequency=ctrl_frequencies[\"Q17\"])\n",
    "qc.define_target(target_name=\"CQ18\", channel_name=\"A25.CTRL2.CH0\", target_frequency=ctrl_frequencies[\"Q18\"])\n",
    "qc.define_target(target_name=\"CQ19\", channel_name=\"A25.CTRL3.CH0\", target_frequency=ctrl_frequencies[\"Q19\"])\n",
    "\n",
    "qc.define_target(target_name=\"CQ52\", channel_name=\"A73.CTRL0.CH0\", target_frequency=ctrl_frequencies[\"Q52\"])\n",
    "qc.define_target(target_name=\"CQ53\", channel_name=\"A73.CTRL1.CH0\", target_frequency=ctrl_frequencies[\"Q53\"])\n",
    "qc.define_target(target_name=\"CQ54\", channel_name=\"A73.CTRL2.CH0\", target_frequency=ctrl_frequencies[\"Q54\"])\n",
    "qc.define_target(target_name=\"CQ55\", channel_name=\"A73.CTRL3.CH0\", target_frequency=ctrl_frequencies[\"Q55\"])"
   ]
  },
  {
   "cell_type": "markdown",
   "metadata": {},
   "source": [
    "### 1.6 Save the system settings"
   ]
  },
  {
   "cell_type": "code",
   "execution_count": null,
   "metadata": {},
   "outputs": [],
   "source": [
    "# check the system settings\n",
    "qc.system_config_database.asdict()"
   ]
  },
  {
   "cell_type": "code",
   "execution_count": null,
   "metadata": {},
   "outputs": [],
   "source": [
    "# save the system settings to a JSON file\n",
    "with open(\"./system_settings.json\", \"w\") as f:\n",
    "    f.write(qc.system_config_database.asjson())"
   ]
  },
  {
   "cell_type": "markdown",
   "metadata": {},
   "source": [
    "## 2. Box settings\n",
    "\n",
    "Configure the box settings (LO, NCO, VATT) of QuBE/QuEL.\n",
    "\n",
    "NOTE: This procedure will update the settings of the control device."
   ]
  },
  {
   "cell_type": "markdown",
   "metadata": {},
   "source": [
    "### 2.1 Create `Quel1Box` instances"
   ]
  },
  {
   "cell_type": "code",
   "execution_count": null,
   "metadata": {},
   "outputs": [],
   "source": [
    "# box list to connect\n",
    "box_list = [\n",
    "    \"A25\",\n",
    "    \"A73\",\n",
    "]\n",
    "\n",
    "# connect the boxes\n",
    "boxes = {}\n",
    "for box_name in box_list:\n",
    "    box = qc.create_box(box_name, reconnect=False)\n",
    "    if not all(box.link_status().values()):\n",
    "        box.relinkup(use_204b=False, background_noise_threshold=400)\n",
    "    box.reconnect()\n",
    "    boxes[box_name] = box\n",
    "    print(box_name, box.link_status())"
   ]
  },
  {
   "cell_type": "markdown",
   "metadata": {},
   "source": [
    "#### Utility functions\n",
    "\n",
    "Below are some utility functions to find the appropriate LO/NCO frequency for the given target frequency."
   ]
  },
  {
   "cell_type": "code",
   "execution_count": null,
   "metadata": {},
   "outputs": [],
   "source": [
    "def find_lo_nco_pair(\n",
    "    target_frequency: float,\n",
    "    ssb: str,\n",
    "    lo_min: int = 8_000_000_000,\n",
    "    lo_max: int = 10_500_000_000,\n",
    "    lo_step: int = 500_000_000,\n",
    "    nco_min: int = 1_500_000_000,\n",
    "    nco_max: int = 1_992_187_500,\n",
    "    nco_step: int = 23_437_500,\n",
    ") -> tuple[int, int]:\n",
    "    \"\"\"\n",
    "    Finds the pair (lo, nco) such that the value of lo ± nco is closest to the target_frequency.\n",
    "    The operation depends on the value of 'ssb'. If 'ssb' is 'LSB', it uses lo - nco. If 'ssb' is 'USB', it uses lo + nco.\n",
    "\n",
    "    Parameters:\n",
    "    - target_frequency (float): The target frequency in GHz.\n",
    "    - ssb (str): 'LSB' or 'USB' indicating whether to use Lower Side Band (lo - nco) or Upper Side Band (lo + nco).\n",
    "    - lo_min (int): The minimum value for lo, default is 8,000,000,000.\n",
    "    - lo_max (int): The maximum value for lo, default is 10,500,000,000.\n",
    "    - lo_step (int): The step size for lo, should be a multiple of this value, default is 500,000,000.\n",
    "    - nco_min (int): The minimum value for nco, default is 1,500,000,000.\n",
    "    - nco_max (int): The maximum value for nco, default is 1,992,187,500.\n",
    "    - nco_step (int): The step size for nco, should be a multiple of this value, default is 23,437,500.\n",
    "\n",
    "    Returns:\n",
    "    - (best_lo, best_nco) (tuple): The pair (lo, nco) such that the difference or sum is closest to the target_frequency.\n",
    "    \"\"\"\n",
    "\n",
    "    target_value = target_frequency * 1e9\n",
    "\n",
    "    # Initialize the minimum difference to infinity to ensure any real difference is smaller.\n",
    "    min_diff = float(\"inf\")\n",
    "    best_lo = None\n",
    "    best_nco = None\n",
    "\n",
    "    # Iterate over possible values of lo from lo_min to lo_max, in steps of lo_step.\n",
    "    for lo in range(lo_min, lo_max + 1, lo_step):\n",
    "        # Iterate over possible values of nco from nco_min to nco_max, in steps of nco_step.\n",
    "        for nco in range(nco_min, nco_max + 1, nco_step):\n",
    "            # Calculate the current value based on ssb.\n",
    "            if ssb == \"LSB\":\n",
    "                current_value = lo - nco\n",
    "            elif ssb == \"USB\":\n",
    "                current_value = lo + nco\n",
    "            else:\n",
    "                raise ValueError(\"ssb must be 'LSB' or 'USB'\")\n",
    "\n",
    "            # Calculate the absolute difference from the target_frequency.\n",
    "            current_diff = abs(current_value - target_value)\n",
    "\n",
    "            # If this is the smallest difference we've found, update our best estimates.\n",
    "            if current_diff < min_diff:\n",
    "                min_diff = current_diff\n",
    "                best_lo = lo\n",
    "                best_nco = nco\n",
    "\n",
    "    if best_lo is None or best_nco is None:\n",
    "        raise ValueError(\"No values found. Check the input parameters.\")\n",
    "\n",
    "    # Return the pair (lo, nco) that results in the closest value to target_frequency.\n",
    "    return best_lo, best_nco\n",
    "\n",
    "\n",
    "def find_read_lo_nco(\n",
    "    frequencies: dict[str, float],\n",
    "    mux_list: list[int],\n",
    ") -> list[tuple[int, int]]:\n",
    "    \"\"\"\n",
    "    Finds the lo and nco values for the read frequencies.\n",
    "    \n",
    "    Parameters\n",
    "    ----------\n",
    "    frequencies : dict[str, float]\n",
    "        A dictionary of qubit frequencies.\n",
    "    mux_list : list[int]\n",
    "        A list of multiplexer numbers.\n",
    "    \n",
    "    Returns\n",
    "    -------\n",
    "    list[tuple[int, int]]\n",
    "        A list of tuples of lo and nco values.\n",
    "    \"\"\"\n",
    "    results = []\n",
    "    for mux in mux_list:\n",
    "        qubit_list = [f\"Q{4 * mux + i:02d}\" for i in range(4)]\n",
    "        values = [frequencies[qubit] for qubit in qubit_list]\n",
    "        median_value = (max(values) + min(values)) / 2\n",
    "        results.append(find_lo_nco_pair(median_value, ssb=\"USB\"))\n",
    "    return results\n",
    "\n",
    "\n",
    "def find_ctrl_lo_nco(\n",
    "    frequencies: dict[str, float],\n",
    "    qubit_list: list[int],\n",
    ") -> list[tuple[int, int]]:\n",
    "    \"\"\"\n",
    "    Finds the lo and nco values for the control frequencies.\n",
    "    \n",
    "    Parameters\n",
    "    ----------\n",
    "    frequencies : dict[str, float]\n",
    "        A dictionary of qubit frequencies.\n",
    "    qubit_list : list[int]\n",
    "        A list of qubit numbers.\n",
    "    \n",
    "    Returns\n",
    "    -------\n",
    "    list[tuple[int, int]]\n",
    "        A list of tuples of lo and nco values.\n",
    "    \"\"\"\n",
    "    values = [frequencies[f\"Q{qubit:02d}\"] for qubit in qubit_list]\n",
    "    return [find_lo_nco_pair(value, ssb=\"LSB\") for value in values]"
   ]
  },
  {
   "cell_type": "markdown",
   "metadata": {},
   "source": [
    "### 2.2 Configure box settings\n",
    "\n",
    "We use `box.config_***()` methods to configure the box settings."
   ]
  },
  {
   "cell_type": "code",
   "execution_count": null,
   "metadata": {},
   "outputs": [],
   "source": [
    "def configure_box(\n",
    "    box_name: str,\n",
    "    readout_mux_list: list[int],\n",
    "    control_qubit_list: list[int],\n",
    "    loopback: bool = False,\n",
    "):\n",
    "    \"\"\"\n",
    "    Configures the box with the given name for the readout and control frequencies.\n",
    "\n",
    "    Parameters\n",
    "    ----------\n",
    "    box_name : str\n",
    "        The name of the box to configure.\n",
    "    readout_mux_list : list[int]\n",
    "        The list of readout muxes to configure.\n",
    "        The length of the list is 2 for Type-A boxes and 0 for Type-B boxes.\n",
    "    control_qubit_list : list[int]\n",
    "        The list of control qubits to configure.\n",
    "        The length of the list is 4 for Type-A boxes and 8 for Type-B boxes.\n",
    "    loopback : bool, optional\n",
    "        Whether to use the loopback configuration, by default False.\n",
    "    \"\"\"\n",
    "    box = boxes[box_name]\n",
    "\n",
    "    readout_ports_dict = {\n",
    "        \"quel1-a\": [(1, 0), (8, 7)],\n",
    "        \"qube-riken-a\": [(0, 1), (13, 12)],\n",
    "        \"qube-ou-a\": [(0, 1), (13, 12)],\n",
    "        \"quel1-b\": [],\n",
    "        \"qube-riken-b\": [],\n",
    "        \"qube-ou-b\": [],\n",
    "    }\n",
    "    control_ports_dict = {\n",
    "        \"quel1-a\": [2, 4, 9, 11],\n",
    "        \"qube-riken-a\": [5, 6, 7, 8],\n",
    "        \"qube-ou-a\": [5, 6, 7, 8],\n",
    "        \"quel1-b\": [1, 2, 3, 4, 8, 9, 10, 11],\n",
    "        \"qube-riken-b\": [0, 2, 5, 6, 7, 8, 11, 13],\n",
    "        \"qube-ou-b\": [0, 2, 5, 6, 7, 8, 11, 13],\n",
    "    }\n",
    "\n",
    "    readout_ports_list = readout_ports_dict[box.boxtype]\n",
    "    control_port_list = control_ports_dict[box.boxtype]\n",
    "\n",
    "    read_lo_nco_list = find_read_lo_nco(read_frequencies, readout_mux_list)\n",
    "    ctrl_lo_nco_list = find_ctrl_lo_nco(ctrl_frequencies, control_qubit_list)\n",
    "\n",
    "    # readout\n",
    "    for idx, ports in enumerate(readout_ports_list):\n",
    "        # gen\n",
    "        box.config_port(\n",
    "            port=ports[0],\n",
    "            lo_freq=read_lo_nco_list[idx][0],\n",
    "            cnco_freq=read_lo_nco_list[idx][1],\n",
    "            sideband=\"U\",\n",
    "            vatt=0x800,\n",
    "        )\n",
    "        box.config_channel(port=ports[0], channel=0, fnco_freq=0)\n",
    "        box.config_rfswitch(port=ports[0], rfswitch=\"block\" if loopback else \"pass\")\n",
    "\n",
    "        # cap\n",
    "        box.config_port(port=ports[1], cnco_locked_with=ports[0])\n",
    "        for idx in range(4):\n",
    "            box.config_runit(port=ports[1], runit=idx, fnco_freq=0)\n",
    "        box.config_rfswitch(port=ports[1], rfswitch=\"loop\" if loopback else \"open\")\n",
    "\n",
    "    # control\n",
    "    for idx, port in enumerate(control_port_list):\n",
    "        box.config_port(\n",
    "            port=port,\n",
    "            lo_freq=ctrl_lo_nco_list[idx][0],\n",
    "            cnco_freq=ctrl_lo_nco_list[idx][1],\n",
    "            sideband=\"L\",\n",
    "            vatt=0x800,\n",
    "        )\n",
    "        box.config_channel(port=port, channel=0, fnco_freq=0)\n",
    "        box.config_channel(port=port, channel=1, fnco_freq=0)\n",
    "        box.config_channel(port=port, channel=2, fnco_freq=0)\n",
    "        box.config_rfswitch(port=port, rfswitch=\"block\" if loopback else \"pass\")"
   ]
  },
  {
   "cell_type": "code",
   "execution_count": null,
   "metadata": {},
   "outputs": [],
   "source": [
    "# configure the boxes\n",
    "configure_box(\n",
    "    box_name=\"A25\",\n",
    "    readout_mux_list=[4, 4],\n",
    "    control_qubit_list=[16, 17, 18, 19],\n",
    ")\n",
    "configure_box(\n",
    "    box_name=\"A73\",\n",
    "    readout_mux_list=[13, 13],\n",
    "    control_qubit_list=[52, 53, 54, 55],\n",
    ")"
   ]
  },
  {
   "cell_type": "code",
   "execution_count": null,
   "metadata": {},
   "outputs": [],
   "source": [
    "# check the box settings\n",
    "for box in boxes.values():\n",
    "    print(box.dump_box())"
   ]
  },
  {
   "cell_type": "markdown",
   "metadata": {},
   "source": [
    "### 2.3 Save the box settings"
   ]
  },
  {
   "cell_type": "code",
   "execution_count": null,
   "metadata": {},
   "outputs": [],
   "source": [
    "# save the box settings\n",
    "qc.store_all_box_configs(\"./box_settings.json\")"
   ]
  }
 ],
 "metadata": {
  "kernelspec": {
   "display_name": ".venv",
   "language": "python",
   "name": "python3"
  },
  "language_info": {
   "codemirror_mode": {
    "name": "ipython",
    "version": 3
   },
   "file_extension": ".py",
   "mimetype": "text/x-python",
   "name": "python",
   "nbconvert_exporter": "python",
   "pygments_lexer": "ipython3",
   "version": "3.9.18"
  }
 },
 "nbformat": 4,
 "nbformat_minor": 2
}
