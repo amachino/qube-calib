{
 "cells": [
  {
   "cell_type": "code",
   "execution_count": 2,
   "id": "982d9bb7-8d73-4eab-82d2-be45d3b8c371",
   "metadata": {},
   "outputs": [
    {
     "data": {
      "application/vnd.jupyter.widget-view+json": {
       "model_id": "f08a4fdf2c7d4eee8b7ff93cf9040608",
       "version_major": 2,
       "version_minor": 0
      },
      "text/plain": [
       "QubeLoadConfigPanel(children=(HBox(children=(Text(value='qube_riken_1-01.yml', description='Config'), Button(d…"
      ]
     },
     "metadata": {},
     "output_type": "display_data"
    },
    {
     "data": {
      "application/vnd.jupyter.widget-view+json": {
       "model_id": "e0d429f8d6df4e2f9d14fcaa8478d8e9",
       "version_major": 2,
       "version_minor": 0
      },
      "text/plain": [
       "QubeSetupPanel(children=(Text(value='', description='IP Address for eXtickGE', disabled=True, style=Descriptio…"
      ]
     },
     "metadata": {},
     "output_type": "display_data"
    }
   ],
   "source": [
    "#from qubecalib import Qube\n",
    "#import qubeui as qu\n",
    "from qubeui import Qube, display\n",
    "from qubeui import QubeSetupPanel, QubeLoadConfigPanel\n",
    "\n",
    "QUBE = Qube()\n",
    "display(QubeLoadConfigPanel(QUBE))\n",
    "display(QubeSetupPanel(QUBE))"
   ]
  },
  {
   "cell_type": "code",
   "execution_count": null,
   "id": "96d91c3d-77dc-4cfc-83e8-1065704ace8b",
   "metadata": {},
   "outputs": [],
   "source": []
  }
 ],
 "metadata": {
  "kernelspec": {
   "display_name": "Python 3 (ipykernel)",
   "language": "python",
   "name": "python3"
  },
  "language_info": {
   "codemirror_mode": {
    "name": "ipython",
    "version": 3
   },
   "file_extension": ".py",
   "mimetype": "text/x-python",
   "name": "python",
   "nbconvert_exporter": "python",
   "pygments_lexer": "ipython3",
   "version": "3.9.10"
  }
 },
 "nbformat": 4,
 "nbformat_minor": 5
}
