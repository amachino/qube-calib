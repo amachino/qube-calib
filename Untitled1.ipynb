{
 "cells": [
  {
   "cell_type": "markdown",
   "id": "488ff4d7-aeea-404a-bfe6-4e0e67df166f",
   "metadata": {},
   "source": [
    "interact widget の使い方\n",
    "https://ipywidgets.readthedocs.io/en/latest/examples/Using%20Interact.html"
   ]
  },
  {
   "cell_type": "code",
   "execution_count": 24,
   "id": "a947c7d7-e75f-46f8-97cd-76566e7323a2",
   "metadata": {
    "tags": []
   },
   "outputs": [
    {
     "data": {
      "application/vnd.jupyter.widget-view+json": {
       "model_id": "463a81e777e04f00a493c45d5ed999a4",
       "version_major": 2,
       "version_minor": 0
      },
      "text/plain": [
       "interactive(children=(Checkbox(value=True, description='a'), FloatSlider(value=10.0, description='b', max=20.0…"
      ]
     },
     "metadata": {},
     "output_type": "display_data"
    }
   ],
   "source": [
    "@ipw.interact(a=True, b=(0,20,0.1))\n",
    "def test(a, b):\n",
    "    return (a, b)"
   ]
  },
  {
   "cell_type": "code",
   "execution_count": 25,
   "id": "ce8af5db-f426-4195-a88e-1eddf96110db",
   "metadata": {},
   "outputs": [],
   "source": [
    "import ipywidgets as ipw\n",
    "import numpy as np\n",
    "import bokeh.io"
   ]
  },
  {
   "cell_type": "code",
   "execution_count": 26,
   "id": "efb97188-4354-4be1-8ce1-2cdc32647356",
   "metadata": {},
   "outputs": [
    {
     "data": {
      "text/html": [
       "\n",
       "    <div class=\"bk-root\">\n",
       "        <a href=\"https://bokeh.org\" target=\"_blank\" class=\"bk-logo bk-logo-small bk-logo-notebook\"></a>\n",
       "        <span id=\"2185\">Loading BokehJS ...</span>\n",
       "    </div>"
      ]
     },
     "metadata": {},
     "output_type": "display_data"
    },
    {
     "data": {
      "application/javascript": [
       "\n",
       "(function(root) {\n",
       "  function now() {\n",
       "    return new Date();\n",
       "  }\n",
       "\n",
       "  const force = true;\n",
       "\n",
       "  if (typeof root._bokeh_onload_callbacks === \"undefined\" || force === true) {\n",
       "    root._bokeh_onload_callbacks = [];\n",
       "    root._bokeh_is_loading = undefined;\n",
       "  }\n",
       "\n",
       "  const JS_MIME_TYPE = 'application/javascript';\n",
       "  const HTML_MIME_TYPE = 'text/html';\n",
       "  const EXEC_MIME_TYPE = 'application/vnd.bokehjs_exec.v0+json';\n",
       "  const CLASS_NAME = 'output_bokeh rendered_html';\n",
       "\n",
       "  /**\n",
       "   * Render data to the DOM node\n",
       "   */\n",
       "  function render(props, node) {\n",
       "    const script = document.createElement(\"script\");\n",
       "    node.appendChild(script);\n",
       "  }\n",
       "\n",
       "  /**\n",
       "   * Handle when an output is cleared or removed\n",
       "   */\n",
       "  function handleClearOutput(event, handle) {\n",
       "    const cell = handle.cell;\n",
       "\n",
       "    const id = cell.output_area._bokeh_element_id;\n",
       "    const server_id = cell.output_area._bokeh_server_id;\n",
       "    // Clean up Bokeh references\n",
       "    if (id != null && id in Bokeh.index) {\n",
       "      Bokeh.index[id].model.document.clear();\n",
       "      delete Bokeh.index[id];\n",
       "    }\n",
       "\n",
       "    if (server_id !== undefined) {\n",
       "      // Clean up Bokeh references\n",
       "      const cmd_clean = \"from bokeh.io.state import curstate; print(curstate().uuid_to_server['\" + server_id + \"'].get_sessions()[0].document.roots[0]._id)\";\n",
       "      cell.notebook.kernel.execute(cmd_clean, {\n",
       "        iopub: {\n",
       "          output: function(msg) {\n",
       "            const id = msg.content.text.trim();\n",
       "            if (id in Bokeh.index) {\n",
       "              Bokeh.index[id].model.document.clear();\n",
       "              delete Bokeh.index[id];\n",
       "            }\n",
       "          }\n",
       "        }\n",
       "      });\n",
       "      // Destroy server and session\n",
       "      const cmd_destroy = \"import bokeh.io.notebook as ion; ion.destroy_server('\" + server_id + \"')\";\n",
       "      cell.notebook.kernel.execute(cmd_destroy);\n",
       "    }\n",
       "  }\n",
       "\n",
       "  /**\n",
       "   * Handle when a new output is added\n",
       "   */\n",
       "  function handleAddOutput(event, handle) {\n",
       "    const output_area = handle.output_area;\n",
       "    const output = handle.output;\n",
       "\n",
       "    // limit handleAddOutput to display_data with EXEC_MIME_TYPE content only\n",
       "    if ((output.output_type != \"display_data\") || (!Object.prototype.hasOwnProperty.call(output.data, EXEC_MIME_TYPE))) {\n",
       "      return\n",
       "    }\n",
       "\n",
       "    const toinsert = output_area.element.find(\".\" + CLASS_NAME.split(' ')[0]);\n",
       "\n",
       "    if (output.metadata[EXEC_MIME_TYPE][\"id\"] !== undefined) {\n",
       "      toinsert[toinsert.length - 1].firstChild.textContent = output.data[JS_MIME_TYPE];\n",
       "      // store reference to embed id on output_area\n",
       "      output_area._bokeh_element_id = output.metadata[EXEC_MIME_TYPE][\"id\"];\n",
       "    }\n",
       "    if (output.metadata[EXEC_MIME_TYPE][\"server_id\"] !== undefined) {\n",
       "      const bk_div = document.createElement(\"div\");\n",
       "      bk_div.innerHTML = output.data[HTML_MIME_TYPE];\n",
       "      const script_attrs = bk_div.children[0].attributes;\n",
       "      for (let i = 0; i < script_attrs.length; i++) {\n",
       "        toinsert[toinsert.length - 1].firstChild.setAttribute(script_attrs[i].name, script_attrs[i].value);\n",
       "        toinsert[toinsert.length - 1].firstChild.textContent = bk_div.children[0].textContent\n",
       "      }\n",
       "      // store reference to server id on output_area\n",
       "      output_area._bokeh_server_id = output.metadata[EXEC_MIME_TYPE][\"server_id\"];\n",
       "    }\n",
       "  }\n",
       "\n",
       "  function register_renderer(events, OutputArea) {\n",
       "\n",
       "    function append_mime(data, metadata, element) {\n",
       "      // create a DOM node to render to\n",
       "      const toinsert = this.create_output_subarea(\n",
       "        metadata,\n",
       "        CLASS_NAME,\n",
       "        EXEC_MIME_TYPE\n",
       "      );\n",
       "      this.keyboard_manager.register_events(toinsert);\n",
       "      // Render to node\n",
       "      const props = {data: data, metadata: metadata[EXEC_MIME_TYPE]};\n",
       "      render(props, toinsert[toinsert.length - 1]);\n",
       "      element.append(toinsert);\n",
       "      return toinsert\n",
       "    }\n",
       "\n",
       "    /* Handle when an output is cleared or removed */\n",
       "    events.on('clear_output.CodeCell', handleClearOutput);\n",
       "    events.on('delete.Cell', handleClearOutput);\n",
       "\n",
       "    /* Handle when a new output is added */\n",
       "    events.on('output_added.OutputArea', handleAddOutput);\n",
       "\n",
       "    /**\n",
       "     * Register the mime type and append_mime function with output_area\n",
       "     */\n",
       "    OutputArea.prototype.register_mime_type(EXEC_MIME_TYPE, append_mime, {\n",
       "      /* Is output safe? */\n",
       "      safe: true,\n",
       "      /* Index of renderer in `output_area.display_order` */\n",
       "      index: 0\n",
       "    });\n",
       "  }\n",
       "\n",
       "  // register the mime type if in Jupyter Notebook environment and previously unregistered\n",
       "  if (root.Jupyter !== undefined) {\n",
       "    const events = require('base/js/events');\n",
       "    const OutputArea = require('notebook/js/outputarea').OutputArea;\n",
       "\n",
       "    if (OutputArea.prototype.mime_types().indexOf(EXEC_MIME_TYPE) == -1) {\n",
       "      register_renderer(events, OutputArea);\n",
       "    }\n",
       "  }\n",
       "\n",
       "  \n",
       "  if (typeof (root._bokeh_timeout) === \"undefined\" || force === true) {\n",
       "    root._bokeh_timeout = Date.now() + 5000;\n",
       "    root._bokeh_failed_load = false;\n",
       "  }\n",
       "\n",
       "  const NB_LOAD_WARNING = {'data': {'text/html':\n",
       "     \"<div style='background-color: #fdd'>\\n\"+\n",
       "     \"<p>\\n\"+\n",
       "     \"BokehJS does not appear to have successfully loaded. If loading BokehJS from CDN, this \\n\"+\n",
       "     \"may be due to a slow or bad network connection. Possible fixes:\\n\"+\n",
       "     \"</p>\\n\"+\n",
       "     \"<ul>\\n\"+\n",
       "     \"<li>re-rerun `output_notebook()` to attempt to load from CDN again, or</li>\\n\"+\n",
       "     \"<li>use INLINE resources instead, as so:</li>\\n\"+\n",
       "     \"</ul>\\n\"+\n",
       "     \"<code>\\n\"+\n",
       "     \"from bokeh.resources import INLINE\\n\"+\n",
       "     \"output_notebook(resources=INLINE)\\n\"+\n",
       "     \"</code>\\n\"+\n",
       "     \"</div>\"}};\n",
       "\n",
       "  function display_loaded() {\n",
       "    const el = document.getElementById(\"2185\");\n",
       "    if (el != null) {\n",
       "      el.textContent = \"BokehJS is loading...\";\n",
       "    }\n",
       "    if (root.Bokeh !== undefined) {\n",
       "      if (el != null) {\n",
       "        el.textContent = \"BokehJS \" + root.Bokeh.version + \" successfully loaded.\";\n",
       "      }\n",
       "    } else if (Date.now() < root._bokeh_timeout) {\n",
       "      setTimeout(display_loaded, 100)\n",
       "    }\n",
       "  }\n",
       "\n",
       "\n",
       "  function run_callbacks() {\n",
       "    try {\n",
       "      root._bokeh_onload_callbacks.forEach(function(callback) {\n",
       "        if (callback != null)\n",
       "          callback();\n",
       "      });\n",
       "    } finally {\n",
       "      delete root._bokeh_onload_callbacks\n",
       "    }\n",
       "    console.debug(\"Bokeh: all callbacks have finished\");\n",
       "  }\n",
       "\n",
       "  function load_libs(css_urls, js_urls, callback) {\n",
       "    if (css_urls == null) css_urls = [];\n",
       "    if (js_urls == null) js_urls = [];\n",
       "\n",
       "    root._bokeh_onload_callbacks.push(callback);\n",
       "    if (root._bokeh_is_loading > 0) {\n",
       "      console.debug(\"Bokeh: BokehJS is being loaded, scheduling callback at\", now());\n",
       "      return null;\n",
       "    }\n",
       "    if (js_urls == null || js_urls.length === 0) {\n",
       "      run_callbacks();\n",
       "      return null;\n",
       "    }\n",
       "    console.debug(\"Bokeh: BokehJS not loaded, scheduling load and callback at\", now());\n",
       "    root._bokeh_is_loading = css_urls.length + js_urls.length;\n",
       "\n",
       "    function on_load() {\n",
       "      root._bokeh_is_loading--;\n",
       "      if (root._bokeh_is_loading === 0) {\n",
       "        console.debug(\"Bokeh: all BokehJS libraries/stylesheets loaded\");\n",
       "        run_callbacks()\n",
       "      }\n",
       "    }\n",
       "\n",
       "    function on_error(url) {\n",
       "      console.error(\"failed to load \" + url);\n",
       "    }\n",
       "\n",
       "    for (let i = 0; i < css_urls.length; i++) {\n",
       "      const url = css_urls[i];\n",
       "      const element = document.createElement(\"link\");\n",
       "      element.onload = on_load;\n",
       "      element.onerror = on_error.bind(null, url);\n",
       "      element.rel = \"stylesheet\";\n",
       "      element.type = \"text/css\";\n",
       "      element.href = url;\n",
       "      console.debug(\"Bokeh: injecting link tag for BokehJS stylesheet: \", url);\n",
       "      document.body.appendChild(element);\n",
       "    }\n",
       "\n",
       "    for (let i = 0; i < js_urls.length; i++) {\n",
       "      const url = js_urls[i];\n",
       "      const element = document.createElement('script');\n",
       "      element.onload = on_load;\n",
       "      element.onerror = on_error.bind(null, url);\n",
       "      element.async = false;\n",
       "      element.src = url;\n",
       "      console.debug(\"Bokeh: injecting script tag for BokehJS library: \", url);\n",
       "      document.head.appendChild(element);\n",
       "    }\n",
       "  };\n",
       "\n",
       "  function inject_raw_css(css) {\n",
       "    const element = document.createElement(\"style\");\n",
       "    element.appendChild(document.createTextNode(css));\n",
       "    document.body.appendChild(element);\n",
       "  }\n",
       "\n",
       "  \n",
       "  const js_urls = [\"https://cdn.bokeh.org/bokeh/release/bokeh-2.4.2.min.js\", \"https://cdn.bokeh.org/bokeh/release/bokeh-gl-2.4.2.min.js\", \"https://cdn.bokeh.org/bokeh/release/bokeh-widgets-2.4.2.min.js\", \"https://cdn.bokeh.org/bokeh/release/bokeh-tables-2.4.2.min.js\", \"https://cdn.bokeh.org/bokeh/release/bokeh-mathjax-2.4.2.min.js\"];\n",
       "  const css_urls = [];\n",
       "  \n",
       "\n",
       "  const inline_js = [\n",
       "    function(Bokeh) {\n",
       "      Bokeh.set_log_level(\"info\");\n",
       "    },\n",
       "    function(Bokeh) {\n",
       "    \n",
       "    \n",
       "    }\n",
       "  ];\n",
       "\n",
       "  function run_inline_js() {\n",
       "    \n",
       "    if (root.Bokeh !== undefined || force === true) {\n",
       "      \n",
       "    for (let i = 0; i < inline_js.length; i++) {\n",
       "      inline_js[i].call(root, root.Bokeh);\n",
       "    }\n",
       "    if (force === true) {\n",
       "        display_loaded();\n",
       "      }} else if (Date.now() < root._bokeh_timeout) {\n",
       "      setTimeout(run_inline_js, 100);\n",
       "    } else if (!root._bokeh_failed_load) {\n",
       "      console.log(\"Bokeh: BokehJS failed to load within specified timeout.\");\n",
       "      root._bokeh_failed_load = true;\n",
       "    } else if (force !== true) {\n",
       "      const cell = $(document.getElementById(\"2185\")).parents('.cell').data().cell;\n",
       "      cell.output_area.append_execute_result(NB_LOAD_WARNING)\n",
       "    }\n",
       "\n",
       "  }\n",
       "\n",
       "  if (root._bokeh_is_loading === 0) {\n",
       "    console.debug(\"Bokeh: BokehJS loaded, going straight to plotting\");\n",
       "    run_inline_js();\n",
       "  } else {\n",
       "    load_libs(css_urls, js_urls, function() {\n",
       "      console.debug(\"Bokeh: BokehJS plotting callback run at\", now());\n",
       "      run_inline_js();\n",
       "    });\n",
       "  }\n",
       "}(window));"
      ],
      "application/vnd.bokehjs_load.v0+json": "\n(function(root) {\n  function now() {\n    return new Date();\n  }\n\n  const force = true;\n\n  if (typeof root._bokeh_onload_callbacks === \"undefined\" || force === true) {\n    root._bokeh_onload_callbacks = [];\n    root._bokeh_is_loading = undefined;\n  }\n\n  \n\n  \n  if (typeof (root._bokeh_timeout) === \"undefined\" || force === true) {\n    root._bokeh_timeout = Date.now() + 5000;\n    root._bokeh_failed_load = false;\n  }\n\n  const NB_LOAD_WARNING = {'data': {'text/html':\n     \"<div style='background-color: #fdd'>\\n\"+\n     \"<p>\\n\"+\n     \"BokehJS does not appear to have successfully loaded. If loading BokehJS from CDN, this \\n\"+\n     \"may be due to a slow or bad network connection. Possible fixes:\\n\"+\n     \"</p>\\n\"+\n     \"<ul>\\n\"+\n     \"<li>re-rerun `output_notebook()` to attempt to load from CDN again, or</li>\\n\"+\n     \"<li>use INLINE resources instead, as so:</li>\\n\"+\n     \"</ul>\\n\"+\n     \"<code>\\n\"+\n     \"from bokeh.resources import INLINE\\n\"+\n     \"output_notebook(resources=INLINE)\\n\"+\n     \"</code>\\n\"+\n     \"</div>\"}};\n\n  function display_loaded() {\n    const el = document.getElementById(\"2185\");\n    if (el != null) {\n      el.textContent = \"BokehJS is loading...\";\n    }\n    if (root.Bokeh !== undefined) {\n      if (el != null) {\n        el.textContent = \"BokehJS \" + root.Bokeh.version + \" successfully loaded.\";\n      }\n    } else if (Date.now() < root._bokeh_timeout) {\n      setTimeout(display_loaded, 100)\n    }\n  }\n\n\n  function run_callbacks() {\n    try {\n      root._bokeh_onload_callbacks.forEach(function(callback) {\n        if (callback != null)\n          callback();\n      });\n    } finally {\n      delete root._bokeh_onload_callbacks\n    }\n    console.debug(\"Bokeh: all callbacks have finished\");\n  }\n\n  function load_libs(css_urls, js_urls, callback) {\n    if (css_urls == null) css_urls = [];\n    if (js_urls == null) js_urls = [];\n\n    root._bokeh_onload_callbacks.push(callback);\n    if (root._bokeh_is_loading > 0) {\n      console.debug(\"Bokeh: BokehJS is being loaded, scheduling callback at\", now());\n      return null;\n    }\n    if (js_urls == null || js_urls.length === 0) {\n      run_callbacks();\n      return null;\n    }\n    console.debug(\"Bokeh: BokehJS not loaded, scheduling load and callback at\", now());\n    root._bokeh_is_loading = css_urls.length + js_urls.length;\n\n    function on_load() {\n      root._bokeh_is_loading--;\n      if (root._bokeh_is_loading === 0) {\n        console.debug(\"Bokeh: all BokehJS libraries/stylesheets loaded\");\n        run_callbacks()\n      }\n    }\n\n    function on_error(url) {\n      console.error(\"failed to load \" + url);\n    }\n\n    for (let i = 0; i < css_urls.length; i++) {\n      const url = css_urls[i];\n      const element = document.createElement(\"link\");\n      element.onload = on_load;\n      element.onerror = on_error.bind(null, url);\n      element.rel = \"stylesheet\";\n      element.type = \"text/css\";\n      element.href = url;\n      console.debug(\"Bokeh: injecting link tag for BokehJS stylesheet: \", url);\n      document.body.appendChild(element);\n    }\n\n    for (let i = 0; i < js_urls.length; i++) {\n      const url = js_urls[i];\n      const element = document.createElement('script');\n      element.onload = on_load;\n      element.onerror = on_error.bind(null, url);\n      element.async = false;\n      element.src = url;\n      console.debug(\"Bokeh: injecting script tag for BokehJS library: \", url);\n      document.head.appendChild(element);\n    }\n  };\n\n  function inject_raw_css(css) {\n    const element = document.createElement(\"style\");\n    element.appendChild(document.createTextNode(css));\n    document.body.appendChild(element);\n  }\n\n  \n  const js_urls = [\"https://cdn.bokeh.org/bokeh/release/bokeh-2.4.2.min.js\", \"https://cdn.bokeh.org/bokeh/release/bokeh-gl-2.4.2.min.js\", \"https://cdn.bokeh.org/bokeh/release/bokeh-widgets-2.4.2.min.js\", \"https://cdn.bokeh.org/bokeh/release/bokeh-tables-2.4.2.min.js\", \"https://cdn.bokeh.org/bokeh/release/bokeh-mathjax-2.4.2.min.js\"];\n  const css_urls = [];\n  \n\n  const inline_js = [\n    function(Bokeh) {\n      Bokeh.set_log_level(\"info\");\n    },\n    function(Bokeh) {\n    \n    \n    }\n  ];\n\n  function run_inline_js() {\n    \n    if (root.Bokeh !== undefined || force === true) {\n      \n    for (let i = 0; i < inline_js.length; i++) {\n      inline_js[i].call(root, root.Bokeh);\n    }\n    if (force === true) {\n        display_loaded();\n      }} else if (Date.now() < root._bokeh_timeout) {\n      setTimeout(run_inline_js, 100);\n    } else if (!root._bokeh_failed_load) {\n      console.log(\"Bokeh: BokehJS failed to load within specified timeout.\");\n      root._bokeh_failed_load = true;\n    } else if (force !== true) {\n      const cell = $(document.getElementById(\"2185\")).parents('.cell').data().cell;\n      cell.output_area.append_execute_result(NB_LOAD_WARNING)\n    }\n\n  }\n\n  if (root._bokeh_is_loading === 0) {\n    console.debug(\"Bokeh: BokehJS loaded, going straight to plotting\");\n    run_inline_js();\n  } else {\n    load_libs(css_urls, js_urls, function() {\n      console.debug(\"Bokeh: BokehJS plotting callback run at\", now());\n      run_inline_js();\n    });\n  }\n}(window));"
     },
     "metadata": {},
     "output_type": "display_data"
    }
   ],
   "source": [
    "bokeh.io.output_notebook()"
   ]
  },
  {
   "cell_type": "code",
   "execution_count": 3,
   "id": "55dbe2f3-9778-41ad-9625-ec47122c3752",
   "metadata": {},
   "outputs": [],
   "source": [
    "import bokeh.plotting"
   ]
  },
  {
   "cell_type": "code",
   "execution_count": 7,
   "id": "863ca39f-84fe-4f4d-b928-59f233382eef",
   "metadata": {},
   "outputs": [],
   "source": [
    "x = np.linspace(0, 2 * np.pi, 2000)\n",
    "y = np.sin(x)"
   ]
  },
  {
   "cell_type": "code",
   "execution_count": 18,
   "id": "e370de79-dec7-4f0f-87a7-ec2d4ae45e2e",
   "metadata": {},
   "outputs": [],
   "source": [
    "p = bokeh.plotting.figure(plot_height=300)\n",
    "r = p.line(x, y)"
   ]
  },
  {
   "cell_type": "code",
   "execution_count": 16,
   "id": "d6f6eb3b-9ee8-4ba6-a9c9-72eab6906be1",
   "metadata": {},
   "outputs": [],
   "source": [
    "def update(f, w=1, A=1, phi=0):\n",
    "    if   f == 'sin': func = np.sin\n",
    "    elif f == 'cos': func = np.cos\n",
    "    elif f == 'tan': func = np.tan\n",
    "    r.data_source.data['y'] = A * func(w * x + phi)\n",
    "    bokeh.io.push_notebook()"
   ]
  },
  {
   "cell_type": "code",
   "execution_count": 23,
   "id": "547433fc-7cef-4ea0-a20a-ad2ab603682e",
   "metadata": {},
   "outputs": [
    {
     "data": {
      "text/html": [
       "\n",
       "\n",
       "\n",
       "\n",
       "\n",
       "\n",
       "  <div class=\"bk-root\" id=\"99357044-fe53-4477-b56f-b0fab111a37c\" data-root-id=\"1710\"></div>\n"
      ]
     },
     "metadata": {},
     "output_type": "display_data"
    },
    {
     "data": {
      "application/javascript": [
       "(function(root) {\n",
       "  function embed_document(root) {\n",
       "    \n",
       "  const docs_json = {\"c14b81fd-98c1-4610-bfdf-2e7900ec0ff9\":{\"defs\":[],\"roots\":{\"references\":[{\"attributes\":{\"below\":[{\"id\":\"1719\"}],\"center\":[{\"id\":\"1722\"},{\"id\":\"1726\"}],\"height\":300,\"left\":[{\"id\":\"1723\"}],\"renderers\":[{\"id\":\"1745\"}],\"title\":{\"id\":\"1758\"},\"toolbar\":{\"id\":\"1734\"},\"x_range\":{\"id\":\"1711\"},\"x_scale\":{\"id\":\"1715\"},\"y_range\":{\"id\":\"1713\"},\"y_scale\":{\"id\":\"1717\"}},\"id\":\"1710\",\"subtype\":\"Figure\",\"type\":\"Plot\"},{\"attributes\":{},\"id\":\"1724\",\"type\":\"BasicTicker\"},{\"attributes\":{},\"id\":\"1728\",\"type\":\"WheelZoomTool\"},{\"attributes\":{\"source\":{\"id\":\"1741\"}},\"id\":\"1746\",\"type\":\"CDSView\"},{\"attributes\":{},\"id\":\"1761\",\"type\":\"BasicTickFormatter\"},{\"attributes\":{},\"id\":\"1727\",\"type\":\"PanTool\"},{\"attributes\":{\"line_alpha\":0.1,\"line_color\":\"#1f77b4\",\"x\":{\"field\":\"x\"},\"y\":{\"field\":\"y\"}},\"id\":\"1743\",\"type\":\"Line\"},{\"attributes\":{},\"id\":\"1762\",\"type\":\"AllLabels\"},{\"attributes\":{\"line_color\":\"#1f77b4\",\"x\":{\"field\":\"x\"},\"y\":{\"field\":\"y\"}},\"id\":\"1742\",\"type\":\"Line\"},{\"attributes\":{\"line_alpha\":0.2,\"line_color\":\"#1f77b4\",\"x\":{\"field\":\"x\"},\"y\":{\"field\":\"y\"}},\"id\":\"1744\",\"type\":\"Line\"},{\"attributes\":{},\"id\":\"1764\",\"type\":\"BasicTickFormatter\"},{\"attributes\":{\"coordinates\":null,\"formatter\":{\"id\":\"1764\"},\"group\":null,\"major_label_policy\":{\"id\":\"1765\"},\"ticker\":{\"id\":\"1720\"}},\"id\":\"1719\",\"type\":\"LinearAxis\"},{\"attributes\":{},\"id\":\"1732\",\"type\":\"HelpTool\"},{\"attributes\":{},\"id\":\"1765\",\"type\":\"AllLabels\"},{\"attributes\":{\"overlay\":{\"id\":\"1733\"}},\"id\":\"1729\",\"type\":\"BoxZoomTool\"},{\"attributes\":{\"data\":{\"x\":{\"__ndarray__\":\"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\",\"dtype\":\"float64\",\"order\":\"little\",\"shape\":[2000]},\"y\":{\"__ndarray__\":\"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\",\"dtype\":\"float64\",\"order\":\"little\",\"shape\":[2000]}},\"selected\":{\"id\":\"1767\"},\"selection_policy\":{\"id\":\"1766\"}},\"id\":\"1741\",\"type\":\"ColumnDataSource\"},{\"attributes\":{\"coordinates\":null,\"group\":null},\"id\":\"1758\",\"type\":\"Title\"},{\"attributes\":{},\"id\":\"1713\",\"type\":\"DataRange1d\"},{\"attributes\":{\"coordinates\":null,\"data_source\":{\"id\":\"1741\"},\"glyph\":{\"id\":\"1742\"},\"group\":null,\"hover_glyph\":null,\"muted_glyph\":{\"id\":\"1744\"},\"nonselection_glyph\":{\"id\":\"1743\"},\"view\":{\"id\":\"1746\"}},\"id\":\"1745\",\"type\":\"GlyphRenderer\"},{\"attributes\":{},\"id\":\"1715\",\"type\":\"LinearScale\"},{\"attributes\":{},\"id\":\"1720\",\"type\":\"BasicTicker\"},{\"attributes\":{},\"id\":\"1766\",\"type\":\"UnionRenderers\"},{\"attributes\":{\"axis\":{\"id\":\"1723\"},\"coordinates\":null,\"dimension\":1,\"group\":null,\"ticker\":null},\"id\":\"1726\",\"type\":\"Grid\"},{\"attributes\":{\"axis\":{\"id\":\"1719\"},\"coordinates\":null,\"group\":null,\"ticker\":null},\"id\":\"1722\",\"type\":\"Grid\"},{\"attributes\":{},\"id\":\"1767\",\"type\":\"Selection\"},{\"attributes\":{\"coordinates\":null,\"formatter\":{\"id\":\"1761\"},\"group\":null,\"major_label_policy\":{\"id\":\"1762\"},\"ticker\":{\"id\":\"1724\"}},\"id\":\"1723\",\"type\":\"LinearAxis\"},{\"attributes\":{},\"id\":\"1717\",\"type\":\"LinearScale\"},{\"attributes\":{},\"id\":\"1730\",\"type\":\"SaveTool\"},{\"attributes\":{},\"id\":\"1711\",\"type\":\"DataRange1d\"},{\"attributes\":{\"tools\":[{\"id\":\"1727\"},{\"id\":\"1728\"},{\"id\":\"1729\"},{\"id\":\"1730\"},{\"id\":\"1731\"},{\"id\":\"1732\"}]},\"id\":\"1734\",\"type\":\"Toolbar\"},{\"attributes\":{},\"id\":\"1731\",\"type\":\"ResetTool\"},{\"attributes\":{\"bottom_units\":\"screen\",\"coordinates\":null,\"fill_alpha\":0.5,\"fill_color\":\"lightgrey\",\"group\":null,\"left_units\":\"screen\",\"level\":\"overlay\",\"line_alpha\":1.0,\"line_color\":\"black\",\"line_dash\":[4,4],\"line_width\":2,\"right_units\":\"screen\",\"syncable\":false,\"top_units\":\"screen\"},\"id\":\"1733\",\"type\":\"BoxAnnotation\"}],\"root_ids\":[\"1710\"]},\"title\":\"Bokeh Application\",\"version\":\"2.4.2\"}};\n",
       "  const render_items = [{\"docid\":\"c14b81fd-98c1-4610-bfdf-2e7900ec0ff9\",\"notebook_comms_target\":\"2129\",\"root_ids\":[\"1710\"],\"roots\":{\"1710\":\"99357044-fe53-4477-b56f-b0fab111a37c\"}}];\n",
       "  root.Bokeh.embed.embed_items_notebook(docs_json, render_items);\n",
       "\n",
       "  }\n",
       "  if (root.Bokeh !== undefined) {\n",
       "    embed_document(root);\n",
       "  } else {\n",
       "    let attempts = 0;\n",
       "    const timer = setInterval(function(root) {\n",
       "      if (root.Bokeh !== undefined) {\n",
       "        clearInterval(timer);\n",
       "        embed_document(root);\n",
       "      } else {\n",
       "        attempts++;\n",
       "        if (attempts > 100) {\n",
       "          clearInterval(timer);\n",
       "          console.log(\"Bokeh: ERROR: Unable to run BokehJS code because BokehJS library is missing\");\n",
       "        }\n",
       "      }\n",
       "    }, 10, root)\n",
       "  }\n",
       "})(window);"
      ],
      "application/vnd.bokehjs_exec.v0+json": ""
     },
     "metadata": {
      "application/vnd.bokehjs_exec.v0+json": {
       "id": "1710"
      }
     },
     "output_type": "display_data"
    },
    {
     "data": {
      "text/html": [
       "<p><code>&lt;Bokeh Notebook handle for <strong>In[23]</strong>&gt;</code></p>"
      ],
      "text/plain": [
       "<bokeh.io.notebook.CommsHandle at 0x7f18b09a8820>"
      ]
     },
     "execution_count": 23,
     "metadata": {},
     "output_type": "execute_result"
    }
   ],
   "source": [
    "bokeh.io.show(p, notebook_handle=True)"
   ]
  },
  {
   "cell_type": "code",
   "execution_count": 17,
   "id": "f34248f7-5d59-4640-bed1-b5f06708a34d",
   "metadata": {},
   "outputs": [
    {
     "data": {
      "application/vnd.jupyter.widget-view+json": {
       "model_id": "c99e8156807549ec9776e250c06ead55",
       "version_major": 2,
       "version_minor": 0
      },
      "text/plain": [
       "interactive(children=(Dropdown(description='f', options=('sin', 'cos', 'tan'), value='sin'), IntSlider(value=1…"
      ]
     },
     "metadata": {},
     "output_type": "display_data"
    },
    {
     "data": {
      "text/plain": [
       "<function __main__.update(f, w=1, A=1, phi=0)>"
      ]
     },
     "execution_count": 17,
     "metadata": {},
     "output_type": "execute_result"
    }
   ],
   "source": [
    "ipw.interact(update, f=['sin', 'cos', 'tan'], w=(0,100), A=(1,5), phi=(0,20,0.1))"
   ]
  },
  {
   "cell_type": "code",
   "execution_count": null,
   "id": "63ef9242-7423-49ae-9e3e-640256ff6121",
   "metadata": {},
   "outputs": [],
   "source": []
  }
 ],
 "metadata": {
  "kernelspec": {
   "display_name": "Python 3 (ipykernel)",
   "language": "python",
   "name": "python3"
  },
  "language_info": {
   "codemirror_mode": {
    "name": "ipython",
    "version": 3
   },
   "file_extension": ".py",
   "mimetype": "text/x-python",
   "name": "python",
   "nbconvert_exporter": "python",
   "pygments_lexer": "ipython3",
   "version": "3.9.5"
  }
 },
 "nbformat": 4,
 "nbformat_minor": 5
}
