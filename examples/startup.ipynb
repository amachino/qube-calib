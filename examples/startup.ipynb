{
 "cells": [
  {
   "cell_type": "code",
   "execution_count": 1,
   "id": "c43121c3-d075-4ba0-ad01-37220672a039",
   "metadata": {},
   "outputs": [
    {
     "data": {
      "text/html": [
       "\n",
       "    <div class=\"bk-root\">\n",
       "        <a href=\"https://bokeh.org\" target=\"_blank\" class=\"bk-logo bk-logo-small bk-logo-notebook\"></a>\n",
       "        <span id=\"1002\">Loading BokehJS ...</span>\n",
       "    </div>"
      ]
     },
     "metadata": {},
     "output_type": "display_data"
    },
    {
     "data": {
      "application/javascript": [
       "\n",
       "(function(root) {\n",
       "  function now() {\n",
       "    return new Date();\n",
       "  }\n",
       "\n",
       "  const force = true;\n",
       "\n",
       "  if (typeof root._bokeh_onload_callbacks === \"undefined\" || force === true) {\n",
       "    root._bokeh_onload_callbacks = [];\n",
       "    root._bokeh_is_loading = undefined;\n",
       "  }\n",
       "\n",
       "  const JS_MIME_TYPE = 'application/javascript';\n",
       "  const HTML_MIME_TYPE = 'text/html';\n",
       "  const EXEC_MIME_TYPE = 'application/vnd.bokehjs_exec.v0+json';\n",
       "  const CLASS_NAME = 'output_bokeh rendered_html';\n",
       "\n",
       "  /**\n",
       "   * Render data to the DOM node\n",
       "   */\n",
       "  function render(props, node) {\n",
       "    const script = document.createElement(\"script\");\n",
       "    node.appendChild(script);\n",
       "  }\n",
       "\n",
       "  /**\n",
       "   * Handle when an output is cleared or removed\n",
       "   */\n",
       "  function handleClearOutput(event, handle) {\n",
       "    const cell = handle.cell;\n",
       "\n",
       "    const id = cell.output_area._bokeh_element_id;\n",
       "    const server_id = cell.output_area._bokeh_server_id;\n",
       "    // Clean up Bokeh references\n",
       "    if (id != null && id in Bokeh.index) {\n",
       "      Bokeh.index[id].model.document.clear();\n",
       "      delete Bokeh.index[id];\n",
       "    }\n",
       "\n",
       "    if (server_id !== undefined) {\n",
       "      // Clean up Bokeh references\n",
       "      const cmd_clean = \"from bokeh.io.state import curstate; print(curstate().uuid_to_server['\" + server_id + \"'].get_sessions()[0].document.roots[0]._id)\";\n",
       "      cell.notebook.kernel.execute(cmd_clean, {\n",
       "        iopub: {\n",
       "          output: function(msg) {\n",
       "            const id = msg.content.text.trim();\n",
       "            if (id in Bokeh.index) {\n",
       "              Bokeh.index[id].model.document.clear();\n",
       "              delete Bokeh.index[id];\n",
       "            }\n",
       "          }\n",
       "        }\n",
       "      });\n",
       "      // Destroy server and session\n",
       "      const cmd_destroy = \"import bokeh.io.notebook as ion; ion.destroy_server('\" + server_id + \"')\";\n",
       "      cell.notebook.kernel.execute(cmd_destroy);\n",
       "    }\n",
       "  }\n",
       "\n",
       "  /**\n",
       "   * Handle when a new output is added\n",
       "   */\n",
       "  function handleAddOutput(event, handle) {\n",
       "    const output_area = handle.output_area;\n",
       "    const output = handle.output;\n",
       "\n",
       "    // limit handleAddOutput to display_data with EXEC_MIME_TYPE content only\n",
       "    if ((output.output_type != \"display_data\") || (!Object.prototype.hasOwnProperty.call(output.data, EXEC_MIME_TYPE))) {\n",
       "      return\n",
       "    }\n",
       "\n",
       "    const toinsert = output_area.element.find(\".\" + CLASS_NAME.split(' ')[0]);\n",
       "\n",
       "    if (output.metadata[EXEC_MIME_TYPE][\"id\"] !== undefined) {\n",
       "      toinsert[toinsert.length - 1].firstChild.textContent = output.data[JS_MIME_TYPE];\n",
       "      // store reference to embed id on output_area\n",
       "      output_area._bokeh_element_id = output.metadata[EXEC_MIME_TYPE][\"id\"];\n",
       "    }\n",
       "    if (output.metadata[EXEC_MIME_TYPE][\"server_id\"] !== undefined) {\n",
       "      const bk_div = document.createElement(\"div\");\n",
       "      bk_div.innerHTML = output.data[HTML_MIME_TYPE];\n",
       "      const script_attrs = bk_div.children[0].attributes;\n",
       "      for (let i = 0; i < script_attrs.length; i++) {\n",
       "        toinsert[toinsert.length - 1].firstChild.setAttribute(script_attrs[i].name, script_attrs[i].value);\n",
       "        toinsert[toinsert.length - 1].firstChild.textContent = bk_div.children[0].textContent\n",
       "      }\n",
       "      // store reference to server id on output_area\n",
       "      output_area._bokeh_server_id = output.metadata[EXEC_MIME_TYPE][\"server_id\"];\n",
       "    }\n",
       "  }\n",
       "\n",
       "  function register_renderer(events, OutputArea) {\n",
       "\n",
       "    function append_mime(data, metadata, element) {\n",
       "      // create a DOM node to render to\n",
       "      const toinsert = this.create_output_subarea(\n",
       "        metadata,\n",
       "        CLASS_NAME,\n",
       "        EXEC_MIME_TYPE\n",
       "      );\n",
       "      this.keyboard_manager.register_events(toinsert);\n",
       "      // Render to node\n",
       "      const props = {data: data, metadata: metadata[EXEC_MIME_TYPE]};\n",
       "      render(props, toinsert[toinsert.length - 1]);\n",
       "      element.append(toinsert);\n",
       "      return toinsert\n",
       "    }\n",
       "\n",
       "    /* Handle when an output is cleared or removed */\n",
       "    events.on('clear_output.CodeCell', handleClearOutput);\n",
       "    events.on('delete.Cell', handleClearOutput);\n",
       "\n",
       "    /* Handle when a new output is added */\n",
       "    events.on('output_added.OutputArea', handleAddOutput);\n",
       "\n",
       "    /**\n",
       "     * Register the mime type and append_mime function with output_area\n",
       "     */\n",
       "    OutputArea.prototype.register_mime_type(EXEC_MIME_TYPE, append_mime, {\n",
       "      /* Is output safe? */\n",
       "      safe: true,\n",
       "      /* Index of renderer in `output_area.display_order` */\n",
       "      index: 0\n",
       "    });\n",
       "  }\n",
       "\n",
       "  // register the mime type if in Jupyter Notebook environment and previously unregistered\n",
       "  if (root.Jupyter !== undefined) {\n",
       "    const events = require('base/js/events');\n",
       "    const OutputArea = require('notebook/js/outputarea').OutputArea;\n",
       "\n",
       "    if (OutputArea.prototype.mime_types().indexOf(EXEC_MIME_TYPE) == -1) {\n",
       "      register_renderer(events, OutputArea);\n",
       "    }\n",
       "  }\n",
       "\n",
       "  \n",
       "  if (typeof (root._bokeh_timeout) === \"undefined\" || force === true) {\n",
       "    root._bokeh_timeout = Date.now() + 5000;\n",
       "    root._bokeh_failed_load = false;\n",
       "  }\n",
       "\n",
       "  const NB_LOAD_WARNING = {'data': {'text/html':\n",
       "     \"<div style='background-color: #fdd'>\\n\"+\n",
       "     \"<p>\\n\"+\n",
       "     \"BokehJS does not appear to have successfully loaded. If loading BokehJS from CDN, this \\n\"+\n",
       "     \"may be due to a slow or bad network connection. Possible fixes:\\n\"+\n",
       "     \"</p>\\n\"+\n",
       "     \"<ul>\\n\"+\n",
       "     \"<li>re-rerun `output_notebook()` to attempt to load from CDN again, or</li>\\n\"+\n",
       "     \"<li>use INLINE resources instead, as so:</li>\\n\"+\n",
       "     \"</ul>\\n\"+\n",
       "     \"<code>\\n\"+\n",
       "     \"from bokeh.resources import INLINE\\n\"+\n",
       "     \"output_notebook(resources=INLINE)\\n\"+\n",
       "     \"</code>\\n\"+\n",
       "     \"</div>\"}};\n",
       "\n",
       "  function display_loaded() {\n",
       "    const el = document.getElementById(\"1002\");\n",
       "    if (el != null) {\n",
       "      el.textContent = \"BokehJS is loading...\";\n",
       "    }\n",
       "    if (root.Bokeh !== undefined) {\n",
       "      if (el != null) {\n",
       "        el.textContent = \"BokehJS \" + root.Bokeh.version + \" successfully loaded.\";\n",
       "      }\n",
       "    } else if (Date.now() < root._bokeh_timeout) {\n",
       "      setTimeout(display_loaded, 100)\n",
       "    }\n",
       "  }\n",
       "\n",
       "\n",
       "  function run_callbacks() {\n",
       "    try {\n",
       "      root._bokeh_onload_callbacks.forEach(function(callback) {\n",
       "        if (callback != null)\n",
       "          callback();\n",
       "      });\n",
       "    } finally {\n",
       "      delete root._bokeh_onload_callbacks\n",
       "    }\n",
       "    console.debug(\"Bokeh: all callbacks have finished\");\n",
       "  }\n",
       "\n",
       "  function load_libs(css_urls, js_urls, callback) {\n",
       "    if (css_urls == null) css_urls = [];\n",
       "    if (js_urls == null) js_urls = [];\n",
       "\n",
       "    root._bokeh_onload_callbacks.push(callback);\n",
       "    if (root._bokeh_is_loading > 0) {\n",
       "      console.debug(\"Bokeh: BokehJS is being loaded, scheduling callback at\", now());\n",
       "      return null;\n",
       "    }\n",
       "    if (js_urls == null || js_urls.length === 0) {\n",
       "      run_callbacks();\n",
       "      return null;\n",
       "    }\n",
       "    console.debug(\"Bokeh: BokehJS not loaded, scheduling load and callback at\", now());\n",
       "    root._bokeh_is_loading = css_urls.length + js_urls.length;\n",
       "\n",
       "    function on_load() {\n",
       "      root._bokeh_is_loading--;\n",
       "      if (root._bokeh_is_loading === 0) {\n",
       "        console.debug(\"Bokeh: all BokehJS libraries/stylesheets loaded\");\n",
       "        run_callbacks()\n",
       "      }\n",
       "    }\n",
       "\n",
       "    function on_error(url) {\n",
       "      console.error(\"failed to load \" + url);\n",
       "    }\n",
       "\n",
       "    for (let i = 0; i < css_urls.length; i++) {\n",
       "      const url = css_urls[i];\n",
       "      const element = document.createElement(\"link\");\n",
       "      element.onload = on_load;\n",
       "      element.onerror = on_error.bind(null, url);\n",
       "      element.rel = \"stylesheet\";\n",
       "      element.type = \"text/css\";\n",
       "      element.href = url;\n",
       "      console.debug(\"Bokeh: injecting link tag for BokehJS stylesheet: \", url);\n",
       "      document.body.appendChild(element);\n",
       "    }\n",
       "\n",
       "    for (let i = 0; i < js_urls.length; i++) {\n",
       "      const url = js_urls[i];\n",
       "      const element = document.createElement('script');\n",
       "      element.onload = on_load;\n",
       "      element.onerror = on_error.bind(null, url);\n",
       "      element.async = false;\n",
       "      element.src = url;\n",
       "      console.debug(\"Bokeh: injecting script tag for BokehJS library: \", url);\n",
       "      document.head.appendChild(element);\n",
       "    }\n",
       "  };\n",
       "\n",
       "  function inject_raw_css(css) {\n",
       "    const element = document.createElement(\"style\");\n",
       "    element.appendChild(document.createTextNode(css));\n",
       "    document.body.appendChild(element);\n",
       "  }\n",
       "\n",
       "  \n",
       "  const js_urls = [\"https://cdn.bokeh.org/bokeh/release/bokeh-2.4.2.min.js\", \"https://cdn.bokeh.org/bokeh/release/bokeh-gl-2.4.2.min.js\", \"https://cdn.bokeh.org/bokeh/release/bokeh-widgets-2.4.2.min.js\", \"https://cdn.bokeh.org/bokeh/release/bokeh-tables-2.4.2.min.js\", \"https://cdn.bokeh.org/bokeh/release/bokeh-mathjax-2.4.2.min.js\"];\n",
       "  const css_urls = [];\n",
       "  \n",
       "\n",
       "  const inline_js = [\n",
       "    function(Bokeh) {\n",
       "      Bokeh.set_log_level(\"info\");\n",
       "    },\n",
       "    function(Bokeh) {\n",
       "    \n",
       "    \n",
       "    }\n",
       "  ];\n",
       "\n",
       "  function run_inline_js() {\n",
       "    \n",
       "    if (root.Bokeh !== undefined || force === true) {\n",
       "      \n",
       "    for (let i = 0; i < inline_js.length; i++) {\n",
       "      inline_js[i].call(root, root.Bokeh);\n",
       "    }\n",
       "    if (force === true) {\n",
       "        display_loaded();\n",
       "      }} else if (Date.now() < root._bokeh_timeout) {\n",
       "      setTimeout(run_inline_js, 100);\n",
       "    } else if (!root._bokeh_failed_load) {\n",
       "      console.log(\"Bokeh: BokehJS failed to load within specified timeout.\");\n",
       "      root._bokeh_failed_load = true;\n",
       "    } else if (force !== true) {\n",
       "      const cell = $(document.getElementById(\"1002\")).parents('.cell').data().cell;\n",
       "      cell.output_area.append_execute_result(NB_LOAD_WARNING)\n",
       "    }\n",
       "\n",
       "  }\n",
       "\n",
       "  if (root._bokeh_is_loading === 0) {\n",
       "    console.debug(\"Bokeh: BokehJS loaded, going straight to plotting\");\n",
       "    run_inline_js();\n",
       "  } else {\n",
       "    load_libs(css_urls, js_urls, function() {\n",
       "      console.debug(\"Bokeh: BokehJS plotting callback run at\", now());\n",
       "      run_inline_js();\n",
       "    });\n",
       "  }\n",
       "}(window));"
      ],
      "application/vnd.bokehjs_load.v0+json": "\n(function(root) {\n  function now() {\n    return new Date();\n  }\n\n  const force = true;\n\n  if (typeof root._bokeh_onload_callbacks === \"undefined\" || force === true) {\n    root._bokeh_onload_callbacks = [];\n    root._bokeh_is_loading = undefined;\n  }\n\n  \n\n  \n  if (typeof (root._bokeh_timeout) === \"undefined\" || force === true) {\n    root._bokeh_timeout = Date.now() + 5000;\n    root._bokeh_failed_load = false;\n  }\n\n  const NB_LOAD_WARNING = {'data': {'text/html':\n     \"<div style='background-color: #fdd'>\\n\"+\n     \"<p>\\n\"+\n     \"BokehJS does not appear to have successfully loaded. If loading BokehJS from CDN, this \\n\"+\n     \"may be due to a slow or bad network connection. Possible fixes:\\n\"+\n     \"</p>\\n\"+\n     \"<ul>\\n\"+\n     \"<li>re-rerun `output_notebook()` to attempt to load from CDN again, or</li>\\n\"+\n     \"<li>use INLINE resources instead, as so:</li>\\n\"+\n     \"</ul>\\n\"+\n     \"<code>\\n\"+\n     \"from bokeh.resources import INLINE\\n\"+\n     \"output_notebook(resources=INLINE)\\n\"+\n     \"</code>\\n\"+\n     \"</div>\"}};\n\n  function display_loaded() {\n    const el = document.getElementById(\"1002\");\n    if (el != null) {\n      el.textContent = \"BokehJS is loading...\";\n    }\n    if (root.Bokeh !== undefined) {\n      if (el != null) {\n        el.textContent = \"BokehJS \" + root.Bokeh.version + \" successfully loaded.\";\n      }\n    } else if (Date.now() < root._bokeh_timeout) {\n      setTimeout(display_loaded, 100)\n    }\n  }\n\n\n  function run_callbacks() {\n    try {\n      root._bokeh_onload_callbacks.forEach(function(callback) {\n        if (callback != null)\n          callback();\n      });\n    } finally {\n      delete root._bokeh_onload_callbacks\n    }\n    console.debug(\"Bokeh: all callbacks have finished\");\n  }\n\n  function load_libs(css_urls, js_urls, callback) {\n    if (css_urls == null) css_urls = [];\n    if (js_urls == null) js_urls = [];\n\n    root._bokeh_onload_callbacks.push(callback);\n    if (root._bokeh_is_loading > 0) {\n      console.debug(\"Bokeh: BokehJS is being loaded, scheduling callback at\", now());\n      return null;\n    }\n    if (js_urls == null || js_urls.length === 0) {\n      run_callbacks();\n      return null;\n    }\n    console.debug(\"Bokeh: BokehJS not loaded, scheduling load and callback at\", now());\n    root._bokeh_is_loading = css_urls.length + js_urls.length;\n\n    function on_load() {\n      root._bokeh_is_loading--;\n      if (root._bokeh_is_loading === 0) {\n        console.debug(\"Bokeh: all BokehJS libraries/stylesheets loaded\");\n        run_callbacks()\n      }\n    }\n\n    function on_error(url) {\n      console.error(\"failed to load \" + url);\n    }\n\n    for (let i = 0; i < css_urls.length; i++) {\n      const url = css_urls[i];\n      const element = document.createElement(\"link\");\n      element.onload = on_load;\n      element.onerror = on_error.bind(null, url);\n      element.rel = \"stylesheet\";\n      element.type = \"text/css\";\n      element.href = url;\n      console.debug(\"Bokeh: injecting link tag for BokehJS stylesheet: \", url);\n      document.body.appendChild(element);\n    }\n\n    for (let i = 0; i < js_urls.length; i++) {\n      const url = js_urls[i];\n      const element = document.createElement('script');\n      element.onload = on_load;\n      element.onerror = on_error.bind(null, url);\n      element.async = false;\n      element.src = url;\n      console.debug(\"Bokeh: injecting script tag for BokehJS library: \", url);\n      document.head.appendChild(element);\n    }\n  };\n\n  function inject_raw_css(css) {\n    const element = document.createElement(\"style\");\n    element.appendChild(document.createTextNode(css));\n    document.body.appendChild(element);\n  }\n\n  \n  const js_urls = [\"https://cdn.bokeh.org/bokeh/release/bokeh-2.4.2.min.js\", \"https://cdn.bokeh.org/bokeh/release/bokeh-gl-2.4.2.min.js\", \"https://cdn.bokeh.org/bokeh/release/bokeh-widgets-2.4.2.min.js\", \"https://cdn.bokeh.org/bokeh/release/bokeh-tables-2.4.2.min.js\", \"https://cdn.bokeh.org/bokeh/release/bokeh-mathjax-2.4.2.min.js\"];\n  const css_urls = [];\n  \n\n  const inline_js = [\n    function(Bokeh) {\n      Bokeh.set_log_level(\"info\");\n    },\n    function(Bokeh) {\n    \n    \n    }\n  ];\n\n  function run_inline_js() {\n    \n    if (root.Bokeh !== undefined || force === true) {\n      \n    for (let i = 0; i < inline_js.length; i++) {\n      inline_js[i].call(root, root.Bokeh);\n    }\n    if (force === true) {\n        display_loaded();\n      }} else if (Date.now() < root._bokeh_timeout) {\n      setTimeout(run_inline_js, 100);\n    } else if (!root._bokeh_failed_load) {\n      console.log(\"Bokeh: BokehJS failed to load within specified timeout.\");\n      root._bokeh_failed_load = true;\n    } else if (force !== true) {\n      const cell = $(document.getElementById(\"1002\")).parents('.cell').data().cell;\n      cell.output_area.append_execute_result(NB_LOAD_WARNING)\n    }\n\n  }\n\n  if (root._bokeh_is_loading === 0) {\n    console.debug(\"Bokeh: BokehJS loaded, going straight to plotting\");\n    run_inline_js();\n  } else {\n    load_libs(css_urls, js_urls, function() {\n      console.debug(\"Bokeh: BokehJS plotting callback run at\", now());\n      run_inline_js();\n    });\n  }\n}(window));"
     },
     "metadata": {},
     "output_type": "display_data"
    },
    {
     "data": {
      "application/vnd.jupyter.widget-view+json": {
       "model_id": "ab9fb91975824e35ab06c077dc8bd531",
       "version_major": 2,
       "version_minor": 0
      },
      "text/plain": [
       "Text(value='10.5.0.23', description='IP Address for eXtickGE', disabled=True, style=DescriptionStyle(descripti…"
      ]
     },
     "metadata": {},
     "output_type": "display_data"
    },
    {
     "data": {
      "application/vnd.jupyter.widget-view+json": {
       "model_id": "a14fb0abca6f4e6bb5fd833e279467cf",
       "version_major": 2,
       "version_minor": 0
      },
      "text/plain": [
       "Text(value='/home/sio3/QuBE_Char/adi_api_mod', description='Path to API', disabled=True, layout=Layout(width='…"
      ]
     },
     "metadata": {},
     "output_type": "display_data"
    },
    {
     "data": {
      "application/vnd.jupyter.widget-view+json": {
       "model_id": "d36fbef03b9e40b6b6c396079c7698de",
       "version_major": 2,
       "version_minor": 0
      },
      "text/plain": [
       "HBox(children=(Checkbox(value=False, description='Config FPGA', indent=False), Text(value='/home/qube/bin/0694…"
      ]
     },
     "metadata": {},
     "output_type": "display_data"
    },
    {
     "data": {
      "application/vnd.jupyter.widget-view+json": {
       "model_id": "bfe87e27102e433c80376908e19fdca1",
       "version_major": 2,
       "version_minor": 0
      },
      "text/plain": [
       "Button(description='Do init', layout=Layout(height='80px', width='50%'), style=ButtonStyle())"
      ]
     },
     "metadata": {},
     "output_type": "display_data"
    },
    {
     "data": {
      "application/vnd.jupyter.widget-view+json": {
       "model_id": "a64dfe4e92e84e7c893b329433ca7446",
       "version_major": 2,
       "version_minor": 0
      },
      "text/plain": [
       "Button(description='Restart AD9082', layout=Layout(height='80px', width='50%'), style=ButtonStyle())"
      ]
     },
     "metadata": {},
     "output_type": "display_data"
    },
    {
     "data": {
      "text/plain": [
       "<qubeui.StartupUI at 0x7ff92c3385e0>"
      ]
     },
     "execution_count": 1,
     "metadata": {},
     "output_type": "execute_result"
    }
   ],
   "source": [
    "import importlib\n",
    "import e7awgsw\n",
    "import bokeh.io\n",
    "import bokeh.plotting\n",
    "import bokeh.models\n",
    "import qubelsi.qube\n",
    "\n",
    "try:\n",
    "    qubeui\n",
    "except NameError:\n",
    "    import qubeui\n",
    "else:\n",
    "    importlib.reload(qubeui)\n",
    "\n",
    "bokeh.plotting.output_notebook()\n",
    "\n",
    "qube = qubelsi.qube.Qube(\n",
    "    '10.5.0.23', # IP address of eXtickGE\n",
    "    './adi_api_mod', # Path to API\n",
    ")\n",
    "qubeui.StartupUI(qube)\n",
    "#startup."
   ]
  },
  {
   "cell_type": "code",
   "execution_count": null,
   "id": "139d88cb-8f8c-4165-a028-ac2b7836b236",
   "metadata": {},
   "outputs": [],
   "source": []
  },
  {
   "cell_type": "code",
   "execution_count": 2,
   "id": "e28c1973-c0bc-4d97-9368-5daffbac7956",
   "metadata": {},
   "outputs": [],
   "source": [
    "try:\n",
    "    instruments\n",
    "except NameError:\n",
    "    import instruments\n",
    "else:\n",
    "    importlib.reload(instruments)\n",
    "    \n",
    "visa = instruments.new_resource_manager()\n",
    "ms2038 = instruments.MS2038_SPA(visa)\n",
    "#ms2038.query('*IDN?')"
   ]
  },
  {
   "cell_type": "code",
   "execution_count": 4,
   "id": "e86b9571-ee05-4cfc-9495-7797367b17b9",
   "metadata": {
    "tags": []
   },
   "outputs": [],
   "source": [
    "r = ms2038.measure()"
   ]
  },
  {
   "cell_type": "code",
   "execution_count": 5,
   "id": "da3e3032-5931-4a5f-8753-7e51960e8846",
   "metadata": {
    "tags": []
   },
   "outputs": [
    {
     "data": {
      "text/html": [
       "\n",
       "\n",
       "\n",
       "\n",
       "\n",
       "\n",
       "  <div class=\"bk-root\" id=\"05a69077-4b0c-42b5-9b12-5e60d1a2be07\" data-root-id=\"1003\"></div>\n"
      ]
     },
     "metadata": {},
     "output_type": "display_data"
    },
    {
     "data": {
      "application/javascript": [
       "(function(root) {\n",
       "  function embed_document(root) {\n",
       "    \n",
       "  const docs_json = {\"5d8d07e9-fcc9-4ef0-aa14-d33a70fa9ee9\":{\"defs\":[],\"roots\":{\"references\":[{\"attributes\":{\"below\":[{\"id\":\"1012\"}],\"center\":[{\"id\":\"1015\"},{\"id\":\"1019\"}],\"left\":[{\"id\":\"1016\"}],\"renderers\":[{\"id\":\"1038\"}],\"title\":{\"id\":\"1040\"},\"toolbar\":{\"id\":\"1027\"},\"toolbar_location\":null,\"x_range\":{\"id\":\"1004\"},\"x_scale\":{\"id\":\"1008\"},\"y_range\":{\"id\":\"1006\"},\"y_scale\":{\"id\":\"1010\"}},\"id\":\"1003\",\"subtype\":\"Figure\",\"type\":\"Plot\"},{\"attributes\":{},\"id\":\"1046\",\"type\":\"BasicTickFormatter\"},{\"attributes\":{\"line_alpha\":0.2,\"line_color\":\"#1f77b4\",\"x\":{\"field\":\"x\"},\"y\":{\"field\":\"y\"}},\"id\":\"1037\",\"type\":\"Line\"},{\"attributes\":{\"coordinates\":null,\"formatter\":{\"id\":\"1046\"},\"group\":null,\"major_label_policy\":{\"id\":\"1047\"},\"ticker\":{\"id\":\"1013\"}},\"id\":\"1012\",\"type\":\"LinearAxis\"},{\"attributes\":{},\"id\":\"1048\",\"type\":\"UnionRenderers\"},{\"attributes\":{\"bottom_units\":\"screen\",\"coordinates\":null,\"fill_alpha\":0.5,\"fill_color\":\"lightgrey\",\"group\":null,\"left_units\":\"screen\",\"level\":\"overlay\",\"line_alpha\":1.0,\"line_color\":\"black\",\"line_dash\":[4,4],\"line_width\":2,\"right_units\":\"screen\",\"syncable\":false,\"top_units\":\"screen\"},\"id\":\"1026\",\"type\":\"BoxAnnotation\"},{\"attributes\":{},\"id\":\"1049\",\"type\":\"Selection\"},{\"attributes\":{},\"id\":\"1024\",\"type\":\"ResetTool\"},{\"attributes\":{},\"id\":\"1023\",\"type\":\"SaveTool\"},{\"attributes\":{\"overlay\":{\"id\":\"1026\"}},\"id\":\"1022\",\"type\":\"BoxZoomTool\"},{\"attributes\":{},\"id\":\"1020\",\"type\":\"PanTool\"},{\"attributes\":{},\"id\":\"1021\",\"type\":\"WheelZoomTool\"},{\"attributes\":{\"data\":{\"x\":{\"__ndarray__\":\"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\",\"dtype\":\"float64\",\"order\":\"little\",\"shape\":[551]},\"y\":{\"__ndarray__\":\"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\",\"dtype\":\"float64\",\"order\":\"little\",\"shape\":[551]}},\"selected\":{\"id\":\"1049\"},\"selection_policy\":{\"id\":\"1048\"}},\"id\":\"1034\",\"type\":\"ColumnDataSource\"},{\"attributes\":{},\"id\":\"1017\",\"type\":\"BasicTicker\"},{\"attributes\":{\"axis\":{\"id\":\"1016\"},\"coordinates\":null,\"dimension\":1,\"group\":null,\"ticker\":null},\"id\":\"1019\",\"type\":\"Grid\"},{\"attributes\":{},\"id\":\"1013\",\"type\":\"BasicTicker\"},{\"attributes\":{},\"id\":\"1008\",\"type\":\"LinearScale\"},{\"attributes\":{\"source\":{\"id\":\"1034\"}},\"id\":\"1039\",\"type\":\"CDSView\"},{\"attributes\":{},\"id\":\"1006\",\"type\":\"DataRange1d\"},{\"attributes\":{\"line_alpha\":0.1,\"line_color\":\"#1f77b4\",\"x\":{\"field\":\"x\"},\"y\":{\"field\":\"y\"}},\"id\":\"1036\",\"type\":\"Line\"},{\"attributes\":{\"coordinates\":null,\"formatter\":{\"id\":\"1043\"},\"group\":null,\"major_label_policy\":{\"id\":\"1044\"},\"ticker\":{\"id\":\"1017\"}},\"id\":\"1016\",\"type\":\"LinearAxis\"},{\"attributes\":{},\"id\":\"1043\",\"type\":\"BasicTickFormatter\"},{\"attributes\":{},\"id\":\"1025\",\"type\":\"HelpTool\"},{\"attributes\":{},\"id\":\"1044\",\"type\":\"AllLabels\"},{\"attributes\":{},\"id\":\"1004\",\"type\":\"DataRange1d\"},{\"attributes\":{},\"id\":\"1047\",\"type\":\"AllLabels\"},{\"attributes\":{\"line_color\":\"#1f77b4\",\"x\":{\"field\":\"x\"},\"y\":{\"field\":\"y\"}},\"id\":\"1035\",\"type\":\"Line\"},{\"attributes\":{\"coordinates\":null,\"data_source\":{\"id\":\"1034\"},\"glyph\":{\"id\":\"1035\"},\"group\":null,\"hover_glyph\":null,\"muted_glyph\":{\"id\":\"1037\"},\"nonselection_glyph\":{\"id\":\"1036\"},\"view\":{\"id\":\"1039\"}},\"id\":\"1038\",\"type\":\"GlyphRenderer\"},{\"attributes\":{\"coordinates\":null,\"group\":null},\"id\":\"1040\",\"type\":\"Title\"},{\"attributes\":{\"tools\":[{\"id\":\"1020\"},{\"id\":\"1021\"},{\"id\":\"1022\"},{\"id\":\"1023\"},{\"id\":\"1024\"},{\"id\":\"1025\"}]},\"id\":\"1027\",\"type\":\"Toolbar\"},{\"attributes\":{},\"id\":\"1010\",\"type\":\"LinearScale\"},{\"attributes\":{\"axis\":{\"id\":\"1012\"},\"coordinates\":null,\"group\":null,\"ticker\":null},\"id\":\"1015\",\"type\":\"Grid\"}],\"root_ids\":[\"1003\"]},\"title\":\"Bokeh Application\",\"version\":\"2.4.2\"}};\n",
       "  const render_items = [{\"docid\":\"5d8d07e9-fcc9-4ef0-aa14-d33a70fa9ee9\",\"root_ids\":[\"1003\"],\"roots\":{\"1003\":\"05a69077-4b0c-42b5-9b12-5e60d1a2be07\"}}];\n",
       "  root.Bokeh.embed.embed_items_notebook(docs_json, render_items);\n",
       "\n",
       "  }\n",
       "  if (root.Bokeh !== undefined) {\n",
       "    embed_document(root);\n",
       "  } else {\n",
       "    let attempts = 0;\n",
       "    const timer = setInterval(function(root) {\n",
       "      if (root.Bokeh !== undefined) {\n",
       "        clearInterval(timer);\n",
       "        embed_document(root);\n",
       "      } else {\n",
       "        attempts++;\n",
       "        if (attempts > 100) {\n",
       "          clearInterval(timer);\n",
       "          console.log(\"Bokeh: ERROR: Unable to run BokehJS code because BokehJS library is missing\");\n",
       "        }\n",
       "      }\n",
       "    }, 10, root)\n",
       "  }\n",
       "})(window);"
      ],
      "application/vnd.bokehjs_exec.v0+json": ""
     },
     "metadata": {
      "application/vnd.bokehjs_exec.v0+json": {
       "id": "1003"
      }
     },
     "output_type": "display_data"
    }
   ],
   "source": [
    "a = r['numpy_array']\n",
    "p = bokeh.plotting.figure(toolbar_location=None)\n",
    "p.line(a[0],a[1])\n",
    "bokeh.plotting.show(p)"
   ]
  },
  {
   "cell_type": "code",
   "execution_count": 32,
   "id": "2b8cc6ae-2965-42a1-a800-6715dc066ee3",
   "metadata": {},
   "outputs": [
    {
     "data": {
      "application/vnd.jupyter.widget-view+json": {
       "model_id": "19cca9d4f453485f92a83b118a3b141b",
       "version_major": 2,
       "version_minor": 0
      },
      "text/plain": [
       "VBox(children=(HBox(children=(Text(value='2.5', description='Freq5 [MHz]:'), Text(value='2.5'), Text(value='2.…"
      ]
     },
     "metadata": {},
     "output_type": "display_data"
    }
   ],
   "source": [
    "importlib.reload(qubeui)\n",
    "\n",
    "p = qubeui.AwgPanel(qube)\n",
    "p.display()"
   ]
  },
  {
   "cell_type": "code",
   "execution_count": 1,
   "id": "e3ce5943-78a4-4494-ad5c-e84a28c80452",
   "metadata": {
    "tags": []
   },
   "outputs": [
    {
     "ename": "NameError",
     "evalue": "name 'set_flo_fnco_according_to_frf' is not defined",
     "output_type": "error",
     "traceback": [
      "\u001b[0;31m---------------------------------------------------------------------------\u001b[0m",
      "\u001b[0;31mNameError\u001b[0m                                 Traceback (most recent call last)",
      "Cell \u001b[0;32mIn[1], line 4\u001b[0m\n\u001b[1;32m      2\u001b[0m fl \u001b[38;5;241m=\u001b[39m \u001b[38;5;241m11700\u001b[39m\n\u001b[1;32m      3\u001b[0m fi \u001b[38;5;241m=\u001b[39m fl \u001b[38;5;241m-\u001b[39m fr\n\u001b[0;32m----> 4\u001b[0m \u001b[43mset_flo_fnco_according_to_frf\u001b[49m(port[\u001b[38;5;241m8\u001b[39m], fr, fi) \u001b[38;5;66;03m# MHz\u001b[39;00m\n\u001b[1;32m      5\u001b[0m set_vatt(port[\u001b[38;5;241m8\u001b[39m]\u001b[38;5;241m.\u001b[39mupconv\u001b[38;5;241m.\u001b[39mvatt, \u001b[38;5;241m0xA00\u001b[39m)\n",
      "\u001b[0;31mNameError\u001b[0m: name 'set_flo_fnco_according_to_frf' is not defined"
     ]
    }
   ],
   "source": [
    "fr = 8500\n",
    "fl = 11700\n",
    "fi = fl - fr\n",
    "set_flo_fnco_according_to_frf(port[8], fr, fi) # MHz\n",
    "set_vatt(port[8].upconv.vatt, 0xA00)"
   ]
  },
  {
   "cell_type": "code",
   "execution_count": null,
   "id": "21ca015d-6e2e-422b-988d-269286f38667",
   "metadata": {},
   "outputs": [],
   "source": []
  },
  {
   "cell_type": "code",
   "execution_count": 85,
   "id": "1b7804b6-ef9a-46d0-ab98-62965bfaad66",
   "metadata": {},
   "outputs": [],
   "source": [
    "LOR = 121\n",
    "LOC = 100\n",
    "LOP = 110\n",
    "\n",
    "set_lmx2594_freq_100M(qube.lmx2594[0], LOR) # 0 LO for READOUT/READIN1\n",
    "set_lmx2594_freq_100M(qube.lmx2594[1], LOP) # 2 LO for PUMP1\n",
    "set_lmx2594_freq_100M(qube.lmx2594[2], LOC) # 5 LO for CTRL1\n",
    "set_lmx2594_freq_100M(qube.lmx2594[3], LOC) # 6 LO for CTRL2\n",
    "set_lmx2594_freq_100M(qube.lmx2594[4], LOC) # 7 LO for CTRL3\n",
    "set_lmx2594_freq_100M(qube.lmx2594[5], LOC) # 8 LO for CTRL4 <-\n",
    "set_lmx2594_freq_100M(qube.lmx2594[6], LOP) # 11 LO for PUMP2\n",
    "set_lmx2594_freq_100M(qube.lmx2594[7], LOC) # 13 LO for READOUT/READIN2\n",
    "for o in qube.lmx2594:\n",
    "    apply_lmx2594(o)"
   ]
  },
  {
   "cell_type": "code",
   "execution_count": 86,
   "id": "272016cc-8b97-4820-bd4b-5217402eddda",
   "metadata": {},
   "outputs": [
    {
     "data": {
      "text/plain": [
       "'set_nco: freq=1656250000, ch=3, COARSE_MODE, DAC_MODE\\nadi_ad9081_device_api_revision_get(...)\\nadi_ad9081_device_init(...)\\napi v1.2.0 commit e1ac8d2 for ad9081 \\nhost is using little endian mode.\\nadi_ad9081_device_spi_config(...)\\nadi_ad9081_device_reg8_access_check(...)\\nadi_ad9081_device_power_status_check(...)\\nadi_ad9081_device_clk_config_set(...)\\nadi_ad9081_device_boot_pre_clock(...)\\nadi_ad9081_device_chip_id_get(...)\\ndevice is ad9082 r3\\nadi_ad9081_device_laminate_id_get(...)\\nadi_ad9081_device_die_id_get(...)\\nadi_ad9081_dac_digital_logic_enable_set(...)\\nadi_ad9081_device_aclk_receiver_enable_set(...)\\nadi_ad9081_device_clk_pll_enable_set(...)\\nadi_ad9081_adc_clk_div_set(...)\\nadi_ad9081_device_clk_up_div_set(...)\\nadi_ad9081_device_boot_post_clock(...)\\nadi_ad9081_adc_clk_enable_set(...)\\nadi_ad9081_dac_duc_nco_set(...)\\nadi_ad9081_dac_duc_nco_enable_set(...)\\nadi_ad9081_dac_select_set(...)\\nadi_ad9081_hal_calc_tx_nco_ftw(...)\\nadi_ad9081_dac_duc_nco_ftw_set(...)\\nadi_ad9081_dac_select_set(...)\\nadi_ad9081_dac_duc_nco_ftw0_set(...)\\nadi_ad9081_dac_select_set(...)\\nCHIP_TYPE     = 0f\\nPROD_ID_LSB   = 82\\nPROD_ID_MSB   = 90\\nCHIP_GRADE    = 23\\nSPI_REVISION  = 01\\nVENDER_ID_LSB = 56\\nVENDER_ID_MSB = 04\\nadi_ad9081_device_hw_close(...)\\n'"
      ]
     },
     "execution_count": 86,
     "metadata": {},
     "output_type": "execute_result"
    }
   ],
   "source": [
    "FR = 1656.25\n",
    "FC = 1578.125\n",
    "FP = 1656.25\n",
    "MHz = 1e+6\n",
    "qube.ad9082[0].set_nco(ch=0, freq=FR*MHz) # 0 READOUT1\n",
    "qube.ad9082[0].set_nco(ch=1, freq=FP*MHz) # 2 PUMP1\n",
    "qube.ad9082[0].set_nco(ch=2, freq=FC*MHz) # 5 CTRL1\n",
    "qube.ad9082[0].set_nco(ch=3, freq=FC*MHz) # 6 CTRL2\n",
    "qube.ad9082[1].set_nco(ch=0, freq=FC*MHz) # 7 CTRL3\n",
    "qube.ad9082[1].set_nco(ch=1, freq=FC*MHz) # 8 CTRL4\n",
    "qube.ad9082[1].set_nco(ch=2, freq=FP*MHz) # 11 PUMP2\n",
    "qube.ad9082[1].set_nco(ch=3, freq=FR*MHz) # 13 READOUT2"
   ]
  },
  {
   "cell_type": "code",
   "execution_count": 118,
   "id": "35412098-7a44-4f8a-8ac3-7c459a443772",
   "metadata": {},
   "outputs": [],
   "source": [
    "def read_peak(inst, fc): # MHz\n",
    "    #inst.write(':INIT:CONT OFF; *WAI')\n",
    "    inst.write(':FREQ:CENT {} MHZ; *WAI'.format(fc))\n",
    "    #inst.write(':INIT ONCE')\n",
    "    time.sleep(2)\n",
    "    inst.write('CALC:MARK1:MAX')\n",
    "    x = inst.query('CALC:MARK1:X?')\n",
    "    y = inst.query('CALC:MARK1:Y?')\n",
    "    #inst.write(':INIT:CONT ON; *WAI')\n",
    "    return x, y\n"
   ]
  },
  {
   "cell_type": "code",
   "execution_count": 114,
   "id": "fee5725a-83a4-432b-ad6b-acea2e61c296",
   "metadata": {},
   "outputs": [
    {
     "data": {
      "text/plain": [
       "(8500, 3500, 12000)"
      ]
     },
     "execution_count": 114,
     "metadata": {},
     "output_type": "execute_result"
    }
   ],
   "source": [
    "fr, fi, fr + fi"
   ]
  },
  {
   "cell_type": "code",
   "execution_count": 90,
   "id": "db34e5d3-93a0-4cf4-8446-91738a82f8bc",
   "metadata": {},
   "outputs": [],
   "source": [
    "offset = lambda l, d: [v + i*d for i, v in enumerate(l)]\n",
    "\n",
    "def plot_spurious_multi(p, d):\n",
    "    p.renderers = []\n",
    "    p.multi_line(offset(d['freq'],10), offset(d['trace'],0))\n",
    "    bokeh.plotting.show(p)    \n",
    "    \n",
    "def plot_spurious(p, d, i):\n",
    "    p.renderers = []\n",
    "    p.line(d['freq'][i], d['trace'][i])\n",
    "    bokeh.plotting.show(p)    "
   ]
  },
  {
   "cell_type": "code",
   "execution_count": 140,
   "id": "37a325f9-917c-4a58-9b4b-57f32194d2ad",
   "metadata": {},
   "outputs": [],
   "source": [
    "import pyvisa\n",
    "import time\n",
    "m = pyvisa.ResourceManager('@py')\n",
    "inst = m.open_resource(\"TCPIP0::10.250.0.10::inst0::INSTR\")\n",
    "inst.query('*IDN?')\n",
    "\n",
    "# MS2038Cから測定データを読み出す\n",
    "def get_freq_from_ms2038c(inst):\n",
    "    myfind = lambda k, l: next(filter(lambda x: x.startswith(\"{}=\".format(k)), l))\n",
    "    myconv = lambda s: float(s.split('=')[1].replace(' MHZ', ''))\n",
    "    inst.timeout = 10000\n",
    "    preamble = inst.query(':TRAC:PRE?')[10:].split(',')\n",
    "    fstart = myconv(myfind('START_FREQ', preamble))\n",
    "    fstop = myconv(myfind('STOP_FREQ', preamble))\n",
    "    npts = int(float(myfind('UI_DATA_POINTS', preamble).split('=')[1]))\n",
    "    return np.linspace(fstart, fstop, npts)\n",
    "\n",
    "def get_trace_from_ms2038c(inst):\n",
    "    return np.loadtxt(inst.query(':TRAC?')[6:].split(','))\n",
    "\n",
    "def sweep_ms2038c(inst):\n",
    "    inst.write(':INIT')\n",
    "    while True:\n",
    "        time.sleep(.1)\n",
    "        if inst.query(':STAT:OPER?') == '256':\n",
    "            break\n",
    "    return True\n"
   ]
  },
  {
   "cell_type": "code",
   "execution_count": 129,
   "id": "29096e76-568b-483b-b933-ce15cef9b660",
   "metadata": {},
   "outputs": [
    {
     "data": {
      "text/html": [
       "\n",
       "\n",
       "\n",
       "\n",
       "\n",
       "\n",
       "  <div class=\"bk-root\" id=\"ede95b63-8d78-4f84-9330-bf0a4df5b485\" data-root-id=\"1568\"></div>\n"
      ]
     },
     "metadata": {},
     "output_type": "display_data"
    },
    {
     "data": {
      "application/javascript": [
       "(function(root) {\n",
       "  function embed_document(root) {\n",
       "    \n",
       "  const docs_json = {\"3cfa17ec-0d5b-47be-8fa7-d20bdd7f6629\":{\"defs\":[],\"roots\":{\"references\":[{\"attributes\":{\"below\":[{\"id\":\"1577\"}],\"center\":[{\"id\":\"1580\"},{\"id\":\"1584\"}],\"height\":300,\"left\":[{\"id\":\"1581\"}],\"renderers\":[{\"id\":\"1854\"}],\"sizing_mode\":\"stretch_width\",\"title\":{\"id\":\"1628\"},\"toolbar\":{\"id\":\"1592\"},\"toolbar_location\":null,\"x_range\":{\"id\":\"1569\"},\"x_scale\":{\"id\":\"1573\"},\"y_range\":{\"id\":\"1571\"},\"y_scale\":{\"id\":\"1575\"}},\"id\":\"1568\",\"subtype\":\"Figure\",\"type\":\"Plot\"},{\"attributes\":{},\"id\":\"1575\",\"type\":\"LinearScale\"},{\"attributes\":{\"data\":{\"xs\":[{\"__ndarray__\":\"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\",\"dtype\":\"float64\",\"order\":\"little\",\"shape\":[551]},{\"__ndarray__\":\"AAAAAABuuUAXXXTRRXW5QC+66KKLfLlARhdddNGDuUBddNFFF4u5QHTRRRddkrlAjC666KKZuUCjiy666KC5QLrooosuqLlA0UUXXXSvuUDpoosuura5QAAAAAAAvrlAF1100UXFuUAvuuiii8y5QEYXXXTR07lAXXTRRRfbuUB00UUXXeK5QIwuuuii6blAo4suuujwuUC66KKLLvi5QNFFF110/7lA6aKLLroGukAAAAAAAA66QBdddNFFFbpAL7roooscukBGF1100SO6QF100UUXK7pAdNFFF10yukCMLrroojm6QKOLLrroQLpAuuiiiy5IukDRRRdddE+6QOmiiy66VrpAAAAAAABeukAXXXTRRWW6QC+66KKLbLpARhdddNFzukBddNFFF3u6QHTRRRddgrpAjC666KKJukCjiy666JC6QLrooosumLpA0UUXXXSfukDpoosuuqa6QAAAAAAArrpAF1100UW1ukAvuuiii7y6QEYXXXTRw7pAXXTRRRfLukB00UUXXdK6QIwuuuii2bpAo4suuujgukC66KKLLui6QNFFF11077pA6aKLLrr2ukAAAAAAAP66QBdddNFFBbtALrrooosMu0BGF1100RO7QF100UUXG7tAdNFFF10iu0CMLrrooim7QKOLLrroMLtAuuiiiy44u0DRRRdddD+7QOmiiy66RrtAAAAAAABOu0AXXXTRRVW7QC666KKLXLtARhdddNFju0BddNFFF2u7QHTRRRddcrtAjC666KJ5u0Cjiy666IC7QLrooosuiLtA0UUXXXSPu0Dpoosuupa7QAAAAAAAnrtAF1100UWlu0Auuuiii6y7QEYXXXTRs7tAXXTRRRe7u0B00UUXXcK7QIwuuuiiybtAo4suuujQu0C66KKLLti7QNFFF11037tA6aKLLrrmu0AAAAAAAO67QBdddNFF9btALrrooov8u0BGF1100QO8QF100UUXC7xAdNFFF10SvECMLrroohm8QKOLLrroILxAuuiiiy4ovEDRRRdddC+8QOmiiy66NrxAAAAAAAA+vEAXXXTRRUW8QC666KKLTLxARhdddNFTvEBddNFFF1u8QHTRRRddYrxAjC666KJpvECjiy666HC8QLrooosueLxA0UUXXXR/vEDpoosuuoa8QAAAAAAAjrxAF1100UWVvEAuuuiii5y8QEYXXXTRo7xAXXTRRRervEB00UUXXbK8QIwuuuiiubxAo4suuujAvEC66KKLLsi8QNFFF110z7xA6aKLLrrWvEAAAAAAAN68QBdddNFF5bxALrrooovsvEBGF1100fO8QF100UUX+7xAdNFFF10CvUCMLrroogm9QKOLLrroEL1Auuiiiy4YvUDRRRdddB+9QOmiiy66Jr1AAAAAAAAuvUAXXXTRRTW9QC666KKLPL1ARhdddNFDvUBddNFFF0u9QHTRRRddUr1AjC666KJZvUCjiy666GC9QLrooosuaL1A0kUXXXRvvUDpoosuuna9QAAAAAAAfr1AF1100UWFvUAuuuiii4y9QEYXXXTRk71AXXTRRRebvUB00UUXXaK9QIwuuuiiqb1Ao4suuuiwvUC66KKLLri9QNJFF110v71A6aKLLrrGvUAAAAAAAM69QBdddNFF1b1ALrrooovcvUBGF1100eO9QF100UUX671AdNFFF13yvUCMLrroovm9QKOLLrroAL5Auuiiiy4IvkDSRRdddA++QOmiiy66Fr5AAAAAAAAevkAXXXTRRSW+QC666KKLLL5ARhdddNEzvkBddNFFFzu+QHTRRRddQr5AjC666KJJvkCjiy666FC+QLrooosuWL5A0kUXXXRfvkDpoosuuma+QAAAAAAAbr5AF1100UV1vkAuuuiii3y+QEYXXXTRg75AXXTRRReLvkB00UUXXZK+QIwuuuiimb5Ao4suuuigvkC66KKLLqi+QNJFF110r75A6aKLLrq2vkAAAAAAAL6+QBdddNFFxb5ALrrooovMvkBGF1100dO+QF100UUX275AdNFFF13ivkCMLrrooum+QKOLLrro8L5Auuiiiy74vkDSRRdddP++QOmiiy66Br9AAAAAAAAOv0AXXXTRRRW/QC666KKLHL9ARhdddNEjv0BddNFFFyu/QHTRRRddMr9AjC666KI5v0Cjiy666EC/QLrooosuSL9A0kUXXXRPv0Dpoosuula/QAAAAAAAXr9AF1100UVlv0Auuuiii2y/QEYXXXTRc79AXXTRRRd7v0B00UUXXYK/QIwuuuiiib9Ao4suuuiQv0C66KKLLpi/QNJFF110n79A6aKLLrqmv0AAAAAAAK6/QBdddNFFtb9ALrrooou8v0BGF1100cO/QF100UUXy79AdNFFF13Sv0CMLrrootm/QKOLLrro4L9Auuiiiy7ov0DSRRdddO+/QOmiiy669r9AAAAAAAD+v0CMLrroogLAQBdddNFFBsBAo4suuugJwEAuuuiiiw3AQLrooosuEcBARhdddNEUwEDRRRdddBjAQF100UUXHMBA6aKLLrofwEB00UUXXSPAQAAAAAAAJ8BAjC666KIqwEAXXXTRRS7AQKOLLrroMcBALrrooos1wEC66KKLLjnAQEYXXXTRPMBA0UUXXXRAwEBddNFFF0TAQOmiiy66R8BAdNFFF11LwEAAAAAAAE/AQIwuuuiiUsBAF1100UVWwECjiy666FnAQC666KKLXcBAuuiiiy5hwEBGF1100WTAQNFFF110aMBAXXTRRRdswEDpoosuum/AQHTRRRddc8BAAAAAAAB3wECMLrroonrAQBdddNFFfsBAo4suuuiBwEAuuuiii4XAQLrooosuicBARhdddNGMwEDRRRdddJDAQF100UUXlMBA6aKLLrqXwEB00UUXXZvAQAAAAAAAn8BAjC666KKiwEAXXXTRRabAQKOLLrroqcBALrroooutwEC66KKLLrHAQEYXXXTRtMBA0kUXXXS4wEBddNFFF7zAQOmiiy66v8BAdNFFF13DwEAAAAAAAMfAQIwuuuiiysBAF1100UXOwECjiy666NHAQC666KKL1cBAuuiiiy7ZwEBGF1100dzAQNJFF1104MBAXXTRRRfkwEDpoosuuufAQHTRRRdd68BAAAAAAADvwECMLrroovLAQBdddNFF9sBAo4suuuj5wEAuuuiii/3AQLrooosuAcFARhdddNEEwUDSRRdddAjBQF100UUXDMFA6aKLLroPwUB00UUXXRPBQAAAAAAAF8FAjC666KIawUAXXXTRRR7BQKOLLrroIcFALrroooslwUC66KKLLinBQEYXXXTRLMFA0kUXXXQwwUBddNFFFzTBQOmiiy66N8FAdNFFF107wUAAAAAAAD/BQIwuuuiiQsFAF1100UVGwUCjiy666EnBQC666KKLTcFAuuiiiy5RwUBGF1100VTBQNJFF110WMFAXXTRRRdcwUDpoosuul/BQHTRRRddY8FAAAAAAABnwUCMLrroomrBQBdddNFFbsFAo4suuuhxwUAuuuiii3XBQLrooosuecFARhdddNF8wUDSRRdddIDBQF100UUXhMFA6aKLLrqHwUB00UUXXYvBQAAAAAAAj8FAjC666KKSwUAXXXTRRZbBQKOLLrromcFALrroooudwUC66KKLLqHBQEYXXXTRpMFA0kUXXXSowUBddNFFF6zBQOmiiy66r8FAdNFFF12zwUAAAAAAALfBQIwuuuiiusFAF1100UW+wUCjiy666MHBQC666KKLxcFAuuiiiy7JwUBGF1100czBQNJFF1100MFAXXTRRRfUwUDpoosuutfBQHTRRRdd28FAAAAAAADfwUCMLrroouLBQBdddNFF5sFAo4suuujpwUAuuuiii+3BQLrooosu8cFARhdddNH0wUDSRRdddPjBQF100UUX/MFA6aKLLrr/wUB00UUXXQPCQAAAAAAAB8JAjC666KIKwkAXXXTRRQ7CQKOLLrroEcJALrrooosVwkC66KKLLhnCQEYXXXTRHMJA0kUXXXQgwkBddNFFFyTCQOmiiy66J8JAdNFFF10rwkAAAAAAAC/CQIwuuuiiMsJAF1100UU2wkCjiy666DnCQC666KKLPcJAuuiiiy5BwkBGF1100UTCQNJFF110SMJAXXTRRRdMwkDpoosuuk/CQHTRRRddU8JAAAAAAABXwkCMLrroolrCQBdddNFFXsJAo4suuuhhwkAuuuiii2XCQLrooosuacJARhdddNFswkDSRRdddHDCQF100UUXdMJA6aKLLrp3wkB00UUXXXvCQAAAAAAAf8JAjC666KKCwkAXXXTRRYbCQKOLLrroicJALrrooouNwkC66KKLLpHCQEYXXXTRlMJA0kUXXXSYwkBddNFFF5zCQOmiiy66n8JAdNFFF12jwkAAAAAAAKfCQIwuuuiiqsJAF1100UWuwkCjiy666LHCQC666KKLtcJAuuiiiy65wkBGF1100bzCQNJFF110wMJAXXTRRRfEwkDpoosuusfCQHTRRRddy8JAAAAAAADPwkCMLrrootLCQBdddNFF1sJAo4suuujZwkAuuuiii93CQLrooosu4cJARhdddNHkwkDSRRdddOjCQF100UUX7MJA6aKLLrrvwkB00UUXXfPCQAAAAAAA98JAjC666KL6wkAXXXTRRf7CQKOLLrroAcNALrrooosFw0C66KKLLgnDQEYXXXTRDMNA0kUXXXQQw0BddNFFFxTDQOmiiy66F8NAdNFFF10bw0AAAAAAAB/DQIwuuuiiIsNAF1100UUmw0Cjiy666CnDQC666KKLLcNAuuiiiy4xw0BGF1100TTDQNJFF110OMNAXXTRRRc8w0Dpoosuuj/DQHTRRRddQ8NAAAAAAABHw0CMLrrookrDQBdddNFFTsNAo4suuuhRw0Auuuiii1XDQLrooosuWcNARhdddNFcw0DSRRdddGDDQF100UUXZMNA6aKLLrpnw0B00UUXXWvDQAAAAAAAb8NAjC666KJyw0AXXXTRRXbDQKOLLrroecNALrrooot9w0C66KKLLoHDQEYXXXTRhMNA0kUXXXSIw0BddNFFF4zDQOmiiy66j8NAdNFFF12Tw0AAAAAAAJfDQIwuuuiimsNAF1100UWew0Cjiy666KHDQC666KKLpcNAuuiiiy6pw0BGF1100azDQNJFF110sMNAXXTRRRe0w0DpoosuurfDQHTRRRddu8NAAAAAAAC/w0CMLrroosLDQBdddNFFxsNAo4suuujJw0Auuuiii83DQLrooosu0cNARhdddNHUw0DSRRdddNjDQF100UUX3MNA6aKLLrrfw0B00UUXXePDQAAAAAAA58NAjC666KLqw0AXXXTRRe7DQKOLLrro8cNALrrooov1w0C66KKLLvnDQEYXXXTR/MNA0kUXXXQAxEBddNFFFwTEQOmiiy66B8RAdNFFF10LxEAAAAAAAA/EQIwuuuiiEsRAF1100UUWxECjiy666BnEQC666KKLHcRAuuiiiy4hxEBGF1100STEQNJFF110KMRAXXTRRRcsxEDpoosuui/EQHTRRRddM8RAAAAAAAA3xECMLrroojrEQBdddNFFPsRAo4suuuhBxEAuuuiii0XEQLrooosuScRARhdddNFMxEDSRRdddFDEQF100UUXVMRA6aKLLrpXxEB00UUXXVvEQAAAAAAAX8RAjC666KJixEAXXXTRRWbEQKOLLrroacRALrrooottxEC66KKLLnHEQEYXXXTRdMRA0kUXXXR4xEBddNFFF3zEQOmiiy66f8RAdNFFF12DxEAAAAAAAIfEQA==\",\"dtype\":\"float64\",\"order\":\"little\",\"shape\":[551]}],\"ys\":[{\"__ndarray__\":\"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\",\"dtype\":\"float64\",\"order\":\"little\",\"shape\":[551]},{\"__ndarray__\":\"g8DKoUV2UcCXUwJiEsNRwGms/Z3t3FHAN4lBYOWwUcDJkc7AyNZRwIi9UMB2vlHA8bc9QWLQUcBl4lZBDAJSwM6OVN/53lHAukkMAisHUsBMHHkgsh1SwJHSbB6HFlLAQblt36MQUsBHH/MBgfVRwBmrzf+r/FHAoYMu4dDCUcC/YaJBCtdRwMhbrn5sB1LAtMh2vp/aUcD752nAILBRwEG5bd+j0FHApoC0/wHLUcDEQxg/jbdRwIjYYOEkplHAGavN/6ucUcDEeTiB6aZRwIy61t6nplHATBx5ILJ9UcAo84++SaxRwM6OVN/5nlHAGcbdIFqkUcDdCfZf57tRwIPAyqFFtlHAYMrAAS3SUcCrmEo/4bpRwFUxlX7C1VHAxF4oYDvfUcAjwOldvNRRwKA1P/7SzVHAN4lBYOXwUcCmgLT/AetRwB7ec2A5NFDAxF4oYDv/UcBMHHkgsv1RwNKm6h7Z7lHAfT81XroJUsDdJAaBleNRwLTIdr6f+lHAkgiNYOPlUcB9WkV/aPFRwFVMpZ9w3VHA4jycwHTTUcBVMZV+wtVRwNP02QHXw1HA4les4SLbUcD7AnrhztdRwJHtfD81vlHAHt5zYDm0UcAAGxAhrsdRwJdTAmISo1HAbvdynxy6UcCN8PYgBLZRwMRDGD+N11HAOKRRgZPYUcCrmEo/4bpRwLTjht9NolHAHt5zYDm0UcBzKhkAqtFRwDyh15/EwFHAui784HyfUcBvEoPAyqFRwGms/Z3tvFHA9+rjoe+nUcDXvoBeuJ5RwEG5bd+jkFHAYMrAAS2SUcC/RpIgXI9RwAAAAAAAYFHAABsQIa5HUcBMHHkgsl1RwFpkO99PLVHA5zki36U7UcBq+uyA6xFRwGms/Z3tHFHAkdJsHof2UMBMHHkgsv1QwAowLH++H1HAPIbHfhb5UMDOjlTf+f5QwKGDLuHQAlHARtEDH4PgUMA3iUFg5dBQwFA0D2CR7VDAjLrW3qcGUcD752nAIPBQwPfq46HvB1HAby2T4XhJUMDiV6zhIvtRwM6OVN/53lHAsMvwn27yUcBzDwnf+8lRwCPA6V289FHAZeJWQQwCUsCwy/CfbvJRwPsCeuHO91HAke18PzX+UcBzKhkAqhFSwJHSbB6H9lHAPKHXn8QAUsB9WkV/aPFRwEG5bd+j8FHAueAM/n7qUcCmm8QgsPJRwFp/SwD+9FHAbvdynxz6UcBl4lZBDAJSwKuzWmCP4lHALlkV4SbxUcAew2M/i+xRwJsdqb7z3VHAkgiNYOPlUcAQlrGhm+RRwPG3PUFi8FHALlkV4SbxUcBBnl2+9ShQwB6oUx7dxFHAWmQ730/tUcAKMCx/vv9RwH0/NV666VHAv0aSIFzPUcBQNA9gke1RwG73cp8c+lHAdEUpIVj5UcChgy7h0AJSwHRFKSFY+VHAg8DKoUX2UcBgysABLfJRwOI8nMB081HAxEMYP433UcCDpbqAl85RwFVMpZ9w/VHAkdJsHof2UcAtCyb+KPxRwF980R4v3VHAOKRRgZPYUcBklGdeDu1RwNe+gF643lHA9s/TgEHgUcApQX+hR+FRwMRDGD+N11HAtOOG303CUcA8hsd+FplRwOIhjJ/Gy1HAahX9oZm5UcDiV6zhIrtRwAowLH++n1HAyXa+nxqPUcAjwOldvLRRwKa21EFemlHAI9v5fmqcUcA3iUFg5bBRwI3V5v9VjlHAby2T4XiJUcBq+uyA65FRwH1aRX9okVHALQsm/ih8UcBVTKWfcJ1RwPfq46Hvh1HA3SQGgZWDUcAew2M/i4xRwL9hokEKd1HAprbUQV56UcCIvVDAdp5RwKaAtP8Ba1HA4iGMn8ZrUcAZxt0gWoRRwMR5OIHphlHABRiWP9+PUcC/RpIgXG9RwHMPCd/7aVHAq5hKP+F6UcAzjLtBtGhRwJYFE38UjlHAI8DpXbx0UcAA5e/eUXhRwPBpTl5kW1HAeCefHtt5UcAeqFMe3YRRwOdUMgBUg1HAGuHtQQiMUcBgysABLZJRwAX9hR4xqFHAVUyln3CdUcC6LvzgfH9RwClBf6FHoVHAFJM3wMysUcBzKhkAqrFRwMmRzsDItlHA176AXri+UcBG0QMfg6BRwMRDGD+Nt1HA5h4SvvezUcAe3nNgObRRwPG3PUFisFHAWkkrvqHlUcBMHHkgsr1RwL9hokEK11HAg6W6gJfuUcDYDHBBttNRwJHtfD813lHAq85qgT3qUcBvEoPAysFRwAkVHF4Q2FHAkdJsHof2UcBffNEeL/1RwLpJDAIr51HA51QyAFQDUsCbHam+891RwEGeXb71CFLAHqhTHt0EUsD36uOh7wdSwGXiVkEM4lHAUDQPYJENUsA3iUFg5RBSwKaAtP8BC1LAVWe1wB4FUsBklGdeDg1SwEcf8wGB9VHAluoCXmYGUsCIvVDAdv5RwGms/Z3t/FHA9+rjoe8HUsCrmEo/4fpRwC0LJv4o/FHAzo5U3/neUcCvsOB+wOpRwMmRzsDI9lHAD0jCvp3vUcCDpbqAl+5RwFpkO99PzVHAq7NaYI/iUcCN1eb/Ve5RwHMPCd/76VHA9+rjoe/nUcAZxt0gWuRRwJbqAl5m5lHA++dpwCDwUcAew2M/i+xRwGSUZ14O7VHAxHk4gekGUsAF/YUeMQhSwDikUYGT2FHA176AXrj+UcDdPxaiQ+tRwMhbrn5sB1LAPKHXn8QAUsAeqFMe3eRRwDy858By6FHAX3zRHi/9UcCDwMqhRRZSwPsCeuHO91HAsRnggmynT8DEQxg/jddRwOxRuB6FC1LAWn9LAP70UcApQX+hRyFSwDyh15/EAFLAmx2pvvPdUcC6SQwCK8dRwEbRAx+DAFLAby2T4XgpUsAZxt0gWiRSwOYeEr7301HAN24xPzfpUcBprP2d7RxSwAAbECGu51HAHqhTHt0kUsDJkc7AyPZRwDJxqyAGAVLA3T8WokMLUsAUrkfhehRSwBSTN8DMDFLAq5hKP+H6UcDIW65+bAdSwLTIdr6f+lHA7FG4HoXrUcCW6gJeZgZSwG8tk+F4CVLAbvdynxy6UcDTTWIQWDkuwB7ec2A59FHAlgUTfxTuUcAj2/l+avxRwFA0D2CR7VHAKUF/oUfhUcDSpuoe2c5RwAUYlj/fD1LAzo5U3/n+UcAtCyb+KNxRwKuYSj/h2lHAPKHXn8QAUsC6LvzgfN9RwCPb+X5q3FHAiL1QwHb+UcDsbMg/M/NRwADl795R+FHAyXa+nxrvUcC044bfTQJSwCPA6V281FHA+wJ64c4XUsAZq83/q/xRwNgMcEG281HABf2FHjEIUsBMHHkgsv1RwH1aRX9oEVLA51QyAFTjUcD7AnrhzvdRwK+w4H7AClLAN4lBYOXwUcDSpuoe2Q5SwOxRuB6FC1LAsMvwn27yUcBl4lZBDMJRwEG5bd+j0FHATDeJQWAFUsAa4e1BCAxSwG73cp8c+lHAsMvwn27yUcAo84++ScxRwAAAAAAAAFLAbvdynxwaUsDOjlTf+f5RwBrh7UEIDFLA7GzIPzMTUsCI2GDhJAZSwPbP04BBAFLA2AxwQbbzUcB0RSkhWPlRwOc5It+l+1HAKPOPvkkMUsBVZ7XAHgVSwDyGx34WGVLAtOOG300CUsAJFRxeENhRwDduMT83aVHAyZHOwMj2UcCrzmqBPepRwAowLH++/1HAyXa+nxrvUcCMutbepwZSwGr67IDr8VHAQblt36PwUcBVMZV+whVSwOdUMgBUw1HAX3zRHi/9UcCDwMqhRfZRwN0kBoGVA1LAAAAAAAAAUsAzjLtBtAhSwOYeEr7381HA51QyAFTjUcA4pFGBk9hRwOxsyD8z81HAoYMu4dDiUcBqFf2hmdlRwDeJQWDl0FHA5h4SvvezUcDdPxaiQ6tRwBSTN8DMjFHAGuHtQQisUcDdPxaiQ4tRwGms/Z3tnFHA7FG4HoVrUcBMN4lBYEVRwEw3iUFghVHAM4y7QbRoUcBzDwnf+2lRwOI8nMB0U1HA7FG4HoVLUcCMutbep0ZRwMmRzsDIVlHAZeJWQQxCUcBgysABLRJRwNe+gF64HlHApoC0/wErUcAAGxAhrgdRwL9GkiBcD1HAWmQ7308tUcCrmEo/4RpRwNgMcEG281DAke18PzX+UMA4pFGBkxhRwM1zRL5LF1HAeCefHtsZUcDXvoBeuP5QwKGDLuHQwlDAke18PzX+UMAo84++SQxRwGr67IDrEVHA2AxwQbYTUcCN8PYgBPZQwIOluoCX7lDAABsQIa4HUcCN1eb/Ve5QwM1zRL5L91DAOKRRgZP4UMCgNT/+0u1QwMhbrn5s51DA7FG4HoWrUMA8vOfAcshQwKaAtP8By1DAEJaxoZvEUMCIvVDAdp5QwBnG3SBapFDAxF4oYDt/UMAj9gmgGIRQwDduMT83iVDAprbUQV56UMCDpbqAl25QwLngDP5+alDAZeJWQQxiUMCI2GDhJIZQwFVMpZ9wfVDAg8DKoUVWUMDnOSLfpVtQwOc5It+lO1DAHsNjP4tMUMCN1eb/VU5QwFA0D2CRTVDAprbUQV5aUMApQX+hR2FQwBrh7UEITFDAaaz9ne1cUMDdPxaiQ0tQwFp/SwD+VFDAYMrAAS1yUMAa4e1BCGxQwPG3PUFicFDABRiWP99PUMDYDHBBtlNQwB7ec2A5dFDAlgUTfxSOUMC6SQwCK4dQwGoV/aGZWVDAaaz9ne18UMDOjlTf+V5QwFp/SwD+dFDA5h4SvvdzUMBklGdeDm1QwBrh7UEIbFDAkdJsHod2UMAUrkfhelRQwG8Sg8DKQVDAoDU//tJNUMCMutbep0ZQwHgnnx7bOVDAyFuufmwnUMDnVDIAVANQwLou/OB8H1DA9s/TgEEAUMCIvVDAdr5PwEc6AyMvnU/AzXNEvkt3T8CI83AC041PwJvniHyXbk/Am+eIfJduT8C6SQwCK4dPwHRFKSFYeU/AHqhTHt1kT8AzjLtBtIhPwCfYf52bRE/ALlkV4SZxT8DScMrcfH9PwAX9hR4xyE/ALNUFvMyMT8AujzUjg8BPwHgMj/0ssk/A0/TZAdejT8DooiHjUfhPwKvOaoE9ClDAg8DKoUUWUMBBnl2+9ShQwAX9hR4xKFDAdEUpIVg5UMBBuW3fozBQwIy61t6nJlDAppvEILAyUMDT9NkB1yNQwMmRzsDIVlDAiL1QwHZeUMCwy/CfblJQwOJXrOEiW1DAdEUpIVh5UMBGtvP91HhQwF980R4vXVDAnGuYofFSUMDmHhK+91NQwK+w4H7ASlDAxEMYP403UMBgysABLTJQwFVntcAeJVDAkgiNYOMlUMAJFRxeEBhQwJbqAl5mJlDAPLznwHIIUMBlGHeDaJFPwIOluoCXDlDAeEKvP4kBUMD1geSdQ8tPwNJwytx8v0/AoZ4+An/qT8CrmEo/4bpPwM1zRL5Lt0/AahX9oZnZT8BMN4lBYKVPwKAaL90kxk/A7dXHQ9/PT8Ae3nNgOfRPwBmrzf+r3E/Ai2zn+6nxT8CrmEo/4bpPwOxRuB6F60/A+wJ64c73T8DScMrcfP9PwDyGx34WGVDAiL1QwHa+T8AUkzfAzCxQwIy61t6nJlDAZJRnXg4tUMCrzmqBPUpQwDyh15/EQFDAUU8fgT9VUMBHH/MBgVVQwOIhjJ/Ga1DAWmQ7309tUMC6SQwCK2dQwPG3PUFicFDARx/zAYF1UMAe3nNgOVRQwIy61t6nhlDABRiWP99PUMA4pFGBk1hQwEw3iUFgZVDAv2GiQQpXUMBQNA9gkS1QwDikUYGTWFDAPKHXn8RAUMAo84++SSxQwKa21EFeGlDA9s/TgEEgUMDNc0S+SxdQwA==\",\"dtype\":\"float64\",\"order\":\"little\",\"shape\":[551]}]},\"selected\":{\"id\":\"1887\"},\"selection_policy\":{\"id\":\"1886\"}},\"id\":\"1850\",\"type\":\"ColumnDataSource\"},{\"attributes\":{},\"id\":\"1634\",\"type\":\"BasicTickFormatter\"},{\"attributes\":{\"axis\":{\"id\":\"1577\"},\"coordinates\":null,\"group\":null,\"ticker\":null},\"id\":\"1580\",\"type\":\"Grid\"},{\"attributes\":{\"coordinates\":null,\"group\":null},\"id\":\"1628\",\"type\":\"Title\"},{\"attributes\":{},\"id\":\"1635\",\"type\":\"AllLabels\"},{\"attributes\":{\"line_alpha\":{\"value\":0.1},\"line_color\":{\"value\":\"#1f77b4\"},\"xs\":{\"field\":\"xs\"},\"ys\":{\"field\":\"ys\"}},\"id\":\"1852\",\"type\":\"MultiLine\"},{\"attributes\":{},\"id\":\"1590\",\"type\":\"HelpTool\"},{\"attributes\":{},\"id\":\"1569\",\"type\":\"DataRange1d\"},{\"attributes\":{},\"id\":\"1886\",\"type\":\"UnionRenderers\"},{\"attributes\":{},\"id\":\"1887\",\"type\":\"Selection\"},{\"attributes\":{},\"id\":\"1578\",\"type\":\"BasicTicker\"},{\"attributes\":{\"source\":{\"id\":\"1850\"}},\"id\":\"1855\",\"type\":\"CDSView\"},{\"attributes\":{},\"id\":\"1582\",\"type\":\"BasicTicker\"},{\"attributes\":{},\"id\":\"1631\",\"type\":\"BasicTickFormatter\"},{\"attributes\":{\"line_alpha\":{\"value\":0.2},\"line_color\":{\"value\":\"#1f77b4\"},\"xs\":{\"field\":\"xs\"},\"ys\":{\"field\":\"ys\"}},\"id\":\"1853\",\"type\":\"MultiLine\"},{\"attributes\":{},\"id\":\"1632\",\"type\":\"AllLabels\"},{\"attributes\":{\"coordinates\":null,\"formatter\":{\"id\":\"1634\"},\"group\":null,\"major_label_policy\":{\"id\":\"1635\"},\"ticker\":{\"id\":\"1578\"}},\"id\":\"1577\",\"type\":\"LinearAxis\"},{\"attributes\":{\"tools\":[{\"id\":\"1585\"},{\"id\":\"1586\"},{\"id\":\"1587\"},{\"id\":\"1588\"},{\"id\":\"1589\"},{\"id\":\"1590\"}]},\"id\":\"1592\",\"type\":\"Toolbar\"},{\"attributes\":{\"bottom_units\":\"screen\",\"coordinates\":null,\"fill_alpha\":0.5,\"fill_color\":\"lightgrey\",\"group\":null,\"left_units\":\"screen\",\"level\":\"overlay\",\"line_alpha\":1.0,\"line_color\":\"black\",\"line_dash\":[4,4],\"line_width\":2,\"right_units\":\"screen\",\"syncable\":false,\"top_units\":\"screen\"},\"id\":\"1591\",\"type\":\"BoxAnnotation\"},{\"attributes\":{},\"id\":\"1571\",\"type\":\"DataRange1d\"},{\"attributes\":{\"coordinates\":null,\"data_source\":{\"id\":\"1850\"},\"glyph\":{\"id\":\"1851\"},\"group\":null,\"hover_glyph\":null,\"muted_glyph\":{\"id\":\"1853\"},\"nonselection_glyph\":{\"id\":\"1852\"},\"view\":{\"id\":\"1855\"}},\"id\":\"1854\",\"type\":\"GlyphRenderer\"},{\"attributes\":{},\"id\":\"1589\",\"type\":\"ResetTool\"},{\"attributes\":{\"coordinates\":null,\"formatter\":{\"id\":\"1631\"},\"group\":null,\"major_label_policy\":{\"id\":\"1632\"},\"ticker\":{\"id\":\"1582\"}},\"id\":\"1581\",\"type\":\"LinearAxis\"},{\"attributes\":{},\"id\":\"1588\",\"type\":\"SaveTool\"},{\"attributes\":{\"overlay\":{\"id\":\"1591\"}},\"id\":\"1587\",\"type\":\"BoxZoomTool\"},{\"attributes\":{},\"id\":\"1585\",\"type\":\"PanTool\"},{\"attributes\":{},\"id\":\"1573\",\"type\":\"LinearScale\"},{\"attributes\":{\"line_color\":{\"value\":\"#1f77b4\"},\"xs\":{\"field\":\"xs\"},\"ys\":{\"field\":\"ys\"}},\"id\":\"1851\",\"type\":\"MultiLine\"},{\"attributes\":{},\"id\":\"1586\",\"type\":\"WheelZoomTool\"},{\"attributes\":{\"axis\":{\"id\":\"1581\"},\"coordinates\":null,\"dimension\":1,\"group\":null,\"ticker\":null},\"id\":\"1584\",\"type\":\"Grid\"}],\"root_ids\":[\"1568\"]},\"title\":\"Bokeh Application\",\"version\":\"2.4.2\"}};\n",
       "  const render_items = [{\"docid\":\"3cfa17ec-0d5b-47be-8fa7-d20bdd7f6629\",\"root_ids\":[\"1568\"],\"roots\":{\"1568\":\"ede95b63-8d78-4f84-9330-bf0a4df5b485\"}}];\n",
       "  root.Bokeh.embed.embed_items_notebook(docs_json, render_items);\n",
       "\n",
       "  }\n",
       "  if (root.Bokeh !== undefined) {\n",
       "    embed_document(root);\n",
       "  } else {\n",
       "    let attempts = 0;\n",
       "    const timer = setInterval(function(root) {\n",
       "      if (root.Bokeh !== undefined) {\n",
       "        clearInterval(timer);\n",
       "        embed_document(root);\n",
       "      } else {\n",
       "        attempts++;\n",
       "        if (attempts > 100) {\n",
       "          clearInterval(timer);\n",
       "          console.log(\"Bokeh: ERROR: Unable to run BokehJS code because BokehJS library is missing\");\n",
       "        }\n",
       "      }\n",
       "    }, 10, root)\n",
       "  }\n",
       "})(window);"
      ],
      "application/vnd.bokehjs_exec.v0+json": ""
     },
     "metadata": {
      "application/vnd.bokehjs_exec.v0+json": {
       "id": "1568"
      }
     },
     "output_type": "display_data"
    }
   ],
   "source": [
    "import numpy as np\n",
    "from IPython.display import clear_output\n",
    "\n",
    "# ADRF6780のVATTを変更しながらスペクトルを取得する\n",
    "set_flo_fnco_according_to_frf(port[8], 8600, 1800)\n",
    "\n",
    "def sweep_ms2038c(inst):\n",
    "    inst.write(':INIT')\n",
    "    while True:\n",
    "        time.sleep(.1)\n",
    "        if inst.query(':STAT:OPER?') == '256':\n",
    "            break\n",
    "    return True\n",
    "\n",
    "inst.write(':INIT:CONT OFF')\n",
    "freq = get_freq_from_ms2038c(inst)\n",
    "data = {'freq':[], 'trace':[], 'vatt':[]}\n",
    "\n",
    "p = bokeh.plotting.figure(height=300, toolbar_location=None, sizing_mode=\"stretch_width\")\n",
    "bokeh.plotting.output_notebook()\n",
    "plot_spurious_multi(p, data)\n",
    "for i, v in enumerate(range(0x500,0x700,0x100)):\n",
    "    set_vatt(port[8].upconv.vatt, v)\n",
    "    sweep_ms2038c(inst)\n",
    "    data['vatt'].append(hex(v))\n",
    "    data['freq'].append(freq)\n",
    "    data['trace'].append(get_trace_from_ms2038c(inst))\n",
    "    clear_output()\n",
    "    plot_spurious_multi(p, data)"
   ]
  },
  {
   "cell_type": "code",
   "execution_count": 139,
   "id": "17395d3b-eec1-4c15-87e9-627de9fd7aa6",
   "metadata": {},
   "outputs": [
    {
     "data": {
      "text/html": [
       "\n",
       "\n",
       "\n",
       "\n",
       "\n",
       "\n",
       "  <div class=\"bk-root\" id=\"5a6d86b8-ea81-4574-bbe2-da8b64f668b5\" data-root-id=\"222426\"></div>\n"
      ]
     },
     "metadata": {},
     "output_type": "display_data"
    },
    {
     "data": {
      "application/javascript": [
       "(function(root) {\n",
       "  function embed_document(root) {\n",
       "    \n",
       "  const docs_json = {\"8c35ceae-bd58-41c4-9fb7-9a554f91bf95\":{\"defs\":[],\"roots\":{\"references\":[{\"attributes\":{\"below\":[{\"id\":\"222435\"}],\"center\":[{\"id\":\"222438\"},{\"id\":\"222442\"}],\"height\":300,\"left\":[{\"id\":\"222439\"}],\"renderers\":[{\"id\":\"228359\"}],\"sizing_mode\":\"stretch_width\",\"title\":{\"id\":\"222914\"},\"toolbar\":{\"id\":\"222450\"},\"toolbar_location\":null,\"x_range\":{\"id\":\"222427\"},\"x_scale\":{\"id\":\"222431\"},\"y_range\":{\"id\":\"222429\"},\"y_scale\":{\"id\":\"222433\"}},\"id\":\"222426\",\"subtype\":\"Figure\",\"type\":\"Plot\"},{\"attributes\":{},\"id\":\"222431\",\"type\":\"LinearScale\"},{\"attributes\":{\"bottom_units\":\"screen\",\"coordinates\":null,\"fill_alpha\":0.5,\"fill_color\":\"lightgrey\",\"group\":null,\"left_units\":\"screen\",\"level\":\"overlay\",\"line_alpha\":1.0,\"line_color\":\"black\",\"line_dash\":[4,4],\"line_width\":2,\"right_units\":\"screen\",\"syncable\":false,\"top_units\":\"screen\"},\"id\":\"222449\",\"type\":\"BoxAnnotation\"},{\"attributes\":{\"source\":{\"id\":\"228355\"}},\"id\":\"228360\",\"type\":\"CDSView\"},{\"attributes\":{},\"id\":\"222429\",\"type\":\"DataRange1d\"},{\"attributes\":{\"tools\":[{\"id\":\"222443\"},{\"id\":\"222444\"},{\"id\":\"222445\"},{\"id\":\"222446\"},{\"id\":\"222447\"},{\"id\":\"222448\"}]},\"id\":\"222450\",\"type\":\"Toolbar\"},{\"attributes\":{\"line_alpha\":{\"value\":0.2},\"line_color\":{\"value\":\"#1f77b4\"},\"xs\":{\"field\":\"xs\"},\"ys\":{\"field\":\"ys\"}},\"id\":\"228358\",\"type\":\"MultiLine\"},{\"attributes\":{\"coordinates\":null,\"formatter\":{\"id\":\"222920\"},\"group\":null,\"major_label_policy\":{\"id\":\"222921\"},\"ticker\":{\"id\":\"222436\"}},\"id\":\"222435\",\"type\":\"LinearAxis\"},{\"attributes\":{\"coordinates\":null,\"data_source\":{\"id\":\"228355\"},\"glyph\":{\"id\":\"228356\"},\"group\":null,\"hover_glyph\":null,\"muted_glyph\":{\"id\":\"228358\"},\"nonselection_glyph\":{\"id\":\"228357\"},\"view\":{\"id\":\"228360\"}},\"id\":\"228359\",\"type\":\"GlyphRenderer\"},{\"attributes\":{},\"id\":\"228820\",\"type\":\"UnionRenderers\"},{\"attributes\":{},\"id\":\"222921\",\"type\":\"AllLabels\"},{\"attributes\":{},\"id\":\"222433\",\"type\":\"LinearScale\"},{\"attributes\":{},\"id\":\"222440\",\"type\":\"BasicTicker\"},{\"attributes\":{},\"id\":\"228821\",\"type\":\"Selection\"},{\"attributes\":{\"axis\":{\"id\":\"222435\"},\"coordinates\":null,\"group\":null,\"ticker\":null},\"id\":\"222438\",\"type\":\"Grid\"},{\"attributes\":{\"coordinates\":null,\"formatter\":{\"id\":\"222917\"},\"group\":null,\"major_label_policy\":{\"id\":\"222918\"},\"ticker\":{\"id\":\"222440\"}},\"id\":\"222439\",\"type\":\"LinearAxis\"},{\"attributes\":{\"coordinates\":null,\"group\":null},\"id\":\"222914\",\"type\":\"Title\"},{\"attributes\":{},\"id\":\"222427\",\"type\":\"DataRange1d\"},{\"attributes\":{},\"id\":\"222918\",\"type\":\"AllLabels\"},{\"attributes\":{},\"id\":\"222447\",\"type\":\"ResetTool\"},{\"attributes\":{\"axis\":{\"id\":\"222439\"},\"coordinates\":null,\"dimension\":1,\"group\":null,\"ticker\":null},\"id\":\"222442\",\"type\":\"Grid\"},{\"attributes\":{\"line_alpha\":{\"value\":0.1},\"line_color\":{\"value\":\"#1f77b4\"},\"xs\":{\"field\":\"xs\"},\"ys\":{\"field\":\"ys\"}},\"id\":\"228357\",\"type\":\"MultiLine\"},{\"attributes\":{},\"id\":\"222444\",\"type\":\"WheelZoomTool\"},{\"attributes\":{\"overlay\":{\"id\":\"222449\"}},\"id\":\"222445\",\"type\":\"BoxZoomTool\"},{\"attributes\":{},\"id\":\"222917\",\"type\":\"BasicTickFormatter\"},{\"attributes\":{\"line_color\":{\"value\":\"#1f77b4\"},\"xs\":{\"field\":\"xs\"},\"ys\":{\"field\":\"ys\"}},\"id\":\"228356\",\"type\":\"MultiLine\"},{\"attributes\":{},\"id\":\"222436\",\"type\":\"BasicTicker\"},{\"attributes\":{},\"id\":\"222443\",\"type\":\"PanTool\"},{\"attributes\":{\"data\":{\"xs\":[{\"__ndarray__\":\"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\",\"dtype\":\"float64\",\"order\":\"little\",\"shape\":[551]},{\"__ndarray__\":\"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\",\"dtype\":\"float64\",\"order\":\"little\",\"shape\":[551]},{\"__ndarray__\":\"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\",\"dtype\":\"float64\",\"order\":\"little\",\"shape\":[551]},{\"__ndarray__\":\"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\",\"dtype\":\"float64\",\"order\":\"little\",\"shape\":[551]},{\"__ndarray__\":\"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\",\"dtype\":\"float64\",\"order\":\"little\",\"shape\":[551]},{\"__ndarray__\":\"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\",\"dtype\":\"float64\",\"order\":\"little\",\"shape\":[551]},{\"__ndarray__\":\"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\",\"dtype\":\"float64\",\"order\":\"little\",\"shape\":[551]}],\"ys\":[{\"__ndarray__\":\"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\",\"dtype\":\"float64\",\"order\":\"little\",\"shape\":[551]},{\"__ndarray__\":\"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\",\"dtype\":\"float64\",\"order\":\"little\",\"shape\":[551]},{\"__ndarray__\":\"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\",\"dtype\":\"float64\",\"order\":\"little\",\"shape\":[551]},{\"__ndarray__\":\"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\",\"dtype\":\"float64\",\"order\":\"little\",\"shape\":[551]},{\"__ndarray__\":\"dEUpIVg5UcCWBRN/FE5RwPfq46HvR1HAukkMAitnUcD7AnrhzndRwJsdqb7zPVHAEJaxoZukUcBRTx+BP1VRwEG5bd+jsFHABRiWP9+vUcCbHam+851RwI3w9iAEllHARrbz/dR4UcCrs1pgj0JRwL9GkiBcj1HAtMh2vp96UcDT9NkB12NRwI3V5v9VTlHA8bc9QWJwUcBQNA9gkS1RwKuYSj/hWlHA5h4SvvczUcDNc0S+SxdRwDeJQWDlUFHA176AXrg+UcCDwMqhRVZRwLou/OB8H1HA5zki36U7UcDdJAaBlUNRwIi9UMB2PlHAjLrW3qcmUcDIW65+bAdRwL9GkiBcD1HAcyoZAKoRUcDmHhK+9xNRwPvnacAgUFHAjdXm/1VuUcCR7Xw/NT5RwHgnnx7beVHAv2GiQQpXUcBq+uyA63FRwB7ec2A5dFHA2AxwQbZzUcAQlrGhm2RRwNe+gF64flHA2AxwQbZzUcC044bfTaJRwDJxqyAGoVHAPIbHfhZ5UcCca5ih8XJRwFA0D2CRLVHA++dpwCBwUcAUkzfAzIxRwAAAAAAAYFHAfT81XrppUcCrzmqBPUpRwKvOaoE9KlHA++dpwCBQUcBMN4lBYEVRwLTjht9NQlHA176AXrg+UcCmm8QgsDJRwFVMpZ9wPVHARtEDH4NgUcB0RSkhWDlRwHhCrz+JYVHA3Qn2X+dbUcC/YaJBCndRwCjzj75JTFHA3Qn2X+c7UcAFGJY/3y9RwKa21EFeOlHAI9v5fmo8UcCDpbqAl+5QwEbRAx+DQFHA51QyAFTjUMBaSSu+oQVRwBSTN8DM7FDALQsm/igcUcD36uOh78dQwMl2vp8az1DA9s/TgEHgUMAUrkfhetRQwFA0D2CRrVDApoC0/wFrUMC6SQwCK0dQwOI8nMB0k1DAueAM/n6KUMA3bjE/N0lQwAAbECGuh1DAI/YJoBiEUMAj9gmgGIRQwOxsyD8zk1DAWkkrvqGFUMBu93KfHHpQwL9hokEKV1DA2AxwQbaTUMCSCI1g44VRwIjYYOEkZlHAGavN/6t8UcCca5ih8ZJRwOdUMgBUg1HAmx2pvvO9T8DiV6zhIntRwB6oUx7dZFHAQZ5dvvVoUcCDwMqhRXZRwFp/SwD+lFHAyXa+nxqPUcB9PzVeuolRwGDKwAEtslHAke18PzWeUcAZq83/q5xRwIy61t6nplHAsMvwn25SUcDmHhK+95NRwBSTN8DMbFHAI/YJoBhkUcDiV6zhIntRwGXiVkEMYlHAI/YJoBhEUcBzKhkAqpFRwIjYYOEkZlHAX3zRHi89UcC6LvzgfD9RwJHSbB6HllHAOKRRgZNYUcAycasgBmFRwOIhjJ/Ga1HAkgiNYOOFUcB9PzVeumlRwEG5bd+jcFHAyXa+nxqPUcAUkzfAzGxRwKA1P/7STVHAg8DKoUVWUcCR0mweh1ZRwJsdqb7zXVHAABsQIa6HUcAKMCx/vn9RwHMPCd/7aVHAFJM3wMyMUcC/RpIgXE9RwOI8nMB0k1HAiL1QwHaeUcBVTKWfcH1RwEbRAx+DgFHAzo5U3/l+UcBQNA9gkS1RwFVMpZ9wXVHAsMvwn25yUcA8hsd+FllRwLDL8J9uUlHAeEKvP4lBUcBprP2d7VxRwFpJK76hRVHAahX9oZk5UcBVTKWfcD1RwJsdqb7zPVHAVUyln3D9UMAKMCx/vv9QwFpkO99PDVHAEJaxoZskUcBzDwnf+ylRwMR5OIHpBlHAfT81XroJUcDxtz1BYhBRwClBf6FHAVHAdEUpIVgZUcAa4e1BCMxQwHMqGQCqMVHAI8DpXbwUUcCrs1pgjyJRwNejcD0Kl0nA0qbqHtkOUcAKMCx/vv9QwM1zRL5LF1HAg6W6gJfuUMAKMCx/vv9QwEG5bd+j8FDAoYMu4dDCUMB9PzVeuslQwDOMu0G06FDA8GlOXmTbUMDIW65+bCdRwDikUYGT+FDAaaz9ne0cUcAJFRxeEBhRwAAbECGuB1HAxEMYP433UMAtCyb+KBxRwMReKGA7/1DABf2FHjEoUcBzDwnf+wlRwFA0D2CRDVHAN24xPzcpUcCbHam+8z1RwNe+gF64HlHAzo5U3/k+UcBVZ7XAHkVRwAowLH++H1HA4iGMn8ZrUcBl4lZBDEJRwOI8nMB0U1HAtMh2vp96UcCDpbqAl25RwLou/OB8H1HAHt5zYDlUUcAycasgBkFRwOIhjJ/Ga1HA4jycwHRzUcAAAAAAAGBRwNgMcEG2U1HAcyoZAKpRUcCDpbqAl25RwG73cp8celHAPKHXn8RAUcAzjLtBtKhRwDyh15/EoFHA9s/TgEGgUcC6SQwCK0dRwIjYYOEkplHAtOOG302CUcAJFRxeEHhRwJYFE38UjlHAN4lBYOWQUcAj2/l+anxRwDikUYGTOFHAWn9LAP6UUcDdPxaiQ4tRwIy61t6nhlHAI/YJoBhkUcCR7Xw/NX5RwGSUZ14OLVHAxF4oYDt/UcAjwOldvFRRwLou/OB8f1HAg8DKoUWWUcDsbMg/M3NRwH1aRX9oMVHAZJRnXg5NUcBQNA9gkY1RwEwceSCynVHA8GlOXmR7UcCca5ih8VJRwOxRuB6FS1HAxHk4gelmUcCWBRN/FC5RwJdTAmISY1HAGuHtQQiMUcAAGxAhrmdRwNe+gF64XlHAsMvwn25SUcAa4e1BCIxRwEG5bd+jsFHAq7NaYI9iUcDEQxg/jZdRwPsCeuHOl1HAq5hKP+FaUcDdJAaBlQNMwNe+gF64flHAX3zRHi+dUcAKMCx/vn9RwMRDGD+Nl1HA3T8WokOrUcBgysABLXJRwO3Vx0PfT0bAGavN/6ucUcAA5e/eUXhRwOdUMgBUo1HAke18PzV+UcBaf0sA/lRRwPBpTl5ku1HAzXNEvku3UcBMHHkgsr1RwJHSbB6HdlHAq85qgT2qUcB4Qq8/iaFRwJxrmKHxslHA+wJ64c53UcBMN4lBYGVRwGms/Z3tnFHATBx5ILKdUcC0yHa+n3pRwN0J9l/ne1HAukkMAitHUcD752nAIJBRwLpJDAIrh1HAyFuufmynUcDsUbgehWtRwKuzWmCPglHAluoCXmaGUcAAAAAAAIBRwCP2CaAYhFHAMnGrIAaBUcDmHhK+93NRwOJXrOEie1HAGavN/6tcUcAQlrGhm4RRwFpJK76hZVHATDeJQWBlUcCrs1pgj4JRwCjzj75JjFHAN24xPzdJUcAJFRxeEJhRwPG3PUFicFHAWn9LAP6UUcBvLZPheIlRwADl795RWFHAke18PzV+UcBaZDvfT41RwJdTAmISY1HAq85qgT2KUcAAAAAAAIBRwHMPCd/7iVHAdEUpIVh5UcDdJAaBlYNRwEwceSCyfVHAsMvwn25yUcDsbMg/M3NRwADl795RWFHAZJRnXg6NUcAQlrGhm4RRwGXiVkEMolHAahX9oZl5UcBklGdeDm1RwEw3iUFgZVHAluoCXmaGUcDT9NkB10NRwKa21EFeelHAPKHXn8RgUcC0yHa+n3pRwMReKGA7n1HAkgiNYONlUcBMN4lBYGVRwClBf6FHgVHAPKHXn8SAUcCrzmqBPYpRwAX9hR4xqFHAVUyln3B9UcCDwMqhRXZRwK+w4H7ASlHA3T8WokOLUcDxtz1BYpBRwIy61t6nRlHAg8DKoUWWUcCDwMqhRXZRwOJXrOEie1HAsMvwn26SUcBqFf2hmblRwC0LJv4ofFHAluoCXmYGUcBzDwnf+4lRwGoV/aGZmVHA8GlOXmR7UcAJFRxeEHhRwL9hokEKd1HABf2FHjGIUcBRTx+BP3VRwKGDLuHQglHABRiWP9+PUcAj2/l+ajxRwKa21EFeelHAbvdynxx6UcDXvoBeuH5RwHgnnx7bWVHAiNhg4SRmUcDwaU5eZDtRwMR5OIHpRlHA3SQGgZVDUcDIW65+bAdRwCP2CaAYJFHAFK5H4XrUUMDxtz1BYhBRwGr67IDr8VDAoDU//tINUcD752nAIBBRwPbP04BBwFDARrbz/dT4UMBGtvP91NhQwKa21EFe+lDAppvEILDyUMDnVDIAVMNQwFp/SwD+1FDAZeJWQQziUMBQNA9gka1QwKuYSj/hulDAUU8fgT+VUMB4J58e27lQwEGeXb71aFDAui784HyfUMDSpuoe2a5QwEa28/3UmFDAtMh2vp+6UMAj9gmgGERQwGSUZ14OrVDAKUF/oUdhUMCrmEo/4VpQwBSTN8DMjFDARx/zAYGVUMCvsOB+wIpQwDyh15/EoFDAukkMAiunUMC/YaJBCpdQwA9Iwr6db1DAPKHXn8SAUMC044bfTWJQwPbP04BBoFDAcyoZAKpRUMCR0mwehzZQwLpJDAIrR1DA3Qn2X+c7UMBG0QMfg0BQwMhbrn5sR1DAWkkrvqFFUMDP91PjpdtPwJbqAl5mJlDA+wJ64c63T8DnVDIAVANQwJIIjWDjBVDABoGVQ4vsT8ATKji8IPBPwDeJQWDlUEHAPIbHfhYZUMDXo3A9CpdPwGDl0CLbuU/AeAyP/SyyT8BlGHeDaJFPwB7ec2A5tE/AmG4Sg8BKT8CrzmqBPUpPwHRFKSFYuU/AT+YffZPYT8As1QW8zMxPwGiR7Xw/dU/AyZHOwMgWUMBywRn8/dRPwOdUMgBU40/A4les4SKbT8AuWRXhJvFPwHRFKSFY+U/AkgiNYOMFUMD36uOh7wdQwOYeEr73E1DAoZ4+An+qT8BvEoPAygFQwHmQniKH1k/Av3yyYrieT8A8vOfAcuhPwG8Sg8DKAVDAT+YffZPYT8BQNA9gke1PwHRFKSFY+U/AEyo4vCCwT8D1geSdQ8tPwM/3U+OlG0/AWmQ7308NT8Cb54h8ly5PwK+V0F0SQ0/AnGuYofFST8AkXwmkxGBOwNejcD0Kl07AxccnZOe7TsATKji8IHBOwEa28/3UeE7AyXa+nxovTsC++KI9XrpOwC6PNSODwE7AFK5H4XqUTsBRai+i7XxOwFUxlX7CtU7AVTGVfsL1TsAkXwmkxOBOwCzVBbzMDE/A4les4SKbTsCIvVDAdr5OwFe1pKMcmk7APIbHfhYZT8AfLGNDNwlPwNyg9ls7H0/AKVyPwvUoT8BywRn8/dRPwAAAAAAAQE/A51QyAFSjT8DwTj49tjNPwLDL8J9u0k/A3SQGgZWDT8DP91PjpdtPwAt+G2K89E/Ag8DKoUX2T8AZq83/q9xPwB8sY0M3iU/A8E4+PbbzT8COPuYDAutPwOiiIeNR+E/A+n5qvHSTT8CR7Xw/Nd5PwHgMj/0ssk/ARrbz/dT4T8Dy0k1iEJhPwFe1pKMc2k/AbxKDwMqhTsCxGeCCbCdPwOxRuB6Fa0/APQrXo3D9TsCHb2HdeClPwDy858By6E7Acw8J3/spT8Aj2/l+anxOwGXiVkEMwk7AxccnZOf7TsCIvVDAdr5OwAX9hR4xyE7APQrXo3D9TsDwTj49tvNOwHRFKSFYeU7ADi2yne9nTsAkXwmkxOBOwKvOaoE9Ck/ALlkV4SYxT8Cca5ih8RJPwK+V0F0SA0/AZJRnXg4tT8AfLGNDNwlPwNyg9ls7X0/AjLrW3qcGT8DiIYyfxktPwH7DRIMUbk/AxHk4gemmT8BvEoPAymFPwPWB5J1Di0/AxccnZOd7T8CpSltc46VPwD0K16NwvU/AI/YJoBgEUMCIvVDAdh5QwMRDGD+N10/AkgiNYOMFUMAo84++SQxQwGDKwAEtElDAHqhTHt3kT8C/RpIgXM9PwNKm6h7Zzk/AHyxjQzfJT8An2H+dm4RPwPp+arx0U0/AEyo4vCCwT8D7AnrhzrdPwDEIrBxaJE/A0qbqHtlOT8AkXwmkxOBOwA==\",\"dtype\":\"float64\",\"order\":\"little\",\"shape\":[551]},{\"__ndarray__\":\"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\",\"dtype\":\"float64\",\"order\":\"little\",\"shape\":[551]},{\"__ndarray__\":\"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\",\"dtype\":\"float64\",\"order\":\"little\",\"shape\":[551]}]},\"selected\":{\"id\":\"228821\"},\"selection_policy\":{\"id\":\"228820\"}},\"id\":\"228355\",\"type\":\"ColumnDataSource\"},{\"attributes\":{},\"id\":\"222446\",\"type\":\"SaveTool\"},{\"attributes\":{},\"id\":\"222448\",\"type\":\"HelpTool\"},{\"attributes\":{},\"id\":\"222920\",\"type\":\"BasicTickFormatter\"}],\"root_ids\":[\"222426\"]},\"title\":\"Bokeh Application\",\"version\":\"2.4.2\"}};\n",
       "  const render_items = [{\"docid\":\"8c35ceae-bd58-41c4-9fb7-9a554f91bf95\",\"root_ids\":[\"222426\"],\"roots\":{\"222426\":\"5a6d86b8-ea81-4574-bbe2-da8b64f668b5\"}}];\n",
       "  root.Bokeh.embed.embed_items_notebook(docs_json, render_items);\n",
       "\n",
       "  }\n",
       "  if (root.Bokeh !== undefined) {\n",
       "    embed_document(root);\n",
       "  } else {\n",
       "    let attempts = 0;\n",
       "    const timer = setInterval(function(root) {\n",
       "      if (root.Bokeh !== undefined) {\n",
       "        clearInterval(timer);\n",
       "        embed_document(root);\n",
       "      } else {\n",
       "        attempts++;\n",
       "        if (attempts > 100) {\n",
       "          clearInterval(timer);\n",
       "          console.log(\"Bokeh: ERROR: Unable to run BokehJS code because BokehJS library is missing\");\n",
       "        }\n",
       "      }\n",
       "    }, 10, root)\n",
       "  }\n",
       "})(window);"
      ],
      "application/vnd.bokehjs_exec.v0+json": ""
     },
     "metadata": {
      "application/vnd.bokehjs_exec.v0+json": {
       "id": "222426"
      }
     },
     "output_type": "display_data"
    },
    {
     "ename": "KeyboardInterrupt",
     "evalue": "",
     "output_type": "error",
     "traceback": [
      "\u001b[0;31m---------------------------------------------------------------------------\u001b[0m",
      "\u001b[0;31mKeyboardInterrupt\u001b[0m                         Traceback (most recent call last)",
      "Input \u001b[0;32mIn [139]\u001b[0m, in \u001b[0;36m<cell line: 10>\u001b[0;34m()\u001b[0m\n\u001b[1;32m     16\u001b[0m \u001b[38;5;28;01mfor\u001b[39;00m i, v \u001b[38;5;129;01min\u001b[39;00m \u001b[38;5;28menumerate\u001b[39m(\u001b[38;5;28mrange\u001b[39m(\u001b[38;5;241m0xD00\u001b[39m,\u001b[38;5;241m0x200\u001b[39m,\u001b[38;5;241m-\u001b[39m\u001b[38;5;241m0x100\u001b[39m)):\n\u001b[1;32m     17\u001b[0m     set_vatt(port[\u001b[38;5;241m8\u001b[39m]\u001b[38;5;241m.\u001b[39mupconv\u001b[38;5;241m.\u001b[39mvatt, v)\n\u001b[0;32m---> 18\u001b[0m     \u001b[43msweep_ms2038c\u001b[49m\u001b[43m(\u001b[49m\u001b[43minst\u001b[49m\u001b[43m)\u001b[49m\n\u001b[1;32m     19\u001b[0m     data[\u001b[38;5;124m'\u001b[39m\u001b[38;5;124mvatt\u001b[39m\u001b[38;5;124m'\u001b[39m]\u001b[38;5;241m.\u001b[39mappend(\u001b[38;5;28mhex\u001b[39m(v))\n\u001b[1;32m     20\u001b[0m     data[\u001b[38;5;124m'\u001b[39m\u001b[38;5;124mfreq\u001b[39m\u001b[38;5;124m'\u001b[39m]\u001b[38;5;241m.\u001b[39mappend(freq)\n",
      "Input \u001b[0;32mIn [136]\u001b[0m, in \u001b[0;36msweep_ms2038c\u001b[0;34m(inst)\u001b[0m\n\u001b[1;32m     23\u001b[0m \u001b[38;5;28;01mwhile\u001b[39;00m \u001b[38;5;28;01mTrue\u001b[39;00m:\n\u001b[1;32m     24\u001b[0m     time\u001b[38;5;241m.\u001b[39msleep(\u001b[38;5;241m.1\u001b[39m)\n\u001b[0;32m---> 25\u001b[0m     \u001b[38;5;28;01mif\u001b[39;00m \u001b[43minst\u001b[49m\u001b[38;5;241;43m.\u001b[39;49m\u001b[43mquery\u001b[49m\u001b[43m(\u001b[49m\u001b[38;5;124;43m'\u001b[39;49m\u001b[38;5;124;43m:STAT:OPER?\u001b[39;49m\u001b[38;5;124;43m'\u001b[39;49m\u001b[43m)\u001b[49m \u001b[38;5;241m==\u001b[39m \u001b[38;5;124m'\u001b[39m\u001b[38;5;124m256\u001b[39m\u001b[38;5;124m'\u001b[39m:\n\u001b[1;32m     26\u001b[0m         \u001b[38;5;28;01mbreak\u001b[39;00m\n\u001b[1;32m     27\u001b[0m \u001b[38;5;28;01mreturn\u001b[39;00m \u001b[38;5;28;01mTrue\u001b[39;00m\n",
      "File \u001b[0;32m~/.local/share/virtualenvs/e7awg_sw-YkKmEDuW/lib/python3.9/site-packages/pyvisa/resources/messagebased.py:644\u001b[0m, in \u001b[0;36mMessageBasedResource.query\u001b[0;34m(self, message, delay)\u001b[0m\n\u001b[1;32m    641\u001b[0m \u001b[38;5;28;01mif\u001b[39;00m delay \u001b[38;5;241m>\u001b[39m \u001b[38;5;241m0.0\u001b[39m:\n\u001b[1;32m    642\u001b[0m     time\u001b[38;5;241m.\u001b[39msleep(delay)\n\u001b[0;32m--> 644\u001b[0m \u001b[38;5;28;01mreturn\u001b[39;00m \u001b[38;5;28;43mself\u001b[39;49m\u001b[38;5;241;43m.\u001b[39;49m\u001b[43mread\u001b[49m\u001b[43m(\u001b[49m\u001b[43m)\u001b[49m\n",
      "File \u001b[0;32m~/.local/share/virtualenvs/e7awg_sw-YkKmEDuW/lib/python3.9/site-packages/pyvisa/resources/messagebased.py:486\u001b[0m, in \u001b[0;36mMessageBasedResource.read\u001b[0;34m(self, termination, encoding)\u001b[0m\n\u001b[1;32m    484\u001b[0m \u001b[38;5;28;01mif\u001b[39;00m termination \u001b[38;5;129;01mis\u001b[39;00m \u001b[38;5;28;01mNone\u001b[39;00m:\n\u001b[1;32m    485\u001b[0m     termination \u001b[38;5;241m=\u001b[39m \u001b[38;5;28mself\u001b[39m\u001b[38;5;241m.\u001b[39m_read_termination\n\u001b[0;32m--> 486\u001b[0m     message \u001b[38;5;241m=\u001b[39m \u001b[38;5;28;43mself\u001b[39;49m\u001b[38;5;241;43m.\u001b[39;49m\u001b[43m_read_raw\u001b[49m\u001b[43m(\u001b[49m\u001b[43m)\u001b[49m\u001b[38;5;241m.\u001b[39mdecode(enco)\n\u001b[1;32m    487\u001b[0m \u001b[38;5;28;01melse\u001b[39;00m:\n\u001b[1;32m    488\u001b[0m     \u001b[38;5;28;01mwith\u001b[39;00m \u001b[38;5;28mself\u001b[39m\u001b[38;5;241m.\u001b[39mread_termination_context(termination):\n",
      "File \u001b[0;32m~/.local/share/virtualenvs/e7awg_sw-YkKmEDuW/lib/python3.9/site-packages/pyvisa/resources/messagebased.py:442\u001b[0m, in \u001b[0;36mMessageBasedResource._read_raw\u001b[0;34m(self, size)\u001b[0m\n\u001b[1;32m    435\u001b[0m     \u001b[38;5;28;01mwhile\u001b[39;00m status \u001b[38;5;241m==\u001b[39m loop_status:\n\u001b[1;32m    436\u001b[0m         logger\u001b[38;5;241m.\u001b[39mdebug(\n\u001b[1;32m    437\u001b[0m             \u001b[38;5;124m\"\u001b[39m\u001b[38;5;132;01m%s\u001b[39;00m\u001b[38;5;124m - reading \u001b[39m\u001b[38;5;132;01m%d\u001b[39;00m\u001b[38;5;124m bytes (last status \u001b[39m\u001b[38;5;132;01m%r\u001b[39;00m\u001b[38;5;124m)\u001b[39m\u001b[38;5;124m\"\u001b[39m,\n\u001b[1;32m    438\u001b[0m             \u001b[38;5;28mself\u001b[39m\u001b[38;5;241m.\u001b[39m_resource_name,\n\u001b[1;32m    439\u001b[0m             size,\n\u001b[1;32m    440\u001b[0m             status,\n\u001b[1;32m    441\u001b[0m         )\n\u001b[0;32m--> 442\u001b[0m         chunk, status \u001b[38;5;241m=\u001b[39m \u001b[38;5;28;43mself\u001b[39;49m\u001b[38;5;241;43m.\u001b[39;49m\u001b[43mvisalib\u001b[49m\u001b[38;5;241;43m.\u001b[39;49m\u001b[43mread\u001b[49m\u001b[43m(\u001b[49m\u001b[38;5;28;43mself\u001b[39;49m\u001b[38;5;241;43m.\u001b[39;49m\u001b[43msession\u001b[49m\u001b[43m,\u001b[49m\u001b[43m \u001b[49m\u001b[43msize\u001b[49m\u001b[43m)\u001b[49m\n\u001b[1;32m    443\u001b[0m         ret\u001b[38;5;241m.\u001b[39mextend(chunk)\n\u001b[1;32m    444\u001b[0m \u001b[38;5;28;01mexcept\u001b[39;00m errors\u001b[38;5;241m.\u001b[39mVisaIOError \u001b[38;5;28;01mas\u001b[39;00m e:\n",
      "File \u001b[0;32m~/.local/share/virtualenvs/e7awg_sw-YkKmEDuW/lib/python3.9/site-packages/pyvisa_py/highlevel.py:512\u001b[0m, in \u001b[0;36mPyVisaLibrary.read\u001b[0;34m(self, session, count)\u001b[0m\n\u001b[1;32m    510\u001b[0m \u001b[38;5;66;03m# from the session handle, dispatch to the read method of the session object.\u001b[39;00m\n\u001b[1;32m    511\u001b[0m \u001b[38;5;28;01mtry\u001b[39;00m:\n\u001b[0;32m--> 512\u001b[0m     data, status_code \u001b[38;5;241m=\u001b[39m \u001b[38;5;28;43mself\u001b[39;49m\u001b[38;5;241;43m.\u001b[39;49m\u001b[43msessions\u001b[49m\u001b[43m[\u001b[49m\u001b[43msession\u001b[49m\u001b[43m]\u001b[49m\u001b[38;5;241;43m.\u001b[39;49m\u001b[43mread\u001b[49m\u001b[43m(\u001b[49m\u001b[43mcount\u001b[49m\u001b[43m)\u001b[49m\n\u001b[1;32m    513\u001b[0m \u001b[38;5;28;01mexcept\u001b[39;00m \u001b[38;5;167;01mKeyError\u001b[39;00m:\n\u001b[1;32m    514\u001b[0m     \u001b[38;5;28;01mreturn\u001b[39;00m (\n\u001b[1;32m    515\u001b[0m         \u001b[38;5;124mb\u001b[39m\u001b[38;5;124m\"\u001b[39m\u001b[38;5;124m\"\u001b[39m,\n\u001b[1;32m    516\u001b[0m         \u001b[38;5;28mself\u001b[39m\u001b[38;5;241m.\u001b[39mhandle_return_value(session, StatusCode\u001b[38;5;241m.\u001b[39merror_invalid_object),\n\u001b[1;32m    517\u001b[0m     )\n",
      "File \u001b[0;32m~/.local/share/virtualenvs/e7awg_sw-YkKmEDuW/lib/python3.9/site-packages/pyvisa_py/tcpip.py:149\u001b[0m, in \u001b[0;36mTCPIPInstrSession.read\u001b[0;34m(self, count)\u001b[0m\n\u001b[1;32m    145\u001b[0m \u001b[38;5;28;01mwhile\u001b[39;00m reason \u001b[38;5;241m&\u001b[39m end_reason \u001b[38;5;241m==\u001b[39m \u001b[38;5;241m0\u001b[39m:\n\u001b[1;32m    146\u001b[0m     \u001b[38;5;66;03m# Decrease timeout so that the total timeout does not get larger\u001b[39;00m\n\u001b[1;32m    147\u001b[0m     \u001b[38;5;66;03m# than the specified timeout.\u001b[39;00m\n\u001b[1;32m    148\u001b[0m     timeout \u001b[38;5;241m=\u001b[39m \u001b[38;5;28mmax\u001b[39m(\u001b[38;5;241m0\u001b[39m, timeout \u001b[38;5;241m-\u001b[39m \u001b[38;5;28mint\u001b[39m((time\u001b[38;5;241m.\u001b[39mtime() \u001b[38;5;241m-\u001b[39m start_time) \u001b[38;5;241m*\u001b[39m \u001b[38;5;241m1000\u001b[39m))\n\u001b[0;32m--> 149\u001b[0m     error, reason, data \u001b[38;5;241m=\u001b[39m \u001b[43mread_fun\u001b[49m\u001b[43m(\u001b[49m\n\u001b[1;32m    150\u001b[0m \u001b[43m        \u001b[49m\u001b[38;5;28;43mself\u001b[39;49m\u001b[38;5;241;43m.\u001b[39;49m\u001b[43mlink\u001b[49m\u001b[43m,\u001b[49m\u001b[43m \u001b[49m\u001b[43mchunk_length\u001b[49m\u001b[43m,\u001b[49m\u001b[43m \u001b[49m\u001b[43mtimeout\u001b[49m\u001b[43m,\u001b[49m\u001b[43m \u001b[49m\u001b[38;5;28;43mself\u001b[39;49m\u001b[38;5;241;43m.\u001b[39;49m\u001b[43mlock_timeout\u001b[49m\u001b[43m,\u001b[49m\u001b[43m \u001b[49m\u001b[43mflags\u001b[49m\u001b[43m,\u001b[49m\u001b[43m \u001b[49m\u001b[43mterm_char\u001b[49m\n\u001b[1;32m    151\u001b[0m \u001b[43m    \u001b[49m\u001b[43m)\u001b[49m\n\u001b[1;32m    153\u001b[0m     \u001b[38;5;28;01mif\u001b[39;00m error \u001b[38;5;241m==\u001b[39m vxi11\u001b[38;5;241m.\u001b[39mErrorCodes\u001b[38;5;241m.\u001b[39mio_timeout:\n\u001b[1;32m    154\u001b[0m         \u001b[38;5;28;01mreturn\u001b[39;00m \u001b[38;5;28mbytes\u001b[39m(read_data), StatusCode\u001b[38;5;241m.\u001b[39merror_timeout\n",
      "File \u001b[0;32m~/.local/share/virtualenvs/e7awg_sw-YkKmEDuW/lib/python3.9/site-packages/pyvisa_py/protocols/vxi11.py:235\u001b[0m, in \u001b[0;36mCoreClient.device_read\u001b[0;34m(self, link, request_size, io_timeout, lock_timeout, flags, term_char)\u001b[0m\n\u001b[1;32m    233\u001b[0m params \u001b[38;5;241m=\u001b[39m (link, request_size, io_timeout, lock_timeout, flags, term_char)\n\u001b[1;32m    234\u001b[0m \u001b[38;5;28;01mtry\u001b[39;00m:\n\u001b[0;32m--> 235\u001b[0m     \u001b[38;5;28;01mreturn\u001b[39;00m \u001b[38;5;28;43mself\u001b[39;49m\u001b[38;5;241;43m.\u001b[39;49m\u001b[43mmake_call\u001b[49m\u001b[43m(\u001b[49m\n\u001b[1;32m    236\u001b[0m \u001b[43m        \u001b[49m\u001b[43mDEVICE_READ\u001b[49m\u001b[43m,\u001b[49m\n\u001b[1;32m    237\u001b[0m \u001b[43m        \u001b[49m\u001b[43mparams\u001b[49m\u001b[43m,\u001b[49m\n\u001b[1;32m    238\u001b[0m \u001b[43m        \u001b[49m\u001b[38;5;28;43mself\u001b[39;49m\u001b[38;5;241;43m.\u001b[39;49m\u001b[43mpacker\u001b[49m\u001b[38;5;241;43m.\u001b[39;49m\u001b[43mpack_device_read_parms\u001b[49m\u001b[43m,\u001b[49m\n\u001b[1;32m    239\u001b[0m \u001b[43m        \u001b[49m\u001b[38;5;28;43mself\u001b[39;49m\u001b[38;5;241;43m.\u001b[39;49m\u001b[43munpacker\u001b[49m\u001b[38;5;241;43m.\u001b[39;49m\u001b[43munpack_device_read_resp\u001b[49m\u001b[43m,\u001b[49m\n\u001b[1;32m    240\u001b[0m \u001b[43m    \u001b[49m\u001b[43m)\u001b[49m\n\u001b[1;32m    241\u001b[0m \u001b[38;5;28;01mexcept\u001b[39;00m socket\u001b[38;5;241m.\u001b[39mtimeout \u001b[38;5;28;01mas\u001b[39;00m e:\n\u001b[1;32m    242\u001b[0m     \u001b[38;5;28;01mreturn\u001b[39;00m ErrorCodes\u001b[38;5;241m.\u001b[39mio_error, e\u001b[38;5;241m.\u001b[39margs[\u001b[38;5;241m0\u001b[39m], \u001b[38;5;124m\"\u001b[39m\u001b[38;5;124m\"\u001b[39m\n",
      "File \u001b[0;32m~/.local/share/virtualenvs/e7awg_sw-YkKmEDuW/lib/python3.9/site-packages/pyvisa_py/protocols/rpc.py:472\u001b[0m, in \u001b[0;36mRawTCPClient.make_call\u001b[0;34m(self, proc, args, pack_func, unpack_func)\u001b[0m\n\u001b[1;32m    466\u001b[0m \u001b[38;5;66;03m# In case of a timeout because the instrument cannot answer, the\u001b[39;00m\n\u001b[1;32m    467\u001b[0m \u001b[38;5;66;03m# instrument should let use something went wrong. If we hit the hard\u001b[39;00m\n\u001b[1;32m    468\u001b[0m \u001b[38;5;66;03m# timeout of the rpc, it means something worse happened (cable\u001b[39;00m\n\u001b[1;32m    469\u001b[0m \u001b[38;5;66;03m# unplugged).\u001b[39;00m\n\u001b[1;32m    470\u001b[0m \u001b[38;5;28mself\u001b[39m\u001b[38;5;241m.\u001b[39mtimeout \u001b[38;5;241m+\u001b[39m\u001b[38;5;241m=\u001b[39m \u001b[38;5;241m1.0\u001b[39m\n\u001b[0;32m--> 472\u001b[0m \u001b[38;5;28;01mreturn\u001b[39;00m \u001b[38;5;28;43msuper\u001b[39;49m\u001b[43m(\u001b[49m\u001b[43mRawTCPClient\u001b[49m\u001b[43m,\u001b[49m\u001b[43m \u001b[49m\u001b[38;5;28;43mself\u001b[39;49m\u001b[43m)\u001b[49m\u001b[38;5;241;43m.\u001b[39;49m\u001b[43mmake_call\u001b[49m\u001b[43m(\u001b[49m\u001b[43mproc\u001b[49m\u001b[43m,\u001b[49m\u001b[43m \u001b[49m\u001b[43margs\u001b[49m\u001b[43m,\u001b[49m\u001b[43m \u001b[49m\u001b[43mpack_func\u001b[49m\u001b[43m,\u001b[49m\u001b[43m \u001b[49m\u001b[43munpack_func\u001b[49m\u001b[43m)\u001b[49m\n",
      "File \u001b[0;32m~/.local/share/virtualenvs/e7awg_sw-YkKmEDuW/lib/python3.9/site-packages/pyvisa_py/protocols/rpc.py:238\u001b[0m, in \u001b[0;36mClient.make_call\u001b[0;34m(self, proc, args, pack_func, unpack_func)\u001b[0m\n\u001b[1;32m    236\u001b[0m \u001b[38;5;28;01mif\u001b[39;00m pack_func:\n\u001b[1;32m    237\u001b[0m     pack_func(args)\n\u001b[0;32m--> 238\u001b[0m \u001b[38;5;28;43mself\u001b[39;49m\u001b[38;5;241;43m.\u001b[39;49m\u001b[43mdo_call\u001b[49m\u001b[43m(\u001b[49m\u001b[43m)\u001b[49m\n\u001b[1;32m    239\u001b[0m \u001b[38;5;28;01mif\u001b[39;00m unpack_func:\n\u001b[1;32m    240\u001b[0m     result \u001b[38;5;241m=\u001b[39m unpack_func()\n",
      "File \u001b[0;32m~/.local/share/virtualenvs/e7awg_sw-YkKmEDuW/lib/python3.9/site-packages/pyvisa_py/protocols/rpc.py:498\u001b[0m, in \u001b[0;36mRawTCPClient.do_call\u001b[0;34m(self)\u001b[0m\n\u001b[1;32m    496\u001b[0m \u001b[38;5;28;01mexcept\u001b[39;00m \u001b[38;5;167;01mAttributeError\u001b[39;00m:\n\u001b[1;32m    497\u001b[0m     min_packages \u001b[38;5;241m=\u001b[39m \u001b[38;5;241m0\u001b[39m\n\u001b[0;32m--> 498\u001b[0m reply \u001b[38;5;241m=\u001b[39m \u001b[43m_recvrecord\u001b[49m\u001b[43m(\u001b[49m\u001b[38;5;28;43mself\u001b[39;49m\u001b[38;5;241;43m.\u001b[39;49m\u001b[43msock\u001b[49m\u001b[43m,\u001b[49m\u001b[43m \u001b[49m\u001b[38;5;28;43mself\u001b[39;49m\u001b[38;5;241;43m.\u001b[39;49m\u001b[43mtimeout\u001b[49m\u001b[43m,\u001b[49m\u001b[43m \u001b[49m\u001b[43mmin_packages\u001b[49m\u001b[38;5;241;43m=\u001b[39;49m\u001b[43mmin_packages\u001b[49m\u001b[43m)\u001b[49m\n\u001b[1;32m    499\u001b[0m u \u001b[38;5;241m=\u001b[39m \u001b[38;5;28mself\u001b[39m\u001b[38;5;241m.\u001b[39munpacker\n\u001b[1;32m    500\u001b[0m u\u001b[38;5;241m.\u001b[39mreset(reply)\n",
      "File \u001b[0;32m~/.local/share/virtualenvs/e7awg_sw-YkKmEDuW/lib/python3.9/site-packages/pyvisa_py/protocols/rpc.py:347\u001b[0m, in \u001b[0;36m_recvrecord\u001b[0;34m(sock, timeout, read_fun, min_packages)\u001b[0m\n\u001b[1;32m    342\u001b[0m \u001b[38;5;28;01mwhile\u001b[39;00m \u001b[38;5;28;01mTrue\u001b[39;00m:\n\u001b[1;32m    343\u001b[0m \n\u001b[1;32m    344\u001b[0m     \u001b[38;5;66;03m# if more data for the current fragment is needed, use select\u001b[39;00m\n\u001b[1;32m    345\u001b[0m     \u001b[38;5;66;03m# to wait for read ready, max `select_timeout` seconds\u001b[39;00m\n\u001b[1;32m    346\u001b[0m     \u001b[38;5;28;01mif\u001b[39;00m \u001b[38;5;28mlen\u001b[39m(buffer) \u001b[38;5;241m<\u001b[39m exp_length:\n\u001b[0;32m--> 347\u001b[0m         r, w, x \u001b[38;5;241m=\u001b[39m \u001b[43mselect\u001b[49m\u001b[38;5;241;43m.\u001b[39;49m\u001b[43mselect\u001b[49m\u001b[43m(\u001b[49m\u001b[43m[\u001b[49m\u001b[43msock\u001b[49m\u001b[43m]\u001b[49m\u001b[43m,\u001b[49m\u001b[43m \u001b[49m\u001b[43m[\u001b[49m\u001b[43m]\u001b[49m\u001b[43m,\u001b[49m\u001b[43m \u001b[49m\u001b[43m[\u001b[49m\u001b[43m]\u001b[49m\u001b[43m,\u001b[49m\u001b[43m \u001b[49m\u001b[43mselect_timeout\u001b[49m\u001b[43m)\u001b[49m\n\u001b[1;32m    348\u001b[0m         read_data \u001b[38;5;241m=\u001b[39m \u001b[38;5;124mb\u001b[39m\u001b[38;5;124m\"\u001b[39m\u001b[38;5;124m\"\u001b[39m\n\u001b[1;32m    349\u001b[0m         \u001b[38;5;28;01mif\u001b[39;00m sock \u001b[38;5;129;01min\u001b[39;00m r:\n",
      "\u001b[0;31mKeyboardInterrupt\u001b[0m: "
     ]
    }
   ],
   "source": [
    "# ADRF6780のVATTを変更しながらスペクトルを取得する\n",
    "import pickle\n",
    "\n",
    "inst.write(':INIT:CONT OFF')\n",
    "freq = get_freq_from_ms2038c(inst)\n",
    "\n",
    "FL = 15000\n",
    "#for FL in range(10400, 11001, 200):\n",
    "# FI = 3200\n",
    "for FI in range(1800,3201,10):\n",
    "    FR = FL - FI\n",
    "    fname = 'if{}rf{}.pickle'.format(FI, FR)\n",
    "    set_flo_fnco_according_to_frf(port[8], FR, FI)\n",
    "    data = {'freq':[], 'trace':[], 'vatt':[]}\n",
    "    p = bokeh.plotting.figure(height=300, toolbar_location=None, sizing_mode=\"stretch_width\")\n",
    "    #for i, v in enumerate(range(0xD00,0x200,-0x100)):\n",
    "    for i, v in enumerate(range(0xA00,0x900,-0x100)):\n",
    "        set_vatt(port[8].upconv.vatt, v)\n",
    "        sweep_ms2038c(inst)\n",
    "        data['vatt'].append(hex(v))\n",
    "        data['freq'].append(freq)\n",
    "        data['trace'].append(get_trace_from_ms2038c(inst))\n",
    "        clear_output()\n",
    "        plot_spurious_multi(p, data)    \n",
    "    with open(fname, 'wb') as f:\n",
    "        pickle.dump(data, f)\n"
   ]
  },
  {
   "cell_type": "code",
   "execution_count": null,
   "id": "be36e5c9-d209-4c65-8c97-3bee55ef991b",
   "metadata": {},
   "outputs": [],
   "source": []
  }
 ],
 "metadata": {
  "kernelspec": {
   "display_name": "Python 3 (ipykernel)",
   "language": "python",
   "name": "python3"
  },
  "language_info": {
   "codemirror_mode": {
    "name": "ipython",
    "version": 3
   },
   "file_extension": ".py",
   "mimetype": "text/x-python",
   "name": "python",
   "nbconvert_exporter": "python",
   "pygments_lexer": "ipython3",
   "version": "3.9.5"
  }
 },
 "nbformat": 4,
 "nbformat_minor": 5
}
