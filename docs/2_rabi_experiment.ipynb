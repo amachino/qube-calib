{
 "cells": [
  {
   "cell_type": "markdown",
   "metadata": {},
   "source": [
    "# Rabi experiment"
   ]
  },
  {
   "cell_type": "code",
   "execution_count": 1,
   "metadata": {},
   "outputs": [],
   "source": [
    "import matplotlib.pyplot as plt\n",
    "import numpy as np\n",
    "from IPython.display import clear_output\n",
    "\n",
    "from qubecalib import QubeCalib\n",
    "from qubecalib.neopulse import (\n",
    "    Blank,\n",
    "    Capture,\n",
    "    Flushleft,\n",
    "    Flushright,\n",
    "    RaisedCosFlatTop,\n",
    "    Rectangle,\n",
    "    Sequence,\n",
    ")"
   ]
  },
  {
   "cell_type": "code",
   "execution_count": 2,
   "metadata": {},
   "outputs": [],
   "source": [
    "%matplotlib inline"
   ]
  },
  {
   "cell_type": "code",
   "execution_count": 3,
   "metadata": {},
   "outputs": [],
   "source": [
    "# load the wiring settings\n",
    "qc = QubeCalib(\"./wiring_settings.json\")"
   ]
  },
  {
   "cell_type": "code",
   "execution_count": 4,
   "metadata": {},
   "outputs": [
    {
     "data": {
      "text/plain": [
       "{'clockmaster_setting': None,\n",
       " 'box_settings': {'BOX1': {'ipaddr_wss': '10.1.0.73',\n",
       "   'ipaddr_sss': '10.2.0.73',\n",
       "   'ipaddr_css': '10.5.0.73',\n",
       "   'boxtype': <Quel1BoxType.QuEL1_TypeA: ('quel-1', 'type-a')>,\n",
       "   'config_root': None,\n",
       "   'config_options': []}},\n",
       " 'box_aliases': {},\n",
       " 'port_settings': {'BOX1_READ_GEN': {'port_name': 'BOX1_READ_GEN',\n",
       "   'box_name': 'BOX1',\n",
       "   'port': 1,\n",
       "   'ndelay_or_nwait': [0]},\n",
       "  'BOX1_READ_CAP': {'port_name': 'BOX1_READ_CAP',\n",
       "   'box_name': 'BOX1',\n",
       "   'port': 0,\n",
       "   'ndelay_or_nwait': [0, 0, 0, 0]},\n",
       "  'BOX1_CTRL_0': {'port_name': 'BOX1_CTRL_0',\n",
       "   'box_name': 'BOX1',\n",
       "   'port': 2,\n",
       "   'ndelay_or_nwait': [0, 0, 0]},\n",
       "  'BOX1_CTRL_1': {'port_name': 'BOX1_CTRL_1',\n",
       "   'box_name': 'BOX1',\n",
       "   'port': 4,\n",
       "   'ndelay_or_nwait': [0, 0, 0]},\n",
       "  'BOX1_CTRL_2': {'port_name': 'BOX1_CTRL_2',\n",
       "   'box_name': 'BOX1',\n",
       "   'port': 9,\n",
       "   'ndelay_or_nwait': [0, 0, 0]},\n",
       "  'BOX1_CTRL_3': {'port_name': 'BOX1_CTRL_3',\n",
       "   'box_name': 'BOX1',\n",
       "   'port': 11,\n",
       "   'ndelay_or_nwait': [0, 0, 0]}},\n",
       " 'target_settings': {'RQ00': {'frequency': 10.3426},\n",
       "  'RQ01': {'frequency': 10.51863},\n",
       "  'RQ02': {'frequency': 10.46727},\n",
       "  'RQ03': {'frequency': 10.20783},\n",
       "  'CQ00': {'frequency': 7.729161},\n",
       "  'CQ01': {'frequency': 8.817762},\n",
       "  'CQ02': {'frequency': 8.79183},\n",
       "  'CQ03': {'frequency': 7.761116}},\n",
       " 'relation_channel_target': [['BOX1_READ_GEN_CH0', 'RQ00'],\n",
       "  ['BOX1_READ_GEN_CH0', 'RQ01'],\n",
       "  ['BOX1_READ_GEN_CH0', 'RQ02'],\n",
       "  ['BOX1_READ_GEN_CH0', 'RQ03'],\n",
       "  ['BOX1_READ_CAP_CH0', 'RQ00'],\n",
       "  ['BOX1_READ_CAP_CH1', 'RQ01'],\n",
       "  ['BOX1_READ_CAP_CH2', 'RQ02'],\n",
       "  ['BOX1_READ_CAP_CH3', 'RQ03'],\n",
       "  ['BOX1_CTRL_0_CH0', 'CQ00'],\n",
       "  ['BOX1_CTRL_1_CH0', 'CQ01'],\n",
       "  ['BOX1_CTRL_2_CH0', 'CQ02'],\n",
       "  ['BOX1_CTRL_3_CH0', 'CQ03']],\n",
       " 'relation_channel_port': [['BOX1_READ_GEN_CH0',\n",
       "   {'port_name': 'BOX1_READ_GEN', 'channel_number': 0}],\n",
       "  ['BOX1_READ_CAP_CH0', {'port_name': 'BOX1_READ_CAP', 'channel_number': 0}],\n",
       "  ['BOX1_READ_CAP_CH1', {'port_name': 'BOX1_READ_CAP', 'channel_number': 1}],\n",
       "  ['BOX1_READ_CAP_CH2', {'port_name': 'BOX1_READ_CAP', 'channel_number': 2}],\n",
       "  ['BOX1_READ_CAP_CH3', {'port_name': 'BOX1_READ_CAP', 'channel_number': 3}],\n",
       "  ['BOX1_CTRL_0_CH0', {'port_name': 'BOX1_CTRL_0', 'channel_number': 0}],\n",
       "  ['BOX1_CTRL_0_CH0', {'port_name': 'BOX1_CTRL_0', 'channel_number': 1}],\n",
       "  ['BOX1_CTRL_0_CH0', {'port_name': 'BOX1_CTRL_0', 'channel_number': 2}],\n",
       "  ['BOX1_CTRL_1_CH0', {'port_name': 'BOX1_CTRL_1', 'channel_number': 0}],\n",
       "  ['BOX1_CTRL_1_CH0', {'port_name': 'BOX1_CTRL_1', 'channel_number': 1}],\n",
       "  ['BOX1_CTRL_1_CH0', {'port_name': 'BOX1_CTRL_1', 'channel_number': 2}],\n",
       "  ['BOX1_CTRL_2_CH0', {'port_name': 'BOX1_CTRL_2', 'channel_number': 0}],\n",
       "  ['BOX1_CTRL_2_CH0', {'port_name': 'BOX1_CTRL_2', 'channel_number': 1}],\n",
       "  ['BOX1_CTRL_2_CH0', {'port_name': 'BOX1_CTRL_2', 'channel_number': 2}],\n",
       "  ['BOX1_CTRL_3_CH0', {'port_name': 'BOX1_CTRL_3', 'channel_number': 0}],\n",
       "  ['BOX1_CTRL_3_CH0', {'port_name': 'BOX1_CTRL_3', 'channel_number': 1}],\n",
       "  ['BOX1_CTRL_3_CH0', {'port_name': 'BOX1_CTRL_3', 'channel_number': 2}]]}"
      ]
     },
     "execution_count": 4,
     "metadata": {},
     "output_type": "execute_result"
    }
   ],
   "source": [
    "# check the settings\n",
    "qc.system_config_database.asdict()"
   ]
  },
  {
   "cell_type": "code",
   "execution_count": 5,
   "metadata": {},
   "outputs": [
    {
     "data": {
      "text/plain": [
       "{0: True, 1: True}"
      ]
     },
     "execution_count": 5,
     "metadata": {},
     "output_type": "execute_result"
    }
   ],
   "source": [
    "# connect the box\n",
    "box = qc.create_box(\"BOX1\", reconnect=False)\n",
    "if not all(box.link_status().values()):\n",
    "    box.relinkup(use_204b=False, background_noise_threshold=400)\n",
    "box.reconnect()"
   ]
  },
  {
   "cell_type": "code",
   "execution_count": 6,
   "metadata": {},
   "outputs": [
    {
     "data": {
      "text/plain": [
       "{'mxfes': {0: {'channel_interporation_rate': 4, 'main_interporation_rate': 6},\n",
       "  1: {'channel_interporation_rate': 4, 'main_interporation_rate': 6}},\n",
       " 'ports': {0: {'direction': 'in',\n",
       "   'lo_freq': 8500000000,\n",
       "   'cnco_freq': 1875000000.0,\n",
       "   'rfswitch': 'open',\n",
       "   'runits': {0: {'fnco_freq': 0.0},\n",
       "    1: {'fnco_freq': 0.0},\n",
       "    2: {'fnco_freq': 0.0},\n",
       "    3: {'fnco_freq': 0.0}}},\n",
       "  1: {'direction': 'out',\n",
       "   'channels': {0: {'fnco_freq': 0.0}},\n",
       "   'cnco_freq': 1875000000.0,\n",
       "   'fullscale_current': 40527,\n",
       "   'lo_freq': 8500000000,\n",
       "   'sideband': 'U',\n",
       "   'rfswitch': 'pass'},\n",
       "  2: {'direction': 'out',\n",
       "   'channels': {0: {'fnco_freq': 0.0},\n",
       "    1: {'fnco_freq': 0.0},\n",
       "    2: {'fnco_freq': 0.0}},\n",
       "   'cnco_freq': 1781250000.0,\n",
       "   'fullscale_current': 40527,\n",
       "   'lo_freq': 9500000000,\n",
       "   'sideband': 'L',\n",
       "   'rfswitch': 'pass'},\n",
       "  3: {'direction': 'out',\n",
       "   'channels': {0: {'fnco_freq': 0.0}},\n",
       "   'cnco_freq': 1500000000.0,\n",
       "   'fullscale_current': 40527,\n",
       "   'lo_freq': 12000000000,\n",
       "   'sideband': 'U',\n",
       "   'rfswitch': 'block'},\n",
       "  4: {'direction': 'out',\n",
       "   'channels': {0: {'fnco_freq': 0.0},\n",
       "    1: {'fnco_freq': 0.0},\n",
       "    2: {'fnco_freq': 0.0}},\n",
       "   'cnco_freq': 1687500000.0,\n",
       "   'fullscale_current': 40527,\n",
       "   'lo_freq': 10500000000,\n",
       "   'sideband': 'L',\n",
       "   'rfswitch': 'pass'},\n",
       "  5: {'direction': 'in',\n",
       "   'lo_freq': 12000000000,\n",
       "   'cnco_freq': 1500000000.0,\n",
       "   'rfswitch': 'loop',\n",
       "   'runits': {0: {'fnco_freq': 0.0}}},\n",
       "  7: {'direction': 'in',\n",
       "   'lo_freq': 12000000000,\n",
       "   'cnco_freq': 1500000000.0,\n",
       "   'rfswitch': 'loop',\n",
       "   'runits': {1: {'fnco_freq': 0.0},\n",
       "    2: {'fnco_freq': 0.0},\n",
       "    3: {'fnco_freq': 0.0},\n",
       "    0: {'fnco_freq': 0.0}}},\n",
       "  8: {'direction': 'out',\n",
       "   'channels': {0: {'fnco_freq': 0.0}},\n",
       "   'cnco_freq': 1500000000.0,\n",
       "   'fullscale_current': 40527,\n",
       "   'lo_freq': 12000000000,\n",
       "   'sideband': 'L',\n",
       "   'rfswitch': 'block'},\n",
       "  9: {'direction': 'out',\n",
       "   'channels': {0: {'fnco_freq': 0.0},\n",
       "    1: {'fnco_freq': 0.0},\n",
       "    2: {'fnco_freq': 0.0}},\n",
       "   'cnco_freq': 1710937500.0,\n",
       "   'fullscale_current': 40527,\n",
       "   'lo_freq': 10500000000,\n",
       "   'sideband': 'L',\n",
       "   'rfswitch': 'pass'},\n",
       "  10: {'direction': 'out',\n",
       "   'channels': {0: {'fnco_freq': 0.0}},\n",
       "   'cnco_freq': 1500000000.0,\n",
       "   'fullscale_current': 40527,\n",
       "   'lo_freq': 12000000000,\n",
       "   'sideband': 'L',\n",
       "   'rfswitch': 'block'},\n",
       "  11: {'direction': 'out',\n",
       "   'channels': {0: {'fnco_freq': 0.0},\n",
       "    1: {'fnco_freq': 0.0},\n",
       "    2: {'fnco_freq': 0.0}},\n",
       "   'cnco_freq': 1734375000.0,\n",
       "   'fullscale_current': 40527,\n",
       "   'lo_freq': 9500000000,\n",
       "   'sideband': 'L',\n",
       "   'rfswitch': 'pass'},\n",
       "  12: {'direction': 'in',\n",
       "   'lo_freq': 12000000000,\n",
       "   'cnco_freq': 1500000000.0,\n",
       "   'rfswitch': 'loop',\n",
       "   'runits': {0: {'fnco_freq': 0.0}}}}}"
      ]
     },
     "execution_count": 6,
     "metadata": {},
     "output_type": "execute_result"
    }
   ],
   "source": [
    "# check the lsi settings\n",
    "box.dump_box()"
   ]
  },
  {
   "cell_type": "code",
   "execution_count": 7,
   "metadata": {},
   "outputs": [
    {
     "data": {
      "image/png": "[encoded data removed]",
      "text/plain": [
       "<Figure size 640x480 with 1 Axes>"
      ]
     },
     "metadata": {},
     "output_type": "display_data"
    }
   ],
   "source": [
    "def rabi_sequence(duration: int) -> Sequence:\n",
    "    \"\"\"\n",
    "    Rabi sequence with a single target.\n",
    "\n",
    "    Parameters\n",
    "    ----------\n",
    "    duration : int\n",
    "        Duration of the rectangle pulse in ns.\n",
    "\n",
    "    Returns\n",
    "    -------\n",
    "    Sequence\n",
    "        The rabi sequence.\n",
    "    \"\"\"\n",
    "    with Sequence() as seq:\n",
    "        with Flushright():\n",
    "            Rectangle(\n",
    "                duration=duration,\n",
    "                amplitude=0.03,\n",
    "            ).target(\"CQ00\")\n",
    "            Blank(duration=1024).target()\n",
    "        with Flushleft():\n",
    "            RaisedCosFlatTop(\n",
    "                duration=1024,\n",
    "                amplitude=0.1,\n",
    "                rise_time=128,\n",
    "            ).target(\"RQ00\")\n",
    "            Capture(duration=2 * 1024).target(\"RQ00\")\n",
    "    return seq\n",
    "\n",
    "\n",
    "# add rabi sequences to the queue\n",
    "sweep_range = np.arange(0, 200, 10)\n",
    "for T in sweep_range:\n",
    "    qc.add_sequence(rabi_sequence(T))\n",
    "\n",
    "\n",
    "# execute the sequences\n",
    "signals = []\n",
    "for status, data, config in qc.step_execute(\n",
    "    repeats=3000,\n",
    "    interval=100 * 1024,\n",
    "):\n",
    "    for target, iqs in data.items():\n",
    "        iq = iqs[0].squeeze().mean()\n",
    "        signals.append(iq)\n",
    "    clear_output(True)\n",
    "    plt.scatter(np.real(signals), np.imag(signals))\n",
    "    plt.show()"
   ]
  },
  {
   "cell_type": "code",
   "execution_count": 8,
   "metadata": {},
   "outputs": [
    {
     "data": {
      "text/plain": [
       "[<matplotlib.lines.Line2D at 0x7f7ccc63ce50>]"
      ]
     },
     "execution_count": 8,
     "metadata": {},
     "output_type": "execute_result"
    },
    {
     "data": {
      "image/png": "[encoded data removed]",
      "text/plain": [
       "<Figure size 640x480 with 1 Axes>"
      ]
     },
     "metadata": {},
     "output_type": "display_data"
    }
   ],
   "source": [
    "# plot the signals\n",
    "plt.plot(np.real(signals))\n",
    "plt.plot(np.imag(signals))"
   ]
  }
 ],
 "metadata": {
  "kernelspec": {
   "display_name": ".venv",
   "language": "python",
   "name": "python3"
  },
  "language_info": {
   "codemirror_mode": {
    "name": "ipython",
    "version": 3
   },
   "file_extension": ".py",
   "mimetype": "text/x-python",
   "name": "python",
   "nbconvert_exporter": "python",
   "pygments_lexer": "ipython3",
   "version": "3.9.18"
  }
 },
 "nbformat": 4,
 "nbformat_minor": 2
}
