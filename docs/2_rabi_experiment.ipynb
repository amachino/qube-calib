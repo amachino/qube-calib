{
 "cells": [
  {
   "cell_type": "markdown",
   "metadata": {},
   "source": [
    "# Rabi experiment"
   ]
  },
  {
   "cell_type": "code",
   "execution_count": null,
   "metadata": {},
   "outputs": [],
   "source": [
    "from collections import defaultdict\n",
    "\n",
    "import matplotlib.pyplot as plt\n",
    "import numpy as np\n",
    "from IPython.display import clear_output\n",
    "\n",
    "from qubecalib import QubeCalib\n",
    "from qubecalib.neopulse import (\n",
    "    Blank,\n",
    "    Capture,\n",
    "    Flushleft,\n",
    "    Flushright,\n",
    "    RaisedCosFlatTop,\n",
    "    Rectangle,\n",
    "    Sequence,\n",
    ")"
   ]
  },
  {
   "cell_type": "code",
   "execution_count": null,
   "metadata": {},
   "outputs": [],
   "source": [
    "%matplotlib inline"
   ]
  },
  {
   "cell_type": "code",
   "execution_count": null,
   "metadata": {},
   "outputs": [],
   "source": [
    "# load the system settings\n",
    "qc = QubeCalib(\"./system_settings.json\")"
   ]
  },
  {
   "cell_type": "code",
   "execution_count": null,
   "metadata": {},
   "outputs": [],
   "source": [
    "# check the settings\n",
    "qc.system_config_database.asdict()"
   ]
  },
  {
   "cell_type": "code",
   "execution_count": null,
   "metadata": {},
   "outputs": [],
   "source": [
    "box_list = [\n",
    "    \"A25\",\n",
    "    \"A73\",\n",
    "]\n",
    "\n",
    "boxes = {}\n",
    "for box_name in box_list:\n",
    "    box = qc.create_box(box_name, reconnect=False)\n",
    "    if not all(box.link_status().values()):\n",
    "        box.relinkup(use_204b=False, background_noise_threshold=400)\n",
    "    box.reconnect()\n",
    "    boxes[box_name] = box\n",
    "    print(box_name, box.link_status())"
   ]
  },
  {
   "cell_type": "code",
   "execution_count": null,
   "metadata": {},
   "outputs": [],
   "source": [
    "for box in boxes.values():\n",
    "    print(box.dump_box())"
   ]
  },
  {
   "cell_type": "code",
   "execution_count": null,
   "metadata": {},
   "outputs": [],
   "source": [
    "def rabi_sequence(T: int) -> Sequence:\n",
    "    \"\"\"\n",
    "    Rabi sequence with a single target.\n",
    "\n",
    "    Parameters\n",
    "    ----------\n",
    "    T : int\n",
    "        Duration of the rectangle pulse in ns.\n",
    "\n",
    "    Returns\n",
    "    -------\n",
    "    Sequence\n",
    "        The rabi sequence.\n",
    "    \"\"\"\n",
    "    control_pulse = Rectangle(duration=T, amplitude=0.01)\n",
    "    readout_pulse = RaisedCosFlatTop(duration=1024, amplitude=0.1, rise_time=128)\n",
    "\n",
    "    with Sequence() as seq:\n",
    "        with Flushright():\n",
    "            control_pulse.scaled(8).target(\"CQ16\")\n",
    "            control_pulse.scaled(3).target(\"CQ52\")\n",
    "            Blank(duration=1024).target()\n",
    "        with Flushleft():\n",
    "            readout_pulse.scaled(2).target(\"RQ16\")\n",
    "            readout_pulse.scaled(1).target(\"RQ52\")\n",
    "            Capture(duration=2 * 1024).target(\"RQ16\", \"RQ52\")\n",
    "    return seq\n",
    "\n",
    "\n",
    "# add rabi sequences to the queue\n",
    "sweep_range = np.arange(0, 200, 10)\n",
    "for T in sweep_range:\n",
    "    qc.add_sequence(rabi_sequence(T))\n",
    "\n",
    "\n",
    "# execute the sequences\n",
    "signals = defaultdict(list)\n",
    "for status, data, config in qc.step_execute(\n",
    "    repeats=3000,\n",
    "    interval=150 * 1024,\n",
    "):\n",
    "    for target, iqs in data.items():\n",
    "        iq = iqs[0].squeeze().mean()\n",
    "        signals[target].append(iq)\n",
    "    clear_output(True)\n",
    "    fig, axs = plt.subplots(len(signals), 1, figsize=(5, 5 * len(signals)))\n",
    "    for i, (target, signal) in enumerate(signals.items()):\n",
    "        axs[i].scatter(np.real(signal), np.imag(signal), label=target)\n",
    "        axs[i].set_title(target)\n",
    "        axs[i].grid()\n",
    "    plt.show()"
   ]
  },
  {
   "cell_type": "code",
   "execution_count": null,
   "metadata": {},
   "outputs": [],
   "source": [
    "fig, axs = plt.subplots(len(signals), 1, figsize=(6, 4 * len(signals)))\n",
    "for i, (target, signal) in enumerate(signals.items()):\n",
    "    axs[i].plot(np.real(signal), \"o-\", label=\"I\")\n",
    "    axs[i].plot(np.imag(signal), \"o-\", label=\"Q\")\n",
    "    axs[i].set_title(target)\n",
    "    axs[i].legend()\n",
    "    axs[i].grid()"
   ]
  }
 ],
 "metadata": {
  "kernelspec": {
   "display_name": ".venv",
   "language": "python",
   "name": "python3"
  },
  "language_info": {
   "codemirror_mode": {
    "name": "ipython",
    "version": 3
   },
   "file_extension": ".py",
   "mimetype": "text/x-python",
   "name": "python",
   "nbconvert_exporter": "python",
   "pygments_lexer": "ipython3",
   "version": "3.9.18"
  }
 },
 "nbformat": 4,
 "nbformat_minor": 2
}
